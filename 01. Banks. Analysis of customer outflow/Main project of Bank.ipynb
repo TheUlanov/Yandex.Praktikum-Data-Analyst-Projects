{
 "cells": [
  {
   "cell_type": "markdown",
   "id": "8b270cdf",
   "metadata": {},
   "source": [
    "<b>Заказчик</b>: Банк\n",
    "<br><b>Цель</b>: Анализ оттока клиентов. Необходимо понять, как снизить отток с помощью сегментации клиентов\n",
    "<br><b>Задачи</b>: <br>- Проанализировать клиентов регионального банка и выделить сегменты клиентов, которые склонные уходить из банка. <br> - Описать портрет клиента склонного уходить из банка. <br> - Сформулировать и проверить статистические гипотезы."
   ]
  },
  {
   "cell_type": "markdown",
   "id": "5f15dd19",
   "metadata": {},
   "source": [
    "## Загрузка датасета и просмотр основной информации"
   ]
  },
  {
   "cell_type": "code",
   "execution_count": 1,
   "id": "8b07ac29",
   "metadata": {},
   "outputs": [],
   "source": [
    "import pandas as pd\n",
    "import numpy as np\n",
    "from scipy import stats as st\n",
    "import matplotlib.pyplot as plt\n",
    "import plotly.express as px\n",
    "from plotly import graph_objects as go"
   ]
  },
  {
   "cell_type": "code",
   "execution_count": 2,
   "id": "e04e9fec",
   "metadata": {},
   "outputs": [
    {
     "name": "stdout",
     "output_type": "stream",
     "text": [
      "<class 'pandas.core.frame.DataFrame'>\n",
      "RangeIndex: 10000 entries, 0 to 9999\n",
      "Data columns (total 12 columns):\n",
      " #   Column            Non-Null Count  Dtype  \n",
      "---  ------            --------------  -----  \n",
      " 0   user_id           10000 non-null  int64  \n",
      " 1   score             10000 non-null  int64  \n",
      " 2   city              10000 non-null  object \n",
      " 3   gender            10000 non-null  object \n",
      " 4   age               10000 non-null  int64  \n",
      " 5   objects           10000 non-null  int64  \n",
      " 6   balance           6383 non-null   float64\n",
      " 7   products          10000 non-null  int64  \n",
      " 8   credit_card       10000 non-null  int64  \n",
      " 9   loyalty           10000 non-null  int64  \n",
      " 10  estimated_salary  10000 non-null  float64\n",
      " 11  churn             10000 non-null  int64  \n",
      "dtypes: float64(2), int64(8), object(2)\n",
      "memory usage: 937.6+ KB\n"
     ]
    },
    {
     "data": {
      "text/plain": [
       "(    user_id  score       city gender  age  objects    balance  products  \\\n",
       " 0  15677338    619  Ярославль      Ж   42        2        NaN         1   \n",
       " 1  15690047    608    Рыбинск      Ж   41        1   83807.86         1   \n",
       " 2  15662040    502  Ярославль      Ж   42        8  159660.80         3   \n",
       " 3  15744090    699  Ярославль      Ж   39        1        NaN         2   \n",
       " 4  15780624    850    Рыбинск      Ж   43        2  125510.82         1   \n",
       " \n",
       "    credit_card  loyalty  estimated_salary  churn  \n",
       " 0            1        1         101348.88      1  \n",
       " 1            0        1         112542.58      0  \n",
       " 2            1        0         113931.57      1  \n",
       " 3            0        0          93826.63      0  \n",
       " 4            1        1          79084.10      0  ,\n",
       " None)"
      ]
     },
     "execution_count": 2,
     "metadata": {},
     "output_type": "execute_result"
    }
   ],
   "source": [
    "df=pd.read_csv('/datasets/bank_dataset.csv')\n",
    "df=df.rename(columns = {'userid' : 'user_id', 'CreditCard' : 'credit_card'})\n",
    "df.columns=df.columns.str.lower()\n",
    "df.head(), df.info()"
   ]
  },
  {
   "cell_type": "markdown",
   "id": "348a065a",
   "metadata": {},
   "source": [
    "## Предобработка (анализ кол-ва пропусков, дубликатов и тд)"
   ]
  },
  {
   "cell_type": "code",
   "execution_count": 3,
   "id": "5ab1cd0c",
   "metadata": {},
   "outputs": [
    {
     "data": {
      "text/plain": [
       "(user_id                0\n",
       " score                  0\n",
       " city                   0\n",
       " gender                 0\n",
       " age                    0\n",
       " objects                0\n",
       " balance             3617\n",
       " products               0\n",
       " credit_card            0\n",
       " loyalty                0\n",
       " estimated_salary       0\n",
       " churn                  0\n",
       " dtype: int64,\n",
       " 0)"
      ]
     },
     "execution_count": 3,
     "metadata": {},
     "output_type": "execute_result"
    }
   ],
   "source": [
    "df.isna().sum(), df.duplicated().sum()"
   ]
  },
  {
   "cell_type": "markdown",
   "id": "51fb7bce",
   "metadata": {},
   "source": [
    "- Дубликатов нет\n",
    "- Пропуски есть в столбце \"Баланс счета\"\n",
    "- Заполнение или удаление пропусков исказит данные\n",
    "- Пропуск скорее всего означает отсутствие счета, заполнение нулем исказит смысл"
   ]
  },
  {
   "cell_type": "markdown",
   "id": "b1f31904",
   "metadata": {},
   "source": [
    "## Исследовательский анализ данных"
   ]
  },
  {
   "cell_type": "code",
   "execution_count": 4,
   "id": "aa47f2dd",
   "metadata": {},
   "outputs": [
    {
     "name": "stdout",
     "output_type": "stream",
     "text": [
      "<class 'pandas.core.frame.DataFrame'>\n",
      "Int64Index: 2037 entries, 0 to 9998\n",
      "Data columns (total 12 columns):\n",
      " #   Column            Non-Null Count  Dtype  \n",
      "---  ------            --------------  -----  \n",
      " 0   user_id           2037 non-null   int64  \n",
      " 1   score             2037 non-null   int64  \n",
      " 2   city              2037 non-null   object \n",
      " 3   gender            2037 non-null   object \n",
      " 4   age               2037 non-null   int64  \n",
      " 5   objects           2037 non-null   int64  \n",
      " 6   balance           1537 non-null   float64\n",
      " 7   products          2037 non-null   int64  \n",
      " 8   credit_card       2037 non-null   int64  \n",
      " 9   loyalty           2037 non-null   int64  \n",
      " 10  estimated_salary  2037 non-null   float64\n",
      " 11  churn             2037 non-null   int64  \n",
      "dtypes: float64(2), int64(8), object(2)\n",
      "memory usage: 206.9+ KB\n"
     ]
    }
   ],
   "source": [
    "#выделяю датасет ушедших клиентов\n",
    "df1=df.query('churn == 1')\n",
    "df1.info()"
   ]
  },
  {
   "cell_type": "code",
   "execution_count": 5,
   "id": "a25a1176",
   "metadata": {
    "scrolled": true
   },
   "outputs": [
    {
     "name": "stdout",
     "output_type": "stream",
     "text": [
      "<class 'pandas.core.frame.DataFrame'>\n",
      "Int64Index: 7963 entries, 1 to 9999\n",
      "Data columns (total 12 columns):\n",
      " #   Column            Non-Null Count  Dtype  \n",
      "---  ------            --------------  -----  \n",
      " 0   user_id           7963 non-null   int64  \n",
      " 1   score             7963 non-null   int64  \n",
      " 2   city              7963 non-null   object \n",
      " 3   gender            7963 non-null   object \n",
      " 4   age               7963 non-null   int64  \n",
      " 5   objects           7963 non-null   int64  \n",
      " 6   balance           4846 non-null   float64\n",
      " 7   products          7963 non-null   int64  \n",
      " 8   credit_card       7963 non-null   int64  \n",
      " 9   loyalty           7963 non-null   int64  \n",
      " 10  estimated_salary  7963 non-null   float64\n",
      " 11  churn             7963 non-null   int64  \n",
      "dtypes: float64(2), int64(8), object(2)\n",
      "memory usage: 808.7+ KB\n"
     ]
    }
   ],
   "source": [
    "#выделяю датасет оставшихся клиентов\n",
    "df2=df.query('churn == 0')\n",
    "df2.info()"
   ]
  },
  {
   "cell_type": "code",
   "execution_count": 6,
   "id": "bb3ebf61",
   "metadata": {},
   "outputs": [
    {
     "data": {
      "text/plain": [
       "<AxesSubplot:>"
      ]
     },
     "execution_count": 6,
     "metadata": {},
     "output_type": "execute_result"
    },
    {
     "data": {
      "image/png": "[encoded data removed]",
      "text/plain": [
       "<Figure size 1152x576 with 1 Axes>"
      ]
     },
     "metadata": {
      "needs_background": "light"
     },
     "output_type": "display_data"
    }
   ],
   "source": [
    "df.boxplot(column='score', figsize = (16,8), grid=False)"
   ]
  },
  {
   "cell_type": "code",
   "execution_count": 7,
   "id": "12d969ca",
   "metadata": {},
   "outputs": [
    {
     "data": {
      "text/plain": [
       "<AxesSubplot:>"
      ]
     },
     "execution_count": 7,
     "metadata": {},
     "output_type": "execute_result"
    },
    {
     "data": {
      "image/png": "[encoded data removed]",
      "text/plain": [
       "<Figure size 1152x576 with 1 Axes>"
      ]
     },
     "metadata": {
      "needs_background": "light"
     },
     "output_type": "display_data"
    }
   ],
   "source": [
    "df.boxplot(column='age', figsize = (16,8), grid=False)"
   ]
  },
  {
   "cell_type": "code",
   "execution_count": 8,
   "id": "851dc4b9",
   "metadata": {},
   "outputs": [
    {
     "data": {
      "text/plain": [
       "<AxesSubplot:>"
      ]
     },
     "execution_count": 8,
     "metadata": {},
     "output_type": "execute_result"
    },
    {
     "data": {
      "image/png": "[encoded data removed]",
      "text/plain": [
       "<Figure size 1152x576 with 1 Axes>"
      ]
     },
     "metadata": {
      "needs_background": "light"
     },
     "output_type": "display_data"
    }
   ],
   "source": [
    "df.boxplot(column='balance', figsize = (16,8), grid=False)"
   ]
  },
  {
   "cell_type": "code",
   "execution_count": 9,
   "id": "201dccca",
   "metadata": {},
   "outputs": [
    {
     "data": {
      "text/plain": [
       "<AxesSubplot:>"
      ]
     },
     "execution_count": 9,
     "metadata": {},
     "output_type": "execute_result"
    },
    {
     "data": {
      "image/png": "[encoded data removed]",
      "text/plain": [
       "<Figure size 1152x576 with 1 Axes>"
      ]
     },
     "metadata": {
      "needs_background": "light"
     },
     "output_type": "display_data"
    }
   ],
   "source": [
    "df.boxplot(column='products', figsize = (16,8), grid=False)"
   ]
  },
  {
   "cell_type": "code",
   "execution_count": 10,
   "id": "77c3275d",
   "metadata": {},
   "outputs": [
    {
     "data": {
      "text/plain": [
       "<AxesSubplot:>"
      ]
     },
     "execution_count": 10,
     "metadata": {},
     "output_type": "execute_result"
    },
    {
     "data": {
      "image/png": "[encoded data removed]",
      "text/plain": [
       "<Figure size 1152x576 with 1 Axes>"
      ]
     },
     "metadata": {
      "needs_background": "light"
     },
     "output_type": "display_data"
    }
   ],
   "source": [
    "df.boxplot(column='estimated_salary', figsize = (16,8), grid=False)"
   ]
  },
  {
   "cell_type": "code",
   "execution_count": 11,
   "id": "b7a801a6",
   "metadata": {},
   "outputs": [
    {
     "data": {
      "text/plain": [
       "array([[<AxesSubplot:title={'center':'user_id'}>,\n",
       "        <AxesSubplot:title={'center':'score'}>,\n",
       "        <AxesSubplot:title={'center':'age'}>],\n",
       "       [<AxesSubplot:title={'center':'objects'}>,\n",
       "        <AxesSubplot:title={'center':'balance'}>,\n",
       "        <AxesSubplot:title={'center':'products'}>],\n",
       "       [<AxesSubplot:title={'center':'credit_card'}>,\n",
       "        <AxesSubplot:title={'center':'loyalty'}>,\n",
       "        <AxesSubplot:title={'center':'estimated_salary'}>],\n",
       "       [<AxesSubplot:title={'center':'churn'}>, <AxesSubplot:>,\n",
       "        <AxesSubplot:>]], dtype=object)"
      ]
     },
     "execution_count": 11,
     "metadata": {},
     "output_type": "execute_result"
    },
    {
     "data": {
      "image/png": "[encoded data removed]",
      "text/plain": [
       "<Figure size 1152x576 with 12 Axes>"
      ]
     },
     "metadata": {
      "needs_background": "light"
     },
     "output_type": "display_data"
    }
   ],
   "source": [
    "df.hist(figsize = (16,8))"
   ]
  },
  {
   "cell_type": "markdown",
   "id": "dfc2436d",
   "metadata": {},
   "source": [
    "- Выбрасов по количественным характеристикам не много, на результат повлиять не должно\n",
    "- Распределение данных в характеристиках score  balance похоже на нормальное.\n",
    "- Распределение данных в характеристиках estimated_salary и loyalty похоже на равномерное.\n",
    "- Распределение данных в характеристиках age похоже на хи-квадратное.\n",
    "- Распределение данных в характеристиках products похоже на логарифмически-номальное.\n",
    "- 20% клиентов покидают банк, 80% остаются. Звучит правдоподобно\n",
    "- Большее кол-во клиентов банка владеют кредитными картами."
   ]
  },
  {
   "cell_type": "markdown",
   "id": "15b744ca",
   "metadata": {},
   "source": [
    "### Сравнение распределений кредитного рейтинга ушедших и оставшихся клиентов"
   ]
  },
  {
   "cell_type": "code",
   "execution_count": 12,
   "id": "421943e6",
   "metadata": {},
   "outputs": [
    {
     "data": {
      "image/png": "[encoded data removed]",
      "text/plain": [
       "<Figure size 1152x576 with 1 Axes>"
      ]
     },
     "metadata": {
      "needs_background": "light"
     },
     "output_type": "display_data"
    }
   ],
   "source": [
    "df.boxplot(by='churn', column='score', figsize = (16,8), grid=False)\n",
    "plt.title('Сравнение распределений кредитного рейтинга ушедших и оставшихся клиентов')\n",
    "plt.ylabel('Количество клиентов')\n",
    "plt.xlabel('Рейтинг')\n",
    "plt.show()"
   ]
  },
  {
   "cell_type": "code",
   "execution_count": 13,
   "id": "c5c91148",
   "metadata": {},
   "outputs": [
    {
     "data": {
      "image/png": "[encoded data removed]",
      "text/plain": [
       "<Figure size 1152x576 with 1 Axes>"
      ]
     },
     "metadata": {
      "needs_background": "light"
     },
     "output_type": "display_data"
    }
   ],
   "source": [
    "df2['score'].hist(figsize=(16,8), ec='black')\n",
    "df1['score'].hist(figsize=(16,8), ec='black')\n",
    "plt.title('Сравнение распределений кредитного рейтинга ушедших и оставшихся клиентов')\n",
    "plt.ylabel('Количество клиентов')\n",
    "plt.xlabel('Рейтинг')\n",
    "plt.show()"
   ]
  },
  {
   "cell_type": "markdown",
   "id": "73a7e817",
   "metadata": {},
   "source": [
    "- Рисунок гистограммы ушедших и оставшихся совпадает, распределения похожи\n",
    "- Данный критерий не является информативным\n",
    "- У ушедших клиентов немного больше минимальных выбрасов"
   ]
  },
  {
   "cell_type": "markdown",
   "id": "2f6c3dd1",
   "metadata": {},
   "source": [
    "### Сравнение распределений возраста ушедших и оставшихся клиентов"
   ]
  },
  {
   "cell_type": "code",
   "execution_count": 14,
   "id": "1c27fa43",
   "metadata": {},
   "outputs": [
    {
     "data": {
      "image/png": "[encoded data removed]",
      "text/plain": [
       "<Figure size 1152x576 with 1 Axes>"
      ]
     },
     "metadata": {
      "needs_background": "light"
     },
     "output_type": "display_data"
    }
   ],
   "source": [
    "df.boxplot(by='churn', column='age', figsize = (16,8), grid=False)\n",
    "plt.title('Сравнение распределений возраста ушедших и оставшихся клиентов')\n",
    "plt.ylabel('Количество клиентов')\n",
    "plt.xlabel('Возраст')\n",
    "plt.show()"
   ]
  },
  {
   "cell_type": "code",
   "execution_count": 15,
   "id": "dd9b3047",
   "metadata": {},
   "outputs": [
    {
     "data": {
      "image/png": "[encoded data removed]",
      "text/plain": [
       "<Figure size 1152x576 with 1 Axes>"
      ]
     },
     "metadata": {
      "needs_background": "light"
     },
     "output_type": "display_data"
    }
   ],
   "source": [
    "df2['age'].hist(figsize=(16,8), ec='black')\n",
    "df1['age'].hist(figsize=(16,8), ec='black')\n",
    "plt.title('Сравнение распределений возраста ушедших и оставшихся клиентов')\n",
    "plt.ylabel('Количество клиентов')\n",
    "plt.xlabel('Возраст')\n",
    "plt.show()"
   ]
  },
  {
   "cell_type": "markdown",
   "id": "f8afc266",
   "metadata": {},
   "source": [
    "- Клиенты в возрасте от 45 до 60 чаще перестают быть клиентами банка.\n",
    "- Клиенты в возрасте от 20 до 35 лет чаще всего остаются клиентами банка."
   ]
  },
  {
   "cell_type": "markdown",
   "id": "dca35774",
   "metadata": {},
   "source": [
    "### Сравнение распределений баланса счета ушедших и оставшихся клиентов"
   ]
  },
  {
   "cell_type": "code",
   "execution_count": 16,
   "id": "c0f2650b",
   "metadata": {},
   "outputs": [
    {
     "data": {
      "image/png": "[encoded data removed]",
      "text/plain": [
       "<Figure size 1152x576 with 1 Axes>"
      ]
     },
     "metadata": {
      "needs_background": "light"
     },
     "output_type": "display_data"
    }
   ],
   "source": [
    "df.boxplot(by='churn', column='balance', figsize = (16,8), grid=False)\n",
    "plt.title('Сравнение распределений баланса счета ушедших и оставшихся клиентов')\n",
    "plt.ylabel('Количество клиентов')\n",
    "plt.xlabel('Баланс счета')\n",
    "plt.show()"
   ]
  },
  {
   "cell_type": "code",
   "execution_count": 17,
   "id": "72c0626a",
   "metadata": {},
   "outputs": [
    {
     "data": {
      "image/png": "[encoded data removed]",
      "text/plain": [
       "<Figure size 1152x576 with 1 Axes>"
      ]
     },
     "metadata": {
      "needs_background": "light"
     },
     "output_type": "display_data"
    }
   ],
   "source": [
    "df2['balance'].hist(figsize=(16,8), ec='black')\n",
    "df1['balance'].hist(figsize=(16,8), ec='black')\n",
    "plt.title('Сравнение распределений баланса счета ушедших и оставшихся клиентов')\n",
    "plt.ylabel('Количество клиентов')\n",
    "plt.xlabel('Баланс счета')\n",
    "plt.show()"
   ]
  },
  {
   "cell_type": "markdown",
   "id": "7680e717",
   "metadata": {},
   "source": [
    "Нормальное распределение данных по обеим группам. Критерий не информативен"
   ]
  },
  {
   "cell_type": "markdown",
   "id": "9ef01c2b",
   "metadata": {},
   "source": [
    "### Сравнение распределений владения объектами ушедших и оставшихся клиентов"
   ]
  },
  {
   "cell_type": "code",
   "execution_count": 18,
   "id": "ca09a773",
   "metadata": {},
   "outputs": [
    {
     "data": {
      "image/png": "[encoded data removed]",
      "text/plain": [
       "<Figure size 1152x576 with 1 Axes>"
      ]
     },
     "metadata": {
      "needs_background": "light"
     },
     "output_type": "display_data"
    }
   ],
   "source": [
    "df.boxplot(by='churn', column='objects', figsize = (16,8), grid=False)\n",
    "plt.title('Сравнение распределений владения объектами ушедших и оставшихся клиентов')\n",
    "plt.ylabel('Количество клиентов')\n",
    "plt.xlabel('Кол-во объектов в собственности')\n",
    "plt.show()"
   ]
  },
  {
   "cell_type": "code",
   "execution_count": 19,
   "id": "a720a996",
   "metadata": {},
   "outputs": [
    {
     "data": {
      "image/png": "[encoded data removed]",
      "text/plain": [
       "<Figure size 1152x576 with 1 Axes>"
      ]
     },
     "metadata": {
      "needs_background": "light"
     },
     "output_type": "display_data"
    }
   ],
   "source": [
    "df2['objects'].hist(figsize=(16,8), ec='black')\n",
    "df1['objects'].hist(figsize=(16,8), ec='black')\n",
    "plt.title('Сравнение распределений владения объектами ушедших и оставшихся клиентов')\n",
    "plt.ylabel('Количество клиентов')\n",
    "plt.xlabel('Кол-во объектов в собственности')\n",
    "plt.show()"
   ]
  },
  {
   "cell_type": "markdown",
   "id": "068cd44f",
   "metadata": {},
   "source": [
    "На всех группах приблизительно равное распределение оставшихся клиентов. Критерий не информативен"
   ]
  },
  {
   "cell_type": "markdown",
   "id": "6fb261e9",
   "metadata": {},
   "source": [
    "### Сравнение распределений по городам ушедших и оставшихся клиентов"
   ]
  },
  {
   "cell_type": "code",
   "execution_count": 20,
   "id": "7b7535b7",
   "metadata": {},
   "outputs": [
    {
     "data": {
      "image/png": "[encoded data removed]",
      "text/plain": [
       "<Figure size 1152x576 with 1 Axes>"
      ]
     },
     "metadata": {
      "needs_background": "light"
     },
     "output_type": "display_data"
    }
   ],
   "source": [
    "df2['city'].hist(figsize=(16,8), ec='black')\n",
    "df1['city'].hist(figsize=(16,8), ec='black')\n",
    "plt.title('Сравнение распределений по городам ушедших и оставшихся клиентов')\n",
    "plt.ylabel('Количество клиентов')\n",
    "plt.xlabel('Город')\n",
    "plt.show()"
   ]
  },
  {
   "cell_type": "markdown",
   "id": "9f1827a1",
   "metadata": {},
   "source": [
    "Чаще всего клиенты остаются клиентами банка из Ростава Великого.\n",
    "Клиенты из Рыбинска и Ярославля чаще всего покидаюит банк."
   ]
  },
  {
   "cell_type": "markdown",
   "id": "e7c68be2",
   "metadata": {},
   "source": [
    "### Сравнение распределений по полу ушедших и оставшихся клиентов"
   ]
  },
  {
   "cell_type": "code",
   "execution_count": 21,
   "id": "f38bb1ab",
   "metadata": {},
   "outputs": [
    {
     "data": {
      "image/png": "[encoded data removed]",
      "text/plain": [
       "<Figure size 1152x576 with 1 Axes>"
      ]
     },
     "metadata": {
      "needs_background": "light"
     },
     "output_type": "display_data"
    }
   ],
   "source": [
    "df2['gender'].hist(figsize=(16,8), ec='black')\n",
    "df1['gender'].hist(figsize=(16,8), ec='black')\n",
    "plt.title('Сравнение распределений по полу ушедших и оставшихся клиентов')\n",
    "plt.ylabel('Количество клиентов')\n",
    "plt.xlabel('Пол')\n",
    "plt.show()"
   ]
  },
  {
   "cell_type": "markdown",
   "id": "c4de82ab",
   "metadata": {},
   "source": [
    "- Женщины чаще склонные покидать банк.\n",
    "- Мужчины чаще остаются клиентами банка"
   ]
  },
  {
   "cell_type": "markdown",
   "id": "a9a158da",
   "metadata": {},
   "source": [
    "### Сравнение распределений по наличию карты ушедших и оставшихся клиентов"
   ]
  },
  {
   "cell_type": "code",
   "execution_count": 22,
   "id": "a83b45d7",
   "metadata": {},
   "outputs": [
    {
     "data": {
      "image/png": "[encoded data removed]",
      "text/plain": [
       "<Figure size 1152x576 with 1 Axes>"
      ]
     },
     "metadata": {
      "needs_background": "light"
     },
     "output_type": "display_data"
    }
   ],
   "source": [
    "df2['credit_card'].hist(figsize=(16,8), ec='black')\n",
    "df1['credit_card'].hist(figsize=(16,8), ec='black')\n",
    "plt.title('Сравнение распределений по наличию карты ушедших и оставшихся клиентов')\n",
    "plt.ylabel('Количество клиентов')\n",
    "plt.xlabel('Наличие кредитной карты')\n",
    "plt.show()"
   ]
  },
  {
   "cell_type": "code",
   "execution_count": 23,
   "id": "b16f3e25",
   "metadata": {},
   "outputs": [
    {
     "name": "stdout",
     "output_type": "stream",
     "text": [
      "Оставшиеся клиенты имеющие кредитные карты 20.18%\n",
      "Оставшиеся клиенты неимеющие кредитные карты 20.81%\n"
     ]
    }
   ],
   "source": [
    "percent_credit_card=round(df1['credit_card'].sum()/df['credit_card'].sum()*100, 2)\n",
    "percent_no_credit_card=round((df1['credit_card'].count()-df1['credit_card'].sum())/(df['credit_card'].count()-df['credit_card'].sum())*100, 2)\n",
    "print(f'Оставшиеся клиенты имеющие кредитные карты {percent_credit_card}%')\n",
    "print(f'Оставшиеся клиенты неимеющие кредитные карты {percent_no_credit_card}%')"
   ]
  },
  {
   "cell_type": "markdown",
   "id": "0bcd248b",
   "metadata": {},
   "source": [
    "На всех группах приблизительно равное распределение оставшихся клиентов."
   ]
  },
  {
   "cell_type": "markdown",
   "id": "2f8cc5f8",
   "metadata": {},
   "source": [
    "###  Сравнение распределений по кол-ву используемых продуктов ушедших и оставшихся клиентов"
   ]
  },
  {
   "cell_type": "code",
   "execution_count": 24,
   "id": "f0330a9a",
   "metadata": {},
   "outputs": [
    {
     "data": {
      "image/png": "[encoded data removed]",
      "text/plain": [
       "<Figure size 1152x576 with 1 Axes>"
      ]
     },
     "metadata": {
      "needs_background": "light"
     },
     "output_type": "display_data"
    }
   ],
   "source": [
    "df.boxplot(by='churn', column='products', figsize = (16,8), grid=False)\n",
    "plt.title('Сравнение распределений по кол-ву используемых продуктов ушедших и оставшихся клиентов')\n",
    "plt.ylabel('Количество клиентов')\n",
    "plt.xlabel('Кол-во продуктов')\n",
    "plt.show()"
   ]
  },
  {
   "cell_type": "code",
   "execution_count": 25,
   "id": "dd2c0e4e",
   "metadata": {},
   "outputs": [
    {
     "data": {
      "image/png": "[encoded data removed]",
      "text/plain": [
       "<Figure size 1152x576 with 1 Axes>"
      ]
     },
     "metadata": {
      "needs_background": "light"
     },
     "output_type": "display_data"
    }
   ],
   "source": [
    "df2['products'].hist(figsize=(16,8), ec='black')\n",
    "df1['products'].hist(figsize=(16,8), ec='black')\n",
    "plt.title('Сравнение распределений по кол-ву используемых продуктов ушедших и оставшихся клиентов')\n",
    "plt.ylabel('Количество клиентов')\n",
    "plt.xlabel('Кол-во продуктов')\n",
    "plt.show()"
   ]
  },
  {
   "cell_type": "markdown",
   "id": "399e2072",
   "metadata": {},
   "source": [
    "Клиенты использующие 3 и более продуктов наиболее склонны уходить из банка.\n",
    "\n",
    "Клиенты использующие 1 или 2 продукта остаются клиентами банка."
   ]
  },
  {
   "cell_type": "markdown",
   "id": "37d42e2b",
   "metadata": {},
   "source": [
    "### Сравнение распределений по активности ушедших и оставшихся клиентов"
   ]
  },
  {
   "cell_type": "code",
   "execution_count": 26,
   "id": "e2e05463",
   "metadata": {},
   "outputs": [
    {
     "data": {
      "image/png": "[encoded data removed]",
      "text/plain": [
       "<Figure size 1152x576 with 1 Axes>"
      ]
     },
     "metadata": {
      "needs_background": "light"
     },
     "output_type": "display_data"
    }
   ],
   "source": [
    "df2['loyalty'].hist(figsize=(16,8), ec='black')\n",
    "df1['loyalty'].hist(figsize=(16,8), ec='black')\n",
    "plt.title('Сравнение распределений по активности ушедших и оставшихся клиентов')\n",
    "plt.ylabel('Количество клиентов')\n",
    "plt.xlabel('Активный клиент')\n",
    "plt.show()"
   ]
  },
  {
   "cell_type": "code",
   "execution_count": 27,
   "id": "9ffc9793",
   "metadata": {},
   "outputs": [
    {
     "name": "stdout",
     "output_type": "stream",
     "text": [
      "Ушло активных клиентов 14.27%\n",
      "Ушло неактивных клиентов 26.85%\n"
     ]
    }
   ],
   "source": [
    "percent_no_loyalty=round(df1['loyalty'].sum()/df['loyalty'].sum()*100, 2)\n",
    "percent_loyalty=round((df1['loyalty'].count()-df1['loyalty'].sum())/(df['loyalty'].count()-df['loyalty'].sum())*100, 2)\n",
    "print(f'Ушло активных клиентов {percent_no_loyalty}%')\n",
    "print(f'Ушло неактивных клиентов {percent_loyalty}%')"
   ]
  },
  {
   "cell_type": "markdown",
   "id": "996f757f",
   "metadata": {},
   "source": [
    "Активные клиенты чаще остаются в банке"
   ]
  },
  {
   "cell_type": "markdown",
   "id": "c62cdec0",
   "metadata": {},
   "source": [
    "### Сравнение распределений по уровню заработной платы ушедших и оставшихся клиентов"
   ]
  },
  {
   "cell_type": "code",
   "execution_count": 28,
   "id": "ac9bb26f",
   "metadata": {},
   "outputs": [
    {
     "data": {
      "image/png": "[encoded data removed]",
      "text/plain": [
       "<Figure size 1152x576 with 1 Axes>"
      ]
     },
     "metadata": {
      "needs_background": "light"
     },
     "output_type": "display_data"
    }
   ],
   "source": [
    "df2['estimated_salary'].hist(figsize=(16,8), ec='black')\n",
    "df1['estimated_salary'].hist(figsize=(16,8), ec='black')\n",
    "plt.title('Сравнение распределений по уровню заработной платы ушедших и оставшихся клиентов')\n",
    "plt.ylabel('Количество клиентов')\n",
    "plt.xlabel('Заработная плата')\n",
    "plt.show()"
   ]
  },
  {
   "cell_type": "markdown",
   "id": "96b312de",
   "metadata": {},
   "source": [
    "На всех группах приблизительно равное распределение оставшихся клиентов. Данный критерий не является информативным"
   ]
  },
  {
   "cell_type": "markdown",
   "id": "4b8da2c2",
   "metadata": {},
   "source": [
    "<b>Портрет клиента склонного оставаться в банке</b>:\n",
    "<br> Пол: Мужской\n",
    "<br> Возраст: 20-35 лет\n",
    "<br> Город: Ярославль или Рыбинск\n",
    "<br> Кол-во используемых продуктов: 2\n",
    "<br> Статус: Активный"
   ]
  },
  {
   "cell_type": "markdown",
   "id": "bad045ac",
   "metadata": {},
   "source": [
    "<b>Портрет клиента склонного уходить из банка</b>:\n",
    "<br> Пол: Женский\n",
    "<br> Возраст:  45-60 лет\n",
    "<br> Город: Ростов Великий\n",
    "<br> Кол-во используемых продуктов: 3-4\n",
    "<br> Статус: Неактивный"
   ]
  },
  {
   "cell_type": "code",
   "execution_count": 29,
   "id": "7bf758eb",
   "metadata": {},
   "outputs": [
    {
     "data": {
      "text/html": [
       "<div>\n",
       "<style scoped>\n",
       "    .dataframe tbody tr th:only-of-type {\n",
       "        vertical-align: middle;\n",
       "    }\n",
       "\n",
       "    .dataframe tbody tr th {\n",
       "        vertical-align: top;\n",
       "    }\n",
       "\n",
       "    .dataframe thead th {\n",
       "        text-align: right;\n",
       "    }\n",
       "</style>\n",
       "<table border=\"1\" class=\"dataframe\">\n",
       "  <thead>\n",
       "    <tr style=\"text-align: right;\">\n",
       "      <th></th>\n",
       "      <th>user_id</th>\n",
       "      <th>score</th>\n",
       "      <th>gender</th>\n",
       "      <th>age</th>\n",
       "      <th>objects</th>\n",
       "      <th>balance</th>\n",
       "      <th>credit_card</th>\n",
       "      <th>loyalty</th>\n",
       "      <th>estimated_salary</th>\n",
       "      <th>churn</th>\n",
       "      <th>city_Ростов Великий</th>\n",
       "      <th>city_Рыбинск</th>\n",
       "      <th>city_Ярославль</th>\n",
       "      <th>products_1</th>\n",
       "      <th>products_2</th>\n",
       "      <th>products_3</th>\n",
       "      <th>products_4</th>\n",
       "    </tr>\n",
       "  </thead>\n",
       "  <tbody>\n",
       "    <tr>\n",
       "      <th>0</th>\n",
       "      <td>15677338</td>\n",
       "      <td>619</td>\n",
       "      <td>Ж</td>\n",
       "      <td>42</td>\n",
       "      <td>2</td>\n",
       "      <td>NaN</td>\n",
       "      <td>1</td>\n",
       "      <td>1</td>\n",
       "      <td>101348.88</td>\n",
       "      <td>1</td>\n",
       "      <td>0</td>\n",
       "      <td>0</td>\n",
       "      <td>1</td>\n",
       "      <td>1</td>\n",
       "      <td>0</td>\n",
       "      <td>0</td>\n",
       "      <td>0</td>\n",
       "    </tr>\n",
       "    <tr>\n",
       "      <th>1</th>\n",
       "      <td>15690047</td>\n",
       "      <td>608</td>\n",
       "      <td>Ж</td>\n",
       "      <td>41</td>\n",
       "      <td>1</td>\n",
       "      <td>83807.86</td>\n",
       "      <td>0</td>\n",
       "      <td>1</td>\n",
       "      <td>112542.58</td>\n",
       "      <td>0</td>\n",
       "      <td>0</td>\n",
       "      <td>1</td>\n",
       "      <td>0</td>\n",
       "      <td>1</td>\n",
       "      <td>0</td>\n",
       "      <td>0</td>\n",
       "      <td>0</td>\n",
       "    </tr>\n",
       "    <tr>\n",
       "      <th>2</th>\n",
       "      <td>15662040</td>\n",
       "      <td>502</td>\n",
       "      <td>Ж</td>\n",
       "      <td>42</td>\n",
       "      <td>8</td>\n",
       "      <td>159660.80</td>\n",
       "      <td>1</td>\n",
       "      <td>0</td>\n",
       "      <td>113931.57</td>\n",
       "      <td>1</td>\n",
       "      <td>0</td>\n",
       "      <td>0</td>\n",
       "      <td>1</td>\n",
       "      <td>0</td>\n",
       "      <td>0</td>\n",
       "      <td>1</td>\n",
       "      <td>0</td>\n",
       "    </tr>\n",
       "    <tr>\n",
       "      <th>3</th>\n",
       "      <td>15744090</td>\n",
       "      <td>699</td>\n",
       "      <td>Ж</td>\n",
       "      <td>39</td>\n",
       "      <td>1</td>\n",
       "      <td>NaN</td>\n",
       "      <td>0</td>\n",
       "      <td>0</td>\n",
       "      <td>93826.63</td>\n",
       "      <td>0</td>\n",
       "      <td>0</td>\n",
       "      <td>0</td>\n",
       "      <td>1</td>\n",
       "      <td>0</td>\n",
       "      <td>1</td>\n",
       "      <td>0</td>\n",
       "      <td>0</td>\n",
       "    </tr>\n",
       "    <tr>\n",
       "      <th>4</th>\n",
       "      <td>15780624</td>\n",
       "      <td>850</td>\n",
       "      <td>Ж</td>\n",
       "      <td>43</td>\n",
       "      <td>2</td>\n",
       "      <td>125510.82</td>\n",
       "      <td>1</td>\n",
       "      <td>1</td>\n",
       "      <td>79084.10</td>\n",
       "      <td>0</td>\n",
       "      <td>0</td>\n",
       "      <td>1</td>\n",
       "      <td>0</td>\n",
       "      <td>1</td>\n",
       "      <td>0</td>\n",
       "      <td>0</td>\n",
       "      <td>0</td>\n",
       "    </tr>\n",
       "    <tr>\n",
       "      <th>...</th>\n",
       "      <td>...</td>\n",
       "      <td>...</td>\n",
       "      <td>...</td>\n",
       "      <td>...</td>\n",
       "      <td>...</td>\n",
       "      <td>...</td>\n",
       "      <td>...</td>\n",
       "      <td>...</td>\n",
       "      <td>...</td>\n",
       "      <td>...</td>\n",
       "      <td>...</td>\n",
       "      <td>...</td>\n",
       "      <td>...</td>\n",
       "      <td>...</td>\n",
       "      <td>...</td>\n",
       "      <td>...</td>\n",
       "      <td>...</td>\n",
       "    </tr>\n",
       "    <tr>\n",
       "      <th>9995</th>\n",
       "      <td>15648965</td>\n",
       "      <td>771</td>\n",
       "      <td>М</td>\n",
       "      <td>39</td>\n",
       "      <td>5</td>\n",
       "      <td>NaN</td>\n",
       "      <td>1</td>\n",
       "      <td>0</td>\n",
       "      <td>96270.64</td>\n",
       "      <td>0</td>\n",
       "      <td>0</td>\n",
       "      <td>0</td>\n",
       "      <td>1</td>\n",
       "      <td>0</td>\n",
       "      <td>1</td>\n",
       "      <td>0</td>\n",
       "      <td>0</td>\n",
       "    </tr>\n",
       "    <tr>\n",
       "      <th>9996</th>\n",
       "      <td>15612628</td>\n",
       "      <td>516</td>\n",
       "      <td>М</td>\n",
       "      <td>35</td>\n",
       "      <td>10</td>\n",
       "      <td>57369.61</td>\n",
       "      <td>1</td>\n",
       "      <td>1</td>\n",
       "      <td>101699.77</td>\n",
       "      <td>0</td>\n",
       "      <td>0</td>\n",
       "      <td>0</td>\n",
       "      <td>1</td>\n",
       "      <td>1</td>\n",
       "      <td>0</td>\n",
       "      <td>0</td>\n",
       "      <td>0</td>\n",
       "    </tr>\n",
       "    <tr>\n",
       "      <th>9997</th>\n",
       "      <td>15627268</td>\n",
       "      <td>709</td>\n",
       "      <td>Ж</td>\n",
       "      <td>36</td>\n",
       "      <td>7</td>\n",
       "      <td>NaN</td>\n",
       "      <td>0</td>\n",
       "      <td>1</td>\n",
       "      <td>42085.58</td>\n",
       "      <td>1</td>\n",
       "      <td>0</td>\n",
       "      <td>0</td>\n",
       "      <td>1</td>\n",
       "      <td>1</td>\n",
       "      <td>0</td>\n",
       "      <td>0</td>\n",
       "      <td>0</td>\n",
       "    </tr>\n",
       "    <tr>\n",
       "      <th>9998</th>\n",
       "      <td>15725091</td>\n",
       "      <td>772</td>\n",
       "      <td>М</td>\n",
       "      <td>42</td>\n",
       "      <td>3</td>\n",
       "      <td>75075.31</td>\n",
       "      <td>1</td>\n",
       "      <td>0</td>\n",
       "      <td>92888.52</td>\n",
       "      <td>1</td>\n",
       "      <td>1</td>\n",
       "      <td>0</td>\n",
       "      <td>0</td>\n",
       "      <td>0</td>\n",
       "      <td>1</td>\n",
       "      <td>0</td>\n",
       "      <td>0</td>\n",
       "    </tr>\n",
       "    <tr>\n",
       "      <th>9999</th>\n",
       "      <td>15671055</td>\n",
       "      <td>792</td>\n",
       "      <td>Ж</td>\n",
       "      <td>28</td>\n",
       "      <td>4</td>\n",
       "      <td>130142.79</td>\n",
       "      <td>1</td>\n",
       "      <td>0</td>\n",
       "      <td>38190.78</td>\n",
       "      <td>0</td>\n",
       "      <td>0</td>\n",
       "      <td>0</td>\n",
       "      <td>1</td>\n",
       "      <td>1</td>\n",
       "      <td>0</td>\n",
       "      <td>0</td>\n",
       "      <td>0</td>\n",
       "    </tr>\n",
       "  </tbody>\n",
       "</table>\n",
       "<p>10000 rows × 17 columns</p>\n",
       "</div>"
      ],
      "text/plain": [
       "       user_id  score gender  age  objects    balance  credit_card  loyalty  \\\n",
       "0     15677338    619      Ж   42        2        NaN            1        1   \n",
       "1     15690047    608      Ж   41        1   83807.86            0        1   \n",
       "2     15662040    502      Ж   42        8  159660.80            1        0   \n",
       "3     15744090    699      Ж   39        1        NaN            0        0   \n",
       "4     15780624    850      Ж   43        2  125510.82            1        1   \n",
       "...        ...    ...    ...  ...      ...        ...          ...      ...   \n",
       "9995  15648965    771      М   39        5        NaN            1        0   \n",
       "9996  15612628    516      М   35       10   57369.61            1        1   \n",
       "9997  15627268    709      Ж   36        7        NaN            0        1   \n",
       "9998  15725091    772      М   42        3   75075.31            1        0   \n",
       "9999  15671055    792      Ж   28        4  130142.79            1        0   \n",
       "\n",
       "      estimated_salary  churn  city_Ростов Великий  city_Рыбинск  \\\n",
       "0            101348.88      1                    0             0   \n",
       "1            112542.58      0                    0             1   \n",
       "2            113931.57      1                    0             0   \n",
       "3             93826.63      0                    0             0   \n",
       "4             79084.10      0                    0             1   \n",
       "...                ...    ...                  ...           ...   \n",
       "9995          96270.64      0                    0             0   \n",
       "9996         101699.77      0                    0             0   \n",
       "9997          42085.58      1                    0             0   \n",
       "9998          92888.52      1                    1             0   \n",
       "9999          38190.78      0                    0             0   \n",
       "\n",
       "      city_Ярославль  products_1  products_2  products_3  products_4  \n",
       "0                  1           1           0           0           0  \n",
       "1                  0           1           0           0           0  \n",
       "2                  1           0           0           1           0  \n",
       "3                  1           0           1           0           0  \n",
       "4                  0           1           0           0           0  \n",
       "...              ...         ...         ...         ...         ...  \n",
       "9995               1           0           1           0           0  \n",
       "9996               1           1           0           0           0  \n",
       "9997               1           1           0           0           0  \n",
       "9998               0           0           1           0           0  \n",
       "9999               1           1           0           0           0  \n",
       "\n",
       "[10000 rows x 17 columns]"
      ]
     },
     "execution_count": 29,
     "metadata": {},
     "output_type": "execute_result"
    }
   ],
   "source": [
    "test= pd.get_dummies(df, columns=['city', 'products'])\n",
    "test"
   ]
  },
  {
   "cell_type": "code",
   "execution_count": 30,
   "id": "0e2fa71b",
   "metadata": {},
   "outputs": [
    {
     "data": {
      "text/html": [
       "<div>\n",
       "<style scoped>\n",
       "    .dataframe tbody tr th:only-of-type {\n",
       "        vertical-align: middle;\n",
       "    }\n",
       "\n",
       "    .dataframe tbody tr th {\n",
       "        vertical-align: top;\n",
       "    }\n",
       "\n",
       "    .dataframe thead th {\n",
       "        text-align: right;\n",
       "    }\n",
       "</style>\n",
       "<table border=\"1\" class=\"dataframe\">\n",
       "  <thead>\n",
       "    <tr style=\"text-align: right;\">\n",
       "      <th></th>\n",
       "      <th>user_id</th>\n",
       "      <th>score</th>\n",
       "      <th>age</th>\n",
       "      <th>objects</th>\n",
       "      <th>balance</th>\n",
       "      <th>credit_card</th>\n",
       "      <th>loyalty</th>\n",
       "      <th>estimated_salary</th>\n",
       "      <th>churn</th>\n",
       "      <th>city_Ростов Великий</th>\n",
       "      <th>city_Рыбинск</th>\n",
       "      <th>city_Ярославль</th>\n",
       "      <th>products_1</th>\n",
       "      <th>products_2</th>\n",
       "      <th>products_3</th>\n",
       "      <th>products_4</th>\n",
       "    </tr>\n",
       "  </thead>\n",
       "  <tbody>\n",
       "    <tr>\n",
       "      <th>user_id</th>\n",
       "      <td>1.000000</td>\n",
       "      <td>0.005308</td>\n",
       "      <td>0.009497</td>\n",
       "      <td>-0.014883</td>\n",
       "      <td>-0.008690</td>\n",
       "      <td>-0.014025</td>\n",
       "      <td>0.001665</td>\n",
       "      <td>0.015271</td>\n",
       "      <td>-0.006248</td>\n",
       "      <td>-0.003097</td>\n",
       "      <td>0.007800</td>\n",
       "      <td>-0.004049</td>\n",
       "      <td>-0.018501</td>\n",
       "      <td>0.014917</td>\n",
       "      <td>0.018706</td>\n",
       "      <td>-0.015462</td>\n",
       "    </tr>\n",
       "    <tr>\n",
       "      <th>score</th>\n",
       "      <td>0.005308</td>\n",
       "      <td>1.000000</td>\n",
       "      <td>-0.003965</td>\n",
       "      <td>0.000842</td>\n",
       "      <td>-0.004744</td>\n",
       "      <td>-0.005458</td>\n",
       "      <td>0.025651</td>\n",
       "      <td>-0.001384</td>\n",
       "      <td>-0.027094</td>\n",
       "      <td>0.005538</td>\n",
       "      <td>0.004780</td>\n",
       "      <td>-0.008928</td>\n",
       "      <td>-0.014813</td>\n",
       "      <td>0.015819</td>\n",
       "      <td>-0.004145</td>\n",
       "      <td>0.002455</td>\n",
       "    </tr>\n",
       "    <tr>\n",
       "      <th>age</th>\n",
       "      <td>0.009497</td>\n",
       "      <td>-0.003965</td>\n",
       "      <td>1.000000</td>\n",
       "      <td>-0.009997</td>\n",
       "      <td>-0.012822</td>\n",
       "      <td>-0.011721</td>\n",
       "      <td>0.085472</td>\n",
       "      <td>-0.007201</td>\n",
       "      <td>0.285323</td>\n",
       "      <td>0.046897</td>\n",
       "      <td>-0.001685</td>\n",
       "      <td>-0.039208</td>\n",
       "      <td>0.072852</td>\n",
       "      <td>-0.102604</td>\n",
       "      <td>0.067365</td>\n",
       "      <td>0.050092</td>\n",
       "    </tr>\n",
       "    <tr>\n",
       "      <th>objects</th>\n",
       "      <td>-0.014883</td>\n",
       "      <td>0.000842</td>\n",
       "      <td>-0.009997</td>\n",
       "      <td>1.000000</td>\n",
       "      <td>0.005827</td>\n",
       "      <td>0.022583</td>\n",
       "      <td>-0.028362</td>\n",
       "      <td>0.007784</td>\n",
       "      <td>-0.014001</td>\n",
       "      <td>-0.000567</td>\n",
       "      <td>0.003868</td>\n",
       "      <td>-0.002848</td>\n",
       "      <td>-0.013423</td>\n",
       "      <td>0.012438</td>\n",
       "      <td>-0.000517</td>\n",
       "      <td>0.007716</td>\n",
       "    </tr>\n",
       "    <tr>\n",
       "      <th>balance</th>\n",
       "      <td>-0.008690</td>\n",
       "      <td>-0.004744</td>\n",
       "      <td>-0.012822</td>\n",
       "      <td>0.005827</td>\n",
       "      <td>1.000000</td>\n",
       "      <td>0.006721</td>\n",
       "      <td>-0.020418</td>\n",
       "      <td>-0.001856</td>\n",
       "      <td>0.017208</td>\n",
       "      <td>-0.002604</td>\n",
       "      <td>-0.000208</td>\n",
       "      <td>0.002759</td>\n",
       "      <td>0.003051</td>\n",
       "      <td>-0.003725</td>\n",
       "      <td>-0.001922</td>\n",
       "      <td>0.006889</td>\n",
       "    </tr>\n",
       "    <tr>\n",
       "      <th>credit_card</th>\n",
       "      <td>-0.014025</td>\n",
       "      <td>-0.005458</td>\n",
       "      <td>-0.011721</td>\n",
       "      <td>0.022583</td>\n",
       "      <td>0.006721</td>\n",
       "      <td>1.000000</td>\n",
       "      <td>-0.011866</td>\n",
       "      <td>-0.009933</td>\n",
       "      <td>-0.007138</td>\n",
       "      <td>0.010577</td>\n",
       "      <td>-0.013480</td>\n",
       "      <td>0.002467</td>\n",
       "      <td>-0.003845</td>\n",
       "      <td>0.003414</td>\n",
       "      <td>0.003186</td>\n",
       "      <td>-0.003778</td>\n",
       "    </tr>\n",
       "    <tr>\n",
       "      <th>loyalty</th>\n",
       "      <td>0.001665</td>\n",
       "      <td>0.025651</td>\n",
       "      <td>0.085472</td>\n",
       "      <td>-0.028362</td>\n",
       "      <td>-0.020418</td>\n",
       "      <td>-0.011866</td>\n",
       "      <td>1.000000</td>\n",
       "      <td>-0.011421</td>\n",
       "      <td>-0.156128</td>\n",
       "      <td>-0.020486</td>\n",
       "      <td>0.016732</td>\n",
       "      <td>0.003317</td>\n",
       "      <td>-0.022321</td>\n",
       "      <td>0.032802</td>\n",
       "      <td>-0.029864</td>\n",
       "      <td>-0.004938</td>\n",
       "    </tr>\n",
       "    <tr>\n",
       "      <th>estimated_salary</th>\n",
       "      <td>0.015271</td>\n",
       "      <td>-0.001384</td>\n",
       "      <td>-0.007201</td>\n",
       "      <td>0.007784</td>\n",
       "      <td>-0.001856</td>\n",
       "      <td>-0.009933</td>\n",
       "      <td>-0.011421</td>\n",
       "      <td>1.000000</td>\n",
       "      <td>0.012097</td>\n",
       "      <td>0.010297</td>\n",
       "      <td>-0.006482</td>\n",
       "      <td>-0.003332</td>\n",
       "      <td>-0.010663</td>\n",
       "      <td>0.005795</td>\n",
       "      <td>0.012153</td>\n",
       "      <td>0.006314</td>\n",
       "    </tr>\n",
       "    <tr>\n",
       "      <th>churn</th>\n",
       "      <td>-0.006248</td>\n",
       "      <td>-0.027094</td>\n",
       "      <td>0.285323</td>\n",
       "      <td>-0.014001</td>\n",
       "      <td>0.017208</td>\n",
       "      <td>-0.007138</td>\n",
       "      <td>-0.156128</td>\n",
       "      <td>0.012097</td>\n",
       "      <td>1.000000</td>\n",
       "      <td>0.173488</td>\n",
       "      <td>-0.052667</td>\n",
       "      <td>-0.104955</td>\n",
       "      <td>0.185447</td>\n",
       "      <td>-0.292474</td>\n",
       "      <td>0.255862</td>\n",
       "      <td>0.153612</td>\n",
       "    </tr>\n",
       "    <tr>\n",
       "      <th>city_Ростов Великий</th>\n",
       "      <td>-0.003097</td>\n",
       "      <td>0.005538</td>\n",
       "      <td>0.046897</td>\n",
       "      <td>-0.000567</td>\n",
       "      <td>-0.002604</td>\n",
       "      <td>0.010577</td>\n",
       "      <td>-0.020486</td>\n",
       "      <td>0.010297</td>\n",
       "      <td>0.173488</td>\n",
       "      <td>1.000000</td>\n",
       "      <td>-0.332084</td>\n",
       "      <td>-0.580359</td>\n",
       "      <td>0.033878</td>\n",
       "      <td>-0.051673</td>\n",
       "      <td>0.041945</td>\n",
       "      <td>0.026720</td>\n",
       "    </tr>\n",
       "    <tr>\n",
       "      <th>city_Рыбинск</th>\n",
       "      <td>0.007800</td>\n",
       "      <td>0.004780</td>\n",
       "      <td>-0.001685</td>\n",
       "      <td>0.003868</td>\n",
       "      <td>-0.000208</td>\n",
       "      <td>-0.013480</td>\n",
       "      <td>0.016732</td>\n",
       "      <td>-0.006482</td>\n",
       "      <td>-0.052667</td>\n",
       "      <td>-0.332084</td>\n",
       "      <td>1.000000</td>\n",
       "      <td>-0.575418</td>\n",
       "      <td>-0.017750</td>\n",
       "      <td>0.021411</td>\n",
       "      <td>0.000161</td>\n",
       "      <td>-0.023583</td>\n",
       "    </tr>\n",
       "    <tr>\n",
       "      <th>city_Ярославль</th>\n",
       "      <td>-0.004049</td>\n",
       "      <td>-0.008928</td>\n",
       "      <td>-0.039208</td>\n",
       "      <td>-0.002848</td>\n",
       "      <td>0.002759</td>\n",
       "      <td>0.002467</td>\n",
       "      <td>0.003317</td>\n",
       "      <td>-0.003332</td>\n",
       "      <td>-0.104955</td>\n",
       "      <td>-0.580359</td>\n",
       "      <td>-0.575418</td>\n",
       "      <td>1.000000</td>\n",
       "      <td>-0.014049</td>\n",
       "      <td>0.026318</td>\n",
       "      <td>-0.036508</td>\n",
       "      <td>-0.002807</td>\n",
       "    </tr>\n",
       "    <tr>\n",
       "      <th>products_1</th>\n",
       "      <td>-0.018501</td>\n",
       "      <td>-0.014813</td>\n",
       "      <td>0.072852</td>\n",
       "      <td>-0.013423</td>\n",
       "      <td>0.003051</td>\n",
       "      <td>-0.003845</td>\n",
       "      <td>-0.022321</td>\n",
       "      <td>-0.010663</td>\n",
       "      <td>0.185447</td>\n",
       "      <td>0.033878</td>\n",
       "      <td>-0.017750</td>\n",
       "      <td>-0.014049</td>\n",
       "      <td>1.000000</td>\n",
       "      <td>-0.936709</td>\n",
       "      <td>-0.168109</td>\n",
       "      <td>-0.079009</td>\n",
       "    </tr>\n",
       "    <tr>\n",
       "      <th>products_2</th>\n",
       "      <td>0.014917</td>\n",
       "      <td>0.015819</td>\n",
       "      <td>-0.102604</td>\n",
       "      <td>0.012438</td>\n",
       "      <td>-0.003725</td>\n",
       "      <td>0.003414</td>\n",
       "      <td>0.032802</td>\n",
       "      <td>0.005795</td>\n",
       "      <td>-0.292474</td>\n",
       "      <td>-0.051673</td>\n",
       "      <td>0.021411</td>\n",
       "      <td>0.026318</td>\n",
       "      <td>-0.936709</td>\n",
       "      <td>1.000000</td>\n",
       "      <td>-0.152266</td>\n",
       "      <td>-0.071563</td>\n",
       "    </tr>\n",
       "    <tr>\n",
       "      <th>products_3</th>\n",
       "      <td>0.018706</td>\n",
       "      <td>-0.004145</td>\n",
       "      <td>0.067365</td>\n",
       "      <td>-0.000517</td>\n",
       "      <td>-0.001922</td>\n",
       "      <td>0.003186</td>\n",
       "      <td>-0.029864</td>\n",
       "      <td>0.012153</td>\n",
       "      <td>0.255862</td>\n",
       "      <td>0.041945</td>\n",
       "      <td>0.000161</td>\n",
       "      <td>-0.036508</td>\n",
       "      <td>-0.168109</td>\n",
       "      <td>-0.152266</td>\n",
       "      <td>1.000000</td>\n",
       "      <td>-0.012843</td>\n",
       "    </tr>\n",
       "    <tr>\n",
       "      <th>products_4</th>\n",
       "      <td>-0.015462</td>\n",
       "      <td>0.002455</td>\n",
       "      <td>0.050092</td>\n",
       "      <td>0.007716</td>\n",
       "      <td>0.006889</td>\n",
       "      <td>-0.003778</td>\n",
       "      <td>-0.004938</td>\n",
       "      <td>0.006314</td>\n",
       "      <td>0.153612</td>\n",
       "      <td>0.026720</td>\n",
       "      <td>-0.023583</td>\n",
       "      <td>-0.002807</td>\n",
       "      <td>-0.079009</td>\n",
       "      <td>-0.071563</td>\n",
       "      <td>-0.012843</td>\n",
       "      <td>1.000000</td>\n",
       "    </tr>\n",
       "  </tbody>\n",
       "</table>\n",
       "</div>"
      ],
      "text/plain": [
       "                      user_id     score       age   objects   balance  \\\n",
       "user_id              1.000000  0.005308  0.009497 -0.014883 -0.008690   \n",
       "score                0.005308  1.000000 -0.003965  0.000842 -0.004744   \n",
       "age                  0.009497 -0.003965  1.000000 -0.009997 -0.012822   \n",
       "objects             -0.014883  0.000842 -0.009997  1.000000  0.005827   \n",
       "balance             -0.008690 -0.004744 -0.012822  0.005827  1.000000   \n",
       "credit_card         -0.014025 -0.005458 -0.011721  0.022583  0.006721   \n",
       "loyalty              0.001665  0.025651  0.085472 -0.028362 -0.020418   \n",
       "estimated_salary     0.015271 -0.001384 -0.007201  0.007784 -0.001856   \n",
       "churn               -0.006248 -0.027094  0.285323 -0.014001  0.017208   \n",
       "city_Ростов Великий -0.003097  0.005538  0.046897 -0.000567 -0.002604   \n",
       "city_Рыбинск         0.007800  0.004780 -0.001685  0.003868 -0.000208   \n",
       "city_Ярославль      -0.004049 -0.008928 -0.039208 -0.002848  0.002759   \n",
       "products_1          -0.018501 -0.014813  0.072852 -0.013423  0.003051   \n",
       "products_2           0.014917  0.015819 -0.102604  0.012438 -0.003725   \n",
       "products_3           0.018706 -0.004145  0.067365 -0.000517 -0.001922   \n",
       "products_4          -0.015462  0.002455  0.050092  0.007716  0.006889   \n",
       "\n",
       "                     credit_card   loyalty  estimated_salary     churn  \\\n",
       "user_id                -0.014025  0.001665          0.015271 -0.006248   \n",
       "score                  -0.005458  0.025651         -0.001384 -0.027094   \n",
       "age                    -0.011721  0.085472         -0.007201  0.285323   \n",
       "objects                 0.022583 -0.028362          0.007784 -0.014001   \n",
       "balance                 0.006721 -0.020418         -0.001856  0.017208   \n",
       "credit_card             1.000000 -0.011866         -0.009933 -0.007138   \n",
       "loyalty                -0.011866  1.000000         -0.011421 -0.156128   \n",
       "estimated_salary       -0.009933 -0.011421          1.000000  0.012097   \n",
       "churn                  -0.007138 -0.156128          0.012097  1.000000   \n",
       "city_Ростов Великий     0.010577 -0.020486          0.010297  0.173488   \n",
       "city_Рыбинск           -0.013480  0.016732         -0.006482 -0.052667   \n",
       "city_Ярославль          0.002467  0.003317         -0.003332 -0.104955   \n",
       "products_1             -0.003845 -0.022321         -0.010663  0.185447   \n",
       "products_2              0.003414  0.032802          0.005795 -0.292474   \n",
       "products_3              0.003186 -0.029864          0.012153  0.255862   \n",
       "products_4             -0.003778 -0.004938          0.006314  0.153612   \n",
       "\n",
       "                     city_Ростов Великий  city_Рыбинск  city_Ярославль  \\\n",
       "user_id                        -0.003097      0.007800       -0.004049   \n",
       "score                           0.005538      0.004780       -0.008928   \n",
       "age                             0.046897     -0.001685       -0.039208   \n",
       "objects                        -0.000567      0.003868       -0.002848   \n",
       "balance                        -0.002604     -0.000208        0.002759   \n",
       "credit_card                     0.010577     -0.013480        0.002467   \n",
       "loyalty                        -0.020486      0.016732        0.003317   \n",
       "estimated_salary                0.010297     -0.006482       -0.003332   \n",
       "churn                           0.173488     -0.052667       -0.104955   \n",
       "city_Ростов Великий             1.000000     -0.332084       -0.580359   \n",
       "city_Рыбинск                   -0.332084      1.000000       -0.575418   \n",
       "city_Ярославль                 -0.580359     -0.575418        1.000000   \n",
       "products_1                      0.033878     -0.017750       -0.014049   \n",
       "products_2                     -0.051673      0.021411        0.026318   \n",
       "products_3                      0.041945      0.000161       -0.036508   \n",
       "products_4                      0.026720     -0.023583       -0.002807   \n",
       "\n",
       "                     products_1  products_2  products_3  products_4  \n",
       "user_id               -0.018501    0.014917    0.018706   -0.015462  \n",
       "score                 -0.014813    0.015819   -0.004145    0.002455  \n",
       "age                    0.072852   -0.102604    0.067365    0.050092  \n",
       "objects               -0.013423    0.012438   -0.000517    0.007716  \n",
       "balance                0.003051   -0.003725   -0.001922    0.006889  \n",
       "credit_card           -0.003845    0.003414    0.003186   -0.003778  \n",
       "loyalty               -0.022321    0.032802   -0.029864   -0.004938  \n",
       "estimated_salary      -0.010663    0.005795    0.012153    0.006314  \n",
       "churn                  0.185447   -0.292474    0.255862    0.153612  \n",
       "city_Ростов Великий    0.033878   -0.051673    0.041945    0.026720  \n",
       "city_Рыбинск          -0.017750    0.021411    0.000161   -0.023583  \n",
       "city_Ярославль        -0.014049    0.026318   -0.036508   -0.002807  \n",
       "products_1             1.000000   -0.936709   -0.168109   -0.079009  \n",
       "products_2            -0.936709    1.000000   -0.152266   -0.071563  \n",
       "products_3            -0.168109   -0.152266    1.000000   -0.012843  \n",
       "products_4            -0.079009   -0.071563   -0.012843    1.000000  "
      ]
     },
     "execution_count": 30,
     "metadata": {},
     "output_type": "execute_result"
    }
   ],
   "source": [
    "test.corr()"
   ]
  },
  {
   "cell_type": "markdown",
   "id": "b96fc756",
   "metadata": {},
   "source": [
    "- Кореляция слабая, взаимосвязи между характиристиками клиента почти нет.\n",
    "- Небольшая корреляция есть у статуса клиента банка (остался или нет) и возраста и некоторыз продуктов"
   ]
  },
  {
   "cell_type": "markdown",
   "id": "9bb06245",
   "metadata": {},
   "source": [
    "## Формулирование и проверка гипотез"
   ]
  },
  {
   "cell_type": "markdown",
   "id": "750cbc4c",
   "metadata": {},
   "source": [
    "В основе гипотез лежит тезис о равенстве, соответственно использую метод для проверки гипотез о равенстве средних для зависимых (парных) выборок"
   ]
  },
  {
   "cell_type": "markdown",
   "id": "23885dea",
   "metadata": {},
   "source": [
    "### гипотеза:\n",
    "<b>Нулевая гипотеза</b>: Средние доходы клиентов, которые ушли из банка и которые остались, одинаковые.\n",
    "<br><b>Альтернативная</b>: Средние доходы клиентов, которые ушли из банка и которые остались, не равны."
   ]
  },
  {
   "cell_type": "code",
   "execution_count": 31,
   "id": "5fbd2769",
   "metadata": {},
   "outputs": [
    {
     "data": {
      "text/plain": [
       "0       101348.88\n",
       "2       113931.57\n",
       "5       149756.71\n",
       "7       119346.88\n",
       "16        5097.67\n",
       "          ...    \n",
       "9981     53445.17\n",
       "9982    115146.40\n",
       "9991     69384.71\n",
       "9997     42085.58\n",
       "9998     92888.52\n",
       "Name: estimated_salary, Length: 2037, dtype: float64"
      ]
     },
     "execution_count": 31,
     "metadata": {},
     "output_type": "execute_result"
    }
   ],
   "source": [
    "df1['estimated_salary']"
   ]
  },
  {
   "cell_type": "code",
   "execution_count": 32,
   "id": "e4c86aa3",
   "metadata": {},
   "outputs": [
    {
     "name": "stdout",
     "output_type": "stream",
     "text": [
      "p-значение: 0.22644042802223352\n",
      "Не получилось отвергнуть нулевую гипотезу\n"
     ]
    }
   ],
   "source": [
    "avg1_income=df1['estimated_salary']\n",
    "avg2_income=df2['estimated_salary']\n",
    "\n",
    "alpha = 0.05 # критический уровень статистической значимости\n",
    "# если p-value окажется меньше него - отвергнем гипотезу\n",
    "\n",
    "results = st.ttest_ind(avg1_income, avg2_income)\n",
    "\n",
    "print('p-значение:', results.pvalue)\n",
    "\n",
    "if results.pvalue < alpha:\n",
    "    print(\"Отвергаем нулевую гипотезу\")\n",
    "else:\n",
    "    print(\"Не получилось отвергнуть нулевую гипотезу\") "
   ]
  },
  {
   "cell_type": "markdown",
   "id": "12d007ad",
   "metadata": {},
   "source": [
    "### гипотеза:\n",
    "<b>Нулевая гипотеза</b>: Средние баллы кредитного скоринга клиентов, которые ушли из банка и которые остались, одинаковые.\n",
    "<br><b>Альтернативная</b>: Средние баллы кредитного скоринга клиентов, которые ушли из банка и которые остались, не равны."
   ]
  },
  {
   "cell_type": "code",
   "execution_count": 33,
   "id": "476a6753",
   "metadata": {},
   "outputs": [
    {
     "name": "stdout",
     "output_type": "stream",
     "text": [
      "p-значение: 0.006738213892192373\n",
      "Отвергаем нулевую гипотезу\n"
     ]
    }
   ],
   "source": [
    "avg1_rating=df1['score']\n",
    "avg2_rating=df2['score']\n",
    "\n",
    "alpha = 0.05 # критический уровень статистической значимости\n",
    "# если p-value окажется меньше него - отвергнем гипотезу\n",
    "\n",
    "results = st.ttest_ind(avg1_rating, avg2_rating)\n",
    "\n",
    "print('p-значение:', results.pvalue)\n",
    "\n",
    "if results.pvalue < alpha:\n",
    "    print(\"Отвергаем нулевую гипотезу\")\n",
    "else:\n",
    "    print(\"Не получилось отвергнуть нулевую гипотезу\") "
   ]
  },
  {
   "cell_type": "markdown",
   "id": "f57ec87f",
   "metadata": {},
   "source": [
    "<b>Выводы по гипотезам</b>:\n",
    "- <i>Первую гипотезу</i> о равенстве средних доходов оставшихся и ушедших клиентов - не получилось отвергнуть. Значения статистически равны.\n",
    "- <i>Вторую гипотезу</i> о равенстве рейтинга кредитного скоринга оставшихся и ушедших клиентов - отвергаем. Значение кредитных рейтингов ушедших и оставшихся клиентов разные."
   ]
  },
  {
   "cell_type": "markdown",
   "id": "f565cfb6",
   "metadata": {},
   "source": [
    "<b>Выводы и рекоментации</b>:\n",
    "- Люди в возрасте от 40-60 лет наиболее склонны покидать банк. Возможно стоит пересмотреть программу лояльности.\n",
    "- Активные клиенты менее склонны покидать банк, имеет смысл стимулировать активность клиентов.\n",
    "- Ростов Великий рекордсмен по проценту покинувших банк клиентов. Необходимо выявить причины. Возможно нужно заняться отделу контроля качества.\n",
    "- Женщины более склонны уходить из банка. Необходимо выявить причины. Возможно нужно заняться отделу контроля качества."
   ]
  },
  {
   "cell_type": "markdown",
   "id": "402c3407",
   "metadata": {},
   "source": [
    "<b>Портрет клиента склонного оставаться в банке</b>:\n",
    "<br> Пол: Мужской\n",
    "<br> Возраст: 20-35 лет\n",
    "<br> Город: Ярославль или Рыбинск\n",
    "<br> Кол-во используемых продуктов: 2\n",
    "<br> Статус: Активный"
   ]
  },
  {
   "cell_type": "markdown",
   "id": "6a13118f",
   "metadata": {},
   "source": [
    "<b>Портрет клиента склонного уходить из банка</b>:\n",
    "<br> Пол: Женский\n",
    "<br> Возраст:  45-60 лет\n",
    "<br> Город: Ростов Великий\n",
    "<br> Кол-во используемых продуктов: 3-4\n",
    "<br> Статус: Неактивный"
   ]
  }
 ],
 "metadata": {
  "ExecuteTimeLog": [
   {
    "duration": 964,
    "start_time": "2022-11-16T07:34:02.244Z"
   },
   {
    "duration": 93,
    "start_time": "2022-11-16T07:34:03.210Z"
   },
   {
    "duration": 10,
    "start_time": "2022-11-16T07:34:03.305Z"
   },
   {
    "duration": 23,
    "start_time": "2022-11-16T07:34:03.317Z"
   },
   {
    "duration": 16,
    "start_time": "2022-11-16T07:34:03.342Z"
   },
   {
    "duration": 209,
    "start_time": "2022-11-16T07:34:03.359Z"
   },
   {
    "duration": 202,
    "start_time": "2022-11-16T07:34:03.569Z"
   },
   {
    "duration": 199,
    "start_time": "2022-11-16T07:34:03.773Z"
   },
   {
    "duration": 204,
    "start_time": "2022-11-16T07:34:03.974Z"
   },
   {
    "duration": 194,
    "start_time": "2022-11-16T07:34:04.181Z"
   },
   {
    "duration": 166,
    "start_time": "2022-11-16T07:34:04.376Z"
   },
   {
    "duration": 261,
    "start_time": "2022-11-16T07:34:04.544Z"
   },
   {
    "duration": 7,
    "start_time": "2022-11-16T07:34:04.807Z"
   },
   {
    "duration": 226,
    "start_time": "2022-11-16T07:34:04.816Z"
   },
   {
    "duration": 195,
    "start_time": "2022-11-16T07:34:05.044Z"
   },
   {
    "duration": 6,
    "start_time": "2022-11-16T07:34:05.241Z"
   },
   {
    "duration": 219,
    "start_time": "2022-11-16T07:34:05.249Z"
   },
   {
    "duration": 5,
    "start_time": "2022-11-16T07:34:05.470Z"
   },
   {
    "duration": 31,
    "start_time": "2022-11-16T07:34:05.477Z"
   },
   {
    "duration": 993,
    "start_time": "2022-11-16T07:34:14.812Z"
   },
   {
    "duration": 80,
    "start_time": "2022-11-16T07:34:15.807Z"
   },
   {
    "duration": 18,
    "start_time": "2022-11-16T07:34:15.888Z"
   },
   {
    "duration": 14,
    "start_time": "2022-11-16T07:34:15.908Z"
   },
   {
    "duration": 13,
    "start_time": "2022-11-16T07:34:15.923Z"
   },
   {
    "duration": 225,
    "start_time": "2022-11-16T07:34:15.937Z"
   },
   {
    "duration": 195,
    "start_time": "2022-11-16T07:34:16.164Z"
   },
   {
    "duration": 188,
    "start_time": "2022-11-16T07:34:16.360Z"
   },
   {
    "duration": 194,
    "start_time": "2022-11-16T07:34:16.550Z"
   },
   {
    "duration": 171,
    "start_time": "2022-11-16T07:34:16.747Z"
   },
   {
    "duration": 170,
    "start_time": "2022-11-16T07:34:16.919Z"
   },
   {
    "duration": 197,
    "start_time": "2022-11-16T07:34:17.091Z"
   },
   {
    "duration": 8,
    "start_time": "2022-11-16T07:34:17.289Z"
   },
   {
    "duration": 208,
    "start_time": "2022-11-16T07:34:17.299Z"
   },
   {
    "duration": 174,
    "start_time": "2022-11-16T07:34:17.509Z"
   },
   {
    "duration": 5,
    "start_time": "2022-11-16T07:34:17.685Z"
   },
   {
    "duration": 199,
    "start_time": "2022-11-16T07:34:17.698Z"
   },
   {
    "duration": 5,
    "start_time": "2022-11-16T07:34:17.899Z"
   },
   {
    "duration": 10,
    "start_time": "2022-11-16T07:34:17.906Z"
   },
   {
    "duration": 50,
    "start_time": "2022-11-16T10:32:08.276Z"
   },
   {
    "duration": 1218,
    "start_time": "2022-11-16T10:32:16.151Z"
   },
   {
    "duration": 239,
    "start_time": "2022-11-16T10:32:17.371Z"
   },
   {
    "duration": 12,
    "start_time": "2022-11-16T10:32:17.612Z"
   },
   {
    "duration": 13,
    "start_time": "2022-11-16T10:32:17.626Z"
   },
   {
    "duration": 11,
    "start_time": "2022-11-16T10:32:17.641Z"
   },
   {
    "duration": 8306,
    "start_time": "2022-11-16T10:32:17.654Z"
   },
   {
    "duration": 201,
    "start_time": "2022-11-16T10:32:25.962Z"
   },
   {
    "duration": 221,
    "start_time": "2022-11-16T10:32:26.164Z"
   },
   {
    "duration": 200,
    "start_time": "2022-11-16T10:32:26.387Z"
   },
   {
    "duration": 201,
    "start_time": "2022-11-16T10:32:26.590Z"
   },
   {
    "duration": 192,
    "start_time": "2022-11-16T10:32:26.792Z"
   },
   {
    "duration": 167,
    "start_time": "2022-11-16T10:32:26.986Z"
   },
   {
    "duration": 214,
    "start_time": "2022-11-16T10:32:27.155Z"
   },
   {
    "duration": 10,
    "start_time": "2022-11-16T10:32:27.370Z"
   },
   {
    "duration": 234,
    "start_time": "2022-11-16T10:32:27.381Z"
   },
   {
    "duration": 337,
    "start_time": "2022-11-16T10:32:27.617Z"
   },
   {
    "duration": 6,
    "start_time": "2022-11-16T10:32:27.956Z"
   },
   {
    "duration": 240,
    "start_time": "2022-11-16T10:32:27.963Z"
   },
   {
    "duration": 6,
    "start_time": "2022-11-16T10:32:28.204Z"
   },
   {
    "duration": 8,
    "start_time": "2022-11-16T10:32:28.212Z"
   },
   {
    "duration": 144,
    "start_time": "2022-11-16T10:32:40.969Z"
   },
   {
    "duration": 145,
    "start_time": "2022-11-16T10:33:17.894Z"
   },
   {
    "duration": 190,
    "start_time": "2022-11-16T10:34:05.442Z"
   },
   {
    "duration": 213,
    "start_time": "2022-11-16T10:34:14.568Z"
   },
   {
    "duration": 187,
    "start_time": "2022-11-16T10:34:17.168Z"
   },
   {
    "duration": 1320,
    "start_time": "2022-11-16T10:36:40.744Z"
   },
   {
    "duration": 182,
    "start_time": "2022-11-16T10:37:23.915Z"
   },
   {
    "duration": 174,
    "start_time": "2022-11-16T10:38:21.239Z"
   },
   {
    "duration": 181,
    "start_time": "2022-11-16T10:38:26.603Z"
   },
   {
    "duration": 179,
    "start_time": "2022-11-16T10:41:35.660Z"
   },
   {
    "duration": 188,
    "start_time": "2022-11-16T10:41:46.605Z"
   },
   {
    "duration": 221,
    "start_time": "2022-11-16T10:42:18.174Z"
   },
   {
    "duration": 163,
    "start_time": "2022-11-16T10:42:23.453Z"
   },
   {
    "duration": 177,
    "start_time": "2022-11-16T10:43:15.341Z"
   },
   {
    "duration": 179,
    "start_time": "2022-11-16T10:43:44.397Z"
   },
   {
    "duration": 419,
    "start_time": "2022-11-16T10:44:40.272Z"
   },
   {
    "duration": 218,
    "start_time": "2022-11-16T10:45:06.751Z"
   },
   {
    "duration": 11,
    "start_time": "2022-11-16T10:45:46.839Z"
   },
   {
    "duration": 8,
    "start_time": "2022-11-16T10:47:58.531Z"
   },
   {
    "duration": 18,
    "start_time": "2022-11-16T10:48:25.137Z"
   },
   {
    "duration": 15,
    "start_time": "2022-11-16T10:48:31.817Z"
   },
   {
    "duration": 224,
    "start_time": "2022-11-16T10:51:18.719Z"
   },
   {
    "duration": 98,
    "start_time": "2022-11-16T10:52:45.108Z"
   },
   {
    "duration": 109,
    "start_time": "2022-11-16T10:53:40.184Z"
   },
   {
    "duration": 103,
    "start_time": "2022-11-16T10:54:17.342Z"
   },
   {
    "duration": 114,
    "start_time": "2022-11-16T10:54:35.421Z"
   },
   {
    "duration": 95,
    "start_time": "2022-11-16T10:56:13.751Z"
   },
   {
    "duration": 111,
    "start_time": "2022-11-16T10:56:18.072Z"
   },
   {
    "duration": 82,
    "start_time": "2022-11-16T10:57:37.517Z"
   },
   {
    "duration": 127,
    "start_time": "2022-11-16T10:58:33.658Z"
   },
   {
    "duration": 344,
    "start_time": "2022-11-16T11:00:05.132Z"
   },
   {
    "duration": 166,
    "start_time": "2022-11-16T11:01:27.970Z"
   },
   {
    "duration": 183,
    "start_time": "2022-11-16T11:01:53.963Z"
   },
   {
    "duration": 196,
    "start_time": "2022-11-16T11:02:01.915Z"
   },
   {
    "duration": 179,
    "start_time": "2022-11-16T11:02:35.303Z"
   },
   {
    "duration": 5,
    "start_time": "2022-11-16T11:05:42.694Z"
   },
   {
    "duration": 6,
    "start_time": "2022-11-16T11:05:56.341Z"
   },
   {
    "duration": 6,
    "start_time": "2022-11-16T11:06:31.613Z"
   },
   {
    "duration": 53,
    "start_time": "2022-11-16T11:11:13.937Z"
   },
   {
    "duration": 19,
    "start_time": "2022-11-16T11:13:18.084Z"
   },
   {
    "duration": 14,
    "start_time": "2022-11-16T11:13:28.243Z"
   },
   {
    "duration": 3,
    "start_time": "2022-11-16T11:14:03.623Z"
   },
   {
    "duration": 20,
    "start_time": "2022-11-16T11:14:08.068Z"
   },
   {
    "duration": 22,
    "start_time": "2022-11-16T11:14:20.967Z"
   },
   {
    "duration": 1028,
    "start_time": "2022-11-16T11:45:38.445Z"
   },
   {
    "duration": 115,
    "start_time": "2022-11-16T11:45:39.474Z"
   },
   {
    "duration": 12,
    "start_time": "2022-11-16T11:45:39.590Z"
   },
   {
    "duration": 13,
    "start_time": "2022-11-16T11:45:39.603Z"
   },
   {
    "duration": 15,
    "start_time": "2022-11-16T11:45:39.618Z"
   },
   {
    "duration": 190,
    "start_time": "2022-11-16T11:45:39.635Z"
   },
   {
    "duration": 190,
    "start_time": "2022-11-16T11:45:39.827Z"
   },
   {
    "duration": 228,
    "start_time": "2022-11-16T11:45:40.019Z"
   },
   {
    "duration": 215,
    "start_time": "2022-11-16T11:45:40.249Z"
   },
   {
    "duration": 197,
    "start_time": "2022-11-16T11:45:40.466Z"
   },
   {
    "duration": 223,
    "start_time": "2022-11-16T11:45:40.666Z"
   },
   {
    "duration": 182,
    "start_time": "2022-11-16T11:45:40.890Z"
   },
   {
    "duration": 197,
    "start_time": "2022-11-16T11:45:41.076Z"
   },
   {
    "duration": 194,
    "start_time": "2022-11-16T11:45:41.276Z"
   },
   {
    "duration": 181,
    "start_time": "2022-11-16T11:45:41.476Z"
   },
   {
    "duration": 274,
    "start_time": "2022-11-16T11:45:41.659Z"
   },
   {
    "duration": 5,
    "start_time": "2022-11-16T11:45:41.935Z"
   },
   {
    "duration": 196,
    "start_time": "2022-11-16T11:45:41.942Z"
   },
   {
    "duration": 220,
    "start_time": "2022-11-16T11:45:42.140Z"
   },
   {
    "duration": 188,
    "start_time": "2022-11-16T11:45:42.362Z"
   },
   {
    "duration": 6,
    "start_time": "2022-11-16T11:45:42.551Z"
   },
   {
    "duration": 238,
    "start_time": "2022-11-16T11:45:42.558Z"
   },
   {
    "duration": 16,
    "start_time": "2022-11-16T11:45:42.797Z"
   },
   {
    "duration": 30,
    "start_time": "2022-11-16T11:45:42.815Z"
   },
   {
    "duration": 6,
    "start_time": "2022-11-16T11:45:42.846Z"
   },
   {
    "duration": 27,
    "start_time": "2022-11-16T11:45:42.854Z"
   },
   {
    "duration": 1073,
    "start_time": "2022-11-16T13:18:34.977Z"
   },
   {
    "duration": 107,
    "start_time": "2022-11-16T13:18:36.051Z"
   },
   {
    "duration": 12,
    "start_time": "2022-11-16T13:18:36.159Z"
   },
   {
    "duration": 12,
    "start_time": "2022-11-16T13:18:36.173Z"
   },
   {
    "duration": 11,
    "start_time": "2022-11-16T13:18:36.187Z"
   },
   {
    "duration": 174,
    "start_time": "2022-11-16T13:18:36.199Z"
   },
   {
    "duration": 193,
    "start_time": "2022-11-16T13:18:36.374Z"
   },
   {
    "duration": 182,
    "start_time": "2022-11-16T13:18:36.568Z"
   },
   {
    "duration": 201,
    "start_time": "2022-11-16T13:18:36.752Z"
   },
   {
    "duration": 178,
    "start_time": "2022-11-16T13:18:36.955Z"
   },
   {
    "duration": 197,
    "start_time": "2022-11-16T13:18:37.135Z"
   },
   {
    "duration": 171,
    "start_time": "2022-11-16T13:18:37.334Z"
   },
   {
    "duration": 184,
    "start_time": "2022-11-16T13:18:37.507Z"
   },
   {
    "duration": 185,
    "start_time": "2022-11-16T13:18:37.697Z"
   },
   {
    "duration": 169,
    "start_time": "2022-11-16T13:18:37.884Z"
   },
   {
    "duration": 262,
    "start_time": "2022-11-16T13:18:38.054Z"
   },
   {
    "duration": 5,
    "start_time": "2022-11-16T13:18:38.318Z"
   },
   {
    "duration": 189,
    "start_time": "2022-11-16T13:18:38.325Z"
   },
   {
    "duration": 199,
    "start_time": "2022-11-16T13:18:38.516Z"
   },
   {
    "duration": 178,
    "start_time": "2022-11-16T13:18:38.716Z"
   },
   {
    "duration": 5,
    "start_time": "2022-11-16T13:18:38.897Z"
   },
   {
    "duration": 228,
    "start_time": "2022-11-16T13:18:38.903Z"
   },
   {
    "duration": 15,
    "start_time": "2022-11-16T13:18:39.132Z"
   },
   {
    "duration": 15,
    "start_time": "2022-11-16T13:18:39.150Z"
   },
   {
    "duration": 6,
    "start_time": "2022-11-16T13:18:39.167Z"
   },
   {
    "duration": 6,
    "start_time": "2022-11-16T13:18:39.197Z"
   },
   {
    "duration": 50,
    "start_time": "2022-11-16T13:29:26.951Z"
   },
   {
    "duration": 1178,
    "start_time": "2022-11-16T13:29:42.987Z"
   },
   {
    "duration": 154,
    "start_time": "2022-11-16T13:29:44.167Z"
   },
   {
    "duration": 12,
    "start_time": "2022-11-16T13:29:44.322Z"
   },
   {
    "duration": 13,
    "start_time": "2022-11-16T13:29:44.336Z"
   },
   {
    "duration": 12,
    "start_time": "2022-11-16T13:29:44.351Z"
   },
   {
    "duration": 172,
    "start_time": "2022-11-16T13:29:44.365Z"
   },
   {
    "duration": 176,
    "start_time": "2022-11-16T13:29:44.538Z"
   },
   {
    "duration": 190,
    "start_time": "2022-11-16T13:29:44.716Z"
   },
   {
    "duration": 176,
    "start_time": "2022-11-16T13:29:44.908Z"
   },
   {
    "duration": 191,
    "start_time": "2022-11-16T13:29:45.087Z"
   },
   {
    "duration": 173,
    "start_time": "2022-11-16T13:29:45.279Z"
   },
   {
    "duration": 184,
    "start_time": "2022-11-16T13:29:45.454Z"
   },
   {
    "duration": 164,
    "start_time": "2022-11-16T13:29:45.639Z"
   },
   {
    "duration": 198,
    "start_time": "2022-11-16T13:29:45.804Z"
   },
   {
    "duration": 171,
    "start_time": "2022-11-16T13:29:46.004Z"
   },
   {
    "duration": 236,
    "start_time": "2022-11-16T13:29:46.177Z"
   },
   {
    "duration": 173,
    "start_time": "2022-11-16T13:29:46.414Z"
   },
   {
    "duration": 5,
    "start_time": "2022-11-16T13:29:46.589Z"
   },
   {
    "duration": 175,
    "start_time": "2022-11-16T13:29:46.595Z"
   },
   {
    "duration": 214,
    "start_time": "2022-11-16T13:29:46.772Z"
   },
   {
    "duration": 173,
    "start_time": "2022-11-16T13:29:46.988Z"
   },
   {
    "duration": 5,
    "start_time": "2022-11-16T13:29:47.163Z"
   },
   {
    "duration": 230,
    "start_time": "2022-11-16T13:29:47.170Z"
   },
   {
    "duration": 20,
    "start_time": "2022-11-16T13:29:47.402Z"
   },
   {
    "duration": 16,
    "start_time": "2022-11-16T13:29:47.423Z"
   },
   {
    "duration": 5,
    "start_time": "2022-11-16T13:29:47.441Z"
   },
   {
    "duration": 5,
    "start_time": "2022-11-16T13:29:47.447Z"
   },
   {
    "duration": 119,
    "start_time": "2022-11-16T13:30:08.459Z"
   },
   {
    "duration": 89,
    "start_time": "2022-11-16T13:30:21.914Z"
   },
   {
    "duration": 261,
    "start_time": "2022-11-16T13:32:27.331Z"
   },
   {
    "duration": 268,
    "start_time": "2022-11-16T13:32:45.566Z"
   },
   {
    "duration": 193,
    "start_time": "2022-11-16T13:33:01.466Z"
   },
   {
    "duration": 127,
    "start_time": "2022-11-16T13:33:56.166Z"
   },
   {
    "duration": 703,
    "start_time": "2022-11-16T13:35:12.396Z"
   },
   {
    "duration": 1085,
    "start_time": "2022-11-16T13:35:37.405Z"
   },
   {
    "duration": 114,
    "start_time": "2022-11-16T13:44:14.143Z"
   },
   {
    "duration": 136,
    "start_time": "2022-11-16T13:44:33.576Z"
   },
   {
    "duration": 122,
    "start_time": "2022-11-16T13:44:56.224Z"
   },
   {
    "duration": 123,
    "start_time": "2022-11-16T13:45:29.056Z"
   },
   {
    "duration": 124,
    "start_time": "2022-11-16T13:46:13.849Z"
   },
   {
    "duration": 137,
    "start_time": "2022-11-16T13:48:04.053Z"
   },
   {
    "duration": 125,
    "start_time": "2022-11-16T13:49:07.537Z"
   },
   {
    "duration": 987,
    "start_time": "2022-11-16T14:00:06.633Z"
   },
   {
    "duration": 105,
    "start_time": "2022-11-16T14:00:07.622Z"
   },
   {
    "duration": 12,
    "start_time": "2022-11-16T14:00:07.728Z"
   },
   {
    "duration": 13,
    "start_time": "2022-11-16T14:00:07.741Z"
   },
   {
    "duration": 12,
    "start_time": "2022-11-16T14:00:07.755Z"
   },
   {
    "duration": 151,
    "start_time": "2022-11-16T14:00:07.768Z"
   },
   {
    "duration": 141,
    "start_time": "2022-11-16T14:00:07.921Z"
   },
   {
    "duration": 126,
    "start_time": "2022-11-16T14:00:08.064Z"
   },
   {
    "duration": 127,
    "start_time": "2022-11-16T14:00:08.191Z"
   },
   {
    "duration": 143,
    "start_time": "2022-11-16T14:00:08.320Z"
   },
   {
    "duration": 1038,
    "start_time": "2022-11-16T14:00:08.465Z"
   },
   {
    "duration": 235,
    "start_time": "2022-11-16T14:00:09.505Z"
   },
   {
    "duration": 199,
    "start_time": "2022-11-16T14:00:09.741Z"
   },
   {
    "duration": 178,
    "start_time": "2022-11-16T14:00:09.943Z"
   },
   {
    "duration": 236,
    "start_time": "2022-11-16T14:00:10.123Z"
   },
   {
    "duration": 193,
    "start_time": "2022-11-16T14:00:10.360Z"
   },
   {
    "duration": 199,
    "start_time": "2022-11-16T14:00:10.555Z"
   },
   {
    "duration": 171,
    "start_time": "2022-11-16T14:00:10.756Z"
   },
   {
    "duration": 196,
    "start_time": "2022-11-16T14:00:10.929Z"
   },
   {
    "duration": 176,
    "start_time": "2022-11-16T14:00:11.127Z"
   },
   {
    "duration": 157,
    "start_time": "2022-11-16T14:00:11.304Z"
   },
   {
    "duration": 187,
    "start_time": "2022-11-16T14:00:11.463Z"
   },
   {
    "duration": 5,
    "start_time": "2022-11-16T14:00:11.652Z"
   },
   {
    "duration": 272,
    "start_time": "2022-11-16T14:00:11.659Z"
   },
   {
    "duration": 200,
    "start_time": "2022-11-16T14:00:11.932Z"
   },
   {
    "duration": 174,
    "start_time": "2022-11-16T14:00:12.134Z"
   },
   {
    "duration": 6,
    "start_time": "2022-11-16T14:00:12.312Z"
   },
   {
    "duration": 212,
    "start_time": "2022-11-16T14:00:12.319Z"
   },
   {
    "duration": 16,
    "start_time": "2022-11-16T14:00:12.532Z"
   },
   {
    "duration": 17,
    "start_time": "2022-11-16T14:00:12.549Z"
   },
   {
    "duration": 5,
    "start_time": "2022-11-16T14:00:12.568Z"
   },
   {
    "duration": 9,
    "start_time": "2022-11-16T14:00:12.574Z"
   },
   {
    "duration": 97,
    "start_time": "2022-11-16T14:03:15.351Z"
   },
   {
    "duration": 8,
    "start_time": "2022-11-16T14:06:26.136Z"
   },
   {
    "duration": 8,
    "start_time": "2022-11-16T14:06:41.109Z"
   },
   {
    "duration": 9,
    "start_time": "2022-11-16T14:07:46.289Z"
   },
   {
    "duration": 8,
    "start_time": "2022-11-16T14:08:43.378Z"
   },
   {
    "duration": 72,
    "start_time": "2022-11-16T14:09:46.057Z"
   },
   {
    "duration": 73,
    "start_time": "2022-11-16T14:09:54.205Z"
   },
   {
    "duration": 9,
    "start_time": "2022-11-16T14:11:14.521Z"
   },
   {
    "duration": 2849,
    "start_time": "2022-11-16T14:12:52.639Z"
   },
   {
    "duration": 50,
    "start_time": "2022-11-16T14:12:57.931Z"
   },
   {
    "duration": 87,
    "start_time": "2022-11-16T14:14:49.857Z"
   },
   {
    "duration": 4,
    "start_time": "2022-11-16T14:14:58.410Z"
   },
   {
    "duration": 3,
    "start_time": "2022-11-16T14:15:08.886Z"
   },
   {
    "duration": 4,
    "start_time": "2022-11-16T14:15:13.983Z"
   },
   {
    "duration": 1934,
    "start_time": "2022-11-16T14:15:57.375Z"
   },
   {
    "duration": 1056,
    "start_time": "2022-11-16T14:16:20.274Z"
   },
   {
    "duration": 103,
    "start_time": "2022-11-16T14:16:21.332Z"
   },
   {
    "duration": 13,
    "start_time": "2022-11-16T14:16:21.437Z"
   },
   {
    "duration": 13,
    "start_time": "2022-11-16T14:16:21.452Z"
   },
   {
    "duration": 11,
    "start_time": "2022-11-16T14:16:21.466Z"
   },
   {
    "duration": 157,
    "start_time": "2022-11-16T14:16:21.479Z"
   },
   {
    "duration": 150,
    "start_time": "2022-11-16T14:16:21.637Z"
   },
   {
    "duration": 134,
    "start_time": "2022-11-16T14:16:21.789Z"
   },
   {
    "duration": 131,
    "start_time": "2022-11-16T14:16:21.924Z"
   },
   {
    "duration": 140,
    "start_time": "2022-11-16T14:16:22.057Z"
   },
   {
    "duration": 1037,
    "start_time": "2022-11-16T14:16:22.198Z"
   },
   {
    "duration": 233,
    "start_time": "2022-11-16T14:16:23.236Z"
   },
   {
    "duration": 192,
    "start_time": "2022-11-16T14:16:23.471Z"
   },
   {
    "duration": 168,
    "start_time": "2022-11-16T14:16:23.664Z"
   },
   {
    "duration": 198,
    "start_time": "2022-11-16T14:16:23.833Z"
   },
   {
    "duration": 172,
    "start_time": "2022-11-16T14:16:24.033Z"
   },
   {
    "duration": 188,
    "start_time": "2022-11-16T14:16:24.206Z"
   },
   {
    "duration": 186,
    "start_time": "2022-11-16T14:16:24.396Z"
   },
   {
    "duration": 230,
    "start_time": "2022-11-16T14:16:24.584Z"
   },
   {
    "duration": 186,
    "start_time": "2022-11-16T14:16:24.816Z"
   },
   {
    "duration": 155,
    "start_time": "2022-11-16T14:16:25.003Z"
   },
   {
    "duration": 194,
    "start_time": "2022-11-16T14:16:25.159Z"
   },
   {
    "duration": 6,
    "start_time": "2022-11-16T14:16:25.354Z"
   },
   {
    "duration": 278,
    "start_time": "2022-11-16T14:16:25.361Z"
   },
   {
    "duration": 201,
    "start_time": "2022-11-16T14:16:25.641Z"
   },
   {
    "duration": 188,
    "start_time": "2022-11-16T14:16:25.844Z"
   },
   {
    "duration": 5,
    "start_time": "2022-11-16T14:16:26.034Z"
   },
   {
    "duration": 212,
    "start_time": "2022-11-16T14:16:26.042Z"
   },
   {
    "duration": 15,
    "start_time": "2022-11-16T14:16:26.256Z"
   },
   {
    "duration": 14,
    "start_time": "2022-11-16T14:16:26.273Z"
   },
   {
    "duration": 1833,
    "start_time": "2022-11-16T14:16:26.289Z"
   },
   {
    "duration": 117,
    "start_time": "2022-11-16T14:16:28.124Z"
   },
   {
    "duration": 0,
    "start_time": "2022-11-16T14:16:28.243Z"
   },
   {
    "duration": 0,
    "start_time": "2022-11-16T14:16:28.245Z"
   },
   {
    "duration": 920,
    "start_time": "2022-11-16T14:17:07.720Z"
   },
   {
    "duration": 1025,
    "start_time": "2022-11-16T14:17:16.496Z"
   },
   {
    "duration": 106,
    "start_time": "2022-11-16T14:17:17.525Z"
   },
   {
    "duration": 12,
    "start_time": "2022-11-16T14:17:17.632Z"
   },
   {
    "duration": 14,
    "start_time": "2022-11-16T14:17:17.646Z"
   },
   {
    "duration": 13,
    "start_time": "2022-11-16T14:17:17.662Z"
   },
   {
    "duration": 160,
    "start_time": "2022-11-16T14:17:17.676Z"
   },
   {
    "duration": 146,
    "start_time": "2022-11-16T14:17:17.838Z"
   },
   {
    "duration": 130,
    "start_time": "2022-11-16T14:17:17.986Z"
   },
   {
    "duration": 136,
    "start_time": "2022-11-16T14:17:18.117Z"
   },
   {
    "duration": 139,
    "start_time": "2022-11-16T14:17:18.255Z"
   },
   {
    "duration": 1062,
    "start_time": "2022-11-16T14:17:18.395Z"
   },
   {
    "duration": 224,
    "start_time": "2022-11-16T14:17:19.458Z"
   },
   {
    "duration": 190,
    "start_time": "2022-11-16T14:17:19.683Z"
   },
   {
    "duration": 170,
    "start_time": "2022-11-16T14:17:19.875Z"
   },
   {
    "duration": 196,
    "start_time": "2022-11-16T14:17:20.046Z"
   },
   {
    "duration": 213,
    "start_time": "2022-11-16T14:17:20.244Z"
   },
   {
    "duration": 192,
    "start_time": "2022-11-16T14:17:20.459Z"
   },
   {
    "duration": 172,
    "start_time": "2022-11-16T14:17:20.653Z"
   },
   {
    "duration": 206,
    "start_time": "2022-11-16T14:17:20.827Z"
   },
   {
    "duration": 182,
    "start_time": "2022-11-16T14:17:21.035Z"
   },
   {
    "duration": 154,
    "start_time": "2022-11-16T14:17:21.219Z"
   },
   {
    "duration": 185,
    "start_time": "2022-11-16T14:17:21.375Z"
   },
   {
    "duration": 6,
    "start_time": "2022-11-16T14:17:21.561Z"
   },
   {
    "duration": 272,
    "start_time": "2022-11-16T14:17:21.568Z"
   },
   {
    "duration": 195,
    "start_time": "2022-11-16T14:17:21.842Z"
   },
   {
    "duration": 171,
    "start_time": "2022-11-16T14:17:22.039Z"
   },
   {
    "duration": 6,
    "start_time": "2022-11-16T14:17:22.212Z"
   },
   {
    "duration": 215,
    "start_time": "2022-11-16T14:17:22.220Z"
   },
   {
    "duration": 16,
    "start_time": "2022-11-16T14:17:22.436Z"
   },
   {
    "duration": 27,
    "start_time": "2022-11-16T14:17:22.453Z"
   },
   {
    "duration": 1825,
    "start_time": "2022-11-16T14:17:22.482Z"
   },
   {
    "duration": 118,
    "start_time": "2022-11-16T14:17:24.309Z"
   },
   {
    "duration": 0,
    "start_time": "2022-11-16T14:17:24.429Z"
   },
   {
    "duration": 0,
    "start_time": "2022-11-16T14:17:24.430Z"
   },
   {
    "duration": 78,
    "start_time": "2022-11-16T14:23:11.686Z"
   },
   {
    "duration": 1110,
    "start_time": "2022-11-16T14:23:25.726Z"
   },
   {
    "duration": 52,
    "start_time": "2022-11-16T14:23:26.838Z"
   },
   {
    "duration": 12,
    "start_time": "2022-11-16T14:23:26.892Z"
   },
   {
    "duration": 17,
    "start_time": "2022-11-16T14:23:26.906Z"
   },
   {
    "duration": 15,
    "start_time": "2022-11-16T14:23:26.925Z"
   },
   {
    "duration": 147,
    "start_time": "2022-11-16T14:23:26.941Z"
   },
   {
    "duration": 133,
    "start_time": "2022-11-16T14:23:27.089Z"
   },
   {
    "duration": 142,
    "start_time": "2022-11-16T14:23:27.223Z"
   },
   {
    "duration": 152,
    "start_time": "2022-11-16T14:23:27.367Z"
   },
   {
    "duration": 151,
    "start_time": "2022-11-16T14:23:27.522Z"
   },
   {
    "duration": 1100,
    "start_time": "2022-11-16T14:23:27.675Z"
   },
   {
    "duration": 160,
    "start_time": "2022-11-16T14:23:28.776Z"
   },
   {
    "duration": 181,
    "start_time": "2022-11-16T14:23:28.937Z"
   },
   {
    "duration": 160,
    "start_time": "2022-11-16T14:23:29.120Z"
   },
   {
    "duration": 201,
    "start_time": "2022-11-16T14:23:29.282Z"
   },
   {
    "duration": 160,
    "start_time": "2022-11-16T14:23:29.485Z"
   },
   {
    "duration": 184,
    "start_time": "2022-11-16T14:23:29.647Z"
   },
   {
    "duration": 155,
    "start_time": "2022-11-16T14:23:29.832Z"
   },
   {
    "duration": 183,
    "start_time": "2022-11-16T14:23:29.989Z"
   },
   {
    "duration": 220,
    "start_time": "2022-11-16T14:23:30.174Z"
   },
   {
    "duration": 270,
    "start_time": "2022-11-16T14:23:30.396Z"
   },
   {
    "duration": 179,
    "start_time": "2022-11-16T14:23:30.668Z"
   },
   {
    "duration": 6,
    "start_time": "2022-11-16T14:23:30.849Z"
   },
   {
    "duration": 188,
    "start_time": "2022-11-16T14:23:30.857Z"
   },
   {
    "duration": 198,
    "start_time": "2022-11-16T14:23:31.046Z"
   },
   {
    "duration": 177,
    "start_time": "2022-11-16T14:23:31.246Z"
   },
   {
    "duration": 5,
    "start_time": "2022-11-16T14:23:31.425Z"
   },
   {
    "duration": 212,
    "start_time": "2022-11-16T14:23:31.433Z"
   },
   {
    "duration": 15,
    "start_time": "2022-11-16T14:23:31.647Z"
   },
   {
    "duration": 15,
    "start_time": "2022-11-16T14:23:31.663Z"
   },
   {
    "duration": 1873,
    "start_time": "2022-11-16T14:23:31.679Z"
   },
   {
    "duration": 122,
    "start_time": "2022-11-16T14:23:33.554Z"
   },
   {
    "duration": 0,
    "start_time": "2022-11-16T14:23:33.677Z"
   },
   {
    "duration": 0,
    "start_time": "2022-11-16T14:23:33.678Z"
   },
   {
    "duration": 18274,
    "start_time": "2022-11-16T14:24:13.468Z"
   },
   {
    "duration": 13,
    "start_time": "2022-11-16T14:24:34.820Z"
   },
   {
    "duration": 11,
    "start_time": "2022-11-16T14:27:11.495Z"
   },
   {
    "duration": 8,
    "start_time": "2022-11-16T14:27:22.890Z"
   },
   {
    "duration": 10,
    "start_time": "2022-11-16T14:27:49.122Z"
   },
   {
    "duration": 491,
    "start_time": "2022-11-16T14:31:46.083Z"
   },
   {
    "duration": 473,
    "start_time": "2022-11-16T14:33:36.258Z"
   },
   {
    "duration": 455,
    "start_time": "2022-11-16T14:34:35.080Z"
   },
   {
    "duration": 449,
    "start_time": "2022-11-16T14:35:20.633Z"
   },
   {
    "duration": 431,
    "start_time": "2022-11-16T14:35:52.354Z"
   },
   {
    "duration": 441,
    "start_time": "2022-11-16T14:35:58.193Z"
   },
   {
    "duration": 2216,
    "start_time": "2022-11-16T14:39:08.722Z"
   },
   {
    "duration": 460,
    "start_time": "2022-11-16T14:39:12.043Z"
   },
   {
    "duration": 1210,
    "start_time": "2022-11-16T14:39:19.297Z"
   },
   {
    "duration": 51,
    "start_time": "2022-11-16T14:39:20.509Z"
   },
   {
    "duration": 12,
    "start_time": "2022-11-16T14:39:20.561Z"
   },
   {
    "duration": 13,
    "start_time": "2022-11-16T14:39:20.575Z"
   },
   {
    "duration": 12,
    "start_time": "2022-11-16T14:39:20.590Z"
   },
   {
    "duration": 144,
    "start_time": "2022-11-16T14:39:20.604Z"
   },
   {
    "duration": 143,
    "start_time": "2022-11-16T14:39:20.750Z"
   },
   {
    "duration": 133,
    "start_time": "2022-11-16T14:39:20.895Z"
   },
   {
    "duration": 134,
    "start_time": "2022-11-16T14:39:21.030Z"
   },
   {
    "duration": 152,
    "start_time": "2022-11-16T14:39:21.166Z"
   },
   {
    "duration": 1129,
    "start_time": "2022-11-16T14:39:21.319Z"
   },
   {
    "duration": 172,
    "start_time": "2022-11-16T14:39:22.450Z"
   },
   {
    "duration": 183,
    "start_time": "2022-11-16T14:39:22.623Z"
   },
   {
    "duration": 180,
    "start_time": "2022-11-16T14:39:22.808Z"
   },
   {
    "duration": 181,
    "start_time": "2022-11-16T14:39:22.989Z"
   },
   {
    "duration": 166,
    "start_time": "2022-11-16T14:39:23.172Z"
   },
   {
    "duration": 182,
    "start_time": "2022-11-16T14:39:23.340Z"
   },
   {
    "duration": 175,
    "start_time": "2022-11-16T14:39:23.524Z"
   },
   {
    "duration": 188,
    "start_time": "2022-11-16T14:39:23.701Z"
   },
   {
    "duration": 185,
    "start_time": "2022-11-16T14:39:23.891Z"
   },
   {
    "duration": 253,
    "start_time": "2022-11-16T14:39:24.078Z"
   },
   {
    "duration": 184,
    "start_time": "2022-11-16T14:39:24.332Z"
   },
   {
    "duration": 5,
    "start_time": "2022-11-16T14:39:24.518Z"
   },
   {
    "duration": 203,
    "start_time": "2022-11-16T14:39:24.525Z"
   },
   {
    "duration": 204,
    "start_time": "2022-11-16T14:39:24.730Z"
   },
   {
    "duration": 193,
    "start_time": "2022-11-16T14:39:24.936Z"
   },
   {
    "duration": 5,
    "start_time": "2022-11-16T14:39:25.130Z"
   },
   {
    "duration": 211,
    "start_time": "2022-11-16T14:39:25.137Z"
   },
   {
    "duration": 16,
    "start_time": "2022-11-16T14:39:25.349Z"
   },
   {
    "duration": 16,
    "start_time": "2022-11-16T14:39:25.366Z"
   },
   {
    "duration": 2170,
    "start_time": "2022-11-16T14:39:25.384Z"
   },
   {
    "duration": 893,
    "start_time": "2022-11-16T14:39:27.557Z"
   },
   {
    "duration": 5,
    "start_time": "2022-11-16T14:39:28.452Z"
   },
   {
    "duration": 8,
    "start_time": "2022-11-16T14:39:28.459Z"
   },
   {
    "duration": 1163,
    "start_time": "2022-11-16T14:44:32.181Z"
   },
   {
    "duration": 52,
    "start_time": "2022-11-16T14:44:33.346Z"
   },
   {
    "duration": 12,
    "start_time": "2022-11-16T14:44:33.399Z"
   },
   {
    "duration": 14,
    "start_time": "2022-11-16T14:44:33.412Z"
   },
   {
    "duration": 13,
    "start_time": "2022-11-16T14:44:33.428Z"
   },
   {
    "duration": 145,
    "start_time": "2022-11-16T14:44:33.443Z"
   },
   {
    "duration": 144,
    "start_time": "2022-11-16T14:44:33.589Z"
   },
   {
    "duration": 135,
    "start_time": "2022-11-16T14:44:33.735Z"
   },
   {
    "duration": 126,
    "start_time": "2022-11-16T14:44:33.871Z"
   },
   {
    "duration": 147,
    "start_time": "2022-11-16T14:44:33.998Z"
   },
   {
    "duration": 1148,
    "start_time": "2022-11-16T14:44:34.147Z"
   },
   {
    "duration": 163,
    "start_time": "2022-11-16T14:44:35.297Z"
   },
   {
    "duration": 187,
    "start_time": "2022-11-16T14:44:35.462Z"
   },
   {
    "duration": 211,
    "start_time": "2022-11-16T14:44:35.651Z"
   },
   {
    "duration": 195,
    "start_time": "2022-11-16T14:44:35.864Z"
   },
   {
    "duration": 172,
    "start_time": "2022-11-16T14:44:36.061Z"
   },
   {
    "duration": 189,
    "start_time": "2022-11-16T14:44:36.234Z"
   },
   {
    "duration": 168,
    "start_time": "2022-11-16T14:44:36.425Z"
   },
   {
    "duration": 194,
    "start_time": "2022-11-16T14:44:36.595Z"
   },
   {
    "duration": 203,
    "start_time": "2022-11-16T14:44:36.792Z"
   },
   {
    "duration": 253,
    "start_time": "2022-11-16T14:44:36.997Z"
   },
   {
    "duration": 177,
    "start_time": "2022-11-16T14:44:37.252Z"
   },
   {
    "duration": 5,
    "start_time": "2022-11-16T14:44:37.430Z"
   },
   {
    "duration": 173,
    "start_time": "2022-11-16T14:44:37.436Z"
   },
   {
    "duration": 196,
    "start_time": "2022-11-16T14:44:37.610Z"
   },
   {
    "duration": 185,
    "start_time": "2022-11-16T14:44:37.807Z"
   },
   {
    "duration": 5,
    "start_time": "2022-11-16T14:44:37.993Z"
   },
   {
    "duration": 219,
    "start_time": "2022-11-16T14:44:38.000Z"
   },
   {
    "duration": 877,
    "start_time": "2022-11-16T14:44:38.220Z"
   },
   {
    "duration": 6,
    "start_time": "2022-11-16T14:44:39.099Z"
   },
   {
    "duration": 32,
    "start_time": "2022-11-16T14:44:39.107Z"
   },
   {
    "duration": 10,
    "start_time": "2022-11-16T14:56:03.808Z"
   },
   {
    "duration": 26,
    "start_time": "2022-11-16T14:56:15.131Z"
   },
   {
    "duration": 28,
    "start_time": "2022-11-16T14:56:48.913Z"
   },
   {
    "duration": 770,
    "start_time": "2022-11-16T14:56:55.685Z"
   },
   {
    "duration": 1555,
    "start_time": "2022-11-17T08:01:24.332Z"
   },
   {
    "duration": 115,
    "start_time": "2022-11-17T08:01:25.890Z"
   },
   {
    "duration": 17,
    "start_time": "2022-11-17T08:01:26.007Z"
   },
   {
    "duration": 17,
    "start_time": "2022-11-17T08:01:26.026Z"
   },
   {
    "duration": 36,
    "start_time": "2022-11-17T08:01:26.045Z"
   },
   {
    "duration": 159,
    "start_time": "2022-11-17T08:01:26.083Z"
   },
   {
    "duration": 173,
    "start_time": "2022-11-17T08:01:26.244Z"
   },
   {
    "duration": 177,
    "start_time": "2022-11-17T08:01:26.420Z"
   },
   {
    "duration": 180,
    "start_time": "2022-11-17T08:01:26.599Z"
   },
   {
    "duration": 171,
    "start_time": "2022-11-17T08:01:26.782Z"
   },
   {
    "duration": 1334,
    "start_time": "2022-11-17T08:01:26.955Z"
   },
   {
    "duration": 183,
    "start_time": "2022-11-17T08:01:28.291Z"
   },
   {
    "duration": 215,
    "start_time": "2022-11-17T08:01:28.478Z"
   },
   {
    "duration": 203,
    "start_time": "2022-11-17T08:01:28.695Z"
   },
   {
    "duration": 227,
    "start_time": "2022-11-17T08:01:28.900Z"
   },
   {
    "duration": 193,
    "start_time": "2022-11-17T08:01:29.129Z"
   },
   {
    "duration": 220,
    "start_time": "2022-11-17T08:01:29.324Z"
   },
   {
    "duration": 195,
    "start_time": "2022-11-17T08:01:29.547Z"
   },
   {
    "duration": 224,
    "start_time": "2022-11-17T08:01:29.744Z"
   },
   {
    "duration": 225,
    "start_time": "2022-11-17T08:01:29.971Z"
   },
   {
    "duration": 281,
    "start_time": "2022-11-17T08:01:30.197Z"
   },
   {
    "duration": 221,
    "start_time": "2022-11-17T08:01:30.480Z"
   },
   {
    "duration": 6,
    "start_time": "2022-11-17T08:01:30.703Z"
   },
   {
    "duration": 224,
    "start_time": "2022-11-17T08:01:30.712Z"
   },
   {
    "duration": 249,
    "start_time": "2022-11-17T08:01:30.938Z"
   },
   {
    "duration": 206,
    "start_time": "2022-11-17T08:01:31.189Z"
   },
   {
    "duration": 5,
    "start_time": "2022-11-17T08:01:31.397Z"
   },
   {
    "duration": 250,
    "start_time": "2022-11-17T08:01:31.406Z"
   },
   {
    "duration": 34,
    "start_time": "2022-11-17T08:01:31.658Z"
   },
   {
    "duration": 122,
    "start_time": "2022-11-17T08:01:31.694Z"
   },
   {
    "duration": 0,
    "start_time": "2022-11-17T08:01:31.817Z"
   },
   {
    "duration": 0,
    "start_time": "2022-11-17T08:01:31.819Z"
   },
   {
    "duration": 1422,
    "start_time": "2022-11-17T08:28:19.766Z"
   },
   {
    "duration": 99,
    "start_time": "2022-11-17T08:28:21.190Z"
   },
   {
    "duration": 12,
    "start_time": "2022-11-17T08:28:21.290Z"
   },
   {
    "duration": 16,
    "start_time": "2022-11-17T08:28:21.304Z"
   },
   {
    "duration": 17,
    "start_time": "2022-11-17T08:28:21.322Z"
   },
   {
    "duration": 189,
    "start_time": "2022-11-17T08:28:21.341Z"
   },
   {
    "duration": 150,
    "start_time": "2022-11-17T08:28:21.532Z"
   },
   {
    "duration": 155,
    "start_time": "2022-11-17T08:28:21.684Z"
   },
   {
    "duration": 154,
    "start_time": "2022-11-17T08:28:21.841Z"
   },
   {
    "duration": 161,
    "start_time": "2022-11-17T08:28:21.997Z"
   },
   {
    "duration": 1184,
    "start_time": "2022-11-17T08:28:22.161Z"
   },
   {
    "duration": 178,
    "start_time": "2022-11-17T08:28:23.347Z"
   },
   {
    "duration": 216,
    "start_time": "2022-11-17T08:28:23.526Z"
   },
   {
    "duration": 206,
    "start_time": "2022-11-17T08:28:23.746Z"
   },
   {
    "duration": 231,
    "start_time": "2022-11-17T08:28:23.954Z"
   },
   {
    "duration": 197,
    "start_time": "2022-11-17T08:28:24.187Z"
   },
   {
    "duration": 208,
    "start_time": "2022-11-17T08:28:24.386Z"
   },
   {
    "duration": 177,
    "start_time": "2022-11-17T08:28:24.596Z"
   },
   {
    "duration": 199,
    "start_time": "2022-11-17T08:28:24.774Z"
   },
   {
    "duration": 191,
    "start_time": "2022-11-17T08:28:24.974Z"
   },
   {
    "duration": 268,
    "start_time": "2022-11-17T08:28:25.167Z"
   },
   {
    "duration": 204,
    "start_time": "2022-11-17T08:28:25.436Z"
   },
   {
    "duration": 4,
    "start_time": "2022-11-17T08:28:25.642Z"
   },
   {
    "duration": 187,
    "start_time": "2022-11-17T08:28:25.648Z"
   },
   {
    "duration": 204,
    "start_time": "2022-11-17T08:28:25.838Z"
   },
   {
    "duration": 207,
    "start_time": "2022-11-17T08:28:26.044Z"
   },
   {
    "duration": 5,
    "start_time": "2022-11-17T08:28:26.252Z"
   },
   {
    "duration": 230,
    "start_time": "2022-11-17T08:28:26.259Z"
   },
   {
    "duration": 37,
    "start_time": "2022-11-17T08:28:26.490Z"
   },
   {
    "duration": 28,
    "start_time": "2022-11-17T08:28:26.528Z"
   },
   {
    "duration": 120,
    "start_time": "2022-11-17T08:28:26.557Z"
   },
   {
    "duration": 0,
    "start_time": "2022-11-17T08:28:26.678Z"
   },
   {
    "duration": 0,
    "start_time": "2022-11-17T08:28:26.679Z"
   },
   {
    "duration": 6,
    "start_time": "2022-11-17T08:28:50.469Z"
   },
   {
    "duration": 6,
    "start_time": "2022-11-17T08:28:51.074Z"
   },
   {
    "duration": 1234,
    "start_time": "2022-11-17T08:35:16.305Z"
   },
   {
    "duration": 58,
    "start_time": "2022-11-17T08:35:17.541Z"
   },
   {
    "duration": 14,
    "start_time": "2022-11-17T08:35:17.600Z"
   },
   {
    "duration": 15,
    "start_time": "2022-11-17T08:35:17.616Z"
   },
   {
    "duration": 15,
    "start_time": "2022-11-17T08:35:17.632Z"
   },
   {
    "duration": 185,
    "start_time": "2022-11-17T08:35:17.648Z"
   },
   {
    "duration": 165,
    "start_time": "2022-11-17T08:35:17.834Z"
   },
   {
    "duration": 157,
    "start_time": "2022-11-17T08:35:18.001Z"
   },
   {
    "duration": 142,
    "start_time": "2022-11-17T08:35:18.161Z"
   },
   {
    "duration": 159,
    "start_time": "2022-11-17T08:35:18.306Z"
   },
   {
    "duration": 1300,
    "start_time": "2022-11-17T08:35:18.467Z"
   },
   {
    "duration": 184,
    "start_time": "2022-11-17T08:35:19.769Z"
   },
   {
    "duration": 216,
    "start_time": "2022-11-17T08:35:19.955Z"
   },
   {
    "duration": 201,
    "start_time": "2022-11-17T08:35:20.173Z"
   },
   {
    "duration": 216,
    "start_time": "2022-11-17T08:35:20.378Z"
   },
   {
    "duration": 189,
    "start_time": "2022-11-17T08:35:20.595Z"
   },
   {
    "duration": 211,
    "start_time": "2022-11-17T08:35:20.785Z"
   },
   {
    "duration": 206,
    "start_time": "2022-11-17T08:35:20.998Z"
   },
   {
    "duration": 226,
    "start_time": "2022-11-17T08:35:21.206Z"
   },
   {
    "duration": 210,
    "start_time": "2022-11-17T08:35:21.434Z"
   },
   {
    "duration": 277,
    "start_time": "2022-11-17T08:35:21.645Z"
   },
   {
    "duration": 203,
    "start_time": "2022-11-17T08:35:21.924Z"
   },
   {
    "duration": 6,
    "start_time": "2022-11-17T08:35:22.128Z"
   },
   {
    "duration": 203,
    "start_time": "2022-11-17T08:35:22.136Z"
   },
   {
    "duration": 233,
    "start_time": "2022-11-17T08:35:22.341Z"
   },
   {
    "duration": 200,
    "start_time": "2022-11-17T08:35:22.578Z"
   },
   {
    "duration": 7,
    "start_time": "2022-11-17T08:35:22.780Z"
   },
   {
    "duration": 277,
    "start_time": "2022-11-17T08:35:22.790Z"
   },
   {
    "duration": 33,
    "start_time": "2022-11-17T08:35:23.069Z"
   },
   {
    "duration": 32,
    "start_time": "2022-11-17T08:35:23.104Z"
   },
   {
    "duration": 6,
    "start_time": "2022-11-17T08:35:23.138Z"
   },
   {
    "duration": 33,
    "start_time": "2022-11-17T08:35:23.146Z"
   },
   {
    "duration": 45,
    "start_time": "2022-11-19T14:25:20.208Z"
   },
   {
    "duration": 1157,
    "start_time": "2022-11-19T14:25:26.681Z"
   },
   {
    "duration": 94,
    "start_time": "2022-11-19T14:25:27.840Z"
   },
   {
    "duration": 13,
    "start_time": "2022-11-19T14:25:27.936Z"
   },
   {
    "duration": 14,
    "start_time": "2022-11-19T14:25:27.951Z"
   },
   {
    "duration": 14,
    "start_time": "2022-11-19T14:25:27.967Z"
   },
   {
    "duration": 169,
    "start_time": "2022-11-19T14:25:27.982Z"
   },
   {
    "duration": 155,
    "start_time": "2022-11-19T14:25:28.153Z"
   },
   {
    "duration": 143,
    "start_time": "2022-11-19T14:25:28.316Z"
   },
   {
    "duration": 140,
    "start_time": "2022-11-19T14:25:28.461Z"
   },
   {
    "duration": 139,
    "start_time": "2022-11-19T14:25:28.615Z"
   },
   {
    "duration": 1113,
    "start_time": "2022-11-19T14:25:28.756Z"
   },
   {
    "duration": 176,
    "start_time": "2022-11-19T14:25:29.871Z"
   },
   {
    "duration": 211,
    "start_time": "2022-11-19T14:25:30.048Z"
   },
   {
    "duration": 195,
    "start_time": "2022-11-19T14:25:30.261Z"
   },
   {
    "duration": 211,
    "start_time": "2022-11-19T14:25:30.458Z"
   },
   {
    "duration": 183,
    "start_time": "2022-11-19T14:25:30.671Z"
   },
   {
    "duration": 207,
    "start_time": "2022-11-19T14:25:30.856Z"
   },
   {
    "duration": 173,
    "start_time": "2022-11-19T14:25:31.064Z"
   },
   {
    "duration": 197,
    "start_time": "2022-11-19T14:25:31.239Z"
   },
   {
    "duration": 182,
    "start_time": "2022-11-19T14:25:31.437Z"
   },
   {
    "duration": 243,
    "start_time": "2022-11-19T14:25:31.621Z"
   },
   {
    "duration": 202,
    "start_time": "2022-11-19T14:25:31.866Z"
   },
   {
    "duration": 6,
    "start_time": "2022-11-19T14:25:32.070Z"
   },
   {
    "duration": 187,
    "start_time": "2022-11-19T14:25:32.078Z"
   },
   {
    "duration": 212,
    "start_time": "2022-11-19T14:25:32.267Z"
   },
   {
    "duration": 199,
    "start_time": "2022-11-19T14:25:32.481Z"
   },
   {
    "duration": 6,
    "start_time": "2022-11-19T14:25:32.681Z"
   },
   {
    "duration": 211,
    "start_time": "2022-11-19T14:25:32.689Z"
   },
   {
    "duration": 29,
    "start_time": "2022-11-19T14:25:32.902Z"
   },
   {
    "duration": 27,
    "start_time": "2022-11-19T14:25:32.932Z"
   },
   {
    "duration": 5,
    "start_time": "2022-11-19T14:25:32.960Z"
   },
   {
    "duration": 21,
    "start_time": "2022-11-19T14:25:32.967Z"
   },
   {
    "duration": 24,
    "start_time": "2022-11-19T14:25:32.991Z"
   },
   {
    "duration": 1145,
    "start_time": "2022-12-01T12:02:41.018Z"
   },
   {
    "duration": 178,
    "start_time": "2022-12-01T12:02:42.165Z"
   },
   {
    "duration": 12,
    "start_time": "2022-12-01T12:02:42.344Z"
   },
   {
    "duration": 14,
    "start_time": "2022-12-01T12:02:42.357Z"
   },
   {
    "duration": 13,
    "start_time": "2022-12-01T12:02:42.373Z"
   },
   {
    "duration": 138,
    "start_time": "2022-12-01T12:02:42.388Z"
   },
   {
    "duration": 143,
    "start_time": "2022-12-01T12:02:42.528Z"
   },
   {
    "duration": 134,
    "start_time": "2022-12-01T12:02:42.677Z"
   },
   {
    "duration": 142,
    "start_time": "2022-12-01T12:02:42.813Z"
   },
   {
    "duration": 156,
    "start_time": "2022-12-01T12:02:42.957Z"
   },
   {
    "duration": 1214,
    "start_time": "2022-12-01T12:02:43.115Z"
   },
   {
    "duration": 169,
    "start_time": "2022-12-01T12:02:44.331Z"
   },
   {
    "duration": 221,
    "start_time": "2022-12-01T12:02:44.502Z"
   },
   {
    "duration": 170,
    "start_time": "2022-12-01T12:02:44.726Z"
   },
   {
    "duration": 215,
    "start_time": "2022-12-01T12:02:44.898Z"
   },
   {
    "duration": 193,
    "start_time": "2022-12-01T12:02:45.116Z"
   },
   {
    "duration": 213,
    "start_time": "2022-12-01T12:02:45.311Z"
   },
   {
    "duration": 181,
    "start_time": "2022-12-01T12:02:45.526Z"
   },
   {
    "duration": 214,
    "start_time": "2022-12-01T12:02:45.709Z"
   },
   {
    "duration": 182,
    "start_time": "2022-12-01T12:02:45.924Z"
   },
   {
    "duration": 252,
    "start_time": "2022-12-01T12:02:46.108Z"
   },
   {
    "duration": 189,
    "start_time": "2022-12-01T12:02:46.362Z"
   },
   {
    "duration": 7,
    "start_time": "2022-12-01T12:02:46.552Z"
   },
   {
    "duration": 179,
    "start_time": "2022-12-01T12:02:46.560Z"
   },
   {
    "duration": 211,
    "start_time": "2022-12-01T12:02:46.741Z"
   },
   {
    "duration": 184,
    "start_time": "2022-12-01T12:02:46.955Z"
   },
   {
    "duration": 6,
    "start_time": "2022-12-01T12:02:47.141Z"
   },
   {
    "duration": 233,
    "start_time": "2022-12-01T12:02:47.149Z"
   },
   {
    "duration": 27,
    "start_time": "2022-12-01T12:02:47.384Z"
   },
   {
    "duration": 32,
    "start_time": "2022-12-01T12:02:47.413Z"
   },
   {
    "duration": 7,
    "start_time": "2022-12-01T12:02:47.447Z"
   },
   {
    "duration": 6,
    "start_time": "2022-12-01T12:02:47.478Z"
   },
   {
    "duration": 10,
    "start_time": "2022-12-01T12:02:47.485Z"
   }
  ],
  "kernelspec": {
   "display_name": "Python 3 (ipykernel)",
   "language": "python",
   "name": "python3"
  },
  "language_info": {
   "codemirror_mode": {
    "name": "ipython",
    "version": 3
   },
   "file_extension": ".py",
   "mimetype": "text/x-python",
   "name": "python",
   "nbconvert_exporter": "python",
   "pygments_lexer": "ipython3",
   "version": "3.9.5"
  },
  "toc": {
   "base_numbering": 1,
   "nav_menu": {},
   "number_sections": true,
   "sideBar": true,
   "skip_h1_title": true,
   "title_cell": "Table of Contents",
   "title_sidebar": "Contents",
   "toc_cell": false,
   "toc_position": {},
   "toc_section_display": true,
   "toc_window_display": false
  }
 },
 "nbformat": 4,
 "nbformat_minor": 5
}
