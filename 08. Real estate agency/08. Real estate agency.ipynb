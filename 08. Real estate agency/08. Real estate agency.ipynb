{
 "cells": [
  {
   "cell_type": "markdown",
   "metadata": {},
   "source": [
    "## Загрузка датасета и изучение общей информации"
   ]
  },
  {
   "cell_type": "code",
   "execution_count": 1,
   "metadata": {
    "scrolled": false
   },
   "outputs": [
    {
     "name": "stdout",
     "output_type": "stream",
     "text": [
      "<class 'pandas.core.frame.DataFrame'>\n",
      "RangeIndex: 23699 entries, 0 to 23698\n",
      "Data columns (total 22 columns):\n",
      " #   Column                Non-Null Count  Dtype  \n",
      "---  ------                --------------  -----  \n",
      " 0   total_images          23699 non-null  int64  \n",
      " 1   last_price            23699 non-null  float64\n",
      " 2   total_area            23699 non-null  float64\n",
      " 3   first_day_exposition  23699 non-null  object \n",
      " 4   rooms                 23699 non-null  int64  \n",
      " 5   ceiling_height        14504 non-null  float64\n",
      " 6   floors_total          23613 non-null  float64\n",
      " 7   living_area           21796 non-null  float64\n",
      " 8   floor                 23699 non-null  int64  \n",
      " 9   is_apartment          2775 non-null   object \n",
      " 10  studio                23699 non-null  bool   \n",
      " 11  open_plan             23699 non-null  bool   \n",
      " 12  kitchen_area          21421 non-null  float64\n",
      " 13  balcony               12180 non-null  float64\n",
      " 14  locality_name         23650 non-null  object \n",
      " 15  airports_nearest      18157 non-null  float64\n",
      " 16  cityCenters_nearest   18180 non-null  float64\n",
      " 17  parks_around3000      18181 non-null  float64\n",
      " 18  parks_nearest         8079 non-null   float64\n",
      " 19  ponds_around3000      18181 non-null  float64\n",
      " 20  ponds_nearest         9110 non-null   float64\n",
      " 21  days_exposition       20518 non-null  float64\n",
      "dtypes: bool(2), float64(14), int64(3), object(3)\n",
      "memory usage: 3.7+ MB\n"
     ]
    }
   ],
   "source": [
    "import pandas as pd\n",
    "import datetime\n",
    "import matplotlib.pyplot as plt\n",
    "data=pd.read_csv('/datasets/real_estate_data.csv', sep='\\t')\n",
    "data.info() #количество строк в столбцах не совпадает, нужно заполнять пропуски или удалять строки"
   ]
  },
  {
   "cell_type": "code",
   "execution_count": 2,
   "metadata": {},
   "outputs": [
    {
     "data": {
      "text/plain": [
       "(0,\n",
       " total_images                0\n",
       " last_price                  0\n",
       " total_area                  0\n",
       " first_day_exposition        0\n",
       " rooms                       0\n",
       " ceiling_height           9195\n",
       " floors_total               86\n",
       " living_area              1903\n",
       " floor                       0\n",
       " is_apartment            20924\n",
       " studio                      0\n",
       " open_plan                   0\n",
       " kitchen_area             2278\n",
       " balcony                 11519\n",
       " locality_name              49\n",
       " airports_nearest         5542\n",
       " cityCenters_nearest      5519\n",
       " parks_around3000         5518\n",
       " parks_nearest           15620\n",
       " ponds_around3000         5518\n",
       " ponds_nearest           14589\n",
       " days_exposition          3181\n",
       " dtype: int64)"
      ]
     },
     "execution_count": 2,
     "metadata": {},
     "output_type": "execute_result"
    }
   ],
   "source": [
    "data.duplicated().sum(), data.isna().sum()\n",
    "#дубликаторв нет, пропуски есть, необходимо детально изучить пропуски"
   ]
  },
  {
   "cell_type": "markdown",
   "metadata": {},
   "source": [
    "\n",
    "## Предобработка данных"
   ]
  },
  {
   "cell_type": "markdown",
   "metadata": {},
   "source": [
    "<div class=\"alert alert-block alert-info\">\n",
    "- Пропуски в days_exposition не заполняю, насколько понимаю если стоит пропуск то объявление активно, все остальное архив проданных объектов\n",
    "<br>- Пропуски в столбцах ponds_nearest, parks_nearest, airports_nearest,cityCenters_nearest не заполняю, т.к. это скорее всего обусловленно отсутствием данных критерей\n",
    "<br>- Пропуски в столбцах kitchen_area и living_area  не заполняю, т.к. не считаю его возможным заполнить средним или медианным значением без участия клиента\n"
   ]
  },
  {
   "cell_type": "code",
   "execution_count": 3,
   "metadata": {},
   "outputs": [],
   "source": [
    "data['ponds_around3000']=data['ponds_around3000'].fillna(0).astype(int) #заполняю пропуски, меняю формат данных\n",
    "data['parks_around3000']=data['parks_around3000'].fillna(0).astype(int) #заполняю пропуски, меняю формат данных\n",
    "data['balcony']=data['balcony'].fillna(0).astype(int) #заполняю пропуски, меняю формат данных\n",
    "data['locality_name']=data['locality_name'].str.replace('поселок', 'посёлок') #убираю задвоение из-за е-ё\n",
    "data=data.dropna(subset=['locality_name']) #удаляю 49 строк где не указана локация, на мой взгляд это информация критичная\n",
    "\n",
    "data['is_apartment']=data['is_apartment'].fillna(False)\n",
    "data['floors_total']=data['floors_total'].fillna(data['floor']).astype(int) #заполняю пропуски, меняю формат данных. Предполагаю,floor = floors_total \n",
    "\n",
    "data['last_price']=data['last_price'].astype(int)\n",
    "data.loc[(data['ceiling_height']>9), 'ceiling_height'] = data['ceiling_height']/10\n",
    "data.loc[(data['ceiling_height']<2), 'ceiling_height'] = data['ceiling_height'].median() #аномально маленькие потолки до 2х метров меняю на значение медианы\n",
    "data['ceiling_height']=data['ceiling_height'].fillna(data['ceiling_height'].median()) #заполняю пропуски"
   ]
  },
  {
   "cell_type": "markdown",
   "metadata": {},
   "source": [
    "## Расчет и добавление новых столбцов в таблицу"
   ]
  },
  {
   "cell_type": "code",
   "execution_count": 4,
   "metadata": {},
   "outputs": [
    {
     "name": "stdout",
     "output_type": "stream",
     "text": [
      "13105.0\n"
     ]
    }
   ],
   "source": [
    "def type_floor(index):\n",
    "    if index['floor'] == 1:\n",
    "        return 'первый'\n",
    "    if index['floor'] == index['floors_total']:\n",
    "        return 'последний'\n",
    "    else:\n",
    "        return 'другой'\n",
    "    \n",
    "data['total_area']=data['living_area']+data['kitchen_area'] #добавляю столбец общей площади\n",
    "data['price_one_meter']=data['last_price']/data['total_area'] #2707 пустых значений, возможно стоит заполнить площади медианным значением?\n",
    "data['cityCenters_nearest_km']=data['cityCenters_nearest']//1000 # перевожу метры в километры, формат оставляю десятичной дроби, из-за пропусков\n",
    "data['type_floor']=data.apply(type_floor, axis=1)\n",
    "\n",
    "data['day_exposition']=pd.to_datetime(data['first_day_exposition'], yearfirst=True).dt.weekday\n",
    "data['month_exposition']=pd.to_datetime(data['first_day_exposition'], yearfirst=True).dt.month \n",
    "data['year_exposition']=pd.to_datetime(data['first_day_exposition'], yearfirst=True).dt.year \n",
    "\n",
    "print(data['cityCenters_nearest'].median())"
   ]
  },
  {
   "cell_type": "code",
   "execution_count": 5,
   "metadata": {},
   "outputs": [
    {
     "name": "stdout",
     "output_type": "stream",
     "text": [
      "<class 'pandas.core.frame.DataFrame'>\n",
      "Int64Index: 23650 entries, 0 to 23698\n",
      "Data columns (total 28 columns):\n",
      " #   Column                  Non-Null Count  Dtype  \n",
      "---  ------                  --------------  -----  \n",
      " 0   total_images            23650 non-null  int64  \n",
      " 1   last_price              23650 non-null  int64  \n",
      " 2   total_area              20943 non-null  float64\n",
      " 3   first_day_exposition    23650 non-null  object \n",
      " 4   rooms                   23650 non-null  int64  \n",
      " 5   ceiling_height          23650 non-null  float64\n",
      " 6   floors_total            23650 non-null  int64  \n",
      " 7   living_area             21752 non-null  float64\n",
      " 8   floor                   23650 non-null  int64  \n",
      " 9   is_apartment            23650 non-null  bool   \n",
      " 10  studio                  23650 non-null  bool   \n",
      " 11  open_plan               23650 non-null  bool   \n",
      " 12  kitchen_area            21381 non-null  float64\n",
      " 13  balcony                 23650 non-null  int64  \n",
      " 14  locality_name           23650 non-null  object \n",
      " 15  airports_nearest        18116 non-null  float64\n",
      " 16  cityCenters_nearest     18139 non-null  float64\n",
      " 17  parks_around3000        23650 non-null  int64  \n",
      " 18  parks_nearest           8064 non-null   float64\n",
      " 19  ponds_around3000        23650 non-null  int64  \n",
      " 20  ponds_nearest           9085 non-null   float64\n",
      " 21  days_exposition         20470 non-null  float64\n",
      " 22  price_one_meter         20943 non-null  float64\n",
      " 23  cityCenters_nearest_km  18139 non-null  float64\n",
      " 24  type_floor              23650 non-null  object \n",
      " 25  day_exposition          23650 non-null  int64  \n",
      " 26  month_exposition        23650 non-null  int64  \n",
      " 27  year_exposition         23650 non-null  int64  \n",
      "dtypes: bool(3), float64(11), int64(11), object(3)\n",
      "memory usage: 5.3+ MB\n"
     ]
    }
   ],
   "source": [
    "data.info()"
   ]
  },
  {
   "cell_type": "markdown",
   "metadata": {},
   "source": [
    "## Проведение исследовательского анализа"
   ]
  },
  {
   "cell_type": "code",
   "execution_count": 6,
   "metadata": {},
   "outputs": [
    {
     "data": {
      "text/html": [
       "<div>\n",
       "<style scoped>\n",
       "    .dataframe tbody tr th:only-of-type {\n",
       "        vertical-align: middle;\n",
       "    }\n",
       "\n",
       "    .dataframe tbody tr th {\n",
       "        vertical-align: top;\n",
       "    }\n",
       "\n",
       "    .dataframe thead th {\n",
       "        text-align: right;\n",
       "    }\n",
       "</style>\n",
       "<table border=\"1\" class=\"dataframe\">\n",
       "  <thead>\n",
       "    <tr style=\"text-align: right;\">\n",
       "      <th></th>\n",
       "      <th>last_price</th>\n",
       "    </tr>\n",
       "    <tr>\n",
       "      <th>type_floor</th>\n",
       "      <th></th>\n",
       "    </tr>\n",
       "  </thead>\n",
       "  <tbody>\n",
       "    <tr>\n",
       "      <th>другой</th>\n",
       "      <td>17326</td>\n",
       "    </tr>\n",
       "    <tr>\n",
       "      <th>первый</th>\n",
       "      <td>2912</td>\n",
       "    </tr>\n",
       "    <tr>\n",
       "      <th>последний</th>\n",
       "      <td>3412</td>\n",
       "    </tr>\n",
       "  </tbody>\n",
       "</table>\n",
       "</div>"
      ],
      "text/plain": [
       "            last_price\n",
       "type_floor            \n",
       "другой           17326\n",
       "первый            2912\n",
       "последний         3412"
      ]
     },
     "execution_count": 6,
     "metadata": {},
     "output_type": "execute_result"
    }
   ],
   "source": [
    "data.pivot_table(index='type_floor', values='last_price', aggfunc='count')"
   ]
  },
  {
   "cell_type": "code",
   "execution_count": 7,
   "metadata": {},
   "outputs": [
    {
     "data": {
      "image/png": "[encoded data removed]",
      "text/plain": [
       "<Figure size 432x288 with 1 Axes>"
      ]
     },
     "metadata": {
      "needs_background": "light"
     },
     "output_type": "display_data"
    }
   ],
   "source": [
    "import matplotlib\n",
    "ax = (data.pivot_table(index='type_floor', values='last_price', aggfunc='median').plot(kind='bar', style='o-', title='Зависимость цены от этажа')\n",
    ")\n",
    "ax.get_yaxis().set_major_formatter(\n",
    "    matplotlib.ticker.FuncFormatter(lambda x, p: format(int(x), ',')))\n",
    "ax.set(xlabel='Тип этажа', ylabel='Цена');"
   ]
  },
  {
   "cell_type": "code",
   "execution_count": 8,
   "metadata": {},
   "outputs": [
    {
     "data": {
      "text/plain": [
       "array([[<AxesSubplot:title={'center':'floor'}>]], dtype=object)"
      ]
     },
     "execution_count": 8,
     "metadata": {},
     "output_type": "execute_result"
    },
    {
     "data": {
      "image/png": "[encoded data removed]",
      "text/plain": [
       "<Figure size 432x288 with 1 Axes>"
      ]
     },
     "metadata": {
      "needs_background": "light"
     },
     "output_type": "display_data"
    },
    {
     "data": {
      "image/png": "[encoded data removed]",
      "text/plain": [
       "<Figure size 432x288 with 1 Axes>"
      ]
     },
     "metadata": {
      "needs_background": "light"
     },
     "output_type": "display_data"
    },
    {
     "data": {
      "image/png": "[encoded data removed]",
      "text/plain": [
       "<Figure size 432x288 with 1 Axes>"
      ]
     },
     "metadata": {
      "needs_background": "light"
     },
     "output_type": "display_data"
    },
    {
     "data": {
      "image/png": "[encoded data removed]",
      "text/plain": [
       "<Figure size 720x504 with 1 Axes>"
      ]
     },
     "metadata": {
      "needs_background": "light"
     },
     "output_type": "display_data"
    },
    {
     "data": {
      "image/png": "[encoded data removed]",
      "text/plain": [
       "<Figure size 432x288 with 1 Axes>"
      ]
     },
     "metadata": {
      "needs_background": "light"
     },
     "output_type": "display_data"
    },
    {
     "data": {
      "image/png": "[encoded data removed]",
      "text/plain": [
       "<Figure size 432x288 with 1 Axes>"
      ]
     },
     "metadata": {
      "needs_background": "light"
     },
     "output_type": "display_data"
    },
    {
     "data": {
      "image/png": "[encoded data removed]",
      "text/plain": [
       "<Figure size 432x288 with 1 Axes>"
      ]
     },
     "metadata": {
      "needs_background": "light"
     },
     "output_type": "display_data"
    }
   ],
   "source": [
    "data.hist('total_area', bins=50) #распределение данных похоже на нормальное\n",
    "data.hist('living_area', bins=50) #распределение данных похоже на нормальное\n",
    "data.hist('kitchen_area', bins=50) #распределение данных похоже на нормальное\n",
    "data.plot(y = 'last_price', kind = 'hist', bins = 100, grid=True, range = (0,50000000), figsize = (10,7), title='График цен') #\n",
    "data.hist('rooms', bins=50) # 1 и 2 комнатные помещения самые распостраненные\n",
    "data.hist('ceiling_height', bins=50) #все ок, средняя высота потолка соблюдается\n",
    "data.hist('floor', bins=50) #нормальное распределение до 5го этажа включительно самые распространенные помещения"
   ]
  },
  {
   "cell_type": "code",
   "execution_count": 9,
   "metadata": {},
   "outputs": [
    {
     "data": {
      "text/plain": [
       "array([[<AxesSubplot:title={'center':'month_exposition'}>]], dtype=object)"
      ]
     },
     "execution_count": 9,
     "metadata": {},
     "output_type": "execute_result"
    },
    {
     "data": {
      "image/png": "[encoded data removed]",
      "text/plain": [
       "<Figure size 432x288 with 1 Axes>"
      ]
     },
     "metadata": {
      "needs_background": "light"
     },
     "output_type": "display_data"
    },
    {
     "data": {
      "image/png": "[encoded data removed]",
      "text/plain": [
       "<Figure size 432x288 with 1 Axes>"
      ]
     },
     "metadata": {
      "needs_background": "light"
     },
     "output_type": "display_data"
    },
    {
     "data": {
      "image/png": "[encoded data removed]",
      "text/plain": [
       "<Figure size 432x288 with 1 Axes>"
      ]
     },
     "metadata": {
      "needs_background": "light"
     },
     "output_type": "display_data"
    },
    {
     "data": {
      "image/png": "[encoded data removed]",
      "text/plain": [
       "<Figure size 432x288 with 1 Axes>"
      ]
     },
     "metadata": {
      "needs_background": "light"
     },
     "output_type": "display_data"
    },
    {
     "data": {
      "image/png": "[encoded data removed]",
      "text/plain": [
       "<Figure size 432x288 with 1 Axes>"
      ]
     },
     "metadata": {
      "needs_background": "light"
     },
     "output_type": "display_data"
    },
    {
     "data": {
      "image/png": "[encoded data removed]",
      "text/plain": [
       "<Figure size 432x288 with 1 Axes>"
      ]
     },
     "metadata": {
      "needs_background": "light"
     },
     "output_type": "display_data"
    }
   ],
   "source": [
    "data.hist('floors_total', bins=50) #два пика, 4 и 7 этажные здания встречаются чаще всего\n",
    "data.hist('cityCenters_nearest', bins=50) #нормальное распреледение, медианное значние отдаления 14км\n",
    "data.hist('airports_nearest', bins=50) #от 15 до 50км до аэропорта, хорошая выборка данных\n",
    "data.hist('parks_nearest', bins=50) #нормальное распределение данных, больше всего помещений в отдалении от парка на 500м.\n",
    "data.hist('day_exposition', bins=50) #в сб и вск выставляют объявления меньше всего\n",
    "data.hist('month_exposition', bins=50) #явно наблюдается сезонность"
   ]
  },
  {
   "cell_type": "code",
   "execution_count": 10,
   "metadata": {},
   "outputs": [
    {
     "name": "stdout",
     "output_type": "stream",
     "text": [
      "95.0\n",
      "180.7531998045921\n"
     ]
    },
    {
     "data": {
      "image/png": "[encoded data removed]",
      "text/plain": [
       "<Figure size 432x288 with 1 Axes>"
      ]
     },
     "metadata": {
      "needs_background": "light"
     },
     "output_type": "display_data"
    }
   ],
   "source": [
    "data.hist('days_exposition', bins=50, range=(0, 365)) #чаще всего квартиры продавались в районе50-60 дней\n",
    "print(data['days_exposition'].median()) # медиана 95 дней\n",
    "print(data['days_exposition'].mean()) #среднее 180 дней, возможно если отсечь неадекватно длинные сроки(больше года) ситуация выровняется\n"
   ]
  },
  {
   "cell_type": "code",
   "execution_count": 11,
   "metadata": {},
   "outputs": [
    {
     "name": "stdout",
     "output_type": "stream",
     "text": [
      "Коэфициент зависимости цены от общей площади 0.6502516395138324\n",
      "Коэфициент зависимости цены от жилой площади 0.5665168840375522\n",
      "Коэфициент зависимости цены от площади кухни 0.5202330465436197\n",
      "Коэфициент зависимости цены от кол-ва комнат 0.36342062218770704\n",
      "Коэфициент зависимости цены от дня размещения объявления  0.0016068614793023977\n",
      "Коэфициент зависимости цены от месяца размещения объявления  0.00274102941992422\n",
      "Коэфициент зависимости цены от года размещения объявления  -0.042927051076831486\n",
      "\n",
      "                   price_one_meter\n",
      "locality_name                     \n",
      "посёлок Репино       162023.005924\n",
      "Санкт-Петербург      154418.273396\n",
      "Зеленогорск          151495.221688\n",
      "Сестрорецк           140234.193696\n",
      "Пушкин               140142.828649\n",
      "Кудрово              135495.523325\n",
      "посёлок Парголово    127666.023393\n",
      "деревня Мистолово    127329.216009\n",
      "деревня Кудрово      125382.124671\n",
      "Мурино               123234.950665\n",
      "\n",
      "                                    price_one_meter\n",
      "locality_name                                      \n",
      "деревня Сижно                          20238.095238\n",
      "посёлок Житково                        19092.365967\n",
      "посёлок станции Свирь                  18947.368421\n",
      "посёлок городского типа Ефимовский     17561.983471\n",
      "деревня Ям-Тесово                      17441.860465\n",
      "посёлок Тёсово-4                       16666.666667\n",
      "посёлок Совхозный                      16617.647059\n",
      "деревня Выскатка                       14752.325874\n",
      "деревня Малая Романовка                12801.204819\n",
      "деревня Старополье                     12569.832402\n",
      "\n",
      "\n",
      "cityCenters_nearest_km          0.0           1.0           2.0   \\\n",
      "locality_name                                                      \n",
      "Санкт-Петербург         2.344232e+07  1.885085e+07  1.616331e+07   \n",
      "\n",
      "cityCenters_nearest_km          3.0           4.0           5.0   \\\n",
      "locality_name                                                      \n",
      "Санкт-Петербург         1.343683e+07  1.363202e+07  1.530612e+07   \n",
      "\n",
      "cityCenters_nearest_km          6.0           7.0           8.0   \\\n",
      "locality_name                                                      \n",
      "Санкт-Петербург         1.438911e+07  1.279767e+07  8.445272e+06   \n",
      "\n",
      "cityCenters_nearest_km          9.0   ...          20.0          21.0  \\\n",
      "locality_name                         ...                               \n",
      "Санкт-Петербург         6.426055e+06  ...  6.365864e+06  5.183239e+06   \n",
      "\n",
      "cityCenters_nearest_km          22.0          23.0       24.0          25.0  \\\n",
      "locality_name                                                                 \n",
      "Санкт-Петербург         5.425513e+06  4.126867e+06  3862235.0  4.014913e+06   \n",
      "\n",
      "cityCenters_nearest_km       26.0       27.0       28.0          29.0  \n",
      "locality_name                                                          \n",
      "Санкт-Петербург         3575000.0  8300000.0  4910500.0  3.833333e+06  \n",
      "\n",
      "[1 rows x 30 columns]\n"
     ]
    }
   ],
   "source": [
    "print('Коэфициент зависимости цены от общей площади', data['total_area'].corr(data['last_price'])) # от общей площади самая большая кореляция\n",
    "print('Коэфициент зависимости цены от жилой площади', data['living_area'].corr(data['last_price']))\n",
    "print('Коэфициент зависимости цены от площади кухни', data['kitchen_area'].corr(data['last_price']))\n",
    "print('Коэфициент зависимости цены от кол-ва комнат', data['rooms'].corr(data['last_price']))\n",
    "print('Коэфициент зависимости цены от дня размещения объявления ', data['day_exposition'].corr(data['last_price'])) #нет зависимости от времени размещения \n",
    "print('Коэфициент зависимости цены от месяца размещения объявления ', data['month_exposition'].corr(data['last_price'])) #нет зависимости от времени размещения \n",
    "print('Коэфициент зависимости цены от года размещения объявления ', data['year_exposition'].corr(data['last_price'])) #нет зависимости от времени размещения \n",
    "print()\n",
    "t1=data.pivot_table(index='locality_name', values='price_one_meter', aggfunc='mean').sort_values(by='price_one_meter', ascending=False)\n",
    "print(t1.head(10))\n",
    "print()\n",
    "print(t1.tail(10))\n",
    "print()\n",
    "print()\n",
    "print(data.query('locality_name == \"Санкт-Петербург\"').pivot_table(index='locality_name', columns='cityCenters_nearest_km', values='last_price', aggfunc='mean'))"
   ]
  },
  {
   "cell_type": "code",
   "execution_count": 12,
   "metadata": {},
   "outputs": [
    {
     "data": {
      "text/html": [
       "<div>\n",
       "<style scoped>\n",
       "    .dataframe tbody tr th:only-of-type {\n",
       "        vertical-align: middle;\n",
       "    }\n",
       "\n",
       "    .dataframe tbody tr th {\n",
       "        vertical-align: top;\n",
       "    }\n",
       "\n",
       "    .dataframe thead th {\n",
       "        text-align: right;\n",
       "    }\n",
       "</style>\n",
       "<table border=\"1\" class=\"dataframe\">\n",
       "  <thead>\n",
       "    <tr style=\"text-align: right;\">\n",
       "      <th></th>\n",
       "      <th>total_images</th>\n",
       "      <th>last_price</th>\n",
       "      <th>total_area</th>\n",
       "      <th>rooms</th>\n",
       "      <th>ceiling_height</th>\n",
       "      <th>floors_total</th>\n",
       "      <th>living_area</th>\n",
       "      <th>floor</th>\n",
       "      <th>is_apartment</th>\n",
       "      <th>studio</th>\n",
       "      <th>...</th>\n",
       "      <th>parks_around3000</th>\n",
       "      <th>parks_nearest</th>\n",
       "      <th>ponds_around3000</th>\n",
       "      <th>ponds_nearest</th>\n",
       "      <th>days_exposition</th>\n",
       "      <th>price_one_meter</th>\n",
       "      <th>cityCenters_nearest_km</th>\n",
       "      <th>day_exposition</th>\n",
       "      <th>month_exposition</th>\n",
       "      <th>year_exposition</th>\n",
       "    </tr>\n",
       "  </thead>\n",
       "  <tbody>\n",
       "    <tr>\n",
       "      <th>total_images</th>\n",
       "      <td>1.000000</td>\n",
       "      <td>0.104558</td>\n",
       "      <td>0.114264</td>\n",
       "      <td>0.099660</td>\n",
       "      <td>0.048304</td>\n",
       "      <td>0.010548</td>\n",
       "      <td>0.104952</td>\n",
       "      <td>0.030832</td>\n",
       "      <td>0.010512</td>\n",
       "      <td>-0.029389</td>\n",
       "      <td>...</td>\n",
       "      <td>0.036990</td>\n",
       "      <td>-0.008158</td>\n",
       "      <td>0.011077</td>\n",
       "      <td>-0.003424</td>\n",
       "      <td>-0.027415</td>\n",
       "      <td>0.126081</td>\n",
       "      <td>-0.047887</td>\n",
       "      <td>-0.010510</td>\n",
       "      <td>0.004837</td>\n",
       "      <td>0.140884</td>\n",
       "    </tr>\n",
       "    <tr>\n",
       "      <th>last_price</th>\n",
       "      <td>0.104558</td>\n",
       "      <td>1.000000</td>\n",
       "      <td>0.650252</td>\n",
       "      <td>0.363421</td>\n",
       "      <td>0.274653</td>\n",
       "      <td>-0.006762</td>\n",
       "      <td>0.566517</td>\n",
       "      <td>0.026770</td>\n",
       "      <td>0.026964</td>\n",
       "      <td>-0.025363</td>\n",
       "      <td>...</td>\n",
       "      <td>0.197704</td>\n",
       "      <td>-0.016310</td>\n",
       "      <td>0.208842</td>\n",
       "      <td>-0.085193</td>\n",
       "      <td>0.080937</td>\n",
       "      <td>0.727779</td>\n",
       "      <td>-0.206954</td>\n",
       "      <td>0.001607</td>\n",
       "      <td>0.002741</td>\n",
       "      <td>-0.042927</td>\n",
       "    </tr>\n",
       "    <tr>\n",
       "      <th>total_area</th>\n",
       "      <td>0.114264</td>\n",
       "      <td>0.650252</td>\n",
       "      <td>1.000000</td>\n",
       "      <td>0.809349</td>\n",
       "      <td>0.393730</td>\n",
       "      <td>-0.101428</td>\n",
       "      <td>0.977440</td>\n",
       "      <td>-0.047800</td>\n",
       "      <td>0.032141</td>\n",
       "      <td>NaN</td>\n",
       "      <td>...</td>\n",
       "      <td>0.209993</td>\n",
       "      <td>-0.034565</td>\n",
       "      <td>0.199721</td>\n",
       "      <td>-0.098699</td>\n",
       "      <td>0.144901</td>\n",
       "      <td>0.236408</td>\n",
       "      <td>-0.244559</td>\n",
       "      <td>-0.007945</td>\n",
       "      <td>0.000952</td>\n",
       "      <td>-0.075700</td>\n",
       "    </tr>\n",
       "    <tr>\n",
       "      <th>rooms</th>\n",
       "      <td>0.099660</td>\n",
       "      <td>0.363421</td>\n",
       "      <td>0.809349</td>\n",
       "      <td>1.000000</td>\n",
       "      <td>0.227129</td>\n",
       "      <td>-0.226896</td>\n",
       "      <td>0.846088</td>\n",
       "      <td>-0.150604</td>\n",
       "      <td>0.000422</td>\n",
       "      <td>-0.147371</td>\n",
       "      <td>...</td>\n",
       "      <td>0.157095</td>\n",
       "      <td>-0.054236</td>\n",
       "      <td>0.121450</td>\n",
       "      <td>-0.058705</td>\n",
       "      <td>0.126497</td>\n",
       "      <td>0.031222</td>\n",
       "      <td>-0.184543</td>\n",
       "      <td>-0.004316</td>\n",
       "      <td>-0.004388</td>\n",
       "      <td>-0.054641</td>\n",
       "    </tr>\n",
       "    <tr>\n",
       "      <th>ceiling_height</th>\n",
       "      <td>0.048304</td>\n",
       "      <td>0.274653</td>\n",
       "      <td>0.393730</td>\n",
       "      <td>0.227129</td>\n",
       "      <td>1.000000</td>\n",
       "      <td>-0.079897</td>\n",
       "      <td>0.356256</td>\n",
       "      <td>-0.043806</td>\n",
       "      <td>0.089118</td>\n",
       "      <td>0.010003</td>\n",
       "      <td>...</td>\n",
       "      <td>0.231422</td>\n",
       "      <td>-0.056890</td>\n",
       "      <td>0.204246</td>\n",
       "      <td>-0.107493</td>\n",
       "      <td>0.103045</td>\n",
       "      <td>0.267792</td>\n",
       "      <td>-0.276057</td>\n",
       "      <td>-0.021569</td>\n",
       "      <td>-0.001340</td>\n",
       "      <td>-0.050378</td>\n",
       "    </tr>\n",
       "    <tr>\n",
       "      <th>floors_total</th>\n",
       "      <td>0.010548</td>\n",
       "      <td>-0.006762</td>\n",
       "      <td>-0.101428</td>\n",
       "      <td>-0.226896</td>\n",
       "      <td>-0.079897</td>\n",
       "      <td>1.000000</td>\n",
       "      <td>-0.168827</td>\n",
       "      <td>0.678060</td>\n",
       "      <td>-0.026345</td>\n",
       "      <td>0.069591</td>\n",
       "      <td>...</td>\n",
       "      <td>-0.158492</td>\n",
       "      <td>0.097051</td>\n",
       "      <td>-0.049201</td>\n",
       "      <td>0.040189</td>\n",
       "      <td>-0.052773</td>\n",
       "      <td>0.172603</td>\n",
       "      <td>0.018466</td>\n",
       "      <td>0.012543</td>\n",
       "      <td>0.016016</td>\n",
       "      <td>0.008477</td>\n",
       "    </tr>\n",
       "    <tr>\n",
       "      <th>living_area</th>\n",
       "      <td>0.104952</td>\n",
       "      <td>0.566517</td>\n",
       "      <td>0.977440</td>\n",
       "      <td>0.846088</td>\n",
       "      <td>0.356256</td>\n",
       "      <td>-0.168827</td>\n",
       "      <td>1.000000</td>\n",
       "      <td>-0.096825</td>\n",
       "      <td>0.027007</td>\n",
       "      <td>-0.056235</td>\n",
       "      <td>...</td>\n",
       "      <td>0.212109</td>\n",
       "      <td>-0.050004</td>\n",
       "      <td>0.182950</td>\n",
       "      <td>-0.082420</td>\n",
       "      <td>0.142171</td>\n",
       "      <td>0.172585</td>\n",
       "      <td>-0.231429</td>\n",
       "      <td>-0.005597</td>\n",
       "      <td>-0.002602</td>\n",
       "      <td>-0.072166</td>\n",
       "    </tr>\n",
       "    <tr>\n",
       "      <th>floor</th>\n",
       "      <td>0.030832</td>\n",
       "      <td>0.026770</td>\n",
       "      <td>-0.047800</td>\n",
       "      <td>-0.150604</td>\n",
       "      <td>-0.043806</td>\n",
       "      <td>0.678060</td>\n",
       "      <td>-0.096825</td>\n",
       "      <td>1.000000</td>\n",
       "      <td>-0.013321</td>\n",
       "      <td>0.036978</td>\n",
       "      <td>...</td>\n",
       "      <td>-0.104945</td>\n",
       "      <td>0.073157</td>\n",
       "      <td>-0.029920</td>\n",
       "      <td>0.025923</td>\n",
       "      <td>-0.039501</td>\n",
       "      <td>0.147074</td>\n",
       "      <td>0.008531</td>\n",
       "      <td>0.011746</td>\n",
       "      <td>0.019480</td>\n",
       "      <td>0.005273</td>\n",
       "    </tr>\n",
       "    <tr>\n",
       "      <th>is_apartment</th>\n",
       "      <td>0.010512</td>\n",
       "      <td>0.026964</td>\n",
       "      <td>0.032141</td>\n",
       "      <td>0.000422</td>\n",
       "      <td>0.089118</td>\n",
       "      <td>-0.026345</td>\n",
       "      <td>0.027007</td>\n",
       "      <td>-0.013321</td>\n",
       "      <td>1.000000</td>\n",
       "      <td>-0.003665</td>\n",
       "      <td>...</td>\n",
       "      <td>0.021581</td>\n",
       "      <td>-0.033422</td>\n",
       "      <td>0.024467</td>\n",
       "      <td>0.003344</td>\n",
       "      <td>0.015303</td>\n",
       "      <td>0.035232</td>\n",
       "      <td>0.003270</td>\n",
       "      <td>-0.009488</td>\n",
       "      <td>0.002352</td>\n",
       "      <td>0.009313</td>\n",
       "    </tr>\n",
       "    <tr>\n",
       "      <th>studio</th>\n",
       "      <td>-0.029389</td>\n",
       "      <td>-0.025363</td>\n",
       "      <td>NaN</td>\n",
       "      <td>-0.147371</td>\n",
       "      <td>0.010003</td>\n",
       "      <td>0.069591</td>\n",
       "      <td>-0.056235</td>\n",
       "      <td>0.036978</td>\n",
       "      <td>-0.003665</td>\n",
       "      <td>1.000000</td>\n",
       "      <td>...</td>\n",
       "      <td>-0.032055</td>\n",
       "      <td>0.009132</td>\n",
       "      <td>-0.009656</td>\n",
       "      <td>0.002587</td>\n",
       "      <td>-0.022447</td>\n",
       "      <td>NaN</td>\n",
       "      <td>-0.006809</td>\n",
       "      <td>-0.000818</td>\n",
       "      <td>0.000944</td>\n",
       "      <td>0.011775</td>\n",
       "    </tr>\n",
       "    <tr>\n",
       "      <th>open_plan</th>\n",
       "      <td>-0.024470</td>\n",
       "      <td>-0.008802</td>\n",
       "      <td>NaN</td>\n",
       "      <td>-0.087547</td>\n",
       "      <td>-0.001832</td>\n",
       "      <td>0.050780</td>\n",
       "      <td>-0.033711</td>\n",
       "      <td>0.035866</td>\n",
       "      <td>-0.002453</td>\n",
       "      <td>-0.004244</td>\n",
       "      <td>...</td>\n",
       "      <td>-0.016400</td>\n",
       "      <td>0.010612</td>\n",
       "      <td>-0.004101</td>\n",
       "      <td>-0.003345</td>\n",
       "      <td>-0.024099</td>\n",
       "      <td>NaN</td>\n",
       "      <td>-0.004251</td>\n",
       "      <td>0.011072</td>\n",
       "      <td>0.025770</td>\n",
       "      <td>-0.021304</td>\n",
       "    </tr>\n",
       "    <tr>\n",
       "      <th>kitchen_area</th>\n",
       "      <td>0.105876</td>\n",
       "      <td>0.520233</td>\n",
       "      <td>0.609912</td>\n",
       "      <td>0.270585</td>\n",
       "      <td>0.316449</td>\n",
       "      <td>0.164292</td>\n",
       "      <td>0.428773</td>\n",
       "      <td>0.136610</td>\n",
       "      <td>0.049134</td>\n",
       "      <td>NaN</td>\n",
       "      <td>...</td>\n",
       "      <td>0.119148</td>\n",
       "      <td>0.029467</td>\n",
       "      <td>0.176607</td>\n",
       "      <td>-0.105349</td>\n",
       "      <td>0.101063</td>\n",
       "      <td>0.363644</td>\n",
       "      <td>-0.191036</td>\n",
       "      <td>-0.007967</td>\n",
       "      <td>0.002617</td>\n",
       "      <td>-0.055091</td>\n",
       "    </tr>\n",
       "    <tr>\n",
       "      <th>balcony</th>\n",
       "      <td>0.048578</td>\n",
       "      <td>0.008526</td>\n",
       "      <td>-0.002838</td>\n",
       "      <td>-0.015281</td>\n",
       "      <td>-0.034845</td>\n",
       "      <td>0.173298</td>\n",
       "      <td>-0.014645</td>\n",
       "      <td>0.169051</td>\n",
       "      <td>0.033013</td>\n",
       "      <td>0.028865</td>\n",
       "      <td>...</td>\n",
       "      <td>-0.069907</td>\n",
       "      <td>0.033774</td>\n",
       "      <td>-0.038125</td>\n",
       "      <td>0.020279</td>\n",
       "      <td>-0.027430</td>\n",
       "      <td>0.028663</td>\n",
       "      <td>0.064404</td>\n",
       "      <td>-0.001343</td>\n",
       "      <td>0.009648</td>\n",
       "      <td>0.003478</td>\n",
       "    </tr>\n",
       "    <tr>\n",
       "      <th>airports_nearest</th>\n",
       "      <td>-0.002364</td>\n",
       "      <td>-0.026366</td>\n",
       "      <td>-0.048522</td>\n",
       "      <td>-0.060877</td>\n",
       "      <td>-0.076440</td>\n",
       "      <td>0.107092</td>\n",
       "      <td>-0.057714</td>\n",
       "      <td>0.071826</td>\n",
       "      <td>0.016444</td>\n",
       "      <td>-0.021944</td>\n",
       "      <td>...</td>\n",
       "      <td>0.000590</td>\n",
       "      <td>-0.070293</td>\n",
       "      <td>-0.049590</td>\n",
       "      <td>0.013641</td>\n",
       "      <td>-0.017999</td>\n",
       "      <td>-0.020253</td>\n",
       "      <td>0.271766</td>\n",
       "      <td>0.001350</td>\n",
       "      <td>0.006612</td>\n",
       "      <td>0.007725</td>\n",
       "    </tr>\n",
       "    <tr>\n",
       "      <th>cityCenters_nearest</th>\n",
       "      <td>-0.047835</td>\n",
       "      <td>-0.206887</td>\n",
       "      <td>-0.244403</td>\n",
       "      <td>-0.184322</td>\n",
       "      <td>-0.276551</td>\n",
       "      <td>0.018382</td>\n",
       "      <td>-0.231170</td>\n",
       "      <td>0.008508</td>\n",
       "      <td>0.003699</td>\n",
       "      <td>-0.007093</td>\n",
       "      <td>...</td>\n",
       "      <td>-0.161071</td>\n",
       "      <td>-0.040676</td>\n",
       "      <td>-0.073970</td>\n",
       "      <td>0.029704</td>\n",
       "      <td>-0.059481</td>\n",
       "      <td>-0.279108</td>\n",
       "      <td>0.999430</td>\n",
       "      <td>0.008604</td>\n",
       "      <td>-0.009163</td>\n",
       "      <td>0.030217</td>\n",
       "    </tr>\n",
       "    <tr>\n",
       "      <th>parks_around3000</th>\n",
       "      <td>0.036990</td>\n",
       "      <td>0.197704</td>\n",
       "      <td>0.209993</td>\n",
       "      <td>0.157095</td>\n",
       "      <td>0.231422</td>\n",
       "      <td>-0.158492</td>\n",
       "      <td>0.212109</td>\n",
       "      <td>-0.104945</td>\n",
       "      <td>0.021581</td>\n",
       "      <td>-0.032055</td>\n",
       "      <td>...</td>\n",
       "      <td>1.000000</td>\n",
       "      <td>-0.259420</td>\n",
       "      <td>0.393094</td>\n",
       "      <td>-0.168088</td>\n",
       "      <td>0.054969</td>\n",
       "      <td>0.253974</td>\n",
       "      <td>-0.160698</td>\n",
       "      <td>-0.011189</td>\n",
       "      <td>-0.003009</td>\n",
       "      <td>-0.048287</td>\n",
       "    </tr>\n",
       "    <tr>\n",
       "      <th>parks_nearest</th>\n",
       "      <td>-0.008158</td>\n",
       "      <td>-0.016310</td>\n",
       "      <td>-0.034565</td>\n",
       "      <td>-0.054236</td>\n",
       "      <td>-0.056890</td>\n",
       "      <td>0.097051</td>\n",
       "      <td>-0.050004</td>\n",
       "      <td>0.073157</td>\n",
       "      <td>-0.033422</td>\n",
       "      <td>0.009132</td>\n",
       "      <td>...</td>\n",
       "      <td>-0.259420</td>\n",
       "      <td>1.000000</td>\n",
       "      <td>0.077188</td>\n",
       "      <td>0.000592</td>\n",
       "      <td>0.023674</td>\n",
       "      <td>0.017283</td>\n",
       "      <td>-0.040805</td>\n",
       "      <td>-0.004489</td>\n",
       "      <td>0.018741</td>\n",
       "      <td>-0.020455</td>\n",
       "    </tr>\n",
       "    <tr>\n",
       "      <th>ponds_around3000</th>\n",
       "      <td>0.011077</td>\n",
       "      <td>0.208842</td>\n",
       "      <td>0.199721</td>\n",
       "      <td>0.121450</td>\n",
       "      <td>0.204246</td>\n",
       "      <td>-0.049201</td>\n",
       "      <td>0.182950</td>\n",
       "      <td>-0.029920</td>\n",
       "      <td>0.024467</td>\n",
       "      <td>-0.009656</td>\n",
       "      <td>...</td>\n",
       "      <td>0.393094</td>\n",
       "      <td>0.077188</td>\n",
       "      <td>1.000000</td>\n",
       "      <td>-0.342321</td>\n",
       "      <td>0.065578</td>\n",
       "      <td>0.277417</td>\n",
       "      <td>-0.073236</td>\n",
       "      <td>-0.000651</td>\n",
       "      <td>-0.005780</td>\n",
       "      <td>-0.047971</td>\n",
       "    </tr>\n",
       "    <tr>\n",
       "      <th>ponds_nearest</th>\n",
       "      <td>-0.003424</td>\n",
       "      <td>-0.085193</td>\n",
       "      <td>-0.098699</td>\n",
       "      <td>-0.058705</td>\n",
       "      <td>-0.107493</td>\n",
       "      <td>0.040189</td>\n",
       "      <td>-0.082420</td>\n",
       "      <td>0.025923</td>\n",
       "      <td>0.003344</td>\n",
       "      <td>0.002587</td>\n",
       "      <td>...</td>\n",
       "      <td>-0.168088</td>\n",
       "      <td>0.000592</td>\n",
       "      <td>-0.342321</td>\n",
       "      <td>1.000000</td>\n",
       "      <td>-0.078843</td>\n",
       "      <td>-0.100979</td>\n",
       "      <td>0.028928</td>\n",
       "      <td>-0.002038</td>\n",
       "      <td>0.012499</td>\n",
       "      <td>0.038363</td>\n",
       "    </tr>\n",
       "    <tr>\n",
       "      <th>days_exposition</th>\n",
       "      <td>-0.027415</td>\n",
       "      <td>0.080937</td>\n",
       "      <td>0.144901</td>\n",
       "      <td>0.126497</td>\n",
       "      <td>0.103045</td>\n",
       "      <td>-0.052773</td>\n",
       "      <td>0.142171</td>\n",
       "      <td>-0.039501</td>\n",
       "      <td>0.015303</td>\n",
       "      <td>-0.022447</td>\n",
       "      <td>...</td>\n",
       "      <td>0.054969</td>\n",
       "      <td>0.023674</td>\n",
       "      <td>0.065578</td>\n",
       "      <td>-0.078843</td>\n",
       "      <td>1.000000</td>\n",
       "      <td>0.042410</td>\n",
       "      <td>-0.059086</td>\n",
       "      <td>-0.024614</td>\n",
       "      <td>-0.030021</td>\n",
       "      <td>-0.611616</td>\n",
       "    </tr>\n",
       "    <tr>\n",
       "      <th>price_one_meter</th>\n",
       "      <td>0.126081</td>\n",
       "      <td>0.727779</td>\n",
       "      <td>0.236408</td>\n",
       "      <td>0.031222</td>\n",
       "      <td>0.267792</td>\n",
       "      <td>0.172603</td>\n",
       "      <td>0.172585</td>\n",
       "      <td>0.147074</td>\n",
       "      <td>0.035232</td>\n",
       "      <td>NaN</td>\n",
       "      <td>...</td>\n",
       "      <td>0.253974</td>\n",
       "      <td>0.017283</td>\n",
       "      <td>0.277417</td>\n",
       "      <td>-0.100979</td>\n",
       "      <td>0.042410</td>\n",
       "      <td>1.000000</td>\n",
       "      <td>-0.278627</td>\n",
       "      <td>-0.010394</td>\n",
       "      <td>0.001494</td>\n",
       "      <td>0.001819</td>\n",
       "    </tr>\n",
       "    <tr>\n",
       "      <th>cityCenters_nearest_km</th>\n",
       "      <td>-0.047887</td>\n",
       "      <td>-0.206954</td>\n",
       "      <td>-0.244559</td>\n",
       "      <td>-0.184543</td>\n",
       "      <td>-0.276057</td>\n",
       "      <td>0.018466</td>\n",
       "      <td>-0.231429</td>\n",
       "      <td>0.008531</td>\n",
       "      <td>0.003270</td>\n",
       "      <td>-0.006809</td>\n",
       "      <td>...</td>\n",
       "      <td>-0.160698</td>\n",
       "      <td>-0.040805</td>\n",
       "      <td>-0.073236</td>\n",
       "      <td>0.028928</td>\n",
       "      <td>-0.059086</td>\n",
       "      <td>-0.278627</td>\n",
       "      <td>1.000000</td>\n",
       "      <td>0.008439</td>\n",
       "      <td>-0.009178</td>\n",
       "      <td>0.029903</td>\n",
       "    </tr>\n",
       "    <tr>\n",
       "      <th>day_exposition</th>\n",
       "      <td>-0.010510</td>\n",
       "      <td>0.001607</td>\n",
       "      <td>-0.007945</td>\n",
       "      <td>-0.004316</td>\n",
       "      <td>-0.021569</td>\n",
       "      <td>0.012543</td>\n",
       "      <td>-0.005597</td>\n",
       "      <td>0.011746</td>\n",
       "      <td>-0.009488</td>\n",
       "      <td>-0.000818</td>\n",
       "      <td>...</td>\n",
       "      <td>-0.011189</td>\n",
       "      <td>-0.004489</td>\n",
       "      <td>-0.000651</td>\n",
       "      <td>-0.002038</td>\n",
       "      <td>-0.024614</td>\n",
       "      <td>-0.010394</td>\n",
       "      <td>0.008439</td>\n",
       "      <td>1.000000</td>\n",
       "      <td>0.011354</td>\n",
       "      <td>-0.003844</td>\n",
       "    </tr>\n",
       "    <tr>\n",
       "      <th>month_exposition</th>\n",
       "      <td>0.004837</td>\n",
       "      <td>0.002741</td>\n",
       "      <td>0.000952</td>\n",
       "      <td>-0.004388</td>\n",
       "      <td>-0.001340</td>\n",
       "      <td>0.016016</td>\n",
       "      <td>-0.002602</td>\n",
       "      <td>0.019480</td>\n",
       "      <td>0.002352</td>\n",
       "      <td>0.000944</td>\n",
       "      <td>...</td>\n",
       "      <td>-0.003009</td>\n",
       "      <td>0.018741</td>\n",
       "      <td>-0.005780</td>\n",
       "      <td>0.012499</td>\n",
       "      <td>-0.030021</td>\n",
       "      <td>0.001494</td>\n",
       "      <td>-0.009178</td>\n",
       "      <td>0.011354</td>\n",
       "      <td>1.000000</td>\n",
       "      <td>-0.271176</td>\n",
       "    </tr>\n",
       "    <tr>\n",
       "      <th>year_exposition</th>\n",
       "      <td>0.140884</td>\n",
       "      <td>-0.042927</td>\n",
       "      <td>-0.075700</td>\n",
       "      <td>-0.054641</td>\n",
       "      <td>-0.050378</td>\n",
       "      <td>0.008477</td>\n",
       "      <td>-0.072166</td>\n",
       "      <td>0.005273</td>\n",
       "      <td>0.009313</td>\n",
       "      <td>0.011775</td>\n",
       "      <td>...</td>\n",
       "      <td>-0.048287</td>\n",
       "      <td>-0.020455</td>\n",
       "      <td>-0.047971</td>\n",
       "      <td>0.038363</td>\n",
       "      <td>-0.611616</td>\n",
       "      <td>0.001819</td>\n",
       "      <td>0.029903</td>\n",
       "      <td>-0.003844</td>\n",
       "      <td>-0.271176</td>\n",
       "      <td>1.000000</td>\n",
       "    </tr>\n",
       "  </tbody>\n",
       "</table>\n",
       "<p>25 rows × 25 columns</p>\n",
       "</div>"
      ],
      "text/plain": [
       "                        total_images  last_price  total_area     rooms  \\\n",
       "total_images                1.000000    0.104558    0.114264  0.099660   \n",
       "last_price                  0.104558    1.000000    0.650252  0.363421   \n",
       "total_area                  0.114264    0.650252    1.000000  0.809349   \n",
       "rooms                       0.099660    0.363421    0.809349  1.000000   \n",
       "ceiling_height              0.048304    0.274653    0.393730  0.227129   \n",
       "floors_total                0.010548   -0.006762   -0.101428 -0.226896   \n",
       "living_area                 0.104952    0.566517    0.977440  0.846088   \n",
       "floor                       0.030832    0.026770   -0.047800 -0.150604   \n",
       "is_apartment                0.010512    0.026964    0.032141  0.000422   \n",
       "studio                     -0.029389   -0.025363         NaN -0.147371   \n",
       "open_plan                  -0.024470   -0.008802         NaN -0.087547   \n",
       "kitchen_area                0.105876    0.520233    0.609912  0.270585   \n",
       "balcony                     0.048578    0.008526   -0.002838 -0.015281   \n",
       "airports_nearest           -0.002364   -0.026366   -0.048522 -0.060877   \n",
       "cityCenters_nearest        -0.047835   -0.206887   -0.244403 -0.184322   \n",
       "parks_around3000            0.036990    0.197704    0.209993  0.157095   \n",
       "parks_nearest              -0.008158   -0.016310   -0.034565 -0.054236   \n",
       "ponds_around3000            0.011077    0.208842    0.199721  0.121450   \n",
       "ponds_nearest              -0.003424   -0.085193   -0.098699 -0.058705   \n",
       "days_exposition            -0.027415    0.080937    0.144901  0.126497   \n",
       "price_one_meter             0.126081    0.727779    0.236408  0.031222   \n",
       "cityCenters_nearest_km     -0.047887   -0.206954   -0.244559 -0.184543   \n",
       "day_exposition             -0.010510    0.001607   -0.007945 -0.004316   \n",
       "month_exposition            0.004837    0.002741    0.000952 -0.004388   \n",
       "year_exposition             0.140884   -0.042927   -0.075700 -0.054641   \n",
       "\n",
       "                        ceiling_height  floors_total  living_area     floor  \\\n",
       "total_images                  0.048304      0.010548     0.104952  0.030832   \n",
       "last_price                    0.274653     -0.006762     0.566517  0.026770   \n",
       "total_area                    0.393730     -0.101428     0.977440 -0.047800   \n",
       "rooms                         0.227129     -0.226896     0.846088 -0.150604   \n",
       "ceiling_height                1.000000     -0.079897     0.356256 -0.043806   \n",
       "floors_total                 -0.079897      1.000000    -0.168827  0.678060   \n",
       "living_area                   0.356256     -0.168827     1.000000 -0.096825   \n",
       "floor                        -0.043806      0.678060    -0.096825  1.000000   \n",
       "is_apartment                  0.089118     -0.026345     0.027007 -0.013321   \n",
       "studio                        0.010003      0.069591    -0.056235  0.036978   \n",
       "open_plan                    -0.001832      0.050780    -0.033711  0.035866   \n",
       "kitchen_area                  0.316449      0.164292     0.428773  0.136610   \n",
       "balcony                      -0.034845      0.173298    -0.014645  0.169051   \n",
       "airports_nearest             -0.076440      0.107092    -0.057714  0.071826   \n",
       "cityCenters_nearest          -0.276551      0.018382    -0.231170  0.008508   \n",
       "parks_around3000              0.231422     -0.158492     0.212109 -0.104945   \n",
       "parks_nearest                -0.056890      0.097051    -0.050004  0.073157   \n",
       "ponds_around3000              0.204246     -0.049201     0.182950 -0.029920   \n",
       "ponds_nearest                -0.107493      0.040189    -0.082420  0.025923   \n",
       "days_exposition               0.103045     -0.052773     0.142171 -0.039501   \n",
       "price_one_meter               0.267792      0.172603     0.172585  0.147074   \n",
       "cityCenters_nearest_km       -0.276057      0.018466    -0.231429  0.008531   \n",
       "day_exposition               -0.021569      0.012543    -0.005597  0.011746   \n",
       "month_exposition             -0.001340      0.016016    -0.002602  0.019480   \n",
       "year_exposition              -0.050378      0.008477    -0.072166  0.005273   \n",
       "\n",
       "                        is_apartment    studio  ...  parks_around3000  \\\n",
       "total_images                0.010512 -0.029389  ...          0.036990   \n",
       "last_price                  0.026964 -0.025363  ...          0.197704   \n",
       "total_area                  0.032141       NaN  ...          0.209993   \n",
       "rooms                       0.000422 -0.147371  ...          0.157095   \n",
       "ceiling_height              0.089118  0.010003  ...          0.231422   \n",
       "floors_total               -0.026345  0.069591  ...         -0.158492   \n",
       "living_area                 0.027007 -0.056235  ...          0.212109   \n",
       "floor                      -0.013321  0.036978  ...         -0.104945   \n",
       "is_apartment                1.000000 -0.003665  ...          0.021581   \n",
       "studio                     -0.003665  1.000000  ...         -0.032055   \n",
       "open_plan                  -0.002453 -0.004244  ...         -0.016400   \n",
       "kitchen_area                0.049134       NaN  ...          0.119148   \n",
       "balcony                     0.033013  0.028865  ...         -0.069907   \n",
       "airports_nearest            0.016444 -0.021944  ...          0.000590   \n",
       "cityCenters_nearest         0.003699 -0.007093  ...         -0.161071   \n",
       "parks_around3000            0.021581 -0.032055  ...          1.000000   \n",
       "parks_nearest              -0.033422  0.009132  ...         -0.259420   \n",
       "ponds_around3000            0.024467 -0.009656  ...          0.393094   \n",
       "ponds_nearest               0.003344  0.002587  ...         -0.168088   \n",
       "days_exposition             0.015303 -0.022447  ...          0.054969   \n",
       "price_one_meter             0.035232       NaN  ...          0.253974   \n",
       "cityCenters_nearest_km      0.003270 -0.006809  ...         -0.160698   \n",
       "day_exposition             -0.009488 -0.000818  ...         -0.011189   \n",
       "month_exposition            0.002352  0.000944  ...         -0.003009   \n",
       "year_exposition             0.009313  0.011775  ...         -0.048287   \n",
       "\n",
       "                        parks_nearest  ponds_around3000  ponds_nearest  \\\n",
       "total_images                -0.008158          0.011077      -0.003424   \n",
       "last_price                  -0.016310          0.208842      -0.085193   \n",
       "total_area                  -0.034565          0.199721      -0.098699   \n",
       "rooms                       -0.054236          0.121450      -0.058705   \n",
       "ceiling_height              -0.056890          0.204246      -0.107493   \n",
       "floors_total                 0.097051         -0.049201       0.040189   \n",
       "living_area                 -0.050004          0.182950      -0.082420   \n",
       "floor                        0.073157         -0.029920       0.025923   \n",
       "is_apartment                -0.033422          0.024467       0.003344   \n",
       "studio                       0.009132         -0.009656       0.002587   \n",
       "open_plan                    0.010612         -0.004101      -0.003345   \n",
       "kitchen_area                 0.029467          0.176607      -0.105349   \n",
       "balcony                      0.033774         -0.038125       0.020279   \n",
       "airports_nearest            -0.070293         -0.049590       0.013641   \n",
       "cityCenters_nearest         -0.040676         -0.073970       0.029704   \n",
       "parks_around3000            -0.259420          0.393094      -0.168088   \n",
       "parks_nearest                1.000000          0.077188       0.000592   \n",
       "ponds_around3000             0.077188          1.000000      -0.342321   \n",
       "ponds_nearest                0.000592         -0.342321       1.000000   \n",
       "days_exposition              0.023674          0.065578      -0.078843   \n",
       "price_one_meter              0.017283          0.277417      -0.100979   \n",
       "cityCenters_nearest_km      -0.040805         -0.073236       0.028928   \n",
       "day_exposition              -0.004489         -0.000651      -0.002038   \n",
       "month_exposition             0.018741         -0.005780       0.012499   \n",
       "year_exposition             -0.020455         -0.047971       0.038363   \n",
       "\n",
       "                        days_exposition  price_one_meter  \\\n",
       "total_images                  -0.027415         0.126081   \n",
       "last_price                     0.080937         0.727779   \n",
       "total_area                     0.144901         0.236408   \n",
       "rooms                          0.126497         0.031222   \n",
       "ceiling_height                 0.103045         0.267792   \n",
       "floors_total                  -0.052773         0.172603   \n",
       "living_area                    0.142171         0.172585   \n",
       "floor                         -0.039501         0.147074   \n",
       "is_apartment                   0.015303         0.035232   \n",
       "studio                        -0.022447              NaN   \n",
       "open_plan                     -0.024099              NaN   \n",
       "kitchen_area                   0.101063         0.363644   \n",
       "balcony                       -0.027430         0.028663   \n",
       "airports_nearest              -0.017999        -0.020253   \n",
       "cityCenters_nearest           -0.059481        -0.279108   \n",
       "parks_around3000               0.054969         0.253974   \n",
       "parks_nearest                  0.023674         0.017283   \n",
       "ponds_around3000               0.065578         0.277417   \n",
       "ponds_nearest                 -0.078843        -0.100979   \n",
       "days_exposition                1.000000         0.042410   \n",
       "price_one_meter                0.042410         1.000000   \n",
       "cityCenters_nearest_km        -0.059086        -0.278627   \n",
       "day_exposition                -0.024614        -0.010394   \n",
       "month_exposition              -0.030021         0.001494   \n",
       "year_exposition               -0.611616         0.001819   \n",
       "\n",
       "                        cityCenters_nearest_km  day_exposition  \\\n",
       "total_images                         -0.047887       -0.010510   \n",
       "last_price                           -0.206954        0.001607   \n",
       "total_area                           -0.244559       -0.007945   \n",
       "rooms                                -0.184543       -0.004316   \n",
       "ceiling_height                       -0.276057       -0.021569   \n",
       "floors_total                          0.018466        0.012543   \n",
       "living_area                          -0.231429       -0.005597   \n",
       "floor                                 0.008531        0.011746   \n",
       "is_apartment                          0.003270       -0.009488   \n",
       "studio                               -0.006809       -0.000818   \n",
       "open_plan                            -0.004251        0.011072   \n",
       "kitchen_area                         -0.191036       -0.007967   \n",
       "balcony                               0.064404       -0.001343   \n",
       "airports_nearest                      0.271766        0.001350   \n",
       "cityCenters_nearest                   0.999430        0.008604   \n",
       "parks_around3000                     -0.160698       -0.011189   \n",
       "parks_nearest                        -0.040805       -0.004489   \n",
       "ponds_around3000                     -0.073236       -0.000651   \n",
       "ponds_nearest                         0.028928       -0.002038   \n",
       "days_exposition                      -0.059086       -0.024614   \n",
       "price_one_meter                      -0.278627       -0.010394   \n",
       "cityCenters_nearest_km                1.000000        0.008439   \n",
       "day_exposition                        0.008439        1.000000   \n",
       "month_exposition                     -0.009178        0.011354   \n",
       "year_exposition                       0.029903       -0.003844   \n",
       "\n",
       "                        month_exposition  year_exposition  \n",
       "total_images                    0.004837         0.140884  \n",
       "last_price                      0.002741        -0.042927  \n",
       "total_area                      0.000952        -0.075700  \n",
       "rooms                          -0.004388        -0.054641  \n",
       "ceiling_height                 -0.001340        -0.050378  \n",
       "floors_total                    0.016016         0.008477  \n",
       "living_area                    -0.002602        -0.072166  \n",
       "floor                           0.019480         0.005273  \n",
       "is_apartment                    0.002352         0.009313  \n",
       "studio                          0.000944         0.011775  \n",
       "open_plan                       0.025770        -0.021304  \n",
       "kitchen_area                    0.002617        -0.055091  \n",
       "balcony                         0.009648         0.003478  \n",
       "airports_nearest                0.006612         0.007725  \n",
       "cityCenters_nearest            -0.009163         0.030217  \n",
       "parks_around3000               -0.003009        -0.048287  \n",
       "parks_nearest                   0.018741        -0.020455  \n",
       "ponds_around3000               -0.005780        -0.047971  \n",
       "ponds_nearest                   0.012499         0.038363  \n",
       "days_exposition                -0.030021        -0.611616  \n",
       "price_one_meter                 0.001494         0.001819  \n",
       "cityCenters_nearest_km         -0.009178         0.029903  \n",
       "day_exposition                  0.011354        -0.003844  \n",
       "month_exposition                1.000000        -0.271176  \n",
       "year_exposition                -0.271176         1.000000  \n",
       "\n",
       "[25 rows x 25 columns]"
      ]
     },
     "execution_count": 12,
     "metadata": {},
     "output_type": "execute_result"
    }
   ],
   "source": [
    "data.corr()\n",
    "#проверяю результат сводной таблицей по корреляции"
   ]
  },
  {
   "cell_type": "markdown",
   "metadata": {},
   "source": [
    "### Общий вывод"
   ]
  },
  {
   "cell_type": "markdown",
   "metadata": {},
   "source": [
    "Исследуя ахив объявлений о продаже недвижимости по Санкт-Петербургу и ближайшим окрестностям можно сделать следующие выводы:\n",
    "  - Средняя стоимость недвижимости растет по мере приближения к территориальному центру (Санкт-Петербургу);\n",
    "  - Самый большой коэфициент влияющий на стоимость квартиры: Общая площадь. В меньшей мере на стоимость влияют (по отдельности): жилая площадь, площадь кухни, кол-во комнат. Дата размещения объявления и тип квартиры (этажность) на конечную стоимость влияния не оказывают;\n",
    "  - Средняя стоимость квадратного метра нежвижимости в п.Репино выше, чем в Санкт-Петербурге"
   ]
  }
 ],
 "metadata": {
  "ExecuteTimeLog": [
   {
    "duration": 8,
    "start_time": "2022-06-19T16:14:05.849Z"
   },
   {
    "duration": 36,
    "start_time": "2022-06-19T16:15:19.513Z"
   },
   {
    "duration": 491,
    "start_time": "2022-06-19T16:16:52.473Z"
   },
   {
    "duration": 12,
    "start_time": "2022-06-19T16:17:36.245Z"
   },
   {
    "duration": 24,
    "start_time": "2022-06-19T16:17:42.262Z"
   },
   {
    "duration": 22,
    "start_time": "2022-06-19T16:17:47.062Z"
   },
   {
    "duration": 18,
    "start_time": "2022-06-19T16:17:51.858Z"
   },
   {
    "duration": 32,
    "start_time": "2022-06-19T17:05:50.566Z"
   },
   {
    "duration": 22,
    "start_time": "2022-06-19T17:11:42.576Z"
   },
   {
    "duration": 41,
    "start_time": "2022-06-19T17:57:20.312Z"
   },
   {
    "duration": 311,
    "start_time": "2022-06-19T17:58:00.494Z"
   },
   {
    "duration": 100,
    "start_time": "2022-06-19T17:58:53.627Z"
   },
   {
    "duration": 106,
    "start_time": "2022-06-19T17:59:28.233Z"
   },
   {
    "duration": 566,
    "start_time": "2022-06-20T09:14:47.600Z"
   },
   {
    "duration": 96,
    "start_time": "2022-06-20T09:15:04.751Z"
   },
   {
    "duration": 149,
    "start_time": "2022-06-20T09:17:16.491Z"
   },
   {
    "duration": 94,
    "start_time": "2022-06-20T09:18:49.786Z"
   },
   {
    "duration": 2140,
    "start_time": "2022-06-20T09:23:38.911Z"
   },
   {
    "duration": 1931,
    "start_time": "2022-06-20T09:25:29.633Z"
   },
   {
    "duration": 1817,
    "start_time": "2022-06-20T09:25:46.804Z"
   },
   {
    "duration": 572,
    "start_time": "2022-06-20T09:40:18.536Z"
   },
   {
    "duration": 89,
    "start_time": "2022-06-20T09:40:24.198Z"
   },
   {
    "duration": 1700,
    "start_time": "2022-06-20T09:43:49.744Z"
   },
   {
    "duration": 87,
    "start_time": "2022-06-20T09:49:22.462Z"
   },
   {
    "duration": 91,
    "start_time": "2022-06-20T09:50:10.795Z"
   },
   {
    "duration": 94,
    "start_time": "2022-06-20T09:50:18.818Z"
   },
   {
    "duration": 1791,
    "start_time": "2022-06-20T10:02:36.650Z"
   },
   {
    "duration": 100,
    "start_time": "2022-06-20T10:06:57.010Z"
   },
   {
    "duration": 92,
    "start_time": "2022-06-20T10:19:08.004Z"
   },
   {
    "duration": 102,
    "start_time": "2022-06-20T10:19:13.535Z"
   },
   {
    "duration": 84,
    "start_time": "2022-06-20T10:19:36.916Z"
   },
   {
    "duration": 86,
    "start_time": "2022-06-20T10:20:45.165Z"
   },
   {
    "duration": 5,
    "start_time": "2022-06-20T10:21:18.506Z"
   },
   {
    "duration": 5,
    "start_time": "2022-06-20T10:22:11.948Z"
   },
   {
    "duration": 113,
    "start_time": "2022-06-20T10:22:32.977Z"
   },
   {
    "duration": 20,
    "start_time": "2022-06-20T10:23:09.679Z"
   },
   {
    "duration": 6,
    "start_time": "2022-06-20T10:23:30.746Z"
   },
   {
    "duration": 5,
    "start_time": "2022-06-20T10:23:45.734Z"
   },
   {
    "duration": 5,
    "start_time": "2022-06-20T10:24:30.059Z"
   },
   {
    "duration": 13,
    "start_time": "2022-06-20T10:25:26.775Z"
   },
   {
    "duration": 18,
    "start_time": "2022-06-20T10:25:31.903Z"
   },
   {
    "duration": 6,
    "start_time": "2022-06-20T10:25:42.286Z"
   },
   {
    "duration": 6,
    "start_time": "2022-06-20T10:26:29.855Z"
   },
   {
    "duration": 7,
    "start_time": "2022-06-20T10:26:45.751Z"
   },
   {
    "duration": 4,
    "start_time": "2022-06-20T10:27:10.554Z"
   },
   {
    "duration": 11,
    "start_time": "2022-06-20T10:28:13.270Z"
   },
   {
    "duration": 9,
    "start_time": "2022-06-20T10:28:37.293Z"
   },
   {
    "duration": 13,
    "start_time": "2022-06-20T10:28:41.354Z"
   },
   {
    "duration": 4,
    "start_time": "2022-06-20T10:28:47.094Z"
   },
   {
    "duration": 12,
    "start_time": "2022-06-20T10:29:09.192Z"
   },
   {
    "duration": 1410,
    "start_time": "2022-06-20T10:29:30.405Z"
   },
   {
    "duration": 1355,
    "start_time": "2022-06-20T10:29:33.799Z"
   },
   {
    "duration": 7,
    "start_time": "2022-06-20T10:29:54.232Z"
   },
   {
    "duration": 104,
    "start_time": "2022-06-20T10:30:27.812Z"
   },
   {
    "duration": 7,
    "start_time": "2022-06-20T10:30:53.859Z"
   },
   {
    "duration": 7,
    "start_time": "2022-06-20T10:31:13.131Z"
   },
   {
    "duration": 6,
    "start_time": "2022-06-20T10:32:27.290Z"
   },
   {
    "duration": 96,
    "start_time": "2022-06-20T10:32:48.212Z"
   },
   {
    "duration": 7,
    "start_time": "2022-06-20T10:33:53.231Z"
   },
   {
    "duration": 6,
    "start_time": "2022-06-20T10:34:52.943Z"
   },
   {
    "duration": 7,
    "start_time": "2022-06-20T10:36:51.608Z"
   },
   {
    "duration": 8,
    "start_time": "2022-06-20T10:38:08.058Z"
   },
   {
    "duration": 208,
    "start_time": "2022-06-20T10:38:14.917Z"
   },
   {
    "duration": 9,
    "start_time": "2022-06-20T10:38:19.627Z"
   },
   {
    "duration": 8,
    "start_time": "2022-06-20T10:38:47.763Z"
   },
   {
    "duration": 8,
    "start_time": "2022-06-20T10:38:58.270Z"
   },
   {
    "duration": 7,
    "start_time": "2022-06-20T10:39:02.386Z"
   },
   {
    "duration": 11,
    "start_time": "2022-06-20T10:39:58.679Z"
   },
   {
    "duration": 12,
    "start_time": "2022-06-20T10:40:24.728Z"
   },
   {
    "duration": 10,
    "start_time": "2022-06-20T10:41:13.628Z"
   },
   {
    "duration": 41,
    "start_time": "2022-06-20T10:42:34.849Z"
   },
   {
    "duration": 36,
    "start_time": "2022-06-20T10:42:41.305Z"
   },
   {
    "duration": 67,
    "start_time": "2022-06-20T10:42:58.286Z"
   },
   {
    "duration": 50,
    "start_time": "2022-06-20T10:43:04.178Z"
   },
   {
    "duration": 36,
    "start_time": "2022-06-20T10:43:12.674Z"
   },
   {
    "duration": 23,
    "start_time": "2022-06-20T10:44:22.201Z"
   },
   {
    "duration": 6,
    "start_time": "2022-06-20T10:45:19.817Z"
   },
   {
    "duration": 9,
    "start_time": "2022-06-20T10:45:28.683Z"
   },
   {
    "duration": 9,
    "start_time": "2022-06-20T10:55:23.189Z"
   },
   {
    "duration": 6,
    "start_time": "2022-06-20T10:55:38.637Z"
   },
   {
    "duration": 71,
    "start_time": "2022-06-20T10:56:58.024Z"
   },
   {
    "duration": 74,
    "start_time": "2022-06-20T10:57:09.905Z"
   },
   {
    "duration": 8,
    "start_time": "2022-06-20T10:57:15.501Z"
   },
   {
    "duration": 7,
    "start_time": "2022-06-20T10:57:38.702Z"
   },
   {
    "duration": 8,
    "start_time": "2022-06-20T10:57:45.910Z"
   },
   {
    "duration": 7,
    "start_time": "2022-06-20T10:57:55.874Z"
   },
   {
    "duration": 99,
    "start_time": "2022-06-20T10:58:03.247Z"
   },
   {
    "duration": 9,
    "start_time": "2022-06-20T10:58:07.321Z"
   },
   {
    "duration": 8,
    "start_time": "2022-06-20T10:58:15.227Z"
   },
   {
    "duration": 76,
    "start_time": "2022-06-20T11:02:05.696Z"
   },
   {
    "duration": 76,
    "start_time": "2022-06-20T11:02:12.214Z"
   },
   {
    "duration": 75,
    "start_time": "2022-06-20T11:02:21.617Z"
   },
   {
    "duration": 7,
    "start_time": "2022-06-20T11:07:06.383Z"
   },
   {
    "duration": 8,
    "start_time": "2022-06-20T11:07:33.896Z"
   },
   {
    "duration": 91,
    "start_time": "2022-06-20T11:07:41.526Z"
   },
   {
    "duration": 10,
    "start_time": "2022-06-20T11:07:44.435Z"
   },
   {
    "duration": 14,
    "start_time": "2022-06-20T11:08:39.169Z"
   },
   {
    "duration": 13,
    "start_time": "2022-06-20T11:08:50.440Z"
   },
   {
    "duration": 17,
    "start_time": "2022-06-20T11:10:17.138Z"
   },
   {
    "duration": 19,
    "start_time": "2022-06-20T11:10:25.328Z"
   },
   {
    "duration": 519,
    "start_time": "2022-06-20T11:11:16.093Z"
   },
   {
    "duration": 17,
    "start_time": "2022-06-20T11:11:23.902Z"
   },
   {
    "duration": 25,
    "start_time": "2022-06-20T11:15:33.916Z"
   },
   {
    "duration": 555,
    "start_time": "2022-06-20T11:20:46.807Z"
   },
   {
    "duration": 27,
    "start_time": "2022-06-20T11:21:19.044Z"
   },
   {
    "duration": 16,
    "start_time": "2022-06-20T11:22:20.995Z"
   },
   {
    "duration": 35,
    "start_time": "2022-06-20T11:23:17.660Z"
   },
   {
    "duration": 20,
    "start_time": "2022-06-20T11:23:27.638Z"
   },
   {
    "duration": 18,
    "start_time": "2022-06-20T11:24:40.164Z"
   },
   {
    "duration": 16,
    "start_time": "2022-06-20T11:25:11.289Z"
   },
   {
    "duration": 20,
    "start_time": "2022-06-20T11:25:18.350Z"
   },
   {
    "duration": 27,
    "start_time": "2022-06-20T11:25:36.146Z"
   },
   {
    "duration": 21,
    "start_time": "2022-06-20T11:25:55.663Z"
   },
   {
    "duration": 58,
    "start_time": "2022-06-20T11:26:10.878Z"
   },
   {
    "duration": 75,
    "start_time": "2022-06-20T11:28:24.517Z"
   },
   {
    "duration": 26,
    "start_time": "2022-06-20T11:28:30.326Z"
   },
   {
    "duration": 30,
    "start_time": "2022-06-20T11:28:53.569Z"
   },
   {
    "duration": 38,
    "start_time": "2022-06-20T11:29:16.259Z"
   },
   {
    "duration": 119,
    "start_time": "2022-06-20T11:29:31.955Z"
   },
   {
    "duration": 98,
    "start_time": "2022-06-20T11:29:53.126Z"
   },
   {
    "duration": 42,
    "start_time": "2022-06-20T11:30:06.008Z"
   },
   {
    "duration": 27,
    "start_time": "2022-06-20T11:31:39.148Z"
   },
   {
    "duration": 20,
    "start_time": "2022-06-20T11:31:53.002Z"
   },
   {
    "duration": 27,
    "start_time": "2022-06-20T11:32:02.269Z"
   },
   {
    "duration": 22,
    "start_time": "2022-06-20T11:32:10.278Z"
   },
   {
    "duration": 23,
    "start_time": "2022-06-20T11:32:19.112Z"
   },
   {
    "duration": 21,
    "start_time": "2022-06-20T11:34:09.547Z"
   },
   {
    "duration": 23,
    "start_time": "2022-06-20T11:35:08.512Z"
   },
   {
    "duration": 100,
    "start_time": "2022-06-20T11:35:44.237Z"
   },
   {
    "duration": 32,
    "start_time": "2022-06-20T11:36:06.601Z"
   },
   {
    "duration": 24,
    "start_time": "2022-06-20T11:36:41.400Z"
   },
   {
    "duration": 28,
    "start_time": "2022-06-20T11:37:37.166Z"
   },
   {
    "duration": 21,
    "start_time": "2022-06-20T11:37:52.876Z"
   },
   {
    "duration": 24,
    "start_time": "2022-06-20T11:38:16.467Z"
   },
   {
    "duration": 29,
    "start_time": "2022-06-20T11:38:57.007Z"
   },
   {
    "duration": 20,
    "start_time": "2022-06-20T11:39:02.907Z"
   },
   {
    "duration": 22,
    "start_time": "2022-06-20T11:43:14.164Z"
   },
   {
    "duration": 23,
    "start_time": "2022-06-20T11:43:32.438Z"
   },
   {
    "duration": 24,
    "start_time": "2022-06-20T11:43:58.928Z"
   },
   {
    "duration": 23,
    "start_time": "2022-06-20T11:47:26.701Z"
   },
   {
    "duration": 22,
    "start_time": "2022-06-20T11:47:41.023Z"
   },
   {
    "duration": 23,
    "start_time": "2022-06-20T11:47:45.811Z"
   },
   {
    "duration": 93,
    "start_time": "2022-06-20T11:47:49.975Z"
   },
   {
    "duration": 31,
    "start_time": "2022-06-20T11:47:52.230Z"
   },
   {
    "duration": 389,
    "start_time": "2022-06-20T11:48:26.122Z"
   },
   {
    "duration": 130,
    "start_time": "2022-06-20T11:48:48.928Z"
   },
   {
    "duration": 26,
    "start_time": "2022-06-20T11:49:05.561Z"
   },
   {
    "duration": 37,
    "start_time": "2022-06-20T11:49:52.413Z"
   },
   {
    "duration": 28,
    "start_time": "2022-06-20T11:49:58.266Z"
   },
   {
    "duration": 33,
    "start_time": "2022-06-20T11:50:04.253Z"
   },
   {
    "duration": 39,
    "start_time": "2022-06-20T11:50:18.904Z"
   },
   {
    "duration": 35,
    "start_time": "2022-06-20T11:50:36.156Z"
   },
   {
    "duration": 38,
    "start_time": "2022-06-20T11:50:50.648Z"
   },
   {
    "duration": 38,
    "start_time": "2022-06-20T11:55:24.680Z"
   },
   {
    "duration": 50,
    "start_time": "2022-06-20T13:28:57.167Z"
   },
   {
    "duration": 113,
    "start_time": "2022-06-20T13:31:41.971Z"
   },
   {
    "duration": 59,
    "start_time": "2022-06-20T13:31:44.606Z"
   },
   {
    "duration": 35,
    "start_time": "2022-06-20T13:32:48.623Z"
   },
   {
    "duration": 5,
    "start_time": "2022-06-20T13:33:27.969Z"
   },
   {
    "duration": 35,
    "start_time": "2022-06-20T13:33:35.548Z"
   },
   {
    "duration": 50,
    "start_time": "2022-06-20T13:35:01.106Z"
   },
   {
    "duration": 40,
    "start_time": "2022-06-20T13:35:11.442Z"
   },
   {
    "duration": 57,
    "start_time": "2022-06-20T13:35:39.424Z"
   },
   {
    "duration": 34,
    "start_time": "2022-06-20T13:37:29.252Z"
   },
   {
    "duration": 63,
    "start_time": "2022-06-20T13:44:43.308Z"
   },
   {
    "duration": 52,
    "start_time": "2022-06-20T13:45:03.754Z"
   },
   {
    "duration": 72,
    "start_time": "2022-06-20T13:49:35.820Z"
   },
   {
    "duration": 43,
    "start_time": "2022-06-20T13:49:50.459Z"
   },
   {
    "duration": 47,
    "start_time": "2022-06-20T13:49:59.616Z"
   },
   {
    "duration": 62,
    "start_time": "2022-06-20T13:50:42.423Z"
   },
   {
    "duration": 38,
    "start_time": "2022-06-20T13:50:56.683Z"
   },
   {
    "duration": 52,
    "start_time": "2022-06-20T13:51:05.816Z"
   },
   {
    "duration": 42,
    "start_time": "2022-06-20T13:51:14.212Z"
   },
   {
    "duration": 44,
    "start_time": "2022-06-20T13:51:46.482Z"
   },
   {
    "duration": 48,
    "start_time": "2022-06-20T13:52:03.150Z"
   },
   {
    "duration": 1374,
    "start_time": "2022-06-20T13:53:12.447Z"
   },
   {
    "duration": 39,
    "start_time": "2022-06-20T13:53:26.361Z"
   },
   {
    "duration": 44,
    "start_time": "2022-06-20T13:54:08.114Z"
   },
   {
    "duration": 30,
    "start_time": "2022-06-20T13:54:32.554Z"
   },
   {
    "duration": 46,
    "start_time": "2022-06-20T13:54:38.714Z"
   },
   {
    "duration": 113,
    "start_time": "2022-06-20T13:55:01.667Z"
   },
   {
    "duration": 60,
    "start_time": "2022-06-20T13:55:04.119Z"
   },
   {
    "duration": 37,
    "start_time": "2022-06-20T13:55:26.285Z"
   },
   {
    "duration": 41,
    "start_time": "2022-06-20T13:55:46.117Z"
   },
   {
    "duration": 33,
    "start_time": "2022-06-20T13:55:53.013Z"
   },
   {
    "duration": 66,
    "start_time": "2022-06-20T13:55:56.630Z"
   },
   {
    "duration": 31,
    "start_time": "2022-06-20T13:56:07.256Z"
   },
   {
    "duration": 37,
    "start_time": "2022-06-20T13:56:13.514Z"
   },
   {
    "duration": 40,
    "start_time": "2022-06-20T13:56:19.062Z"
   },
   {
    "duration": 63,
    "start_time": "2022-06-20T13:56:26.254Z"
   },
   {
    "duration": 37,
    "start_time": "2022-06-20T13:57:08.151Z"
   },
   {
    "duration": 64,
    "start_time": "2022-06-20T13:57:17.017Z"
   },
   {
    "duration": 1589,
    "start_time": "2022-06-20T13:57:40.209Z"
   },
   {
    "duration": 41,
    "start_time": "2022-06-20T13:57:44.279Z"
   },
   {
    "duration": 66,
    "start_time": "2022-06-20T13:58:01.013Z"
   },
   {
    "duration": 30,
    "start_time": "2022-06-20T13:59:09.252Z"
   },
   {
    "duration": 37,
    "start_time": "2022-06-20T13:59:48.319Z"
   },
   {
    "duration": 34,
    "start_time": "2022-06-20T14:00:06.186Z"
   },
   {
    "duration": 47,
    "start_time": "2022-06-20T14:00:13.224Z"
   },
   {
    "duration": 50,
    "start_time": "2022-06-20T14:02:24.619Z"
   },
   {
    "duration": 75,
    "start_time": "2022-06-20T14:03:25.123Z"
   },
   {
    "duration": 36,
    "start_time": "2022-06-20T14:03:50.287Z"
   },
   {
    "duration": 57,
    "start_time": "2022-06-20T14:06:06.618Z"
   },
   {
    "duration": 53,
    "start_time": "2022-06-20T14:08:03.212Z"
   },
   {
    "duration": 42,
    "start_time": "2022-06-20T14:08:41.125Z"
   },
   {
    "duration": 28,
    "start_time": "2022-06-20T14:08:56.661Z"
   },
   {
    "duration": 69,
    "start_time": "2022-06-20T14:09:06.039Z"
   },
   {
    "duration": 62,
    "start_time": "2022-06-20T14:10:12.910Z"
   },
   {
    "duration": 29,
    "start_time": "2022-06-20T14:10:25.665Z"
   },
   {
    "duration": 32,
    "start_time": "2022-06-20T14:11:54.113Z"
   },
   {
    "duration": 31,
    "start_time": "2022-06-20T14:12:07.653Z"
   },
   {
    "duration": 38,
    "start_time": "2022-06-20T14:12:31.271Z"
   },
   {
    "duration": 41,
    "start_time": "2022-06-20T14:13:13.254Z"
   },
   {
    "duration": 40,
    "start_time": "2022-06-20T14:13:30.774Z"
   },
   {
    "duration": 37,
    "start_time": "2022-06-20T14:21:09.820Z"
   },
   {
    "duration": 37,
    "start_time": "2022-06-20T14:23:28.909Z"
   },
   {
    "duration": 35,
    "start_time": "2022-06-20T14:23:41.541Z"
   },
   {
    "duration": 30,
    "start_time": "2022-06-20T14:23:53.500Z"
   },
   {
    "duration": 35,
    "start_time": "2022-06-20T14:29:21.608Z"
   },
   {
    "duration": 32,
    "start_time": "2022-06-20T14:30:27.658Z"
   },
   {
    "duration": 34,
    "start_time": "2022-06-20T14:33:17.545Z"
   },
   {
    "duration": 40,
    "start_time": "2022-06-20T14:33:36.008Z"
   },
   {
    "duration": 32,
    "start_time": "2022-06-20T14:33:44.642Z"
   },
   {
    "duration": 33,
    "start_time": "2022-06-20T14:34:31.542Z"
   },
   {
    "duration": 31,
    "start_time": "2022-06-20T14:51:12.210Z"
   },
   {
    "duration": 30,
    "start_time": "2022-06-20T14:51:34.349Z"
   },
   {
    "duration": 36,
    "start_time": "2022-06-20T14:52:03.024Z"
   },
   {
    "duration": 40,
    "start_time": "2022-06-20T14:52:14.611Z"
   },
   {
    "duration": 37,
    "start_time": "2022-06-20T14:54:21.997Z"
   },
   {
    "duration": 11,
    "start_time": "2022-06-20T14:57:50.335Z"
   },
   {
    "duration": 5,
    "start_time": "2022-06-20T14:58:29.449Z"
   },
   {
    "duration": 15,
    "start_time": "2022-06-20T15:04:05.917Z"
   },
   {
    "duration": 536,
    "start_time": "2022-06-22T10:53:25.453Z"
   },
   {
    "duration": 44,
    "start_time": "2022-06-22T10:53:28.913Z"
   },
   {
    "duration": 31,
    "start_time": "2022-06-22T10:53:51.783Z"
   },
   {
    "duration": 16,
    "start_time": "2022-06-22T11:08:37.654Z"
   },
   {
    "duration": 6,
    "start_time": "2022-06-22T11:12:22.171Z"
   },
   {
    "duration": 9,
    "start_time": "2022-06-22T11:12:34.949Z"
   },
   {
    "duration": 7,
    "start_time": "2022-06-22T11:13:22.449Z"
   },
   {
    "duration": 7,
    "start_time": "2022-06-22T11:13:30.583Z"
   },
   {
    "duration": 8,
    "start_time": "2022-06-22T11:15:51.348Z"
   },
   {
    "duration": 15,
    "start_time": "2022-06-22T11:16:05.280Z"
   },
   {
    "duration": 104,
    "start_time": "2022-06-22T11:24:19.682Z"
   },
   {
    "duration": 94,
    "start_time": "2022-06-22T11:24:59.952Z"
   },
   {
    "duration": 107,
    "start_time": "2022-06-22T11:25:16.800Z"
   },
   {
    "duration": 80,
    "start_time": "2022-06-22T11:25:27.361Z"
   },
   {
    "duration": 79,
    "start_time": "2022-06-22T11:25:46.882Z"
   },
   {
    "duration": 84,
    "start_time": "2022-06-22T11:26:43.779Z"
   },
   {
    "duration": 1250,
    "start_time": "2022-06-22T11:26:54.344Z"
   },
   {
    "duration": 1293,
    "start_time": "2022-06-22T11:27:04.728Z"
   },
   {
    "duration": 103,
    "start_time": "2022-06-22T11:29:55.241Z"
   },
   {
    "duration": 95,
    "start_time": "2022-06-22T11:30:06.280Z"
   },
   {
    "duration": 1326,
    "start_time": "2022-06-22T11:30:17.823Z"
   },
   {
    "duration": 364,
    "start_time": "2022-06-22T11:35:36.650Z"
   },
   {
    "duration": 103,
    "start_time": "2022-06-22T11:35:45.720Z"
   },
   {
    "duration": 18,
    "start_time": "2022-06-22T11:36:23.459Z"
   },
   {
    "duration": 72,
    "start_time": "2022-06-22T11:36:54.121Z"
   },
   {
    "duration": 295,
    "start_time": "2022-06-22T11:46:31.229Z"
   },
   {
    "duration": 269,
    "start_time": "2022-06-22T11:47:08.138Z"
   },
   {
    "duration": 25,
    "start_time": "2022-06-22T11:48:03.742Z"
   },
   {
    "duration": 99,
    "start_time": "2022-06-22T11:48:07.992Z"
   },
   {
    "duration": 30,
    "start_time": "2022-06-22T11:48:13.076Z"
   },
   {
    "duration": 273,
    "start_time": "2022-06-22T11:48:16.726Z"
   },
   {
    "duration": 11,
    "start_time": "2022-06-22T11:56:04.916Z"
   },
   {
    "duration": 12,
    "start_time": "2022-06-22T11:56:11.565Z"
   },
   {
    "duration": 247,
    "start_time": "2022-06-22T11:57:18.565Z"
   },
   {
    "duration": 12,
    "start_time": "2022-06-22T12:01:36.585Z"
   },
   {
    "duration": 13,
    "start_time": "2022-06-22T12:02:45.644Z"
   },
   {
    "duration": 80,
    "start_time": "2022-06-22T12:04:48.342Z"
   },
   {
    "duration": 31,
    "start_time": "2022-06-22T12:04:51.429Z"
   },
   {
    "duration": 12,
    "start_time": "2022-06-22T12:04:54.050Z"
   },
   {
    "duration": 77,
    "start_time": "2022-06-22T12:05:58.333Z"
   },
   {
    "duration": 2335,
    "start_time": "2022-06-22T12:17:20.046Z"
   },
   {
    "duration": 198,
    "start_time": "2022-06-22T12:18:24.474Z"
   },
   {
    "duration": 4,
    "start_time": "2022-06-22T12:18:56.512Z"
   },
   {
    "duration": 139,
    "start_time": "2022-06-22T12:19:29.320Z"
   },
   {
    "duration": 16,
    "start_time": "2022-06-22T12:20:07.448Z"
   },
   {
    "duration": 9,
    "start_time": "2022-06-22T12:21:04.411Z"
   },
   {
    "duration": 166,
    "start_time": "2022-06-22T12:23:07.446Z"
   },
   {
    "duration": 106,
    "start_time": "2022-06-22T12:26:26.995Z"
   },
   {
    "duration": 15,
    "start_time": "2022-06-22T12:26:53.971Z"
   },
   {
    "duration": 13,
    "start_time": "2022-06-22T12:26:59.082Z"
   },
   {
    "duration": 17,
    "start_time": "2022-06-22T12:29:46.191Z"
   },
   {
    "duration": 256,
    "start_time": "2022-06-22T12:30:15.488Z"
   },
   {
    "duration": 87,
    "start_time": "2022-06-22T12:34:18.242Z"
   },
   {
    "duration": 75,
    "start_time": "2022-06-22T12:34:50.285Z"
   },
   {
    "duration": 950,
    "start_time": "2022-06-22T12:36:51.553Z"
   },
   {
    "duration": 874,
    "start_time": "2022-06-22T12:37:33.256Z"
   },
   {
    "duration": 880,
    "start_time": "2022-06-22T12:37:44.075Z"
   },
   {
    "duration": 239,
    "start_time": "2022-06-22T12:37:54.436Z"
   },
   {
    "duration": 272,
    "start_time": "2022-06-22T12:41:34.911Z"
   },
   {
    "duration": 163,
    "start_time": "2022-06-22T12:42:59.984Z"
   },
   {
    "duration": 299,
    "start_time": "2022-06-22T12:46:21.476Z"
   },
   {
    "duration": 847,
    "start_time": "2022-06-22T12:46:31.823Z"
   },
   {
    "duration": 248,
    "start_time": "2022-06-22T12:46:51.136Z"
   },
   {
    "duration": 965,
    "start_time": "2022-06-22T12:47:26.690Z"
   },
   {
    "duration": 247,
    "start_time": "2022-06-22T12:53:28.564Z"
   },
   {
    "duration": 249,
    "start_time": "2022-06-22T12:53:45.312Z"
   },
   {
    "duration": 921,
    "start_time": "2022-06-22T12:58:13.711Z"
   },
   {
    "duration": 886,
    "start_time": "2022-06-22T12:58:28.161Z"
   },
   {
    "duration": 242,
    "start_time": "2022-06-22T12:59:18.960Z"
   },
   {
    "duration": 358,
    "start_time": "2022-06-22T12:59:37.994Z"
   },
   {
    "duration": 277,
    "start_time": "2022-06-22T13:00:52.464Z"
   },
   {
    "duration": 265,
    "start_time": "2022-06-22T13:00:59.870Z"
   },
   {
    "duration": 271,
    "start_time": "2022-06-22T13:01:36.790Z"
   },
   {
    "duration": 271,
    "start_time": "2022-06-22T15:26:01.798Z"
   },
   {
    "duration": 49,
    "start_time": "2022-06-22T15:27:18.077Z"
   },
   {
    "duration": 103,
    "start_time": "2022-06-22T15:27:29.550Z"
   },
   {
    "duration": 33,
    "start_time": "2022-06-22T15:27:31.548Z"
   },
   {
    "duration": 311,
    "start_time": "2022-06-22T15:27:32.105Z"
   },
   {
    "duration": 160,
    "start_time": "2022-06-22T15:27:32.604Z"
   },
   {
    "duration": 374,
    "start_time": "2022-06-22T15:30:58.185Z"
   },
   {
    "duration": 372,
    "start_time": "2022-06-22T15:31:33.429Z"
   },
   {
    "duration": 252,
    "start_time": "2022-06-22T15:32:07.715Z"
   },
   {
    "duration": 360,
    "start_time": "2022-06-22T15:33:39.715Z"
   },
   {
    "duration": 1550,
    "start_time": "2022-06-22T15:33:55.495Z"
   },
   {
    "duration": 172,
    "start_time": "2022-06-22T15:39:15.634Z"
   },
   {
    "duration": 169,
    "start_time": "2022-06-22T15:39:37.444Z"
   },
   {
    "duration": 150,
    "start_time": "2022-06-22T15:42:56.995Z"
   },
   {
    "duration": 163,
    "start_time": "2022-06-22T15:43:46.704Z"
   },
   {
    "duration": 165,
    "start_time": "2022-06-22T15:44:27.774Z"
   },
   {
    "duration": 4,
    "start_time": "2022-06-22T15:45:12.428Z"
   },
   {
    "duration": 3,
    "start_time": "2022-06-22T15:45:20.908Z"
   },
   {
    "duration": 101,
    "start_time": "2022-06-22T15:46:20.097Z"
   },
   {
    "duration": 178,
    "start_time": "2022-06-22T15:46:21.368Z"
   },
   {
    "duration": 279,
    "start_time": "2022-06-22T15:46:21.703Z"
   },
   {
    "duration": 4,
    "start_time": "2022-06-22T15:46:22.043Z"
   },
   {
    "duration": 239,
    "start_time": "2022-06-22T15:47:12.678Z"
   },
   {
    "duration": 234,
    "start_time": "2022-06-22T15:47:32.817Z"
   },
   {
    "duration": 244,
    "start_time": "2022-06-22T15:53:28.541Z"
   },
   {
    "duration": 276,
    "start_time": "2022-06-22T15:53:50.266Z"
   },
   {
    "duration": 370,
    "start_time": "2022-06-22T15:55:22.594Z"
   },
   {
    "duration": 355,
    "start_time": "2022-06-22T15:55:28.352Z"
   },
   {
    "duration": 211,
    "start_time": "2022-06-22T15:55:40.055Z"
   },
   {
    "duration": 224,
    "start_time": "2022-06-22T15:56:19.235Z"
   },
   {
    "duration": 277,
    "start_time": "2022-06-22T15:56:25.923Z"
   },
   {
    "duration": 217,
    "start_time": "2022-06-22T15:56:33.409Z"
   },
   {
    "duration": 377,
    "start_time": "2022-06-22T15:58:21.400Z"
   },
   {
    "duration": 15,
    "start_time": "2022-06-22T15:58:38.183Z"
   },
   {
    "duration": 10,
    "start_time": "2022-06-22T16:00:51.889Z"
   },
   {
    "duration": 5,
    "start_time": "2022-06-22T16:01:23.669Z"
   },
   {
    "duration": 5,
    "start_time": "2022-06-22T16:01:39.845Z"
   },
   {
    "duration": 5,
    "start_time": "2022-06-22T16:02:00.221Z"
   },
   {
    "duration": 9,
    "start_time": "2022-06-22T16:02:15.984Z"
   },
   {
    "duration": 10,
    "start_time": "2022-06-22T16:02:51.613Z"
   },
   {
    "duration": 8,
    "start_time": "2022-06-22T16:02:59.577Z"
   },
   {
    "duration": 8,
    "start_time": "2022-06-22T16:03:52.072Z"
   },
   {
    "duration": 78,
    "start_time": "2022-06-22T16:04:29.732Z"
   },
   {
    "duration": 5,
    "start_time": "2022-06-22T16:04:41.940Z"
   },
   {
    "duration": 15,
    "start_time": "2022-06-22T16:10:12.982Z"
   },
   {
    "duration": 242,
    "start_time": "2022-06-22T16:16:17.602Z"
   },
   {
    "duration": 192,
    "start_time": "2022-06-22T16:16:24.142Z"
   },
   {
    "duration": 190,
    "start_time": "2022-06-22T16:16:35.099Z"
   },
   {
    "duration": 225,
    "start_time": "2022-06-22T16:16:49.568Z"
   },
   {
    "duration": 4,
    "start_time": "2022-06-22T16:17:06.566Z"
   },
   {
    "duration": 308,
    "start_time": "2022-06-22T16:17:21.268Z"
   },
   {
    "duration": 562,
    "start_time": "2022-06-22T16:17:40.972Z"
   },
   {
    "duration": 358,
    "start_time": "2022-06-22T16:17:59.966Z"
   },
   {
    "duration": 325,
    "start_time": "2022-06-22T16:18:10.568Z"
   },
   {
    "duration": 470,
    "start_time": "2022-06-22T16:19:07.800Z"
   },
   {
    "duration": 648,
    "start_time": "2022-06-22T16:19:24.166Z"
   },
   {
    "duration": 1139,
    "start_time": "2022-06-22T16:21:11.246Z"
   },
   {
    "duration": 1342,
    "start_time": "2022-06-22T16:21:44.972Z"
   },
   {
    "duration": 522,
    "start_time": "2022-06-22T16:22:10.307Z"
   },
   {
    "duration": 867,
    "start_time": "2022-06-22T16:22:17.216Z"
   },
   {
    "duration": 73,
    "start_time": "2022-06-22T16:23:08.841Z"
   },
   {
    "duration": 270,
    "start_time": "2022-06-22T16:23:18.283Z"
   },
   {
    "duration": 672,
    "start_time": "2022-06-22T16:23:56.230Z"
   },
   {
    "duration": 652,
    "start_time": "2022-06-22T16:25:06.832Z"
   },
   {
    "duration": 840,
    "start_time": "2022-06-22T16:25:37.002Z"
   },
   {
    "duration": 878,
    "start_time": "2022-06-22T16:25:49.351Z"
   },
   {
    "duration": 1087,
    "start_time": "2022-06-22T16:26:13.322Z"
   },
   {
    "duration": 1236,
    "start_time": "2022-06-22T16:26:41.018Z"
   },
   {
    "duration": 1481,
    "start_time": "2022-06-22T16:27:08.341Z"
   },
   {
    "duration": 1451,
    "start_time": "2022-06-22T16:27:43.594Z"
   },
   {
    "duration": 1775,
    "start_time": "2022-06-22T16:28:19.393Z"
   },
   {
    "duration": 2096,
    "start_time": "2022-06-22T16:28:29.474Z"
   },
   {
    "duration": 1864,
    "start_time": "2022-06-22T16:28:52.849Z"
   },
   {
    "duration": 2429,
    "start_time": "2022-06-22T16:30:02.572Z"
   },
   {
    "duration": 281,
    "start_time": "2022-06-22T16:39:42.279Z"
   },
   {
    "duration": 270,
    "start_time": "2022-06-22T16:40:16.065Z"
   },
   {
    "duration": 2169,
    "start_time": "2022-06-22T16:48:56.425Z"
   },
   {
    "duration": 616,
    "start_time": "2022-06-22T16:52:59.054Z"
   },
   {
    "duration": 865,
    "start_time": "2022-06-22T16:53:08.157Z"
   },
   {
    "duration": 650,
    "start_time": "2022-06-22T16:53:59.849Z"
   },
   {
    "duration": 2138,
    "start_time": "2022-06-22T16:58:47.845Z"
   },
   {
    "duration": 2557,
    "start_time": "2022-06-22T17:00:27.763Z"
   },
   {
    "duration": 91,
    "start_time": "2022-06-22T17:00:35.879Z"
   },
   {
    "duration": 33,
    "start_time": "2022-06-22T17:00:36.977Z"
   },
   {
    "duration": 270,
    "start_time": "2022-06-22T17:00:37.976Z"
   },
   {
    "duration": 1904,
    "start_time": "2022-06-22T17:00:40.007Z"
   },
   {
    "duration": 2708,
    "start_time": "2022-06-22T17:01:29.824Z"
   },
   {
    "duration": 2299,
    "start_time": "2022-06-22T17:02:03.172Z"
   },
   {
    "duration": 2353,
    "start_time": "2022-06-22T17:02:15.330Z"
   },
   {
    "duration": 2194,
    "start_time": "2022-06-22T17:02:28.248Z"
   },
   {
    "duration": 2500,
    "start_time": "2022-06-22T17:04:01.645Z"
   },
   {
    "duration": 535,
    "start_time": "2022-06-22T17:09:25.074Z"
   },
   {
    "duration": 352,
    "start_time": "2022-06-22T17:09:46.685Z"
   },
   {
    "duration": 6,
    "start_time": "2022-06-22T17:10:05.481Z"
   },
   {
    "duration": 8,
    "start_time": "2022-06-22T17:10:09.651Z"
   },
   {
    "duration": 10,
    "start_time": "2022-06-22T17:10:13.645Z"
   },
   {
    "duration": 12,
    "start_time": "2022-06-22T17:10:18.320Z"
   },
   {
    "duration": 345,
    "start_time": "2022-06-22T17:10:21.411Z"
   },
   {
    "duration": 11,
    "start_time": "2022-06-22T17:10:27.936Z"
   },
   {
    "duration": 12,
    "start_time": "2022-06-22T17:10:36.077Z"
   },
   {
    "duration": 12,
    "start_time": "2022-06-22T17:10:40.091Z"
   },
   {
    "duration": 37,
    "start_time": "2022-06-22T17:19:24.070Z"
   },
   {
    "duration": 25,
    "start_time": "2022-06-22T17:20:35.129Z"
   },
   {
    "duration": 268,
    "start_time": "2022-06-22T17:20:36.215Z"
   },
   {
    "duration": 32,
    "start_time": "2022-06-22T17:20:36.757Z"
   },
   {
    "duration": 90,
    "start_time": "2022-06-22T17:20:42.912Z"
   },
   {
    "duration": 32,
    "start_time": "2022-06-22T17:20:44.207Z"
   },
   {
    "duration": 279,
    "start_time": "2022-06-22T17:20:45.493Z"
   },
   {
    "duration": 34,
    "start_time": "2022-06-22T17:20:48.259Z"
   },
   {
    "duration": 25,
    "start_time": "2022-06-22T17:23:18.532Z"
   },
   {
    "duration": 26,
    "start_time": "2022-06-22T17:24:30.969Z"
   },
   {
    "duration": 20,
    "start_time": "2022-06-22T17:24:47.313Z"
   },
   {
    "duration": 25,
    "start_time": "2022-06-22T17:25:09.613Z"
   },
   {
    "duration": 21,
    "start_time": "2022-06-22T17:25:20.504Z"
   },
   {
    "duration": 24,
    "start_time": "2022-06-22T17:26:21.966Z"
   },
   {
    "duration": 25,
    "start_time": "2022-06-22T17:26:42.932Z"
   },
   {
    "duration": 22,
    "start_time": "2022-06-22T17:27:22.745Z"
   },
   {
    "duration": 72,
    "start_time": "2022-06-22T17:33:00.838Z"
   },
   {
    "duration": 47,
    "start_time": "2022-06-22T17:33:08.610Z"
   },
   {
    "duration": 45,
    "start_time": "2022-06-22T17:33:39.989Z"
   },
   {
    "duration": 72,
    "start_time": "2022-06-22T17:33:53.475Z"
   },
   {
    "duration": 40,
    "start_time": "2022-06-22T17:34:05.267Z"
   },
   {
    "duration": 44,
    "start_time": "2022-06-22T17:37:43.701Z"
   },
   {
    "duration": 45,
    "start_time": "2022-06-22T17:40:00.970Z"
   },
   {
    "duration": 108,
    "start_time": "2022-06-22T17:40:16.163Z"
   },
   {
    "duration": 4,
    "start_time": "2022-06-22T17:41:19.519Z"
   },
   {
    "duration": 82,
    "start_time": "2022-06-22T17:42:08.381Z"
   },
   {
    "duration": 62,
    "start_time": "2022-06-25T14:05:12.334Z"
   },
   {
    "duration": 48,
    "start_time": "2022-06-25T14:06:52.860Z"
   },
   {
    "duration": 52,
    "start_time": "2022-06-25T14:07:30.829Z"
   },
   {
    "duration": 49,
    "start_time": "2022-06-25T14:07:36.964Z"
   },
   {
    "duration": 1151,
    "start_time": "2022-06-25T14:25:57.580Z"
   },
   {
    "duration": 265,
    "start_time": "2022-06-25T14:26:00.018Z"
   },
   {
    "duration": 313,
    "start_time": "2022-06-25T14:26:02.994Z"
   },
   {
    "duration": 366,
    "start_time": "2022-06-25T14:26:10.949Z"
   },
   {
    "duration": 113,
    "start_time": "2022-06-25T14:30:00.743Z"
   },
   {
    "duration": 91,
    "start_time": "2022-06-25T14:33:36.364Z"
   },
   {
    "duration": 18,
    "start_time": "2022-06-25T14:47:07.125Z"
   },
   {
    "duration": 11,
    "start_time": "2022-06-25T14:51:37.944Z"
   },
   {
    "duration": 946,
    "start_time": "2022-06-25T14:51:45.546Z"
   },
   {
    "duration": 19,
    "start_time": "2022-06-25T14:59:20.786Z"
   },
   {
    "duration": 20,
    "start_time": "2022-06-25T15:00:45.666Z"
   },
   {
    "duration": 47,
    "start_time": "2022-06-25T15:01:15.632Z"
   },
   {
    "duration": 14,
    "start_time": "2022-06-25T15:01:45.947Z"
   },
   {
    "duration": 15,
    "start_time": "2022-06-25T15:02:08.145Z"
   },
   {
    "duration": 302,
    "start_time": "2022-06-25T15:04:16.912Z"
   },
   {
    "duration": 42,
    "start_time": "2022-06-25T15:04:46.757Z"
   },
   {
    "duration": 40,
    "start_time": "2022-06-25T15:08:47.547Z"
   },
   {
    "duration": 114,
    "start_time": "2022-06-25T15:09:00.321Z"
   },
   {
    "duration": 35,
    "start_time": "2022-06-25T15:09:00.874Z"
   },
   {
    "duration": 328,
    "start_time": "2022-06-25T15:09:01.872Z"
   },
   {
    "duration": 49,
    "start_time": "2022-06-25T15:09:03.953Z"
   },
   {
    "duration": 40,
    "start_time": "2022-06-25T15:09:59.297Z"
   },
   {
    "duration": 42,
    "start_time": "2022-06-25T15:10:16.256Z"
   },
   {
    "duration": 41,
    "start_time": "2022-06-25T15:10:30.858Z"
   },
   {
    "duration": 30,
    "start_time": "2022-06-25T15:12:00.241Z"
   },
   {
    "duration": 43,
    "start_time": "2022-06-25T15:12:46.676Z"
   },
   {
    "duration": 41,
    "start_time": "2022-06-25T15:13:01.767Z"
   },
   {
    "duration": 43,
    "start_time": "2022-06-25T15:13:13.974Z"
   },
   {
    "duration": 46,
    "start_time": "2022-06-25T15:13:47.661Z"
   },
   {
    "duration": 49,
    "start_time": "2022-06-25T15:16:41.108Z"
   },
   {
    "duration": 55,
    "start_time": "2022-06-25T15:16:47.230Z"
   },
   {
    "duration": 57,
    "start_time": "2022-06-25T15:16:55.560Z"
   },
   {
    "duration": 58,
    "start_time": "2022-06-25T15:32:28.521Z"
   },
   {
    "duration": 63,
    "start_time": "2022-06-25T15:32:39.790Z"
   },
   {
    "duration": 53,
    "start_time": "2022-06-25T15:32:45.096Z"
   },
   {
    "duration": 58,
    "start_time": "2022-06-25T15:33:05.647Z"
   },
   {
    "duration": 62,
    "start_time": "2022-06-25T15:33:27.794Z"
   },
   {
    "duration": 51,
    "start_time": "2022-06-25T15:34:34.502Z"
   },
   {
    "duration": 1240,
    "start_time": "2022-06-26T08:11:19.788Z"
   },
   {
    "duration": 35,
    "start_time": "2022-06-26T08:11:21.030Z"
   },
   {
    "duration": 284,
    "start_time": "2022-06-26T08:11:21.067Z"
   },
   {
    "duration": 49,
    "start_time": "2022-06-26T08:11:21.359Z"
   },
   {
    "duration": 79,
    "start_time": "2022-06-26T08:11:21.409Z"
   },
   {
    "duration": 704,
    "start_time": "2022-06-26T08:11:34.793Z"
   },
   {
    "duration": 37,
    "start_time": "2022-06-26T08:11:35.499Z"
   },
   {
    "duration": 286,
    "start_time": "2022-06-26T08:11:35.537Z"
   },
   {
    "duration": 60,
    "start_time": "2022-06-26T08:11:35.825Z"
   },
   {
    "duration": 75,
    "start_time": "2022-06-26T08:11:35.886Z"
   },
   {
    "duration": 639,
    "start_time": "2022-06-26T08:13:52.721Z"
   },
   {
    "duration": 16,
    "start_time": "2022-06-26T08:14:23.789Z"
   },
   {
    "duration": 11,
    "start_time": "2022-06-26T08:18:33.346Z"
   },
   {
    "duration": 1530,
    "start_time": "2022-06-26T08:18:54.684Z"
   },
   {
    "duration": 32,
    "start_time": "2022-06-26T08:19:17.455Z"
   },
   {
    "duration": 13,
    "start_time": "2022-06-26T08:20:31.609Z"
   },
   {
    "duration": 9,
    "start_time": "2022-06-26T08:24:41.265Z"
   },
   {
    "duration": 155,
    "start_time": "2022-06-26T08:24:58.776Z"
   },
   {
    "duration": 134,
    "start_time": "2022-06-26T08:25:14.449Z"
   },
   {
    "duration": 905,
    "start_time": "2022-06-27T17:28:15.775Z"
   },
   {
    "duration": 43,
    "start_time": "2022-06-27T17:28:19.830Z"
   },
   {
    "duration": 30,
    "start_time": "2022-06-27T17:33:38.433Z"
   },
   {
    "duration": 30,
    "start_time": "2022-06-27T17:33:59.038Z"
   },
   {
    "duration": 48,
    "start_time": "2022-06-27T17:37:58.982Z"
   },
   {
    "duration": 42,
    "start_time": "2022-06-27T17:38:12.731Z"
   },
   {
    "duration": 76,
    "start_time": "2022-06-27T17:42:05.044Z"
   },
   {
    "duration": 817,
    "start_time": "2022-06-27T17:42:08.701Z"
   },
   {
    "duration": 99,
    "start_time": "2022-06-27T17:42:27.374Z"
   },
   {
    "duration": 38,
    "start_time": "2022-06-27T17:42:27.667Z"
   },
   {
    "duration": 324,
    "start_time": "2022-06-27T17:42:28.461Z"
   },
   {
    "duration": 17,
    "start_time": "2022-06-27T17:42:29.258Z"
   },
   {
    "duration": 162,
    "start_time": "2022-06-27T17:42:29.412Z"
   },
   {
    "duration": 65,
    "start_time": "2022-06-27T17:42:29.579Z"
   },
   {
    "duration": 72,
    "start_time": "2022-06-27T17:42:29.915Z"
   },
   {
    "duration": 87,
    "start_time": "2022-06-27T17:43:17.114Z"
   },
   {
    "duration": 130,
    "start_time": "2022-06-27T17:43:23.768Z"
   },
   {
    "duration": 121,
    "start_time": "2022-06-27T17:43:40.873Z"
   },
   {
    "duration": 50,
    "start_time": "2022-11-02T10:01:50.314Z"
   },
   {
    "duration": 1095,
    "start_time": "2022-11-02T10:02:00.010Z"
   },
   {
    "duration": 11,
    "start_time": "2022-11-02T10:02:01.108Z"
   },
   {
    "duration": 61,
    "start_time": "2022-11-02T10:02:01.121Z"
   },
   {
    "duration": 321,
    "start_time": "2022-11-02T10:02:01.184Z"
   },
   {
    "duration": 15,
    "start_time": "2022-11-02T10:02:01.508Z"
   },
   {
    "duration": 153,
    "start_time": "2022-11-02T10:02:01.524Z"
   },
   {
    "duration": 57,
    "start_time": "2022-11-02T10:02:01.678Z"
   },
   {
    "duration": 85,
    "start_time": "2022-11-02T10:02:01.737Z"
   },
   {
    "duration": 31,
    "start_time": "2022-11-02T10:09:03.518Z"
   },
   {
    "duration": 29,
    "start_time": "2022-11-02T10:09:08.882Z"
   },
   {
    "duration": 330,
    "start_time": "2022-11-02T10:12:01.930Z"
   },
   {
    "duration": 14,
    "start_time": "2022-11-02T10:12:26.827Z"
   },
   {
    "duration": 333,
    "start_time": "2022-11-02T10:44:59.851Z"
   },
   {
    "duration": 734,
    "start_time": "2022-11-02T10:45:28.678Z"
   },
   {
    "duration": 1436,
    "start_time": "2022-11-02T10:46:04.327Z"
   },
   {
    "duration": 1255,
    "start_time": "2022-11-02T10:46:19.628Z"
   },
   {
    "duration": 1057,
    "start_time": "2022-11-02T10:46:57.702Z"
   },
   {
    "duration": 173,
    "start_time": "2022-11-02T10:47:32.064Z"
   },
   {
    "duration": 48,
    "start_time": "2022-11-02T10:47:44.098Z"
   },
   {
    "duration": 74,
    "start_time": "2022-11-02T10:47:56.104Z"
   },
   {
    "duration": 735,
    "start_time": "2022-11-02T10:51:08.489Z"
   },
   {
    "duration": 29,
    "start_time": "2022-11-02T10:51:09.227Z"
   },
   {
    "duration": 37,
    "start_time": "2022-11-02T10:51:09.257Z"
   },
   {
    "duration": 323,
    "start_time": "2022-11-02T10:51:09.308Z"
   },
   {
    "duration": 14,
    "start_time": "2022-11-02T10:51:09.634Z"
   },
   {
    "duration": 19,
    "start_time": "2022-11-02T10:51:09.650Z"
   },
   {
    "duration": 161,
    "start_time": "2022-11-02T10:51:09.670Z"
   },
   {
    "duration": 1358,
    "start_time": "2022-11-02T10:51:09.832Z"
   },
   {
    "duration": 1046,
    "start_time": "2022-11-02T10:51:11.192Z"
   },
   {
    "duration": 265,
    "start_time": "2022-11-02T10:51:12.239Z"
   },
   {
    "duration": 55,
    "start_time": "2022-11-02T10:51:12.505Z"
   },
   {
    "duration": 111,
    "start_time": "2022-11-02T10:51:12.562Z"
   }
  ],
  "kernelspec": {
   "display_name": "Python 3 (ipykernel)",
   "language": "python",
   "name": "python3"
  },
  "language_info": {
   "codemirror_mode": {
    "name": "ipython",
    "version": 3
   },
   "file_extension": ".py",
   "mimetype": "text/x-python",
   "name": "python",
   "nbconvert_exporter": "python",
   "pygments_lexer": "ipython3",
   "version": "3.9.5"
  },
  "toc": {
   "base_numbering": 1,
   "nav_menu": {},
   "number_sections": true,
   "sideBar": true,
   "skip_h1_title": true,
   "title_cell": "Table of Contents",
   "title_sidebar": "Contents",
   "toc_cell": false,
   "toc_position": {},
   "toc_section_display": true,
   "toc_window_display": false
  }
 },
 "nbformat": 4,
 "nbformat_minor": 2
}
