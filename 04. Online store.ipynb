{
 "cells": [
  {
   "cell_type": "markdown",
   "metadata": {},
   "source": [
    "## Приоритизация гипотез."
   ]
  },
  {
   "cell_type": "markdown",
   "metadata": {},
   "source": [
    "### Загрузка и анализ датасета"
   ]
  },
  {
   "cell_type": "code",
   "execution_count": 1,
   "metadata": {},
   "outputs": [],
   "source": [
    "import pandas as pd\n",
    "import datetime as dt\n",
    "import scipy.stats as stats\n",
    "import numpy as np\n",
    "import matplotlib.pyplot as plt\n",
    "from pandas.plotting import register_matplotlib_converters\n",
    "import warnings"
   ]
  },
  {
   "cell_type": "code",
   "execution_count": 2,
   "metadata": {},
   "outputs": [],
   "source": [
    "df=pd.read_csv('/datasets/hypothesis.csv') #загружаю датасет"
   ]
  },
  {
   "cell_type": "code",
   "execution_count": 3,
   "metadata": {},
   "outputs": [
    {
     "data": {
      "text/plain": [
       "Hypothesis    0\n",
       "Reach         0\n",
       "Impact        0\n",
       "Confidence    0\n",
       "Efforts       0\n",
       "dtype: int64"
      ]
     },
     "execution_count": 3,
     "metadata": {},
     "output_type": "execute_result"
    }
   ],
   "source": [
    "df.isna().sum() #пропусков нет"
   ]
  },
  {
   "cell_type": "code",
   "execution_count": 4,
   "metadata": {},
   "outputs": [
    {
     "data": {
      "text/plain": [
       "0"
      ]
     },
     "execution_count": 4,
     "metadata": {},
     "output_type": "execute_result"
    }
   ],
   "source": [
    "df.duplicated().sum() #дубликатов нет"
   ]
  },
  {
   "cell_type": "code",
   "execution_count": 5,
   "metadata": {},
   "outputs": [
    {
     "name": "stdout",
     "output_type": "stream",
     "text": [
      "<class 'pandas.core.frame.DataFrame'>\n",
      "RangeIndex: 9 entries, 0 to 8\n",
      "Data columns (total 5 columns):\n",
      " #   Column      Non-Null Count  Dtype \n",
      "---  ------      --------------  ----- \n",
      " 0   Hypothesis  9 non-null      object\n",
      " 1   Reach       9 non-null      int64 \n",
      " 2   Impact      9 non-null      int64 \n",
      " 3   Confidence  9 non-null      int64 \n",
      " 4   Efforts     9 non-null      int64 \n",
      "dtypes: int64(4), object(1)\n",
      "memory usage: 488.0+ bytes\n"
     ]
    }
   ],
   "source": [
    "df.info() #смотрю информацию о датафрейме\n",
    "df.columns = df.columns.str.lower() #меняю названия к нижнему регистру"
   ]
  },
  {
   "cell_type": "markdown",
   "metadata": {},
   "source": [
    "### Приоритизация гипотез"
   ]
  },
  {
   "cell_type": "code",
   "execution_count": 6,
   "metadata": {},
   "outputs": [
    {
     "name": "stdout",
     "output_type": "stream",
     "text": [
      "                                          hypothesis   ice\n",
      "8  Запустить акцию, дающую скидку на товар в день...  16.0\n",
      "0  Добавить два новых канала привлечения трафика,...  13.0\n",
      "7  Добавить форму подписки на все основные страни...  11.0\n",
      "6  Показать на главной странице баннеры с актуаль...   8.0\n",
      "2  Добавить блоки рекомендаций товаров на сайт ин...   7.0\n",
      "1  Запустить собственную службу доставки, что сок...   2.0\n",
      "3  Изменить структура категорий, что увеличит кон...   1.0\n",
      "4  Изменить цвет фона главной страницы, чтобы уве...   1.0\n",
      "5  Добавить страницу отзывов клиентов о магазине,...   1.0\n",
      "\n",
      "При применении фреймворка ICE – наиболее перспективная гипотеза:\n",
      "\"Запустить акцию, дающую скидку на товар в день рождения\"\n"
     ]
    }
   ],
   "source": [
    "df['ice']=round((df['impact']*df['confidence'])/df['efforts'])\n",
    "print(df[['hypothesis', 'ice']].sort_values(by='ice', ascending=False))\n",
    "pd.set_option('display.max_colwidth', None)\n",
    "print()\n",
    "print('При применении фреймворка ICE – наиболее перспективная гипотеза:')\n",
    "print('\"Запустить акцию, дающую скидку на товар в день рождения\"')"
   ]
  },
  {
   "cell_type": "code",
   "execution_count": 7,
   "metadata": {},
   "outputs": [
    {
     "name": "stdout",
     "output_type": "stream",
     "text": [
      "                                                                                                     hypothesis  \\\n",
      "7              Добавить форму подписки на все основные страницы, чтобы собрать базу клиентов для email-рассылок   \n",
      "2  Добавить блоки рекомендаций товаров на сайт интернет магазина, чтобы повысить конверсию и средний чек заказа   \n",
      "0            Добавить два новых канала привлечения трафика, что позволит привлекать на 30% больше пользователей   \n",
      "6          Показать на главной странице баннеры с актуальными акциями и распродажами, чтобы увеличить конверсию   \n",
      "8                                                       Запустить акцию, дающую скидку на товар в день рождения   \n",
      "3           Изменить структура категорий, что увеличит конверсию, т.к. пользователи быстрее найдут нужный товар   \n",
      "1                                     Запустить собственную службу доставки, что сократит срок доставки заказов   \n",
      "5                      Добавить страницу отзывов клиентов о магазине, что позволит увеличить количество заказов   \n",
      "4                              Изменить цвет фона главной страницы, чтобы увеличить вовлеченность пользователей   \n",
      "\n",
      "    rice  \n",
      "7  112.0  \n",
      "2   56.0  \n",
      "0   40.0  \n",
      "6   40.0  \n",
      "8   16.0  \n",
      "3    9.0  \n",
      "1    4.0  \n",
      "5    4.0  \n",
      "4    3.0  \n",
      "\n",
      "При применении фреймворка RICE – наиболее перспективная гипотеза:\n",
      "\"Добавить форму подписки на все основные страницы, чтобы собрать базу клиентов для email-рассылок\"\n",
      "\n",
      "Фреймворк ICE не учитывает охват пользователей,\n",
      "из-за этого первичный анализ дал более высокий рейтинг гипотезе с низкой базой охвата\n"
     ]
    }
   ],
   "source": [
    "df['rice']=round((df['reach']*df['impact']*df['confidence'])/df['efforts'])\n",
    "print(df[['hypothesis', 'rice']].sort_values(by='rice', ascending=False))\n",
    "print()\n",
    "print(f'При применении фреймворка RICE – наиболее перспективная гипотеза:')\n",
    "print('\"Добавить форму подписки на все основные страницы, чтобы собрать базу клиентов для email-рассылок\"')\n",
    "pd.set_option('display.max_colwidth', None)\n",
    "print()\n",
    "print('Фреймворк ICE не учитывает охват пользователей,')\n",
    "print('из-за этого первичный анализ дал более высокий рейтинг гипотезе с низкой базой охвата')"
   ]
  },
  {
   "cell_type": "code",
   "execution_count": 8,
   "metadata": {},
   "outputs": [
    {
     "data": {
      "image/png": "[encoded data removed]",
      "text/plain": [
       "<Figure size 720x720 with 1 Axes>"
      ]
     },
     "metadata": {
      "needs_background": "light"
     },
     "output_type": "display_data"
    }
   ],
   "source": [
    "#Строю точечный график приоритизации гипотез\n",
    "y = df['ice'] \n",
    "z = df['rice'] \n",
    "n = df.index \n",
    "\n",
    "fig, ax = plt.subplots()\n",
    "ax.scatter(z, y)\n",
    "\n",
    "for i, txt in enumerate(n):\n",
    "    ax.annotate(txt, (z[i], y[i]), size=30)\n",
    "\n",
    "plt.title(\"ICE and RICE гипотезы\") \n",
    "plt.xlabel(\"RICE\") \n",
    "plt.ylabel(\"ICE\")\n",
    "\n",
    "fig.set_figheight(10)\n",
    "fig.set_figwidth(10) \n",
    "plt.show()   "
   ]
  },
  {
   "cell_type": "markdown",
   "metadata": {},
   "source": [
    "## Анализ A/B-теста"
   ]
  },
  {
   "cell_type": "markdown",
   "metadata": {},
   "source": [
    "### Загрузка и анализ датасета"
   ]
  },
  {
   "cell_type": "code",
   "execution_count": 9,
   "metadata": {},
   "outputs": [],
   "source": [
    "orders=pd.read_csv('/datasets/orders.csv')\n",
    "visitors=pd.read_csv('/datasets/visitors.csv')"
   ]
  },
  {
   "cell_type": "code",
   "execution_count": 10,
   "metadata": {},
   "outputs": [
    {
     "data": {
      "text/plain": [
       "date        0\n",
       "group       0\n",
       "visitors    0\n",
       "dtype: int64"
      ]
     },
     "execution_count": 10,
     "metadata": {},
     "output_type": "execute_result"
    }
   ],
   "source": [
    "orders.isna().sum() #пропусков нет\n",
    "visitors.isna().sum() #пропусков нет"
   ]
  },
  {
   "cell_type": "code",
   "execution_count": 11,
   "metadata": {},
   "outputs": [
    {
     "data": {
      "text/plain": [
       "0"
      ]
     },
     "execution_count": 11,
     "metadata": {},
     "output_type": "execute_result"
    }
   ],
   "source": [
    "orders.duplicated().sum() #дубликатов нет\n",
    "visitors.duplicated().sum() #дубликатов нет"
   ]
  },
  {
   "cell_type": "code",
   "execution_count": 13,
   "metadata": {},
   "outputs": [
    {
     "name": "stdout",
     "output_type": "stream",
     "text": [
      "<class 'pandas.core.frame.DataFrame'>\n",
      "RangeIndex: 1197 entries, 0 to 1196\n",
      "Data columns (total 5 columns):\n",
      " #   Column         Non-Null Count  Dtype \n",
      "---  ------         --------------  ----- \n",
      " 0   transactionId  1197 non-null   int64 \n",
      " 1   visitorId      1197 non-null   int64 \n",
      " 2   date           1197 non-null   object\n",
      " 3   revenue        1197 non-null   int64 \n",
      " 4   group          1197 non-null   object\n",
      "dtypes: int64(3), object(2)\n",
      "memory usage: 46.9+ KB\n",
      "<class 'pandas.core.frame.DataFrame'>\n",
      "RangeIndex: 62 entries, 0 to 61\n",
      "Data columns (total 3 columns):\n",
      " #   Column    Non-Null Count  Dtype \n",
      "---  ------    --------------  ----- \n",
      " 0   date      62 non-null     object\n",
      " 1   group     62 non-null     object\n",
      " 2   visitors  62 non-null     int64 \n",
      "dtypes: int64(1), object(2)\n",
      "memory usage: 1.6+ KB\n"
     ]
    }
   ],
   "source": [
    "orders.info() #необходимо изменить формат столбца data\n",
    "visitors.info() #необходимо изменить формат столбца data\n",
    "orders['date'] = orders['date'].map(lambda x: dt.datetime.strptime(x, '%Y-%m-%d'))\n",
    "visitors['date'] = visitors['date'].map(lambda x: dt.datetime.strptime(x, '%Y-%m-%d'))"
   ]
  },
  {
   "cell_type": "code",
   "execution_count": 14,
   "metadata": {},
   "outputs": [
    {
     "name": "stdout",
     "output_type": "stream",
     "text": [
      "       group\n",
      "group       \n",
      "A        557\n",
      "B        640\n",
      "       group\n",
      "group       \n",
      "A         31\n",
      "B         31\n",
      "В тесте принимает участие две группы А и В\n",
      "\n",
      "Дата начала теста: 2019-08-01 00:00:00\n",
      "Дата окончания теста: 2019-08-31 00:00:00\n"
     ]
    }
   ],
   "source": [
    "print(orders.groupby('group').agg({'group': 'count'}))\n",
    "print(visitors.groupby('group').agg({'group': 'count'}))\n",
    "print('В тесте принимает участие две группы А и В')\n",
    "print()\n",
    "print('Дата начала теста:', orders['date'].min())\n",
    "print('Дата окончания теста:', orders['date'].max())"
   ]
  },
  {
   "cell_type": "code",
   "execution_count": 15,
   "metadata": {},
   "outputs": [],
   "source": [
    "a = orders.loc[orders['group'] == \"A\"]\n",
    "b = orders.loc[orders['group'] == \"B\"]\n",
    "doubl = []\n",
    "\n",
    "a1 = visitors.loc[orders['group'] == \"A\"]\n",
    "b1 = visitors.loc[orders['group'] == \"B\"]\n",
    "doubl1 = []"
   ]
  },
  {
   "cell_type": "code",
   "execution_count": 16,
   "metadata": {},
   "outputs": [
    {
     "name": "stdout",
     "output_type": "stream",
     "text": [
      "Кол-во повторяющихся пользователей в обоих списках: 61\n"
     ]
    }
   ],
   "source": [
    "for i in a['visitorId']:\n",
    "    if i in doubl:\n",
    "        continue\n",
    "    for j in b['visitorId']:\n",
    "        if i == j:\n",
    "            doubl.append(i)\n",
    "            break\n",
    "\n",
    "for i in a1['visitors']:\n",
    "    if i in doubl:\n",
    "        continue\n",
    "    for j in b1['visitors']:\n",
    "        if i == j:\n",
    "            doubl1.append(i)\n",
    "            break\n",
    " \n",
    "print('Кол-во повторяющихся пользователей в обоих списках:', len(doubl1)+len(doubl))"
   ]
  },
  {
   "cell_type": "code",
   "execution_count": 12,
   "metadata": {},
   "outputs": [
    {
     "data": {
      "text/plain": [
       "(0, 0)"
      ]
     },
     "execution_count": 12,
     "metadata": {},
     "output_type": "execute_result"
    }
   ],
   "source": [
    "#код ревьюера. Лучше так записать проверку, чтобы видеть результаты по обоим датасетам\n",
    "orders.duplicated().sum(), visitors.duplicated().sum() "
   ]
  },
  {
   "cell_type": "markdown",
   "metadata": {},
   "source": [
    "### Построение графика кумулятивной выручки по группам"
   ]
  },
  {
   "cell_type": "code",
   "execution_count": 17,
   "metadata": {},
   "outputs": [
    {
     "name": "stdout",
     "output_type": "stream",
     "text": [
      "В середине теста сегмент В вырвался вперед и продолжил лидировать весь остаток теста.\n",
      "Похоже, что аномально большие заказы все-таки влияют на результаты. При заключительном анализе их нужно удалить\n"
     ]
    },
    {
     "data": {
      "image/png": "[encoded data removed]",
      "text/plain": [
       "<Figure size 1152x576 with 1 Axes>"
      ]
     },
     "metadata": {
      "needs_background": "light"
     },
     "output_type": "display_data"
    }
   ],
   "source": [
    "register_matplotlib_converters()\n",
    "\n",
    "datesGroups = orders[['date', 'group']].drop_duplicates()\n",
    "\n",
    "ordersAggregated = datesGroups.apply(\n",
    "    lambda x: orders[\n",
    "        np.logical_and(\n",
    "            orders['date'] <= x['date'], orders['group'] == x['group']\n",
    "        )\n",
    "    ].agg(\n",
    "        {\n",
    "            'date': 'max',\n",
    "            'group': 'max',\n",
    "            'transactionId': 'nunique',\n",
    "            'visitorId': 'nunique',\n",
    "            'revenue': 'sum',\n",
    "        }\n",
    "    ),\n",
    "    axis=1,\n",
    ").sort_values(by=['date', 'group'])\n",
    "\n",
    "visitorsAggregated = datesGroups.apply(\n",
    "    lambda x: visitors[\n",
    "        np.logical_and(\n",
    "            visitors['date'] <= x['date'], visitors['group'] == x['group']\n",
    "        )\n",
    "    ].agg({'date': 'max', 'group': 'max', 'visitors': 'sum'}),\n",
    "    axis=1,\n",
    ").sort_values(by=['date', 'group'])\n",
    "\n",
    "cumulativeData = ordersAggregated.merge(\n",
    "    visitorsAggregated, left_on=['date', 'group'], right_on=['date', 'group']\n",
    ")\n",
    "cumulativeData.columns = [\n",
    "    'date',\n",
    "    'group',\n",
    "    'orders',\n",
    "    'buyers',\n",
    "    'revenue',\n",
    "    'visitors',\n",
    "]\n",
    "\n",
    "plt.figure(figsize=(16, 8))\n",
    "plt.title(\"График кумулятивной выручки по группам\")\n",
    "\n",
    "cumulativeRevenueA = cumulativeData[cumulativeData['group']=='A'][['date','revenue', 'orders']]\n",
    "\n",
    "# датафрейм с кумулятивным количеством заказов и кумулятивной выручкой по дням в группе B\n",
    "cumulativeRevenueB = cumulativeData[cumulativeData['group']=='B'][['date','revenue', 'orders']]\n",
    "\n",
    "# Строим график выручки группы А\n",
    "plt.plot(cumulativeRevenueA['date'], cumulativeRevenueA['revenue'], label='A')\n",
    "\n",
    "# Строим график выручки группы B\n",
    "plt.plot(cumulativeRevenueB['date'], cumulativeRevenueB['revenue'], label='B')\n",
    "\n",
    "plt.xlabel(\"Дата (год, месяц, день)\") \n",
    "plt.ylabel(\"Доход (млн)\")\n",
    "\n",
    "print('В середине теста сегмент В вырвался вперед и продолжил лидировать весь остаток теста.')\n",
    "print('Похоже, что аномально большие заказы все-таки влияют на результаты. При заключительном анализе их нужно удалить')"
   ]
  },
  {
   "cell_type": "code",
   "execution_count": 18,
   "metadata": {},
   "outputs": [
    {
     "name": "stdout",
     "output_type": "stream",
     "text": [
      "Даты начала и окончания теста совпадают с оригинальным датафреймом.\n",
      "2019-08-01 00:00:00\n",
      "2019-08-31 00:00:00\n"
     ]
    }
   ],
   "source": [
    "print('Даты начала и окончания теста совпадают с оригинальным датафреймом.')\n",
    "print(cumulativeData['date'].min())\n",
    "print(cumulativeData['date'].max())"
   ]
  },
  {
   "cell_type": "markdown",
   "metadata": {},
   "source": [
    "### Построение графика кумулятивного среднего чека по группам"
   ]
  },
  {
   "cell_type": "code",
   "execution_count": 19,
   "metadata": {},
   "outputs": [
    {
     "name": "stdout",
     "output_type": "stream",
     "text": [
      "Кумулятивное знаниче среднего чека по сегментам продолжает колебаться.\n",
      "Скорее всего, принимать решение по этой метрике рано.\n",
      "Или требуется дополнительный анализ выбросов, которые так сильно искажают результаты.\n"
     ]
    },
    {
     "data": {
      "image/png": "[encoded data removed]",
      "text/plain": [
       "<Figure size 1152x576 with 1 Axes>"
      ]
     },
     "metadata": {
      "needs_background": "light"
     },
     "output_type": "display_data"
    }
   ],
   "source": [
    "plt.figure(figsize=(16, 8))\n",
    "plt.title(\"График кумулятивного среднего чека по группам\")\n",
    "plt.plot(cumulativeRevenueA['date'], cumulativeRevenueA['revenue']/cumulativeRevenueA['orders'], label='A')\n",
    "plt.plot(cumulativeRevenueB['date'], cumulativeRevenueB['revenue']/cumulativeRevenueB['orders'], label='B')\n",
    "plt.xlabel(\"Дата (год, месяц, день)\") \n",
    "plt.ylabel(\"Размер среднего чека\")\n",
    "plt.legend()\n",
    "print('Кумулятивное знаниче среднего чека по сегментам продолжает колебаться.')\n",
    "print('Скорее всего, принимать решение по этой метрике рано.')\n",
    "print('Или требуется дополнительный анализ выбросов, которые так сильно искажают результаты.')"
   ]
  },
  {
   "cell_type": "markdown",
   "metadata": {},
   "source": [
    "### Построение графика относительного изменения кумулятивного среднего чека группы B к группе A"
   ]
  },
  {
   "cell_type": "code",
   "execution_count": 20,
   "metadata": {},
   "outputs": [
    {
     "name": "stdout",
     "output_type": "stream",
     "text": [
      "Результаты теста значительно и резко менялись в несколько дат.\n",
      "Видимо, именно тогда были совершены аномальные заказы\n"
     ]
    },
    {
     "data": {
      "image/png": "[encoded data removed]",
      "text/plain": [
       "<Figure size 1152x576 with 1 Axes>"
      ]
     },
     "metadata": {
      "needs_background": "light"
     },
     "output_type": "display_data"
    }
   ],
   "source": [
    "mergedCumulativeRevenue = cumulativeRevenueA.merge(cumulativeRevenueB, left_on='date', right_on='date', how='left', suffixes=['A', 'B'])\n",
    "plt.figure(figsize=(16, 8))\n",
    "plt.title(\"График относительного изменения кумулятивного среднего чека группы B к группе A.\")\n",
    "          \n",
    "# cтроим отношение средних чеков\n",
    "plt.plot(mergedCumulativeRevenue['date'], (mergedCumulativeRevenue['revenueB']/mergedCumulativeRevenue['ordersB'])/(mergedCumulativeRevenue['revenueA']/mergedCumulativeRevenue['ordersA'])-1)\n",
    "\n",
    "# добавляем ось X\n",
    "plt.axhline(y=0, color='black', linestyle='--')\n",
    "plt.xlabel(\"Дата (год, месяц, день)\") \n",
    "plt.ylabel(\"Изменение группы B к группе A\")\n",
    "\n",
    "print('Результаты теста значительно и резко менялись в несколько дат.')\n",
    "print('Видимо, именно тогда были совершены аномальные заказы')"
   ]
  },
  {
   "cell_type": "markdown",
   "metadata": {},
   "source": [
    "### Построение графика кумулятивной конверсии по группам"
   ]
  },
  {
   "cell_type": "code",
   "execution_count": 21,
   "metadata": {},
   "outputs": [
    {
     "name": "stdout",
     "output_type": "stream",
     "text": [
      "В начале теста сегмент А имел большую конверсию, но постепенно сегмент В выровнялся и зафиксировался примерно около одного значения, больше значения сегмента А.\n"
     ]
    },
    {
     "data": {
      "image/png": "[encoded data removed]",
      "text/plain": [
       "<Figure size 1152x576 with 1 Axes>"
      ]
     },
     "metadata": {
      "needs_background": "light"
     },
     "output_type": "display_data"
    }
   ],
   "source": [
    "cumulativeData['conversion'] = cumulativeData['orders']/cumulativeData['visitors']\n",
    "\n",
    "# отделяем данные по группе A\n",
    "cumulativeDataA = cumulativeData[cumulativeData['group']=='A']\n",
    "\n",
    "# отделяем данные по группе B\n",
    "cumulativeDataB = cumulativeData[cumulativeData['group']=='B']\n",
    "\n",
    "# строим графики\n",
    "plt.figure(figsize=(16, 8))\n",
    "plt.title(\"График кумулятивной конверсии по группам.\")\n",
    "\n",
    "plt.plot(cumulativeDataA['date'], cumulativeDataA['conversion'], label='A')\n",
    "plt.plot(cumulativeDataB['date'], cumulativeDataB['conversion'], label='B')\n",
    "plt.xlabel(\"Дата (год, месяц, день)\") \n",
    "plt.ylabel(\"Конверсия\")\n",
    "plt.legend()\n",
    "# задаем масштаб осей\n",
    "plt.axis([dt.datetime(2019, 8, 1), dt.datetime(2019, 9, 1), 0, 0.05])\n",
    "print('В начале теста сегмент А имел большую конверсию, но постепенно сегмент В выровнялся и зафиксировался примерно около одного значения, больше значения сегмента А.')"
   ]
  },
  {
   "cell_type": "markdown",
   "metadata": {},
   "source": [
    "### Построение графика относительного изменения кумулятивной конверсии группы B к группе A"
   ]
  },
  {
   "cell_type": "code",
   "execution_count": 22,
   "metadata": {},
   "outputs": [
    {
     "name": "stdout",
     "output_type": "stream",
     "text": [
      "Почти с самого начала теста группа В лидирует по конверсии: на протяжении всего теста показатель выше 10%, в середине теста достаигает пика в 20% относительно группы А\n"
     ]
    },
    {
     "data": {
      "image/png": "[encoded data removed]",
      "text/plain": [
       "<Figure size 1152x576 with 1 Axes>"
      ]
     },
     "metadata": {
      "needs_background": "light"
     },
     "output_type": "display_data"
    }
   ],
   "source": [
    "mergedCumulativeConversions = cumulativeDataA[['date','conversion']].merge(cumulativeDataB[['date','conversion']], left_on='date', right_on='date', how='left', suffixes=['A', 'B'])\n",
    "\n",
    "plt.figure(figsize=(16, 8))\n",
    "plt.title(\"График относительного изменения кумулятивной конверсии группы B к группе A.\")\n",
    "\n",
    "plt.plot(mergedCumulativeConversions['date'], mergedCumulativeConversions['conversionB']/mergedCumulativeConversions['conversionA']-1, label=\"Изменение группы B относительно группы A\")\n",
    "plt.xlabel(\"Дата (год, месяц, день)\") \n",
    "plt.ylabel(\"Изменение группы B к группе A\")\n",
    "plt.legend()\n",
    "\n",
    "plt.axhline(y=0, color='black', linestyle='--')\n",
    "plt.axhline(y=0.1, color='grey', linestyle='--')\n",
    "plt.axis([\"2019-08-01\", '2019-09-01', -0.5, 0.5])\n",
    "print('Почти с самого начала теста группа В лидирует по конверсии: на протяжении всего теста показатель выше 10%, в середине теста достаигает пика в 20% относительно группы А')"
   ]
  },
  {
   "cell_type": "markdown",
   "metadata": {},
   "source": [
    "### Построение точечного графика количества заказов по пользователям"
   ]
  },
  {
   "cell_type": "code",
   "execution_count": 23,
   "metadata": {},
   "outputs": [
    {
     "name": "stdout",
     "output_type": "stream",
     "text": [
      "Подавляющее число пользователей совершило 1 заказ\n",
      "Скорее всего система повторных продаж развита слабо. Возможная точка роста.\n",
      "Пользователей совершивших более 3х покупок можно считать аномальными.\n",
      "\n",
      "        orders\n",
      "orders        \n",
      "1          937\n",
      "2           64\n",
      "3           17\n",
      "4            3\n",
      "5            6\n",
      "8            1\n",
      "9            1\n",
      "11           2\n"
     ]
    },
    {
     "data": {
      "image/png": "[encoded data removed]",
      "text/plain": [
       "<Figure size 1152x576 with 1 Axes>"
      ]
     },
     "metadata": {
      "needs_background": "light"
     },
     "output_type": "display_data"
    }
   ],
   "source": [
    "ordersByUsers = (\n",
    "    orders.groupby('visitorId', as_index=False)\n",
    "    .agg({'transactionId': 'nunique'})\n",
    ")\n",
    "ordersByUsers.columns = ['userId', 'orders']\n",
    "\n",
    "x_values = pd.Series(range(0, len(ordersByUsers)))\n",
    "\n",
    "plt.figure(figsize=(16, 8))\n",
    "plt.title(\"График количества заказов по пользователям.\")\n",
    "plt.scatter(x_values, ordersByUsers['orders']) \n",
    "plt.xlabel(\"Кол-во пользователей\") \n",
    "plt.ylabel(\"Кол-во заказов\")\n",
    "\n",
    "print('Подавляющее число пользователей совершило 1 заказ')\n",
    "print('Скорее всего система повторных продаж развита слабо. Возможная точка роста.')\n",
    "print('Пользователей совершивших более 3х покупок можно считать аномальными.')\n",
    "print()\n",
    "print(ordersByUsers.groupby('orders').agg({'orders': 'count'})) #проверяю соответсвие цифр графику"
   ]
  },
  {
   "cell_type": "markdown",
   "metadata": {},
   "source": [
    "### Вычисление 95-й и 99-й перцентилей количества заказов на пользователя"
   ]
  },
  {
   "cell_type": "code",
   "execution_count": 24,
   "metadata": {},
   "outputs": [
    {
     "name": "stdout",
     "output_type": "stream",
     "text": [
      "[2. 4.]\n",
      "\n",
      "Не более 5% пользователей совершали больше 2х заказов.\n",
      "И не более 1% пользователей больше 4х заказов.\n",
      "Пользователей совершивших заказ более 3х раз можно считать аномальными\n"
     ]
    }
   ],
   "source": [
    "print(np.percentile(ordersByUsers['orders'], [95, 99]))  \n",
    "print()\n",
    "print('Не более 5% пользователей совершали больше 2х заказов.')\n",
    "print('И не более 1% пользователей больше 4х заказов.')\n",
    "print('Пользователей совершивших заказ более 3х раз можно считать аномальными')"
   ]
  },
  {
   "cell_type": "markdown",
   "metadata": {},
   "source": [
    "### Построение точечного графика стоимостей заказов"
   ]
  },
  {
   "cell_type": "code",
   "execution_count": 25,
   "metadata": {},
   "outputs": [
    {
     "name": "stdout",
     "output_type": "stream",
     "text": [
      "Медианное значние стоимости заказов около 2978.0. Есть выброс в районе 1.2 млн и 200 тыс\n",
      "В целом, выбросов немного\n"
     ]
    },
    {
     "data": {
      "image/png": "[encoded data removed]",
      "text/plain": [
       "<Figure size 1152x576 with 1 Axes>"
      ]
     },
     "metadata": {
      "needs_background": "light"
     },
     "output_type": "display_data"
    }
   ],
   "source": [
    "plt.figure(figsize=(16, 8))\n",
    "plt.title(\"График стоимостей заказов\")\n",
    "x_values = pd.Series(range(0, len(orders['revenue'])))\n",
    "plt.scatter(x_values, orders['revenue']) \n",
    "plt.xlabel(\"Кол-во заказов\") \n",
    "plt.ylabel(\"Стоимость заказа\")\n",
    "medrev=orders['revenue'].median()\n",
    "print(f'Медианное значние стоимости заказов около {medrev}. Есть выброс в районе 1.2 млн и 200 тыс')\n",
    "print('В целом, выбросов немного')"
   ]
  },
  {
   "cell_type": "code",
   "execution_count": 26,
   "metadata": {},
   "outputs": [
    {
     "data": {
      "image/png": "[encoded data removed]",
      "text/plain": [
       "<Figure size 1152x576 with 1 Axes>"
      ]
     },
     "metadata": {
      "needs_background": "light"
     },
     "output_type": "display_data"
    }
   ],
   "source": [
    "plt.figure(figsize=(16, 8))\n",
    "plt.title(\"График стоимостей заказов\")\n",
    "x_values = pd.Series(range(0, len(orders['revenue'])))\n",
    "plt.scatter(x_values, orders['revenue']) \n",
    "plt.xlabel(\"Кол-во заказов\") \n",
    "plt.ylabel(\"Стоимость заказа\")\n",
    "plt.ylim((0,100000))\n",
    "medrev=orders['revenue'].median()"
   ]
  },
  {
   "cell_type": "markdown",
   "metadata": {},
   "source": [
    "### Вычисление 95-й и 99-й перцентилей стоимости заказов"
   ]
  },
  {
   "cell_type": "code",
   "execution_count": 27,
   "metadata": {},
   "outputs": [
    {
     "name": "stdout",
     "output_type": "stream",
     "text": [
      "[28000.  58233.2]\n",
      "\n",
      "Не более 5% стоимости заказов составило более 28тыс.\n",
      "И не более 1% стоимости заказов составило более 58тыс.\n",
      "Заказы перешедшие границу стоимости 28тыс можно считать аномальными\n"
     ]
    }
   ],
   "source": [
    "print(np.percentile(orders['revenue'], [95, 99]))\n",
    "print()\n",
    "print('Не более 5% стоимости заказов составило более 28тыс.')\n",
    "print('И не более 1% стоимости заказов составило более 58тыс.')\n",
    "print('Заказы перешедшие границу стоимости 28тыс можно считать аномальными')"
   ]
  },
  {
   "cell_type": "markdown",
   "metadata": {},
   "source": [
    "### Расчет статистической значимости различий в конверсии между группами по «сырым» данным"
   ]
  },
  {
   "cell_type": "code",
   "execution_count": 28,
   "metadata": {},
   "outputs": [
    {
     "name": "stdout",
     "output_type": "stream",
     "text": [
      "        date  ordersPerDateA  revenuePerDateA  ordersPerDateB  \\\n",
      "0 2019-08-01              24           148579              21   \n",
      "1 2019-08-02              20            93822              24   \n",
      "2 2019-08-03              24           112473              16   \n",
      "3 2019-08-04              16            70825              17   \n",
      "4 2019-08-05              25           124218              23   \n",
      "\n",
      "   revenuePerDateB  ordersCummulativeA  revenueCummulativeA  \\\n",
      "0           101217                  24               148579   \n",
      "1           165531                  44               242401   \n",
      "2           114248                  68               354874   \n",
      "3           108571                  84               425699   \n",
      "4            92428                 109               549917   \n",
      "\n",
      "   ordersCummulativeB  revenueCummulativeB  visitorsPerDateA  \\\n",
      "0                  21               101217               719   \n",
      "1                  45               266748               619   \n",
      "2                  61               380996               507   \n",
      "3                  78               489567               717   \n",
      "4                 101               581995               756   \n",
      "\n",
      "   visitorsPerDateB  visitorsCummulativeA  visitorsCummulativeB  \n",
      "0               713                   719                   713  \n",
      "1               581                  1338                  1294  \n",
      "2               509                  1845                  1803  \n",
      "3               770                  2562                  2573  \n",
      "4               707                  3318                  3280  \n",
      "<class 'pandas.core.frame.DataFrame'>\n",
      "Int64Index: 31 entries, 0 to 30\n",
      "Data columns (total 13 columns):\n",
      " #   Column                Non-Null Count  Dtype         \n",
      "---  ------                --------------  -----         \n",
      " 0   date                  31 non-null     datetime64[ns]\n",
      " 1   ordersPerDateA        31 non-null     int64         \n",
      " 2   revenuePerDateA       31 non-null     int64         \n",
      " 3   ordersPerDateB        31 non-null     int64         \n",
      " 4   revenuePerDateB       31 non-null     int64         \n",
      " 5   ordersCummulativeA    31 non-null     int64         \n",
      " 6   revenueCummulativeA   31 non-null     int64         \n",
      " 7   ordersCummulativeB    31 non-null     int64         \n",
      " 8   revenueCummulativeB   31 non-null     int64         \n",
      " 9   visitorsPerDateA      31 non-null     int64         \n",
      " 10  visitorsPerDateB      31 non-null     int64         \n",
      " 11  visitorsCummulativeA  31 non-null     int64         \n",
      " 12  visitorsCummulativeB  31 non-null     int64         \n",
      "dtypes: datetime64[ns](1), int64(12)\n",
      "memory usage: 3.4 KB\n",
      "None\n"
     ]
    }
   ],
   "source": [
    "#подготавливаю данные для дальнейшего анализа\n",
    "visitorsADaily = visitors[visitors['group'] == 'A'][['date', 'visitors']]\n",
    "visitorsADaily.columns = ['date', 'visitorsPerDateA']\n",
    "\n",
    "visitorsACummulative = visitorsADaily.apply(\n",
    "    lambda x: visitorsADaily[visitorsADaily['date'] <= x['date']].agg(\n",
    "        {'date': 'max', 'visitorsPerDateA': 'sum'}\n",
    "    ),\n",
    "    axis=1,\n",
    ")\n",
    "visitorsACummulative.columns = ['date', 'visitorsCummulativeA']\n",
    "\n",
    "visitorsBDaily = visitors[visitors['group'] == 'B'][['date', 'visitors']]\n",
    "visitorsBDaily.columns = ['date', 'visitorsPerDateB']\n",
    "\n",
    "visitorsBCummulative = visitorsBDaily.apply(\n",
    "    lambda x: visitorsBDaily[visitorsBDaily['date'] <= x['date']].agg(\n",
    "        {'date': 'max', 'visitorsPerDateB': 'sum'}\n",
    "    ),\n",
    "    axis=1,\n",
    ")\n",
    "visitorsBCummulative.columns = ['date', 'visitorsCummulativeB']\n",
    "\n",
    "ordersADaily = (\n",
    "    orders[orders['group'] == 'A'][['date', 'transactionId', 'visitorId', 'revenue']]\n",
    "    .groupby('date', as_index=False)\n",
    "    .agg({'transactionId': pd.Series.nunique, 'revenue': 'sum'})\n",
    ")\n",
    "ordersADaily.columns = ['date', 'ordersPerDateA', 'revenuePerDateA']\n",
    "\n",
    "ordersACummulative = ordersADaily.apply(\n",
    "    lambda x: ordersADaily[ordersADaily['date'] <= x['date']].agg(\n",
    "        {'date': 'max', 'ordersPerDateA': 'sum', 'revenuePerDateA': 'sum'}\n",
    "    ),\n",
    "    axis=1,\n",
    ").sort_values(by=['date'])\n",
    "ordersACummulative.columns = [\n",
    "    'date',\n",
    "    'ordersCummulativeA',\n",
    "    'revenueCummulativeA',\n",
    "]\n",
    "ordersBDaily = (\n",
    "    orders[orders['group'] == 'B'][['date', 'transactionId', 'visitorId', 'revenue']]\n",
    "    .groupby('date', as_index=False)\n",
    "    .agg({'transactionId': pd.Series.nunique, 'revenue': 'sum'})\n",
    ")\n",
    "ordersBDaily.columns = ['date', 'ordersPerDateB', 'revenuePerDateB']\n",
    "\n",
    "ordersBCummulative = ordersBDaily.apply(\n",
    "    lambda x: ordersBDaily[ordersBDaily['date'] <= x['date']].agg(\n",
    "        {'date': 'max', 'ordersPerDateB': 'sum', 'revenuePerDateB': 'sum'}\n",
    "    ),\n",
    "    axis=1,\n",
    ").sort_values(by=['date'])\n",
    "ordersBCummulative.columns = [\n",
    "    'date',\n",
    "    'ordersCummulativeB',\n",
    "    'revenueCummulativeB',\n",
    "]\n",
    "\n",
    "data = (\n",
    "    ordersADaily.merge(\n",
    "        ordersBDaily, left_on='date', right_on='date', how='left'\n",
    "    )\n",
    "    .merge(ordersACummulative, left_on='date', right_on='date', how='left')\n",
    "    .merge(ordersBCummulative, left_on='date', right_on='date', how='left')\n",
    "    .merge(visitorsADaily, left_on='date', right_on='date', how='left')\n",
    "    .merge(visitorsBDaily, left_on='date', right_on='date', how='left')\n",
    "    .merge(visitorsACummulative, left_on='date', right_on='date', how='left')\n",
    "    .merge(visitorsBCummulative, left_on='date', right_on='date', how='left')\n",
    ")\n",
    "\n",
    "print(data.head(5))\n",
    "print(data.info())"
   ]
  },
  {
   "cell_type": "code",
   "execution_count": 29,
   "metadata": {},
   "outputs": [
    {
     "name": "stdout",
     "output_type": "stream",
     "text": [
      "Гипотеза: В конверсии между группами по «сырым» данным нет статистически значимых различий\n",
      "Альтернативная гипотеза: В конверсии между группами по «сырым» данным есть статистически значимые различия\n",
      "\n",
      "p-value: 0.01679\n",
      "p-value меньше 0.05, поэтому нулевую гипотезу отвергаем. Статистически значимые различия в группах есть\n",
      "\n",
      "Прирост средней конверсии группы В относительно группы А: 0.138\n"
     ]
    }
   ],
   "source": [
    "ordersByUsersA = (\n",
    "    orders[orders['group'] == 'A']\n",
    "    .groupby('visitorId', as_index=False)\n",
    "    .agg({'transactionId' : pd.Series.nunique})\n",
    ")\n",
    "ordersByUsersA.columns = ['userId', 'orders']\n",
    "\n",
    "ordersByUsersB = (\n",
    "    orders[orders['group'] == 'B']\n",
    "    .groupby('visitorId', as_index=False)\n",
    "    .agg({'transactionId' : pd.Series.nunique})\n",
    ")\n",
    "ordersByUsersB.columns = ['userId', 'orders']\n",
    "\n",
    "sampleA = pd.concat([ordersByUsersA['orders'],pd.Series(0, index=np.arange(data['visitorsPerDateA'].sum() - len(ordersByUsersA['orders'])), name='orders')],axis=0)\n",
    "\n",
    "sampleB = pd.concat([ordersByUsersB['orders'],pd.Series(0, index=np.arange(data['visitorsPerDateB'].sum() - len(ordersByUsersB['orders'])), name='orders')],axis=0)\n",
    "\n",
    "ordersByUsersA = (\n",
    "    orders[orders['group'] == 'A']\n",
    "    .groupby('visitorId', as_index=False)\n",
    "    .agg({'transactionId': pd.Series.nunique})\n",
    ")\n",
    "ordersByUsersA.columns = ['userId', 'orders']\n",
    "\n",
    "ordersByUsersB = (\n",
    "    orders[orders['group'] == 'B']\n",
    "    .groupby('visitorId', as_index=False)\n",
    "    .agg({'transactionId': pd.Series.nunique})\n",
    ")\n",
    "ordersByUsersB.columns = ['userId', 'orders']\n",
    "\n",
    "sampleA = pd.concat(\n",
    "    [\n",
    "        ordersByUsersA['orders'],\n",
    "        pd.Series(\n",
    "            0,\n",
    "            index=np.arange(\n",
    "                data['visitorsPerDateA'].sum() - len(ordersByUsersA['orders'])\n",
    "            ),\n",
    "            name='orders',\n",
    "        ),\n",
    "    ],\n",
    "    axis=0,\n",
    ")\n",
    "\n",
    "sampleB = pd.concat(\n",
    "    [\n",
    "        ordersByUsersB['orders'],\n",
    "        pd.Series(\n",
    "            0,\n",
    "            index=np.arange(\n",
    "                data['visitorsPerDateB'].sum() - len(ordersByUsersB['orders'])\n",
    "            ),\n",
    "            name='orders',\n",
    "        ),\n",
    "    ],\n",
    "    axis=0,\n",
    ")\n",
    "\n",
    "print('Гипотеза: В конверсии между группами по «сырым» данным нет статистически значимых различий')\n",
    "print('Альтернативная гипотеза: В конверсии между группами по «сырым» данным есть статистически значимые различия')\n",
    "print()\n",
    "print('p-value: {0:.5f}'.format(stats.mannwhitneyu(sampleA, sampleB)[1]))\n",
    "print('p-value меньше 0.05, поэтому нулевую гипотезу отвергаем. Статистически значимые различия в группах есть')\n",
    "print()\n",
    "print('Прирост средней конверсии группы В относительно группы А: {0:.3f}'.format(sampleB.mean() / sampleA.mean() - 1))\n"
   ]
  },
  {
   "cell_type": "markdown",
   "metadata": {},
   "source": [
    "### Вычисление статистической значимости различий в среднем чеке заказа между группами по «сырым» данным"
   ]
  },
  {
   "cell_type": "code",
   "execution_count": 30,
   "metadata": {},
   "outputs": [
    {
     "name": "stdout",
     "output_type": "stream",
     "text": [
      "Гипотеза: В среднем чеке заказа между группами по «сырым» данным нет статистически значимых различий\n",
      "Альтернативная гипотеза: В среднем чеке заказа между группами по «сырым» данным есть статистически значимые различия\n",
      "\n",
      "p-value: 0.729\n",
      "Значение p-value больше 0.05, соответственно статистически значимых отличий в среднем чеке между группами нет.\n",
      "\n",
      "0.259\n",
      "Относительное различие среднего чека между сегментами 25,9%. Хотя разница более 25%, тем не менее она не является статистически значимой\n"
     ]
    }
   ],
   "source": [
    "print('Гипотеза: В среднем чеке заказа между группами по «сырым» данным нет статистически значимых различий')\n",
    "print('Альтернативная гипотеза: В среднем чеке заказа между группами по «сырым» данным есть статистически значимые различия')\n",
    "print()\n",
    "print('p-value: {0:.3f}'.format(stats.mannwhitneyu(orders[orders['group']=='A']['revenue'], orders[orders['group']=='B']['revenue'])[1]))\n",
    "print('Значение p-value больше 0.05, соответственно статистически значимых отличий в среднем чеке между группами нет.')\n",
    "print()\n",
    "print('{0:.3f}'.format(orders[orders['group']=='B']['revenue'].mean()/orders[orders['group']=='A']['revenue'].mean()-1)) \n",
    "print('Относительное различие среднего чека между сегментами 25,9%. Хотя разница более 25%, тем не менее она не является статистически значимой')"
   ]
  },
  {
   "cell_type": "markdown",
   "metadata": {},
   "source": [
    "### Вычисление статистической значимости различий в конверсии между группами по «очищенным» данным"
   ]
  },
  {
   "cell_type": "code",
   "execution_count": 31,
   "metadata": {},
   "outputs": [
    {
     "name": "stdout",
     "output_type": "stream",
     "text": [
      "1099    148427295\n",
      "18      199603092\n",
      "928     204675465\n",
      "23      237748145\n",
      "37      249864742\n",
      "dtype: int64\n"
     ]
    }
   ],
   "source": [
    "#очищаю данные, нахожу аномлаьных пользователей\n",
    "usersWithManyOrders = pd.concat(\n",
    "    [\n",
    "        ordersByUsersA[ordersByUsersA['orders'] > np.percentile(ordersByUsers['orders'], [95, 99])[0]]['userId'],\n",
    "        ordersByUsersB[ordersByUsersB['orders'] > np.percentile(ordersByUsers['orders'], [95, 99])[0]]['userId'],\n",
    "    ],\n",
    "    axis=0,\n",
    ")\n",
    "usersWithExpensiveOrders = orders[orders['revenue'] > np.percentile(orders['revenue'], [95, 99])[0]]['visitorId']\n",
    "abnormalUsers = (\n",
    "    pd.concat([usersWithManyOrders, usersWithExpensiveOrders], axis=0)\n",
    "    .drop_duplicates()\n",
    "    .sort_values()\n",
    ")\n",
    "print(abnormalUsers.head(5)) #проверяю результат"
   ]
  },
  {
   "cell_type": "code",
   "execution_count": 32,
   "metadata": {},
   "outputs": [
    {
     "name": "stdout",
     "output_type": "stream",
     "text": [
      "Гипотеза: В конверсии между группами по «очищенным» данным нет статистически значимых различий\n",
      "Альтернативная гипотеза: В конверсии между группами по «очищенным» данным есть статистически значимые различия\n",
      "\n",
      "p-value: 0.01304\n",
      "После очищения данных от аномалий, статистическая значимость остается достигнутой.\n",
      "\n",
      "Относительное различие: 0.173\n",
      "Показатели сегмента В лучше сегмента А на 14,8%\n"
     ]
    }
   ],
   "source": [
    "sampleAFiltered = pd.concat(\n",
    "    [\n",
    "        ordersByUsersA[\n",
    "            np.logical_not(ordersByUsersA['userId'].isin(abnormalUsers))\n",
    "        ]['orders'],\n",
    "        pd.Series(\n",
    "            0,\n",
    "            index=np.arange(\n",
    "                data['visitorsPerDateA'].sum() - len(ordersByUsersA['orders'])\n",
    "            ),\n",
    "            name='orders',\n",
    "        ),\n",
    "    ],\n",
    "    axis=0,\n",
    ")\n",
    "\n",
    "sampleBFiltered = pd.concat(\n",
    "    [\n",
    "        ordersByUsersB[\n",
    "            np.logical_not(ordersByUsersB['userId'].isin(abnormalUsers))\n",
    "        ]['orders'],\n",
    "        pd.Series(\n",
    "            0,\n",
    "            index=np.arange(\n",
    "                data['visitorsPerDateB'].sum() - len(ordersByUsersB['orders'])\n",
    "            ),\n",
    "            name='orders',\n",
    "        ),\n",
    "    ],\n",
    "    axis=0,\n",
    ") \n",
    "print('Гипотеза: В конверсии между группами по «очищенным» данным нет статистически значимых различий')\n",
    "print('Альтернативная гипотеза: В конверсии между группами по «очищенным» данным есть статистически значимые различия')\n",
    "print()\n",
    "print('p-value: {0:.5f}'.format(stats.mannwhitneyu(sampleAFiltered, sampleBFiltered)[1]))\n",
    "print('После очищения данных от аномалий, статистическая значимость остается достигнутой.')\n",
    "print()\n",
    "print('Относительное различие: {0:.3f}'.format(sampleBFiltered.mean()/sampleAFiltered.mean()-1))\n",
    "print('Показатели сегмента В лучше сегмента А на 14,8%')"
   ]
  },
  {
   "cell_type": "markdown",
   "metadata": {},
   "source": [
    "### Вычисление статистической значимости различий в среднем чеке заказа между группами по «очищенным» данным"
   ]
  },
  {
   "cell_type": "code",
   "execution_count": 33,
   "metadata": {},
   "outputs": [
    {
     "name": "stdout",
     "output_type": "stream",
     "text": [
      "Гипотеза: В среднем чеке заказа между группами по «очищенным» данным нет статистически значимых различий\n",
      "Альтернативная гипотеза: В среднем чеке заказа между группами по «очищенным» данным есть статистически значимые различия\n",
      "\n",
      "p-value: 0.738\n",
      "Относительное различие: -0.020\n",
      "\n",
      "P-value увеличился, но и разница между сегментами сократилась с 25,6% до 1,7%.\n",
      "Удаление аномалий повлияло на результат\n"
     ]
    }
   ],
   "source": [
    "print('Гипотеза: В среднем чеке заказа между группами по «очищенным» данным нет статистически значимых различий')\n",
    "print('Альтернативная гипотеза: В среднем чеке заказа между группами по «очищенным» данным есть статистически значимые различия')\n",
    "print()\n",
    "print(\n",
    "    'p-value: {0:.3f}'.format(\n",
    "        stats.mannwhitneyu(\n",
    "            orders[\n",
    "                np.logical_and(\n",
    "                    orders['group'] == 'A',\n",
    "                    np.logical_not(orders['visitorId'].isin(abnormalUsers)),\n",
    "                )\n",
    "            ]['revenue'],\n",
    "            orders[\n",
    "                np.logical_and(\n",
    "                    orders['group'] == 'B',\n",
    "                    np.logical_not(orders['visitorId'].isin(abnormalUsers)),\n",
    "                )\n",
    "            ]['revenue'],\n",
    "        )[1]\n",
    "    )\n",
    ")\n",
    "\n",
    "print(\n",
    "    \"Относительное различие: {0:.3f}\".format(\n",
    "        orders[\n",
    "            np.logical_and(\n",
    "                orders['group'] == 'B',\n",
    "                np.logical_not(orders['visitorId'].isin(abnormalUsers)),\n",
    "            )\n",
    "        ]['revenue'].mean()\n",
    "        / orders[\n",
    "            np.logical_and(\n",
    "                orders['group'] == 'A',\n",
    "                np.logical_not(orders['visitorId'].isin(abnormalUsers)),\n",
    "            )\n",
    "        ]['revenue'].mean()\n",
    "        - 1\n",
    "    )\n",
    ")\n",
    "print()\n",
    "print('P-value увеличился, но и разница между сегментами сократилась с 25,6% до 1,7%.')\n",
    "print('Удаление аномалий повлияло на результат')"
   ]
  },
  {
   "cell_type": "markdown",
   "metadata": {},
   "source": [
    "<b>Результаты анализа</b>:\n",
    "\n",
    "<b>Графики</b>:\n",
    "\n",
    "- График кумулятивной выручки показывает, что выручка группы В стабильно выше группы А.\n",
    "- График кумулятивного среднего чека по группам сильно колеблется, это обусловленно аномалиями. По графику вывод делать нельзя.\n",
    "- График относительного изменения среднего чека сильно колеблется, это обусловленно аномалиями. По графику вывод делать нельзя.\n",
    "- График кумулятивное конверсии говорит о том, что результаты группы B стабильно лучше группы А практически на протяжении всего теста.\n",
    "- График различия конверсии между группами сообщает, что результаты группы B лучше группы A. Отрицательная тенденция не наблюдается;\n",
    "- График количества заказов по пользователям показывает, что подавляющее большинство покупателей совершили только 1 покупку.\n",
    "\n",
    "<b>Средний чек</b>:\n",
    "\n",
    "- Нет статистически значимого различия по среднему чеку между группами ни по «сырым», ни по данным после фильтрации аномалий;\n",
    "- Относительное различие между группами по среднему чеку после очищения данных сошло на \"нет\". C 25,9% на 1,7%;\n",
    "\n",
    "<b>Конверсия</b>\n",
    "- Статистически значимое различие по конверсии между группами достигается и по \"сырым\" и по \"очищенным\" данным.\n",
    "- Относительное различие ежду группами по конверсии после очищения данных сохранилось и составило 14,8%"
   ]
  },
  {
   "cell_type": "markdown",
   "metadata": {},
   "source": [
    "##### Общий вывод:\n",
    "Тест проводился на протяжении одного месяца. Проводить тест далее не вижу необходимости. \n",
    "Основное отличие  между группами, это увеличенная на 14,8% конверсия в группе B. Средний чек остался на прежнем уровне.\n",
    "Считаю необходимым остановить тест и зафиксировать победу группы В.\n",
    "p.s. Повторные продажи, это потенциальная точка роста. Подавляющее большинство клиентов совершали покупку только 1 раз."
   ]
  }
 ],
 "metadata": {
  "ExecuteTimeLog": [
   {
    "duration": 62,
    "start_time": "2022-09-13T18:36:59.798Z"
   },
   {
    "duration": 59,
    "start_time": "2022-09-13T18:37:32.145Z"
   },
   {
    "duration": 446,
    "start_time": "2022-09-13T18:38:15.967Z"
   },
   {
    "duration": 31,
    "start_time": "2022-09-13T18:41:01.248Z"
   },
   {
    "duration": 4,
    "start_time": "2022-09-13T18:41:54.086Z"
   },
   {
    "duration": 29,
    "start_time": "2022-09-13T18:42:00.822Z"
   },
   {
    "duration": 30,
    "start_time": "2022-09-13T18:42:16.846Z"
   },
   {
    "duration": 30,
    "start_time": "2022-09-13T18:43:19.446Z"
   },
   {
    "duration": 8,
    "start_time": "2022-09-13T18:44:55.440Z"
   },
   {
    "duration": 32,
    "start_time": "2022-09-13T18:47:21.739Z"
   },
   {
    "duration": 8,
    "start_time": "2022-09-13T18:47:22.476Z"
   },
   {
    "duration": 10,
    "start_time": "2022-09-13T18:50:33.116Z"
   },
   {
    "duration": 8,
    "start_time": "2022-09-13T18:50:46.388Z"
   },
   {
    "duration": 31,
    "start_time": "2022-09-13T18:50:57.513Z"
   },
   {
    "duration": 9,
    "start_time": "2022-09-13T18:50:58.454Z"
   },
   {
    "duration": 8,
    "start_time": "2022-09-13T18:51:36.067Z"
   },
   {
    "duration": 12,
    "start_time": "2022-09-13T18:52:17.171Z"
   },
   {
    "duration": 9,
    "start_time": "2022-09-13T18:52:23.051Z"
   },
   {
    "duration": 10,
    "start_time": "2022-09-13T19:52:45.402Z"
   },
   {
    "duration": 427,
    "start_time": "2022-09-14T19:06:41.340Z"
   },
   {
    "duration": 9,
    "start_time": "2022-09-14T19:06:42.446Z"
   },
   {
    "duration": 149,
    "start_time": "2022-09-14T19:06:44.878Z"
   },
   {
    "duration": 67,
    "start_time": "2022-09-14T19:09:54.908Z"
   },
   {
    "duration": 313,
    "start_time": "2022-09-14T19:13:09.252Z"
   },
   {
    "duration": 4,
    "start_time": "2022-09-14T19:13:20.905Z"
   },
   {
    "duration": 8,
    "start_time": "2022-09-14T19:13:38.707Z"
   },
   {
    "duration": 3,
    "start_time": "2022-09-14T19:13:56.731Z"
   },
   {
    "duration": 66,
    "start_time": "2022-09-14T19:14:10.215Z"
   },
   {
    "duration": 74,
    "start_time": "2022-09-14T19:14:25.172Z"
   },
   {
    "duration": 265,
    "start_time": "2022-09-14T19:26:26.342Z"
   },
   {
    "duration": 32,
    "start_time": "2022-09-14T19:27:01.441Z"
   },
   {
    "duration": 8,
    "start_time": "2022-09-14T19:27:01.953Z"
   },
   {
    "duration": 356,
    "start_time": "2022-09-14T19:27:03.425Z"
   },
   {
    "duration": 903,
    "start_time": "2022-09-14T19:28:08.536Z"
   },
   {
    "duration": 83,
    "start_time": "2022-09-14T19:38:20.302Z"
   },
   {
    "duration": 82,
    "start_time": "2022-09-14T19:38:48.106Z"
   },
   {
    "duration": 114,
    "start_time": "2022-09-14T19:41:35.591Z"
   },
   {
    "duration": 410,
    "start_time": "2022-09-14T19:42:40.541Z"
   },
   {
    "duration": 3,
    "start_time": "2022-09-14T19:42:52.910Z"
   },
   {
    "duration": 31,
    "start_time": "2022-09-14T19:42:53.536Z"
   },
   {
    "duration": 11,
    "start_time": "2022-09-14T19:42:54.132Z"
   },
   {
    "duration": 110,
    "start_time": "2022-09-14T19:42:54.899Z"
   },
   {
    "duration": 107,
    "start_time": "2022-09-14T19:44:02.438Z"
   },
   {
    "duration": 105,
    "start_time": "2022-09-14T19:44:35.860Z"
   },
   {
    "duration": 95,
    "start_time": "2022-09-14T19:46:37.079Z"
   },
   {
    "duration": 96,
    "start_time": "2022-09-14T19:47:39.520Z"
   },
   {
    "duration": 552,
    "start_time": "2022-09-14T19:50:49.470Z"
   },
   {
    "duration": 455,
    "start_time": "2022-09-14T19:54:27.572Z"
   },
   {
    "duration": 534,
    "start_time": "2022-09-14T19:55:06.661Z"
   },
   {
    "duration": 467,
    "start_time": "2022-09-14T19:56:40.995Z"
   },
   {
    "duration": 3,
    "start_time": "2022-09-14T19:57:41.833Z"
   },
   {
    "duration": 542,
    "start_time": "2022-09-14T19:57:56.898Z"
   },
   {
    "duration": 521,
    "start_time": "2022-09-14T19:59:51.259Z"
   },
   {
    "duration": 158,
    "start_time": "2022-09-14T20:02:07.849Z"
   },
   {
    "duration": 199,
    "start_time": "2022-09-14T20:03:16.480Z"
   },
   {
    "duration": 189,
    "start_time": "2022-09-14T20:04:12.519Z"
   },
   {
    "duration": 185,
    "start_time": "2022-09-14T20:05:40.507Z"
   },
   {
    "duration": 207,
    "start_time": "2022-09-14T20:06:14.136Z"
   },
   {
    "duration": 513,
    "start_time": "2022-09-14T20:06:44.744Z"
   },
   {
    "duration": 185,
    "start_time": "2022-09-14T20:06:47.121Z"
   },
   {
    "duration": 381,
    "start_time": "2022-09-14T20:08:45.536Z"
   },
   {
    "duration": 312,
    "start_time": "2022-09-14T20:09:45.992Z"
   },
   {
    "duration": 313,
    "start_time": "2022-09-14T20:10:45.506Z"
   },
   {
    "duration": 321,
    "start_time": "2022-09-14T20:10:59.319Z"
   },
   {
    "duration": 3,
    "start_time": "2022-09-14T20:11:27.694Z"
   },
   {
    "duration": 43,
    "start_time": "2022-09-14T20:11:28.278Z"
   },
   {
    "duration": 9,
    "start_time": "2022-09-14T20:11:28.733Z"
   },
   {
    "duration": 565,
    "start_time": "2022-09-14T20:11:30.144Z"
   },
   {
    "duration": 211,
    "start_time": "2022-09-14T20:11:31.062Z"
   },
   {
    "duration": 350,
    "start_time": "2022-09-14T20:11:32.792Z"
   },
   {
    "duration": 361,
    "start_time": "2022-09-14T20:12:04.592Z"
   },
   {
    "duration": 310,
    "start_time": "2022-09-14T20:14:16.135Z"
   },
   {
    "duration": 324,
    "start_time": "2022-09-14T20:14:35.142Z"
   },
   {
    "duration": 150,
    "start_time": "2022-09-14T20:15:55.132Z"
   },
   {
    "duration": 279,
    "start_time": "2022-09-14T20:16:29.366Z"
   },
   {
    "duration": 233,
    "start_time": "2022-09-14T20:17:07.520Z"
   },
   {
    "duration": 194,
    "start_time": "2022-09-14T20:19:29.069Z"
   },
   {
    "duration": 231,
    "start_time": "2022-09-14T20:22:29.920Z"
   },
   {
    "duration": 292,
    "start_time": "2022-09-14T20:24:30.141Z"
   },
   {
    "duration": 439,
    "start_time": "2022-09-14T20:25:04.416Z"
   },
   {
    "duration": 345,
    "start_time": "2022-09-14T20:25:28.113Z"
   },
   {
    "duration": 384,
    "start_time": "2022-09-14T20:26:47.980Z"
   },
   {
    "duration": 350,
    "start_time": "2022-09-14T20:27:36.195Z"
   },
   {
    "duration": 317,
    "start_time": "2022-09-14T20:28:50.619Z"
   },
   {
    "duration": 357,
    "start_time": "2022-09-14T20:29:46.299Z"
   },
   {
    "duration": 455,
    "start_time": "2022-09-14T20:31:01.991Z"
   },
   {
    "duration": 3,
    "start_time": "2022-09-15T09:10:06.686Z"
   },
   {
    "duration": 33,
    "start_time": "2022-09-15T09:10:08.032Z"
   },
   {
    "duration": 9,
    "start_time": "2022-09-15T09:10:08.757Z"
   },
   {
    "duration": 531,
    "start_time": "2022-09-15T09:10:09.287Z"
   },
   {
    "duration": 200,
    "start_time": "2022-09-15T09:10:09.820Z"
   },
   {
    "duration": 311,
    "start_time": "2022-09-15T09:10:10.022Z"
   },
   {
    "duration": 184,
    "start_time": "2022-09-15T09:10:10.345Z"
   },
   {
    "duration": 306,
    "start_time": "2022-09-15T09:10:10.714Z"
   },
   {
    "duration": 10,
    "start_time": "2022-09-15T09:40:24.296Z"
   },
   {
    "duration": 8,
    "start_time": "2022-09-15T09:40:39.487Z"
   },
   {
    "duration": 11,
    "start_time": "2022-09-15T09:42:03.411Z"
   },
   {
    "duration": 11,
    "start_time": "2022-09-15T09:43:53.219Z"
   },
   {
    "duration": 10,
    "start_time": "2022-09-15T09:44:21.280Z"
   },
   {
    "duration": 10,
    "start_time": "2022-09-15T09:44:26.797Z"
   },
   {
    "duration": 6,
    "start_time": "2022-09-15T09:44:48.526Z"
   },
   {
    "duration": 108,
    "start_time": "2022-09-15T09:44:58.602Z"
   },
   {
    "duration": 120,
    "start_time": "2022-09-15T09:47:47.973Z"
   },
   {
    "duration": 4,
    "start_time": "2022-09-15T09:49:56.182Z"
   },
   {
    "duration": 148,
    "start_time": "2022-09-15T09:50:00.581Z"
   },
   {
    "duration": 129,
    "start_time": "2022-09-15T09:50:13.829Z"
   },
   {
    "duration": 129,
    "start_time": "2022-09-15T09:51:04.668Z"
   },
   {
    "duration": 120,
    "start_time": "2022-09-15T09:51:36.909Z"
   },
   {
    "duration": 125,
    "start_time": "2022-09-15T09:52:35.588Z"
   },
   {
    "duration": 203,
    "start_time": "2022-09-15T09:52:43.140Z"
   },
   {
    "duration": 120,
    "start_time": "2022-09-15T09:53:53.452Z"
   },
   {
    "duration": 116,
    "start_time": "2022-09-15T09:54:03.924Z"
   },
   {
    "duration": 130,
    "start_time": "2022-09-15T09:54:08.765Z"
   },
   {
    "duration": 120,
    "start_time": "2022-09-15T09:58:35.043Z"
   },
   {
    "duration": 135,
    "start_time": "2022-09-15T09:58:54.938Z"
   },
   {
    "duration": 128,
    "start_time": "2022-09-15T09:59:03.308Z"
   },
   {
    "duration": 134,
    "start_time": "2022-09-15T09:59:33.975Z"
   },
   {
    "duration": 128,
    "start_time": "2022-09-15T09:59:51.036Z"
   },
   {
    "duration": 6,
    "start_time": "2022-09-15T10:02:39.611Z"
   },
   {
    "duration": 4,
    "start_time": "2022-09-15T10:04:13.459Z"
   },
   {
    "duration": 4,
    "start_time": "2022-09-15T10:08:26.930Z"
   },
   {
    "duration": 3,
    "start_time": "2022-09-15T10:08:42.754Z"
   },
   {
    "duration": 4,
    "start_time": "2022-09-15T10:08:48.113Z"
   },
   {
    "duration": 4,
    "start_time": "2022-09-15T10:19:09.658Z"
   },
   {
    "duration": 6,
    "start_time": "2022-09-15T10:24:39.446Z"
   },
   {
    "duration": 123,
    "start_time": "2022-09-15T10:27:05.468Z"
   },
   {
    "duration": 1419,
    "start_time": "2022-09-15T10:28:04.270Z"
   },
   {
    "duration": 931,
    "start_time": "2022-09-15T10:28:36.679Z"
   },
   {
    "duration": 121,
    "start_time": "2022-09-15T10:28:47.926Z"
   },
   {
    "duration": 130,
    "start_time": "2022-09-15T10:29:05.739Z"
   },
   {
    "duration": 132,
    "start_time": "2022-09-15T10:29:12.470Z"
   },
   {
    "duration": 140,
    "start_time": "2022-09-15T10:31:08.286Z"
   },
   {
    "duration": 147,
    "start_time": "2022-09-15T10:31:42.994Z"
   },
   {
    "duration": 228,
    "start_time": "2022-09-15T10:31:47.612Z"
   },
   {
    "duration": 137,
    "start_time": "2022-09-15T10:32:05.021Z"
   },
   {
    "duration": 157,
    "start_time": "2022-09-15T10:34:25.100Z"
   },
   {
    "duration": 3,
    "start_time": "2022-09-15T10:34:38.612Z"
   },
   {
    "duration": 4,
    "start_time": "2022-09-15T10:36:05.509Z"
   },
   {
    "duration": 150,
    "start_time": "2022-09-15T10:37:49.412Z"
   },
   {
    "duration": 147,
    "start_time": "2022-09-15T10:38:45.388Z"
   },
   {
    "duration": 163,
    "start_time": "2022-09-15T10:39:52.565Z"
   },
   {
    "duration": 5,
    "start_time": "2022-09-15T10:39:53.756Z"
   },
   {
    "duration": 150,
    "start_time": "2022-09-15T10:39:55.147Z"
   },
   {
    "duration": 5,
    "start_time": "2022-09-15T10:40:46.045Z"
   },
   {
    "duration": 4,
    "start_time": "2022-09-15T10:42:03.074Z"
   },
   {
    "duration": 4,
    "start_time": "2022-09-15T10:44:57.322Z"
   },
   {
    "duration": 5,
    "start_time": "2022-09-15T10:45:05.170Z"
   },
   {
    "duration": 5,
    "start_time": "2022-09-15T10:45:46.742Z"
   },
   {
    "duration": 156,
    "start_time": "2022-09-15T10:45:48.057Z"
   },
   {
    "duration": 6,
    "start_time": "2022-09-15T10:45:49.745Z"
   },
   {
    "duration": 99,
    "start_time": "2022-09-15T10:57:15.949Z"
   },
   {
    "duration": 7,
    "start_time": "2022-09-15T15:08:16.198Z"
   },
   {
    "duration": 5,
    "start_time": "2022-09-15T15:08:30.534Z"
   },
   {
    "duration": 48,
    "start_time": "2022-09-15T15:08:42.205Z"
   },
   {
    "duration": 47,
    "start_time": "2022-09-15T15:08:52.076Z"
   },
   {
    "duration": 89,
    "start_time": "2022-09-15T15:09:10.547Z"
   },
   {
    "duration": 104,
    "start_time": "2022-09-15T15:09:59.364Z"
   },
   {
    "duration": 141,
    "start_time": "2022-09-15T15:12:53.036Z"
   },
   {
    "duration": 152,
    "start_time": "2022-09-15T15:13:09.731Z"
   },
   {
    "duration": 204,
    "start_time": "2022-09-15T15:13:32.501Z"
   },
   {
    "duration": 35,
    "start_time": "2022-09-15T15:15:24.995Z"
   },
   {
    "duration": 14,
    "start_time": "2022-09-15T15:15:25.938Z"
   },
   {
    "duration": 220,
    "start_time": "2022-09-15T15:15:32.794Z"
   },
   {
    "duration": 16,
    "start_time": "2022-09-15T15:16:22.131Z"
   },
   {
    "duration": 48,
    "start_time": "2022-09-15T15:17:51.123Z"
   },
   {
    "duration": 161,
    "start_time": "2022-09-15T15:18:56.955Z"
   },
   {
    "duration": 929,
    "start_time": "2022-09-15T15:22:07.418Z"
   },
   {
    "duration": 221,
    "start_time": "2022-09-15T15:22:47.793Z"
   },
   {
    "duration": 880,
    "start_time": "2022-09-15T15:23:05.912Z"
   },
   {
    "duration": 7551,
    "start_time": "2022-09-15T15:25:19.536Z"
   },
   {
    "duration": 1172,
    "start_time": "2022-09-15T15:26:19.160Z"
   },
   {
    "duration": 1243,
    "start_time": "2022-09-15T15:26:30.304Z"
   },
   {
    "duration": 1940,
    "start_time": "2022-09-15T15:28:16.488Z"
   },
   {
    "duration": 1673,
    "start_time": "2022-09-15T15:29:08.951Z"
   },
   {
    "duration": 2164,
    "start_time": "2022-09-15T15:29:25.707Z"
   },
   {
    "duration": 3,
    "start_time": "2022-09-15T15:29:47.503Z"
   },
   {
    "duration": 32,
    "start_time": "2022-09-15T15:29:48.055Z"
   },
   {
    "duration": 9,
    "start_time": "2022-09-15T15:29:48.574Z"
   },
   {
    "duration": 523,
    "start_time": "2022-09-15T15:29:49.343Z"
   },
   {
    "duration": 10,
    "start_time": "2022-09-15T15:29:49.869Z"
   },
   {
    "duration": 220,
    "start_time": "2022-09-15T15:29:49.880Z"
   },
   {
    "duration": 292,
    "start_time": "2022-09-15T15:29:50.231Z"
   },
   {
    "duration": 190,
    "start_time": "2022-09-15T15:29:50.750Z"
   },
   {
    "duration": 331,
    "start_time": "2022-09-15T15:29:51.094Z"
   },
   {
    "duration": 149,
    "start_time": "2022-09-15T15:29:51.437Z"
   },
   {
    "duration": 5,
    "start_time": "2022-09-15T15:29:51.774Z"
   },
   {
    "duration": 268,
    "start_time": "2022-09-15T15:29:52.142Z"
   },
   {
    "duration": 7,
    "start_time": "2022-09-15T15:29:52.510Z"
   },
   {
    "duration": 226,
    "start_time": "2022-09-15T15:29:52.859Z"
   },
   {
    "duration": 2286,
    "start_time": "2022-09-15T15:29:53.088Z"
   },
   {
    "duration": 75,
    "start_time": "2022-09-15T15:30:28.263Z"
   },
   {
    "duration": 71,
    "start_time": "2022-09-15T15:30:55.941Z"
   },
   {
    "duration": 127,
    "start_time": "2022-09-15T15:31:21.790Z"
   },
   {
    "duration": 243,
    "start_time": "2022-09-15T15:31:53.958Z"
   },
   {
    "duration": 231,
    "start_time": "2022-09-15T15:32:10.653Z"
   },
   {
    "duration": 271,
    "start_time": "2022-09-15T15:32:25.412Z"
   },
   {
    "duration": 246,
    "start_time": "2022-09-15T15:32:58.927Z"
   },
   {
    "duration": 250,
    "start_time": "2022-09-15T15:33:13.502Z"
   },
   {
    "duration": 388,
    "start_time": "2022-09-15T15:33:44.614Z"
   },
   {
    "duration": 284,
    "start_time": "2022-09-15T15:33:50.254Z"
   },
   {
    "duration": 255,
    "start_time": "2022-09-15T15:34:17.166Z"
   },
   {
    "duration": 322,
    "start_time": "2022-09-15T15:34:28.358Z"
   },
   {
    "duration": 212,
    "start_time": "2022-09-15T15:34:50.405Z"
   },
   {
    "duration": 276,
    "start_time": "2022-09-15T15:34:50.941Z"
   },
   {
    "duration": 216,
    "start_time": "2022-09-15T15:40:02.068Z"
   },
   {
    "duration": 289,
    "start_time": "2022-09-15T15:45:10.795Z"
   },
   {
    "duration": 244,
    "start_time": "2022-09-15T15:45:22.956Z"
   },
   {
    "duration": 336,
    "start_time": "2022-09-15T15:46:34.339Z"
   },
   {
    "duration": 207,
    "start_time": "2022-09-15T15:51:27.723Z"
   },
   {
    "duration": 329,
    "start_time": "2022-09-15T15:55:47.330Z"
   },
   {
    "duration": 256,
    "start_time": "2022-09-15T15:56:11.114Z"
   },
   {
    "duration": 12,
    "start_time": "2022-09-15T15:57:38.671Z"
   },
   {
    "duration": 99,
    "start_time": "2022-09-15T16:01:17.694Z"
   },
   {
    "duration": 13,
    "start_time": "2022-09-15T16:01:19.636Z"
   },
   {
    "duration": 330,
    "start_time": "2022-09-15T16:01:36.583Z"
   },
   {
    "duration": 14,
    "start_time": "2022-09-15T16:01:45.084Z"
   },
   {
    "duration": 11,
    "start_time": "2022-09-15T16:02:47.070Z"
   },
   {
    "duration": 13,
    "start_time": "2022-09-15T16:02:55.149Z"
   },
   {
    "duration": 1616,
    "start_time": "2022-09-15T16:04:37.564Z"
   },
   {
    "duration": 1831,
    "start_time": "2022-09-15T16:05:37.483Z"
   },
   {
    "duration": 5,
    "start_time": "2022-09-15T16:06:34.059Z"
   },
   {
    "duration": 2681,
    "start_time": "2022-09-15T16:07:49.348Z"
   },
   {
    "duration": 6,
    "start_time": "2022-09-15T16:08:12.428Z"
   },
   {
    "duration": 9,
    "start_time": "2022-09-15T16:08:22.884Z"
   },
   {
    "duration": 11,
    "start_time": "2022-09-15T16:10:10.355Z"
   },
   {
    "duration": 9,
    "start_time": "2022-09-15T16:10:15.850Z"
   },
   {
    "duration": 33,
    "start_time": "2022-09-15T16:12:39.262Z"
   },
   {
    "duration": 34,
    "start_time": "2022-09-15T16:15:18.514Z"
   },
   {
    "duration": 30,
    "start_time": "2022-09-15T16:16:27.097Z"
   },
   {
    "duration": 23,
    "start_time": "2022-09-15T16:16:41.988Z"
   },
   {
    "duration": 1370,
    "start_time": "2022-09-15T16:26:05.158Z"
   },
   {
    "duration": 17,
    "start_time": "2022-09-15T16:26:46.238Z"
   },
   {
    "duration": 13,
    "start_time": "2022-09-15T16:30:03.542Z"
   },
   {
    "duration": 20,
    "start_time": "2022-09-15T16:35:07.487Z"
   },
   {
    "duration": 14,
    "start_time": "2022-09-15T16:37:06.020Z"
   },
   {
    "duration": 19,
    "start_time": "2022-09-15T16:37:23.339Z"
   },
   {
    "duration": 1296,
    "start_time": "2022-09-15T18:28:45.523Z"
   },
   {
    "duration": 138,
    "start_time": "2022-09-15T18:28:46.822Z"
   },
   {
    "duration": 9,
    "start_time": "2022-09-15T18:28:46.962Z"
   },
   {
    "duration": 758,
    "start_time": "2022-09-15T18:28:46.973Z"
   },
   {
    "duration": 255,
    "start_time": "2022-09-15T18:28:47.733Z"
   },
   {
    "duration": 410,
    "start_time": "2022-09-15T18:28:47.989Z"
   },
   {
    "duration": 237,
    "start_time": "2022-09-15T18:28:48.401Z"
   },
   {
    "duration": 377,
    "start_time": "2022-09-15T18:28:48.640Z"
   },
   {
    "duration": 229,
    "start_time": "2022-09-15T18:28:49.021Z"
   },
   {
    "duration": 6,
    "start_time": "2022-09-15T18:28:49.251Z"
   },
   {
    "duration": 193,
    "start_time": "2022-09-15T18:28:49.259Z"
   },
   {
    "duration": 4,
    "start_time": "2022-09-15T18:28:49.455Z"
   },
   {
    "duration": 251,
    "start_time": "2022-09-15T18:28:49.461Z"
   },
   {
    "duration": 347,
    "start_time": "2022-09-15T18:28:49.720Z"
   },
   {
    "duration": 13,
    "start_time": "2022-09-15T18:28:50.069Z"
   },
   {
    "duration": 10,
    "start_time": "2022-09-15T18:28:50.084Z"
   },
   {
    "duration": 47,
    "start_time": "2022-09-15T18:28:50.096Z"
   },
   {
    "duration": 15,
    "start_time": "2022-09-15T18:28:50.146Z"
   },
   {
    "duration": 1211,
    "start_time": "2022-09-17T10:15:39.427Z"
   },
   {
    "duration": 121,
    "start_time": "2022-09-17T10:15:43.229Z"
   },
   {
    "duration": 64,
    "start_time": "2022-09-17T10:16:19.119Z"
   },
   {
    "duration": 63,
    "start_time": "2022-09-17T10:19:02.333Z"
   },
   {
    "duration": 123,
    "start_time": "2022-09-17T10:19:11.046Z"
   },
   {
    "duration": 58,
    "start_time": "2022-09-17T10:20:33.612Z"
   },
   {
    "duration": 46,
    "start_time": "2022-09-17T10:21:55.220Z"
   },
   {
    "duration": 51,
    "start_time": "2022-09-17T10:22:07.435Z"
   },
   {
    "duration": 31,
    "start_time": "2022-09-17T10:22:20.323Z"
   },
   {
    "duration": 32,
    "start_time": "2022-09-17T10:23:04.098Z"
   },
   {
    "duration": 9,
    "start_time": "2022-09-17T10:23:35.227Z"
   },
   {
    "duration": 26,
    "start_time": "2022-09-17T10:25:42.346Z"
   },
   {
    "duration": 8,
    "start_time": "2022-09-17T10:25:43.140Z"
   },
   {
    "duration": 8,
    "start_time": "2022-09-17T10:25:45.476Z"
   },
   {
    "duration": 56,
    "start_time": "2022-09-17T10:26:08.437Z"
   },
   {
    "duration": 8,
    "start_time": "2022-09-17T10:27:11.400Z"
   },
   {
    "duration": 9,
    "start_time": "2022-09-17T10:27:23.000Z"
   },
   {
    "duration": 9,
    "start_time": "2022-09-17T10:28:06.788Z"
   },
   {
    "duration": 8,
    "start_time": "2022-09-17T10:29:01.306Z"
   },
   {
    "duration": 8,
    "start_time": "2022-09-17T10:29:20.674Z"
   },
   {
    "duration": 104,
    "start_time": "2022-09-17T10:29:57.639Z"
   },
   {
    "duration": 197,
    "start_time": "2022-09-17T10:30:43.562Z"
   },
   {
    "duration": 170,
    "start_time": "2022-09-17T10:46:58.132Z"
   },
   {
    "duration": 171,
    "start_time": "2022-09-17T10:47:18.173Z"
   },
   {
    "duration": 11,
    "start_time": "2022-09-17T10:50:31.748Z"
   },
   {
    "duration": 7,
    "start_time": "2022-09-17T10:50:41.883Z"
   },
   {
    "duration": 8,
    "start_time": "2022-09-17T10:51:14.219Z"
   },
   {
    "duration": 6,
    "start_time": "2022-09-17T10:51:23.660Z"
   },
   {
    "duration": 6,
    "start_time": "2022-09-17T10:51:49.204Z"
   },
   {
    "duration": 6,
    "start_time": "2022-09-17T10:52:03.296Z"
   },
   {
    "duration": 10,
    "start_time": "2022-09-17T10:52:37.163Z"
   },
   {
    "duration": 46,
    "start_time": "2022-09-17T10:54:03.811Z"
   },
   {
    "duration": 19,
    "start_time": "2022-09-17T10:54:07.643Z"
   },
   {
    "duration": 17,
    "start_time": "2022-09-17T10:54:19.862Z"
   },
   {
    "duration": 15,
    "start_time": "2022-09-17T10:55:08.563Z"
   },
   {
    "duration": 16,
    "start_time": "2022-09-17T10:56:39.259Z"
   },
   {
    "duration": 18,
    "start_time": "2022-09-17T10:57:04.027Z"
   },
   {
    "duration": 14,
    "start_time": "2022-09-17T10:57:30.516Z"
   },
   {
    "duration": 14,
    "start_time": "2022-09-17T10:57:38.811Z"
   },
   {
    "duration": 1053,
    "start_time": "2022-09-17T10:58:03.207Z"
   },
   {
    "duration": 69,
    "start_time": "2022-09-17T10:58:04.262Z"
   },
   {
    "duration": 9,
    "start_time": "2022-09-17T10:58:04.333Z"
   },
   {
    "duration": 7,
    "start_time": "2022-09-17T10:58:04.344Z"
   },
   {
    "duration": 11,
    "start_time": "2022-09-17T10:58:04.352Z"
   },
   {
    "duration": 1226,
    "start_time": "2022-09-17T10:58:04.365Z"
   },
   {
    "duration": 0,
    "start_time": "2022-09-17T10:58:05.593Z"
   },
   {
    "duration": 0,
    "start_time": "2022-09-17T10:58:05.594Z"
   },
   {
    "duration": 0,
    "start_time": "2022-09-17T10:58:05.595Z"
   },
   {
    "duration": 0,
    "start_time": "2022-09-17T10:58:05.597Z"
   },
   {
    "duration": 0,
    "start_time": "2022-09-17T10:58:05.599Z"
   },
   {
    "duration": 0,
    "start_time": "2022-09-17T10:58:05.600Z"
   },
   {
    "duration": 0,
    "start_time": "2022-09-17T10:58:05.602Z"
   },
   {
    "duration": 0,
    "start_time": "2022-09-17T10:58:05.603Z"
   },
   {
    "duration": 0,
    "start_time": "2022-09-17T10:58:05.605Z"
   },
   {
    "duration": 0,
    "start_time": "2022-09-17T10:58:05.606Z"
   },
   {
    "duration": 0,
    "start_time": "2022-09-17T10:58:05.607Z"
   },
   {
    "duration": 0,
    "start_time": "2022-09-17T10:58:05.609Z"
   },
   {
    "duration": 0,
    "start_time": "2022-09-17T10:58:05.611Z"
   },
   {
    "duration": 0,
    "start_time": "2022-09-17T10:58:05.613Z"
   },
   {
    "duration": 0,
    "start_time": "2022-09-17T10:58:05.614Z"
   },
   {
    "duration": 0,
    "start_time": "2022-09-17T10:58:05.615Z"
   },
   {
    "duration": 0,
    "start_time": "2022-09-17T10:58:05.617Z"
   },
   {
    "duration": 1166,
    "start_time": "2022-09-17T11:01:11.433Z"
   },
   {
    "duration": 102,
    "start_time": "2022-09-17T11:01:12.601Z"
   },
   {
    "duration": 15,
    "start_time": "2022-09-17T11:01:12.705Z"
   },
   {
    "duration": 40,
    "start_time": "2022-09-17T11:01:12.721Z"
   },
   {
    "duration": 23,
    "start_time": "2022-09-17T11:01:12.763Z"
   },
   {
    "duration": 17,
    "start_time": "2022-09-17T11:01:12.788Z"
   },
   {
    "duration": 28,
    "start_time": "2022-09-17T11:01:12.807Z"
   },
   {
    "duration": 234,
    "start_time": "2022-09-17T11:01:12.837Z"
   },
   {
    "duration": 750,
    "start_time": "2022-09-17T11:01:13.073Z"
   },
   {
    "duration": 251,
    "start_time": "2022-09-17T11:01:13.824Z"
   },
   {
    "duration": 382,
    "start_time": "2022-09-17T11:01:14.076Z"
   },
   {
    "duration": 203,
    "start_time": "2022-09-17T11:01:14.460Z"
   },
   {
    "duration": 330,
    "start_time": "2022-09-17T11:01:14.665Z"
   },
   {
    "duration": 169,
    "start_time": "2022-09-17T11:01:14.997Z"
   },
   {
    "duration": 5,
    "start_time": "2022-09-17T11:01:15.167Z"
   },
   {
    "duration": 172,
    "start_time": "2022-09-17T11:01:15.173Z"
   },
   {
    "duration": 5,
    "start_time": "2022-09-17T11:01:15.346Z"
   },
   {
    "duration": 221,
    "start_time": "2022-09-17T11:01:15.352Z"
   },
   {
    "duration": 289,
    "start_time": "2022-09-17T11:01:15.574Z"
   },
   {
    "duration": 10,
    "start_time": "2022-09-17T11:01:15.864Z"
   },
   {
    "duration": 8,
    "start_time": "2022-09-17T11:01:15.875Z"
   },
   {
    "duration": 45,
    "start_time": "2022-09-17T11:01:15.885Z"
   },
   {
    "duration": 14,
    "start_time": "2022-09-17T11:01:15.932Z"
   },
   {
    "duration": 60,
    "start_time": "2022-09-17T11:03:47.554Z"
   },
   {
    "duration": 10,
    "start_time": "2022-09-17T11:04:40.306Z"
   },
   {
    "duration": 11,
    "start_time": "2022-09-17T11:04:58.585Z"
   },
   {
    "duration": 5,
    "start_time": "2022-09-17T11:05:05.267Z"
   },
   {
    "duration": 7,
    "start_time": "2022-09-17T11:05:25.608Z"
   },
   {
    "duration": 6,
    "start_time": "2022-09-17T11:05:50.706Z"
   },
   {
    "duration": 7,
    "start_time": "2022-09-17T11:06:01.745Z"
   },
   {
    "duration": 9,
    "start_time": "2022-09-17T11:06:02.761Z"
   },
   {
    "duration": 16,
    "start_time": "2022-09-17T11:06:30.546Z"
   },
   {
    "duration": 1072,
    "start_time": "2022-09-17T11:08:19.610Z"
   },
   {
    "duration": 80,
    "start_time": "2022-09-17T11:08:20.683Z"
   },
   {
    "duration": 8,
    "start_time": "2022-09-17T11:08:20.764Z"
   },
   {
    "duration": 9,
    "start_time": "2022-09-17T11:08:20.774Z"
   },
   {
    "duration": 11,
    "start_time": "2022-09-17T11:08:20.785Z"
   },
   {
    "duration": 21,
    "start_time": "2022-09-17T11:08:20.798Z"
   },
   {
    "duration": 20,
    "start_time": "2022-09-17T11:08:20.821Z"
   },
   {
    "duration": 214,
    "start_time": "2022-09-17T11:08:20.843Z"
   },
   {
    "duration": 61,
    "start_time": "2022-09-17T11:08:21.059Z"
   },
   {
    "duration": 12,
    "start_time": "2022-09-17T11:08:21.123Z"
   },
   {
    "duration": 8,
    "start_time": "2022-09-17T11:08:21.137Z"
   },
   {
    "duration": 25,
    "start_time": "2022-09-17T11:08:21.147Z"
   },
   {
    "duration": 609,
    "start_time": "2022-09-17T11:08:21.174Z"
   },
   {
    "duration": 226,
    "start_time": "2022-09-17T11:08:21.785Z"
   },
   {
    "duration": 339,
    "start_time": "2022-09-17T11:08:22.014Z"
   },
   {
    "duration": 235,
    "start_time": "2022-09-17T11:08:22.355Z"
   },
   {
    "duration": 393,
    "start_time": "2022-09-17T11:08:22.592Z"
   },
   {
    "duration": 168,
    "start_time": "2022-09-17T11:08:22.987Z"
   },
   {
    "duration": 5,
    "start_time": "2022-09-17T11:08:23.157Z"
   },
   {
    "duration": 191,
    "start_time": "2022-09-17T11:08:23.164Z"
   },
   {
    "duration": 5,
    "start_time": "2022-09-17T11:08:23.357Z"
   },
   {
    "duration": 247,
    "start_time": "2022-09-17T11:08:23.363Z"
   },
   {
    "duration": 317,
    "start_time": "2022-09-17T11:08:23.614Z"
   },
   {
    "duration": 13,
    "start_time": "2022-09-17T11:08:23.934Z"
   },
   {
    "duration": 9,
    "start_time": "2022-09-17T11:08:23.949Z"
   },
   {
    "duration": 53,
    "start_time": "2022-09-17T11:08:23.960Z"
   },
   {
    "duration": 15,
    "start_time": "2022-09-17T11:08:24.015Z"
   },
   {
    "duration": 106,
    "start_time": "2022-09-17T11:15:11.651Z"
   },
   {
    "duration": 152,
    "start_time": "2022-09-17T11:15:23.452Z"
   },
   {
    "duration": 117,
    "start_time": "2022-09-17T11:17:01.372Z"
   },
   {
    "duration": 61,
    "start_time": "2022-09-17T11:17:05.619Z"
   },
   {
    "duration": 5,
    "start_time": "2022-09-17T11:19:24.003Z"
   },
   {
    "duration": 6,
    "start_time": "2022-09-17T11:24:12.056Z"
   },
   {
    "duration": 6,
    "start_time": "2022-09-17T11:25:03.235Z"
   },
   {
    "duration": 7,
    "start_time": "2022-09-17T11:30:10.296Z"
   },
   {
    "duration": 7,
    "start_time": "2022-09-17T11:30:18.471Z"
   },
   {
    "duration": 9,
    "start_time": "2022-09-17T11:30:38.088Z"
   },
   {
    "duration": 66,
    "start_time": "2022-09-17T11:53:54.414Z"
   },
   {
    "duration": 57,
    "start_time": "2022-09-17T11:54:05.557Z"
   },
   {
    "duration": 11,
    "start_time": "2022-09-17T11:54:19.176Z"
   },
   {
    "duration": 179,
    "start_time": "2022-09-17T11:55:08.754Z"
   },
   {
    "duration": 9,
    "start_time": "2022-09-17T11:55:28.935Z"
   },
   {
    "duration": 7,
    "start_time": "2022-09-17T11:55:29.111Z"
   },
   {
    "duration": 10,
    "start_time": "2022-09-17T11:55:29.315Z"
   },
   {
    "duration": 8,
    "start_time": "2022-09-17T11:55:29.485Z"
   },
   {
    "duration": 10,
    "start_time": "2022-09-17T11:55:29.795Z"
   },
   {
    "duration": 13,
    "start_time": "2022-09-17T11:55:30.492Z"
   },
   {
    "duration": 13,
    "start_time": "2022-09-17T11:55:30.688Z"
   },
   {
    "duration": 7,
    "start_time": "2022-09-17T11:55:32.624Z"
   },
   {
    "duration": 7,
    "start_time": "2022-09-17T11:55:33.038Z"
   },
   {
    "duration": 8,
    "start_time": "2022-09-17T11:55:34.200Z"
   },
   {
    "duration": 1350,
    "start_time": "2022-09-17T11:55:56.982Z"
   },
   {
    "duration": 155,
    "start_time": "2022-09-17T11:55:59.624Z"
   },
   {
    "duration": 10,
    "start_time": "2022-09-17T11:55:59.781Z"
   },
   {
    "duration": 6,
    "start_time": "2022-09-17T11:55:59.937Z"
   },
   {
    "duration": 12,
    "start_time": "2022-09-17T11:56:00.104Z"
   },
   {
    "duration": 26,
    "start_time": "2022-09-17T11:56:00.264Z"
   },
   {
    "duration": 11,
    "start_time": "2022-09-17T11:56:00.912Z"
   },
   {
    "duration": 276,
    "start_time": "2022-09-17T11:56:01.320Z"
   },
   {
    "duration": 183,
    "start_time": "2022-09-17T11:56:03.840Z"
   },
   {
    "duration": 8,
    "start_time": "2022-09-17T11:56:04.727Z"
   },
   {
    "duration": 9,
    "start_time": "2022-09-17T11:56:05.226Z"
   },
   {
    "duration": 44,
    "start_time": "2022-09-17T11:56:05.551Z"
   },
   {
    "duration": 113,
    "start_time": "2022-09-17T11:56:06.088Z"
   },
   {
    "duration": 25,
    "start_time": "2022-09-17T11:56:18.257Z"
   },
   {
    "duration": 13,
    "start_time": "2022-09-17T11:56:26.039Z"
   },
   {
    "duration": 16,
    "start_time": "2022-09-17T11:56:35.544Z"
   },
   {
    "duration": 12,
    "start_time": "2022-09-17T11:56:40.926Z"
   },
   {
    "duration": 77,
    "start_time": "2022-09-17T12:06:34.111Z"
   },
   {
    "duration": 17,
    "start_time": "2022-09-17T12:13:41.878Z"
   },
   {
    "duration": 187,
    "start_time": "2022-09-17T12:14:12.629Z"
   },
   {
    "duration": 7,
    "start_time": "2022-09-17T12:17:33.055Z"
   },
   {
    "duration": 5,
    "start_time": "2022-09-17T12:17:45.932Z"
   },
   {
    "duration": 6,
    "start_time": "2022-09-17T12:17:59.691Z"
   },
   {
    "duration": 10,
    "start_time": "2022-09-17T12:18:49.339Z"
   },
   {
    "duration": 10,
    "start_time": "2022-09-17T12:19:12.134Z"
   },
   {
    "duration": 16,
    "start_time": "2022-09-17T12:19:17.315Z"
   },
   {
    "duration": 8,
    "start_time": "2022-09-17T12:19:41.612Z"
   },
   {
    "duration": 6,
    "start_time": "2022-09-17T12:21:24.923Z"
   },
   {
    "duration": 10,
    "start_time": "2022-09-17T12:21:32.002Z"
   },
   {
    "duration": 10,
    "start_time": "2022-09-17T12:21:35.682Z"
   },
   {
    "duration": 10,
    "start_time": "2022-09-17T12:21:44.680Z"
   },
   {
    "duration": 7,
    "start_time": "2022-09-17T12:21:48.930Z"
   },
   {
    "duration": 14,
    "start_time": "2022-09-17T12:22:24.661Z"
   },
   {
    "duration": 12,
    "start_time": "2022-09-17T12:22:44.981Z"
   },
   {
    "duration": 3,
    "start_time": "2022-09-17T12:23:12.090Z"
   },
   {
    "duration": 28,
    "start_time": "2022-09-17T12:23:13.411Z"
   },
   {
    "duration": 7,
    "start_time": "2022-09-17T12:23:13.731Z"
   },
   {
    "duration": 9,
    "start_time": "2022-09-17T12:23:14.266Z"
   },
   {
    "duration": 17,
    "start_time": "2022-09-17T12:23:14.747Z"
   },
   {
    "duration": 14,
    "start_time": "2022-09-17T12:23:15.794Z"
   },
   {
    "duration": 16,
    "start_time": "2022-09-17T12:23:16.867Z"
   },
   {
    "duration": 207,
    "start_time": "2022-09-17T12:23:17.586Z"
   },
   {
    "duration": 64,
    "start_time": "2022-09-17T12:23:19.644Z"
   },
   {
    "duration": 11,
    "start_time": "2022-09-17T12:23:20.434Z"
   },
   {
    "duration": 11,
    "start_time": "2022-09-17T12:23:23.445Z"
   },
   {
    "duration": 45,
    "start_time": "2022-09-17T12:23:24.154Z"
   },
   {
    "duration": 21,
    "start_time": "2022-09-17T12:23:25.954Z"
   },
   {
    "duration": 9,
    "start_time": "2022-09-17T12:23:27.435Z"
   },
   {
    "duration": 13,
    "start_time": "2022-09-17T12:23:39.629Z"
   },
   {
    "duration": 208,
    "start_time": "2022-09-17T13:04:22.449Z"
   },
   {
    "duration": 214,
    "start_time": "2022-09-17T13:04:38.149Z"
   },
   {
    "duration": 25,
    "start_time": "2022-09-17T13:05:02.119Z"
   },
   {
    "duration": 26,
    "start_time": "2022-09-17T13:05:11.641Z"
   },
   {
    "duration": 24,
    "start_time": "2022-09-17T13:06:17.848Z"
   },
   {
    "duration": 19,
    "start_time": "2022-09-17T13:07:19.433Z"
   },
   {
    "duration": 16,
    "start_time": "2022-09-17T13:12:20.873Z"
   },
   {
    "duration": 159,
    "start_time": "2022-09-17T13:14:03.500Z"
   },
   {
    "duration": 14,
    "start_time": "2022-09-17T13:18:48.774Z"
   },
   {
    "duration": 13,
    "start_time": "2022-09-17T13:19:12.497Z"
   },
   {
    "duration": 12,
    "start_time": "2022-09-17T13:19:57.430Z"
   },
   {
    "duration": 12,
    "start_time": "2022-09-17T13:20:06.133Z"
   },
   {
    "duration": 6,
    "start_time": "2022-09-17T13:20:40.107Z"
   },
   {
    "duration": 20,
    "start_time": "2022-09-17T13:20:40.964Z"
   },
   {
    "duration": 4,
    "start_time": "2022-09-17T13:21:22.948Z"
   },
   {
    "duration": 57,
    "start_time": "2022-09-17T13:22:52.979Z"
   },
   {
    "duration": 53,
    "start_time": "2022-09-17T13:23:11.196Z"
   },
   {
    "duration": 67,
    "start_time": "2022-09-17T13:23:31.251Z"
   },
   {
    "duration": 5,
    "start_time": "2022-09-17T13:23:42.483Z"
   },
   {
    "duration": 40,
    "start_time": "2022-09-17T13:23:43.099Z"
   },
   {
    "duration": 60,
    "start_time": "2022-09-17T13:23:54.737Z"
   },
   {
    "duration": 58,
    "start_time": "2022-09-17T13:24:32.412Z"
   },
   {
    "duration": 43,
    "start_time": "2022-09-17T13:25:09.715Z"
   },
   {
    "duration": 1031,
    "start_time": "2022-09-17T13:26:09.176Z"
   },
   {
    "duration": 55,
    "start_time": "2022-09-17T13:26:17.924Z"
   },
   {
    "duration": 5,
    "start_time": "2022-09-17T13:58:59.580Z"
   },
   {
    "duration": 7,
    "start_time": "2022-09-17T13:59:01.546Z"
   },
   {
    "duration": 5,
    "start_time": "2022-09-17T13:59:35.304Z"
   },
   {
    "duration": 8,
    "start_time": "2022-09-17T14:00:17.196Z"
   },
   {
    "duration": 105,
    "start_time": "2022-09-17T14:00:17.650Z"
   },
   {
    "duration": 11,
    "start_time": "2022-09-17T14:04:04.147Z"
   },
   {
    "duration": 11,
    "start_time": "2022-09-17T14:04:12.657Z"
   },
   {
    "duration": 1061,
    "start_time": "2022-09-17T14:04:26.106Z"
   },
   {
    "duration": 87,
    "start_time": "2022-09-17T14:04:27.169Z"
   },
   {
    "duration": 8,
    "start_time": "2022-09-17T14:04:27.258Z"
   },
   {
    "duration": 10,
    "start_time": "2022-09-17T14:04:27.268Z"
   },
   {
    "duration": 15,
    "start_time": "2022-09-17T14:04:27.280Z"
   },
   {
    "duration": 13,
    "start_time": "2022-09-17T14:04:27.296Z"
   },
   {
    "duration": 9,
    "start_time": "2022-09-17T14:04:27.311Z"
   },
   {
    "duration": 222,
    "start_time": "2022-09-17T14:04:27.322Z"
   },
   {
    "duration": 50,
    "start_time": "2022-09-17T14:04:27.545Z"
   },
   {
    "duration": 7,
    "start_time": "2022-09-17T14:04:27.598Z"
   },
   {
    "duration": 10,
    "start_time": "2022-09-17T14:04:27.607Z"
   },
   {
    "duration": 28,
    "start_time": "2022-09-17T14:04:27.619Z"
   },
   {
    "duration": 12,
    "start_time": "2022-09-17T14:04:27.649Z"
   },
   {
    "duration": 12,
    "start_time": "2022-09-17T14:04:27.663Z"
   },
   {
    "duration": 55,
    "start_time": "2022-09-17T14:04:27.677Z"
   },
   {
    "duration": 602,
    "start_time": "2022-09-17T14:04:27.734Z"
   },
   {
    "duration": 107,
    "start_time": "2022-09-17T14:04:28.338Z"
   },
   {
    "duration": 0,
    "start_time": "2022-09-17T14:04:28.447Z"
   },
   {
    "duration": 0,
    "start_time": "2022-09-17T14:04:28.449Z"
   },
   {
    "duration": 0,
    "start_time": "2022-09-17T14:04:28.454Z"
   },
   {
    "duration": 0,
    "start_time": "2022-09-17T14:04:28.455Z"
   },
   {
    "duration": 0,
    "start_time": "2022-09-17T14:04:28.456Z"
   },
   {
    "duration": 0,
    "start_time": "2022-09-17T14:04:28.457Z"
   },
   {
    "duration": 0,
    "start_time": "2022-09-17T14:04:28.458Z"
   },
   {
    "duration": 0,
    "start_time": "2022-09-17T14:04:28.459Z"
   },
   {
    "duration": 0,
    "start_time": "2022-09-17T14:04:28.460Z"
   },
   {
    "duration": 0,
    "start_time": "2022-09-17T14:04:28.461Z"
   },
   {
    "duration": 0,
    "start_time": "2022-09-17T14:04:28.463Z"
   },
   {
    "duration": 0,
    "start_time": "2022-09-17T14:04:28.464Z"
   },
   {
    "duration": 0,
    "start_time": "2022-09-17T14:04:28.465Z"
   },
   {
    "duration": 0,
    "start_time": "2022-09-17T14:04:28.467Z"
   },
   {
    "duration": 10,
    "start_time": "2022-09-17T14:05:00.610Z"
   },
   {
    "duration": 9,
    "start_time": "2022-09-17T14:05:12.337Z"
   },
   {
    "duration": 8,
    "start_time": "2022-09-17T14:05:29.097Z"
   },
   {
    "duration": 6,
    "start_time": "2022-09-17T14:05:35.292Z"
   },
   {
    "duration": 4,
    "start_time": "2022-09-17T14:06:18.433Z"
   },
   {
    "duration": 5,
    "start_time": "2022-09-17T14:07:13.929Z"
   },
   {
    "duration": 540,
    "start_time": "2022-09-17T14:09:27.962Z"
   },
   {
    "duration": 4,
    "start_time": "2022-09-17T14:10:07.796Z"
   },
   {
    "duration": 4,
    "start_time": "2022-09-17T14:10:44.440Z"
   },
   {
    "duration": 5,
    "start_time": "2022-09-17T14:11:56.098Z"
   },
   {
    "duration": 8,
    "start_time": "2022-09-17T14:12:10.632Z"
   },
   {
    "duration": 5,
    "start_time": "2022-09-17T14:22:15.223Z"
   },
   {
    "duration": 1365,
    "start_time": "2022-09-17T14:28:31.179Z"
   },
   {
    "duration": 126,
    "start_time": "2022-09-17T14:28:32.546Z"
   },
   {
    "duration": 17,
    "start_time": "2022-09-17T14:28:32.684Z"
   },
   {
    "duration": 14,
    "start_time": "2022-09-17T14:28:32.703Z"
   },
   {
    "duration": 13,
    "start_time": "2022-09-17T14:28:32.720Z"
   },
   {
    "duration": 14,
    "start_time": "2022-09-17T14:28:32.735Z"
   },
   {
    "duration": 14,
    "start_time": "2022-09-17T14:28:32.751Z"
   },
   {
    "duration": 250,
    "start_time": "2022-09-17T14:28:32.766Z"
   },
   {
    "duration": 60,
    "start_time": "2022-09-17T14:28:33.018Z"
   },
   {
    "duration": 13,
    "start_time": "2022-09-17T14:28:33.079Z"
   },
   {
    "duration": 16,
    "start_time": "2022-09-17T14:28:33.094Z"
   },
   {
    "duration": 34,
    "start_time": "2022-09-17T14:28:33.112Z"
   },
   {
    "duration": 31,
    "start_time": "2022-09-17T14:28:33.148Z"
   },
   {
    "duration": 11,
    "start_time": "2022-09-17T14:28:33.184Z"
   },
   {
    "duration": 77,
    "start_time": "2022-09-17T14:28:33.198Z"
   },
   {
    "duration": 789,
    "start_time": "2022-09-17T14:28:33.277Z"
   },
   {
    "duration": 7,
    "start_time": "2022-09-17T14:28:34.067Z"
   },
   {
    "duration": 284,
    "start_time": "2022-09-17T14:28:34.076Z"
   },
   {
    "duration": 369,
    "start_time": "2022-09-17T14:28:34.363Z"
   },
   {
    "duration": 261,
    "start_time": "2022-09-17T14:28:34.734Z"
   },
   {
    "duration": 343,
    "start_time": "2022-09-17T14:28:34.997Z"
   },
   {
    "duration": 192,
    "start_time": "2022-09-17T14:28:35.342Z"
   },
   {
    "duration": 21,
    "start_time": "2022-09-17T14:28:35.538Z"
   },
   {
    "duration": 204,
    "start_time": "2022-09-17T14:28:35.565Z"
   },
   {
    "duration": 12,
    "start_time": "2022-09-17T14:28:35.771Z"
   },
   {
    "duration": 353,
    "start_time": "2022-09-17T14:28:35.786Z"
   },
   {
    "duration": 353,
    "start_time": "2022-09-17T14:28:36.141Z"
   },
   {
    "duration": 12,
    "start_time": "2022-09-17T14:28:36.495Z"
   },
   {
    "duration": 10,
    "start_time": "2022-09-17T14:28:36.509Z"
   },
   {
    "duration": 62,
    "start_time": "2022-09-17T14:28:36.520Z"
   },
   {
    "duration": 17,
    "start_time": "2022-09-17T14:28:36.584Z"
   },
   {
    "duration": 435,
    "start_time": "2022-09-17T14:29:39.027Z"
   },
   {
    "duration": 348,
    "start_time": "2022-09-17T14:29:50.977Z"
   },
   {
    "duration": 336,
    "start_time": "2022-09-17T14:30:58.907Z"
   },
   {
    "duration": 375,
    "start_time": "2022-09-17T14:31:23.156Z"
   },
   {
    "duration": 409,
    "start_time": "2022-09-17T14:31:33.137Z"
   },
   {
    "duration": 334,
    "start_time": "2022-09-17T14:32:15.186Z"
   },
   {
    "duration": 1146,
    "start_time": "2022-09-17T14:32:51.837Z"
   },
   {
    "duration": 94,
    "start_time": "2022-09-17T14:32:52.988Z"
   },
   {
    "duration": 8,
    "start_time": "2022-09-17T14:32:53.084Z"
   },
   {
    "duration": 8,
    "start_time": "2022-09-17T14:32:53.094Z"
   },
   {
    "duration": 13,
    "start_time": "2022-09-17T14:32:53.103Z"
   },
   {
    "duration": 39,
    "start_time": "2022-09-17T14:32:53.118Z"
   },
   {
    "duration": 21,
    "start_time": "2022-09-17T14:32:53.159Z"
   },
   {
    "duration": 256,
    "start_time": "2022-09-17T14:32:53.184Z"
   },
   {
    "duration": 65,
    "start_time": "2022-09-17T14:32:53.442Z"
   },
   {
    "duration": 7,
    "start_time": "2022-09-17T14:32:53.510Z"
   },
   {
    "duration": 13,
    "start_time": "2022-09-17T14:32:53.518Z"
   },
   {
    "duration": 40,
    "start_time": "2022-09-17T14:32:53.533Z"
   },
   {
    "duration": 28,
    "start_time": "2022-09-17T14:32:53.580Z"
   },
   {
    "duration": 10,
    "start_time": "2022-09-17T14:32:53.610Z"
   },
   {
    "duration": 68,
    "start_time": "2022-09-17T14:32:53.622Z"
   },
   {
    "duration": 765,
    "start_time": "2022-09-17T14:32:53.692Z"
   },
   {
    "duration": 8,
    "start_time": "2022-09-17T14:32:54.459Z"
   },
   {
    "duration": 322,
    "start_time": "2022-09-17T14:32:54.469Z"
   },
   {
    "duration": 394,
    "start_time": "2022-09-17T14:32:54.794Z"
   },
   {
    "duration": 494,
    "start_time": "2022-09-17T14:32:55.192Z"
   },
   {
    "duration": 711,
    "start_time": "2022-09-17T14:32:55.688Z"
   },
   {
    "duration": 574,
    "start_time": "2022-09-17T14:32:56.401Z"
   },
   {
    "duration": 6,
    "start_time": "2022-09-17T14:32:56.982Z"
   },
   {
    "duration": 492,
    "start_time": "2022-09-17T14:32:56.991Z"
   },
   {
    "duration": 8,
    "start_time": "2022-09-17T14:32:57.485Z"
   },
   {
    "duration": 624,
    "start_time": "2022-09-17T14:32:57.495Z"
   },
   {
    "duration": 319,
    "start_time": "2022-09-17T14:32:58.121Z"
   },
   {
    "duration": 15,
    "start_time": "2022-09-17T14:32:58.453Z"
   },
   {
    "duration": 33,
    "start_time": "2022-09-17T14:32:58.476Z"
   },
   {
    "duration": 32,
    "start_time": "2022-09-17T14:32:58.511Z"
   },
   {
    "duration": 26,
    "start_time": "2022-09-17T14:32:58.545Z"
   },
   {
    "duration": 622,
    "start_time": "2022-09-17T14:33:52.562Z"
   },
   {
    "duration": 619,
    "start_time": "2022-09-17T14:34:15.797Z"
   },
   {
    "duration": 635,
    "start_time": "2022-09-17T14:34:27.003Z"
   },
   {
    "duration": 660,
    "start_time": "2022-09-17T14:35:11.674Z"
   },
   {
    "duration": 537,
    "start_time": "2022-09-17T14:35:19.295Z"
   },
   {
    "duration": 294,
    "start_time": "2022-09-17T14:35:59.892Z"
   },
   {
    "duration": 369,
    "start_time": "2022-09-17T14:36:55.072Z"
   },
   {
    "duration": 246,
    "start_time": "2022-09-17T14:37:48.792Z"
   },
   {
    "duration": 512,
    "start_time": "2022-09-17T14:38:08.720Z"
   },
   {
    "duration": 200,
    "start_time": "2022-09-17T14:39:05.207Z"
   },
   {
    "duration": 203,
    "start_time": "2022-09-17T14:40:14.306Z"
   },
   {
    "duration": 245,
    "start_time": "2022-09-17T14:40:35.841Z"
   },
   {
    "duration": 253,
    "start_time": "2022-09-17T14:41:31.610Z"
   },
   {
    "duration": 217,
    "start_time": "2022-09-17T14:41:40.096Z"
   },
   {
    "duration": 210,
    "start_time": "2022-09-17T14:41:53.600Z"
   },
   {
    "duration": 15,
    "start_time": "2022-09-17T14:51:04.100Z"
   },
   {
    "duration": 76,
    "start_time": "2022-09-17T14:51:55.421Z"
   },
   {
    "duration": 411,
    "start_time": "2022-09-17T14:57:02.103Z"
   },
   {
    "duration": 13,
    "start_time": "2022-09-17T14:58:40.132Z"
   },
   {
    "duration": 31,
    "start_time": "2022-09-17T14:59:46.917Z"
   },
   {
    "duration": 31,
    "start_time": "2022-09-17T15:00:50.687Z"
   },
   {
    "duration": 17,
    "start_time": "2022-09-17T15:01:08.303Z"
   },
   {
    "duration": 578,
    "start_time": "2022-09-17T15:03:16.283Z"
   },
   {
    "duration": 1348,
    "start_time": "2022-09-17T15:03:26.084Z"
   },
   {
    "duration": 107,
    "start_time": "2022-09-17T15:03:27.435Z"
   },
   {
    "duration": 11,
    "start_time": "2022-09-17T15:03:27.544Z"
   },
   {
    "duration": 57,
    "start_time": "2022-09-17T15:03:27.557Z"
   },
   {
    "duration": 18,
    "start_time": "2022-09-17T15:03:27.617Z"
   },
   {
    "duration": 30,
    "start_time": "2022-09-17T15:03:27.637Z"
   },
   {
    "duration": 53,
    "start_time": "2022-09-17T15:03:27.669Z"
   },
   {
    "duration": 278,
    "start_time": "2022-09-17T15:03:27.725Z"
   },
   {
    "duration": 66,
    "start_time": "2022-09-17T15:03:28.012Z"
   },
   {
    "duration": 27,
    "start_time": "2022-09-17T15:03:28.088Z"
   },
   {
    "duration": 12,
    "start_time": "2022-09-17T15:03:28.127Z"
   },
   {
    "duration": 70,
    "start_time": "2022-09-17T15:03:28.141Z"
   },
   {
    "duration": 19,
    "start_time": "2022-09-17T15:03:28.214Z"
   },
   {
    "duration": 14,
    "start_time": "2022-09-17T15:03:28.237Z"
   },
   {
    "duration": 95,
    "start_time": "2022-09-17T15:03:28.253Z"
   },
   {
    "duration": 792,
    "start_time": "2022-09-17T15:03:28.350Z"
   },
   {
    "duration": 29,
    "start_time": "2022-09-17T15:03:29.144Z"
   },
   {
    "duration": 344,
    "start_time": "2022-09-17T15:03:29.184Z"
   },
   {
    "duration": 396,
    "start_time": "2022-09-17T15:03:29.530Z"
   },
   {
    "duration": 339,
    "start_time": "2022-09-17T15:03:29.928Z"
   },
   {
    "duration": 803,
    "start_time": "2022-09-17T15:03:30.269Z"
   },
   {
    "duration": 508,
    "start_time": "2022-09-17T15:03:31.075Z"
   },
   {
    "duration": 9,
    "start_time": "2022-09-17T15:03:31.588Z"
   },
   {
    "duration": 602,
    "start_time": "2022-09-17T15:03:31.599Z"
   },
   {
    "duration": 585,
    "start_time": "2022-09-17T15:03:32.203Z"
   },
   {
    "duration": 9,
    "start_time": "2022-09-17T15:03:32.792Z"
   },
   {
    "duration": 716,
    "start_time": "2022-09-17T15:03:32.804Z"
   },
   {
    "duration": 416,
    "start_time": "2022-09-17T15:03:33.523Z"
   },
   {
    "duration": 27,
    "start_time": "2022-09-17T15:03:33.941Z"
   },
   {
    "duration": 51,
    "start_time": "2022-09-17T15:03:33.969Z"
   },
   {
    "duration": 31,
    "start_time": "2022-09-17T15:03:34.022Z"
   },
   {
    "duration": 29,
    "start_time": "2022-09-17T15:03:34.064Z"
   },
   {
    "duration": 632,
    "start_time": "2022-09-17T15:07:17.666Z"
   },
   {
    "duration": 1286,
    "start_time": "2022-09-17T15:07:53.235Z"
   },
   {
    "duration": 119,
    "start_time": "2022-09-17T15:07:54.523Z"
   },
   {
    "duration": 41,
    "start_time": "2022-09-17T15:07:54.646Z"
   },
   {
    "duration": 29,
    "start_time": "2022-09-17T15:07:54.701Z"
   },
   {
    "duration": 31,
    "start_time": "2022-09-17T15:07:54.731Z"
   },
   {
    "duration": 52,
    "start_time": "2022-09-17T15:07:54.764Z"
   },
   {
    "duration": 22,
    "start_time": "2022-09-17T15:07:54.818Z"
   },
   {
    "duration": 289,
    "start_time": "2022-09-17T15:07:54.842Z"
   },
   {
    "duration": 78,
    "start_time": "2022-09-17T15:07:55.133Z"
   },
   {
    "duration": 9,
    "start_time": "2022-09-17T15:07:55.215Z"
   },
   {
    "duration": 13,
    "start_time": "2022-09-17T15:07:55.226Z"
   },
   {
    "duration": 42,
    "start_time": "2022-09-17T15:07:55.241Z"
   },
   {
    "duration": 33,
    "start_time": "2022-09-17T15:07:55.285Z"
   },
   {
    "duration": 15,
    "start_time": "2022-09-17T15:07:55.319Z"
   },
   {
    "duration": 76,
    "start_time": "2022-09-17T15:07:55.335Z"
   },
   {
    "duration": 673,
    "start_time": "2022-09-17T15:07:55.414Z"
   },
   {
    "duration": 6,
    "start_time": "2022-09-17T15:07:56.096Z"
   },
   {
    "duration": 476,
    "start_time": "2022-09-17T15:07:56.104Z"
   },
   {
    "duration": 786,
    "start_time": "2022-09-17T15:07:56.584Z"
   },
   {
    "duration": 622,
    "start_time": "2022-09-17T15:07:57.371Z"
   },
   {
    "duration": 710,
    "start_time": "2022-09-17T15:07:57.994Z"
   },
   {
    "duration": 402,
    "start_time": "2022-09-17T15:07:58.706Z"
   },
   {
    "duration": 7,
    "start_time": "2022-09-17T15:07:59.110Z"
   },
   {
    "duration": 237,
    "start_time": "2022-09-17T15:07:59.165Z"
   },
   {
    "duration": 225,
    "start_time": "2022-09-17T15:07:59.404Z"
   },
   {
    "duration": 7,
    "start_time": "2022-09-17T15:07:59.630Z"
   },
   {
    "duration": 371,
    "start_time": "2022-09-17T15:07:59.639Z"
   },
   {
    "duration": 381,
    "start_time": "2022-09-17T15:08:00.014Z"
   },
   {
    "duration": 14,
    "start_time": "2022-09-17T15:08:00.400Z"
   },
   {
    "duration": 25,
    "start_time": "2022-09-17T15:08:00.416Z"
   },
   {
    "duration": 83,
    "start_time": "2022-09-17T15:08:00.442Z"
   },
   {
    "duration": 79,
    "start_time": "2022-09-17T15:08:00.527Z"
   },
   {
    "duration": 1235,
    "start_time": "2022-09-17T18:06:34.121Z"
   },
   {
    "duration": 108,
    "start_time": "2022-09-17T18:06:35.357Z"
   },
   {
    "duration": 8,
    "start_time": "2022-09-17T18:06:35.466Z"
   },
   {
    "duration": 8,
    "start_time": "2022-09-17T18:06:35.476Z"
   },
   {
    "duration": 13,
    "start_time": "2022-09-17T18:06:35.486Z"
   },
   {
    "duration": 20,
    "start_time": "2022-09-17T18:06:35.501Z"
   },
   {
    "duration": 26,
    "start_time": "2022-09-17T18:06:35.522Z"
   },
   {
    "duration": 190,
    "start_time": "2022-09-17T18:06:35.549Z"
   },
   {
    "duration": 148,
    "start_time": "2022-09-17T18:06:35.741Z"
   },
   {
    "duration": 8,
    "start_time": "2022-09-17T18:06:35.893Z"
   },
   {
    "duration": 21,
    "start_time": "2022-09-17T18:06:35.902Z"
   },
   {
    "duration": 20,
    "start_time": "2022-09-17T18:06:35.924Z"
   },
   {
    "duration": 25,
    "start_time": "2022-09-17T18:06:35.945Z"
   },
   {
    "duration": 13,
    "start_time": "2022-09-17T18:06:35.971Z"
   },
   {
    "duration": 7,
    "start_time": "2022-09-17T18:06:35.985Z"
   },
   {
    "duration": 58,
    "start_time": "2022-09-17T18:06:35.993Z"
   },
   {
    "duration": 569,
    "start_time": "2022-09-17T18:06:36.053Z"
   },
   {
    "duration": 5,
    "start_time": "2022-09-17T18:06:36.633Z"
   },
   {
    "duration": 251,
    "start_time": "2022-09-17T18:06:36.639Z"
   },
   {
    "duration": 382,
    "start_time": "2022-09-17T18:06:36.891Z"
   },
   {
    "duration": 231,
    "start_time": "2022-09-17T18:06:37.274Z"
   },
   {
    "duration": 362,
    "start_time": "2022-09-17T18:06:37.507Z"
   },
   {
    "duration": 171,
    "start_time": "2022-09-17T18:06:37.870Z"
   },
   {
    "duration": 6,
    "start_time": "2022-09-17T18:06:38.043Z"
   },
   {
    "duration": 206,
    "start_time": "2022-09-17T18:06:38.051Z"
   },
   {
    "duration": 191,
    "start_time": "2022-09-17T18:06:38.258Z"
   },
   {
    "duration": 5,
    "start_time": "2022-09-17T18:06:38.451Z"
   },
   {
    "duration": 299,
    "start_time": "2022-09-17T18:06:38.461Z"
   },
   {
    "duration": 300,
    "start_time": "2022-09-17T18:06:38.762Z"
   },
   {
    "duration": 11,
    "start_time": "2022-09-17T18:06:39.064Z"
   },
   {
    "duration": 10,
    "start_time": "2022-09-17T18:06:39.077Z"
   },
   {
    "duration": 63,
    "start_time": "2022-09-17T18:06:39.089Z"
   },
   {
    "duration": 25,
    "start_time": "2022-09-17T18:06:39.153Z"
   }
  ],
  "kernelspec": {
   "display_name": "Python 3 (ipykernel)",
   "language": "python",
   "name": "python3"
  },
  "language_info": {
   "codemirror_mode": {
    "name": "ipython",
    "version": 3
   },
   "file_extension": ".py",
   "mimetype": "text/x-python",
   "name": "python",
   "nbconvert_exporter": "python",
   "pygments_lexer": "ipython3",
   "version": "3.9.12"
  },
  "toc": {
   "base_numbering": 1,
   "nav_menu": {},
   "number_sections": true,
   "sideBar": true,
   "skip_h1_title": true,
   "title_cell": "Table of Contents",
   "title_sidebar": "Contents",
   "toc_cell": false,
   "toc_position": {
    "height": "calc(100% - 180px)",
    "left": "10px",
    "top": "150px",
    "width": "165px"
   },
   "toc_section_display": true,
   "toc_window_display": true
  }
 },
 "nbformat": 4,
 "nbformat_minor": 2
}
