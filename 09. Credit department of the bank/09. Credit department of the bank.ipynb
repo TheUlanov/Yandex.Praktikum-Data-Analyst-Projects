{
 "cells": [
  {
   "cell_type": "markdown",
   "id": "c81daeeb",
   "metadata": {
    "deletable": false,
    "id": "c81daeeb"
   },
   "source": [
    "# Исследование надежности заемщиков\n"
   ]
  },
  {
   "cell_type": "markdown",
   "id": "744d7639",
   "metadata": {
    "deletable": false,
    "id": "744d7639"
   },
   "source": [
    "## Загрузка таблицы и изучение общей информации"
   ]
  },
  {
   "cell_type": "code",
   "execution_count": 1,
   "id": "7bcf75c9",
   "metadata": {
    "deletable": false,
    "id": "7bcf75c9"
   },
   "outputs": [],
   "source": [
    "import pandas as pd\n",
    "\n",
    "try:\n",
    "    data = pd.read_csv('/datasets/data.csv')\n",
    "except:\n",
    "    data = pd.read_csv('https://code.s3.yandex.net/datasets/data.csv')"
   ]
  },
  {
   "cell_type": "code",
   "execution_count": 2,
   "id": "2a7cab99",
   "metadata": {
    "deletable": false,
    "id": "2a7cab99",
    "outputId": "1a8f3ef2-d323-4ec2-ddf7-89670b5944c4"
   },
   "outputs": [
    {
     "data": {
      "text/html": [
       "<div>\n",
       "<style scoped>\n",
       "    .dataframe tbody tr th:only-of-type {\n",
       "        vertical-align: middle;\n",
       "    }\n",
       "\n",
       "    .dataframe tbody tr th {\n",
       "        vertical-align: top;\n",
       "    }\n",
       "\n",
       "    .dataframe thead th {\n",
       "        text-align: right;\n",
       "    }\n",
       "</style>\n",
       "<table border=\"1\" class=\"dataframe\">\n",
       "  <thead>\n",
       "    <tr style=\"text-align: right;\">\n",
       "      <th></th>\n",
       "      <th>children</th>\n",
       "      <th>days_employed</th>\n",
       "      <th>dob_years</th>\n",
       "      <th>education</th>\n",
       "      <th>education_id</th>\n",
       "      <th>family_status</th>\n",
       "      <th>family_status_id</th>\n",
       "      <th>gender</th>\n",
       "      <th>income_type</th>\n",
       "      <th>debt</th>\n",
       "      <th>total_income</th>\n",
       "      <th>purpose</th>\n",
       "    </tr>\n",
       "  </thead>\n",
       "  <tbody>\n",
       "    <tr>\n",
       "      <th>0</th>\n",
       "      <td>1</td>\n",
       "      <td>-8437.673028</td>\n",
       "      <td>42</td>\n",
       "      <td>высшее</td>\n",
       "      <td>0</td>\n",
       "      <td>женат / замужем</td>\n",
       "      <td>0</td>\n",
       "      <td>F</td>\n",
       "      <td>сотрудник</td>\n",
       "      <td>0</td>\n",
       "      <td>253875.639453</td>\n",
       "      <td>покупка жилья</td>\n",
       "    </tr>\n",
       "    <tr>\n",
       "      <th>1</th>\n",
       "      <td>1</td>\n",
       "      <td>-4024.803754</td>\n",
       "      <td>36</td>\n",
       "      <td>среднее</td>\n",
       "      <td>1</td>\n",
       "      <td>женат / замужем</td>\n",
       "      <td>0</td>\n",
       "      <td>F</td>\n",
       "      <td>сотрудник</td>\n",
       "      <td>0</td>\n",
       "      <td>112080.014102</td>\n",
       "      <td>приобретение автомобиля</td>\n",
       "    </tr>\n",
       "    <tr>\n",
       "      <th>2</th>\n",
       "      <td>0</td>\n",
       "      <td>-5623.422610</td>\n",
       "      <td>33</td>\n",
       "      <td>Среднее</td>\n",
       "      <td>1</td>\n",
       "      <td>женат / замужем</td>\n",
       "      <td>0</td>\n",
       "      <td>M</td>\n",
       "      <td>сотрудник</td>\n",
       "      <td>0</td>\n",
       "      <td>145885.952297</td>\n",
       "      <td>покупка жилья</td>\n",
       "    </tr>\n",
       "    <tr>\n",
       "      <th>3</th>\n",
       "      <td>3</td>\n",
       "      <td>-4124.747207</td>\n",
       "      <td>32</td>\n",
       "      <td>среднее</td>\n",
       "      <td>1</td>\n",
       "      <td>женат / замужем</td>\n",
       "      <td>0</td>\n",
       "      <td>M</td>\n",
       "      <td>сотрудник</td>\n",
       "      <td>0</td>\n",
       "      <td>267628.550329</td>\n",
       "      <td>дополнительное образование</td>\n",
       "    </tr>\n",
       "    <tr>\n",
       "      <th>4</th>\n",
       "      <td>0</td>\n",
       "      <td>340266.072047</td>\n",
       "      <td>53</td>\n",
       "      <td>среднее</td>\n",
       "      <td>1</td>\n",
       "      <td>гражданский брак</td>\n",
       "      <td>1</td>\n",
       "      <td>F</td>\n",
       "      <td>пенсионер</td>\n",
       "      <td>0</td>\n",
       "      <td>158616.077870</td>\n",
       "      <td>сыграть свадьбу</td>\n",
       "    </tr>\n",
       "    <tr>\n",
       "      <th>5</th>\n",
       "      <td>0</td>\n",
       "      <td>-926.185831</td>\n",
       "      <td>27</td>\n",
       "      <td>высшее</td>\n",
       "      <td>0</td>\n",
       "      <td>гражданский брак</td>\n",
       "      <td>1</td>\n",
       "      <td>M</td>\n",
       "      <td>компаньон</td>\n",
       "      <td>0</td>\n",
       "      <td>255763.565419</td>\n",
       "      <td>покупка жилья</td>\n",
       "    </tr>\n",
       "    <tr>\n",
       "      <th>6</th>\n",
       "      <td>0</td>\n",
       "      <td>-2879.202052</td>\n",
       "      <td>43</td>\n",
       "      <td>высшее</td>\n",
       "      <td>0</td>\n",
       "      <td>женат / замужем</td>\n",
       "      <td>0</td>\n",
       "      <td>F</td>\n",
       "      <td>компаньон</td>\n",
       "      <td>0</td>\n",
       "      <td>240525.971920</td>\n",
       "      <td>операции с жильем</td>\n",
       "    </tr>\n",
       "    <tr>\n",
       "      <th>7</th>\n",
       "      <td>0</td>\n",
       "      <td>-152.779569</td>\n",
       "      <td>50</td>\n",
       "      <td>СРЕДНЕЕ</td>\n",
       "      <td>1</td>\n",
       "      <td>женат / замужем</td>\n",
       "      <td>0</td>\n",
       "      <td>M</td>\n",
       "      <td>сотрудник</td>\n",
       "      <td>0</td>\n",
       "      <td>135823.934197</td>\n",
       "      <td>образование</td>\n",
       "    </tr>\n",
       "    <tr>\n",
       "      <th>8</th>\n",
       "      <td>2</td>\n",
       "      <td>-6929.865299</td>\n",
       "      <td>35</td>\n",
       "      <td>ВЫСШЕЕ</td>\n",
       "      <td>0</td>\n",
       "      <td>гражданский брак</td>\n",
       "      <td>1</td>\n",
       "      <td>F</td>\n",
       "      <td>сотрудник</td>\n",
       "      <td>0</td>\n",
       "      <td>95856.832424</td>\n",
       "      <td>на проведение свадьбы</td>\n",
       "    </tr>\n",
       "    <tr>\n",
       "      <th>9</th>\n",
       "      <td>0</td>\n",
       "      <td>-2188.756445</td>\n",
       "      <td>41</td>\n",
       "      <td>среднее</td>\n",
       "      <td>1</td>\n",
       "      <td>женат / замужем</td>\n",
       "      <td>0</td>\n",
       "      <td>M</td>\n",
       "      <td>сотрудник</td>\n",
       "      <td>0</td>\n",
       "      <td>144425.938277</td>\n",
       "      <td>покупка жилья для семьи</td>\n",
       "    </tr>\n",
       "    <tr>\n",
       "      <th>10</th>\n",
       "      <td>2</td>\n",
       "      <td>-4171.483647</td>\n",
       "      <td>36</td>\n",
       "      <td>высшее</td>\n",
       "      <td>0</td>\n",
       "      <td>женат / замужем</td>\n",
       "      <td>0</td>\n",
       "      <td>M</td>\n",
       "      <td>компаньон</td>\n",
       "      <td>0</td>\n",
       "      <td>113943.491460</td>\n",
       "      <td>покупка недвижимости</td>\n",
       "    </tr>\n",
       "    <tr>\n",
       "      <th>11</th>\n",
       "      <td>0</td>\n",
       "      <td>-792.701887</td>\n",
       "      <td>40</td>\n",
       "      <td>среднее</td>\n",
       "      <td>1</td>\n",
       "      <td>женат / замужем</td>\n",
       "      <td>0</td>\n",
       "      <td>F</td>\n",
       "      <td>сотрудник</td>\n",
       "      <td>0</td>\n",
       "      <td>77069.234271</td>\n",
       "      <td>покупка коммерческой недвижимости</td>\n",
       "    </tr>\n",
       "    <tr>\n",
       "      <th>12</th>\n",
       "      <td>0</td>\n",
       "      <td>NaN</td>\n",
       "      <td>65</td>\n",
       "      <td>среднее</td>\n",
       "      <td>1</td>\n",
       "      <td>гражданский брак</td>\n",
       "      <td>1</td>\n",
       "      <td>M</td>\n",
       "      <td>пенсионер</td>\n",
       "      <td>0</td>\n",
       "      <td>NaN</td>\n",
       "      <td>сыграть свадьбу</td>\n",
       "    </tr>\n",
       "    <tr>\n",
       "      <th>13</th>\n",
       "      <td>0</td>\n",
       "      <td>-1846.641941</td>\n",
       "      <td>54</td>\n",
       "      <td>неоконченное высшее</td>\n",
       "      <td>2</td>\n",
       "      <td>женат / замужем</td>\n",
       "      <td>0</td>\n",
       "      <td>F</td>\n",
       "      <td>сотрудник</td>\n",
       "      <td>0</td>\n",
       "      <td>130458.228857</td>\n",
       "      <td>приобретение автомобиля</td>\n",
       "    </tr>\n",
       "    <tr>\n",
       "      <th>14</th>\n",
       "      <td>0</td>\n",
       "      <td>-1844.956182</td>\n",
       "      <td>56</td>\n",
       "      <td>высшее</td>\n",
       "      <td>0</td>\n",
       "      <td>гражданский брак</td>\n",
       "      <td>1</td>\n",
       "      <td>F</td>\n",
       "      <td>компаньон</td>\n",
       "      <td>1</td>\n",
       "      <td>165127.911772</td>\n",
       "      <td>покупка жилой недвижимости</td>\n",
       "    </tr>\n",
       "    <tr>\n",
       "      <th>15</th>\n",
       "      <td>1</td>\n",
       "      <td>-972.364419</td>\n",
       "      <td>26</td>\n",
       "      <td>среднее</td>\n",
       "      <td>1</td>\n",
       "      <td>женат / замужем</td>\n",
       "      <td>0</td>\n",
       "      <td>F</td>\n",
       "      <td>сотрудник</td>\n",
       "      <td>0</td>\n",
       "      <td>116820.904450</td>\n",
       "      <td>строительство собственной недвижимости</td>\n",
       "    </tr>\n",
       "    <tr>\n",
       "      <th>16</th>\n",
       "      <td>0</td>\n",
       "      <td>-1719.934226</td>\n",
       "      <td>35</td>\n",
       "      <td>среднее</td>\n",
       "      <td>1</td>\n",
       "      <td>женат / замужем</td>\n",
       "      <td>0</td>\n",
       "      <td>F</td>\n",
       "      <td>сотрудник</td>\n",
       "      <td>0</td>\n",
       "      <td>289202.704229</td>\n",
       "      <td>недвижимость</td>\n",
       "    </tr>\n",
       "    <tr>\n",
       "      <th>17</th>\n",
       "      <td>0</td>\n",
       "      <td>-2369.999720</td>\n",
       "      <td>33</td>\n",
       "      <td>высшее</td>\n",
       "      <td>0</td>\n",
       "      <td>гражданский брак</td>\n",
       "      <td>1</td>\n",
       "      <td>M</td>\n",
       "      <td>сотрудник</td>\n",
       "      <td>0</td>\n",
       "      <td>90410.586745</td>\n",
       "      <td>строительство недвижимости</td>\n",
       "    </tr>\n",
       "    <tr>\n",
       "      <th>18</th>\n",
       "      <td>0</td>\n",
       "      <td>400281.136913</td>\n",
       "      <td>53</td>\n",
       "      <td>среднее</td>\n",
       "      <td>1</td>\n",
       "      <td>вдовец / вдова</td>\n",
       "      <td>2</td>\n",
       "      <td>F</td>\n",
       "      <td>пенсионер</td>\n",
       "      <td>0</td>\n",
       "      <td>56823.777243</td>\n",
       "      <td>на покупку подержанного автомобиля</td>\n",
       "    </tr>\n",
       "    <tr>\n",
       "      <th>19</th>\n",
       "      <td>0</td>\n",
       "      <td>-10038.818549</td>\n",
       "      <td>48</td>\n",
       "      <td>СРЕДНЕЕ</td>\n",
       "      <td>1</td>\n",
       "      <td>в разводе</td>\n",
       "      <td>3</td>\n",
       "      <td>F</td>\n",
       "      <td>сотрудник</td>\n",
       "      <td>0</td>\n",
       "      <td>242831.107982</td>\n",
       "      <td>на покупку своего автомобиля</td>\n",
       "    </tr>\n",
       "  </tbody>\n",
       "</table>\n",
       "</div>"
      ],
      "text/plain": [
       "    children  days_employed  dob_years            education  education_id  \\\n",
       "0          1   -8437.673028         42               высшее             0   \n",
       "1          1   -4024.803754         36              среднее             1   \n",
       "2          0   -5623.422610         33              Среднее             1   \n",
       "3          3   -4124.747207         32              среднее             1   \n",
       "4          0  340266.072047         53              среднее             1   \n",
       "5          0    -926.185831         27               высшее             0   \n",
       "6          0   -2879.202052         43               высшее             0   \n",
       "7          0    -152.779569         50              СРЕДНЕЕ             1   \n",
       "8          2   -6929.865299         35               ВЫСШЕЕ             0   \n",
       "9          0   -2188.756445         41              среднее             1   \n",
       "10         2   -4171.483647         36               высшее             0   \n",
       "11         0    -792.701887         40              среднее             1   \n",
       "12         0            NaN         65              среднее             1   \n",
       "13         0   -1846.641941         54  неоконченное высшее             2   \n",
       "14         0   -1844.956182         56               высшее             0   \n",
       "15         1    -972.364419         26              среднее             1   \n",
       "16         0   -1719.934226         35              среднее             1   \n",
       "17         0   -2369.999720         33               высшее             0   \n",
       "18         0  400281.136913         53              среднее             1   \n",
       "19         0  -10038.818549         48              СРЕДНЕЕ             1   \n",
       "\n",
       "       family_status  family_status_id gender income_type  debt  \\\n",
       "0    женат / замужем                 0      F   сотрудник     0   \n",
       "1    женат / замужем                 0      F   сотрудник     0   \n",
       "2    женат / замужем                 0      M   сотрудник     0   \n",
       "3    женат / замужем                 0      M   сотрудник     0   \n",
       "4   гражданский брак                 1      F   пенсионер     0   \n",
       "5   гражданский брак                 1      M   компаньон     0   \n",
       "6    женат / замужем                 0      F   компаньон     0   \n",
       "7    женат / замужем                 0      M   сотрудник     0   \n",
       "8   гражданский брак                 1      F   сотрудник     0   \n",
       "9    женат / замужем                 0      M   сотрудник     0   \n",
       "10   женат / замужем                 0      M   компаньон     0   \n",
       "11   женат / замужем                 0      F   сотрудник     0   \n",
       "12  гражданский брак                 1      M   пенсионер     0   \n",
       "13   женат / замужем                 0      F   сотрудник     0   \n",
       "14  гражданский брак                 1      F   компаньон     1   \n",
       "15   женат / замужем                 0      F   сотрудник     0   \n",
       "16   женат / замужем                 0      F   сотрудник     0   \n",
       "17  гражданский брак                 1      M   сотрудник     0   \n",
       "18    вдовец / вдова                 2      F   пенсионер     0   \n",
       "19         в разводе                 3      F   сотрудник     0   \n",
       "\n",
       "     total_income                                 purpose  \n",
       "0   253875.639453                           покупка жилья  \n",
       "1   112080.014102                 приобретение автомобиля  \n",
       "2   145885.952297                           покупка жилья  \n",
       "3   267628.550329              дополнительное образование  \n",
       "4   158616.077870                         сыграть свадьбу  \n",
       "5   255763.565419                           покупка жилья  \n",
       "6   240525.971920                       операции с жильем  \n",
       "7   135823.934197                             образование  \n",
       "8    95856.832424                   на проведение свадьбы  \n",
       "9   144425.938277                 покупка жилья для семьи  \n",
       "10  113943.491460                    покупка недвижимости  \n",
       "11   77069.234271       покупка коммерческой недвижимости  \n",
       "12            NaN                         сыграть свадьбу  \n",
       "13  130458.228857                 приобретение автомобиля  \n",
       "14  165127.911772              покупка жилой недвижимости  \n",
       "15  116820.904450  строительство собственной недвижимости  \n",
       "16  289202.704229                            недвижимость  \n",
       "17   90410.586745              строительство недвижимости  \n",
       "18   56823.777243      на покупку подержанного автомобиля  \n",
       "19  242831.107982            на покупку своего автомобиля  "
      ]
     },
     "execution_count": 2,
     "metadata": {},
     "output_type": "execute_result"
    }
   ],
   "source": [
    "data.head(20)"
   ]
  },
  {
   "cell_type": "code",
   "execution_count": 3,
   "id": "2b757bca",
   "metadata": {
    "deletable": false,
    "id": "2b757bca",
    "outputId": "15376089-8dad-46c9-b520-c05248d43158"
   },
   "outputs": [
    {
     "name": "stdout",
     "output_type": "stream",
     "text": [
      "<class 'pandas.core.frame.DataFrame'>\n",
      "RangeIndex: 21525 entries, 0 to 21524\n",
      "Data columns (total 12 columns):\n",
      " #   Column            Non-Null Count  Dtype  \n",
      "---  ------            --------------  -----  \n",
      " 0   children          21525 non-null  int64  \n",
      " 1   days_employed     19351 non-null  float64\n",
      " 2   dob_years         21525 non-null  int64  \n",
      " 3   education         21525 non-null  object \n",
      " 4   education_id      21525 non-null  int64  \n",
      " 5   family_status     21525 non-null  object \n",
      " 6   family_status_id  21525 non-null  int64  \n",
      " 7   gender            21525 non-null  object \n",
      " 8   income_type       21525 non-null  object \n",
      " 9   debt              21525 non-null  int64  \n",
      " 10  total_income      19351 non-null  float64\n",
      " 11  purpose           21525 non-null  object \n",
      "dtypes: float64(2), int64(5), object(5)\n",
      "memory usage: 2.0+ MB\n"
     ]
    }
   ],
   "source": [
    "data.info()"
   ]
  },
  {
   "cell_type": "markdown",
   "id": "333ec665",
   "metadata": {
    "deletable": false,
    "id": "333ec665"
   },
   "source": [
    "## Предобработка данных"
   ]
  },
  {
   "cell_type": "markdown",
   "id": "02d92d53",
   "metadata": {
    "deletable": false,
    "id": "02d92d53"
   },
   "source": [
    "### Выявление и обработка пропусков"
   ]
  },
  {
   "cell_type": "code",
   "execution_count": 4,
   "id": "7f9b2309",
   "metadata": {
    "deletable": false,
    "id": "7f9b2309",
    "outputId": "81f4d817-781c-465c-ed15-91ce4446810d"
   },
   "outputs": [
    {
     "data": {
      "text/plain": [
       "children               0\n",
       "days_employed       2174\n",
       "dob_years              0\n",
       "education              0\n",
       "education_id           0\n",
       "family_status          0\n",
       "family_status_id       0\n",
       "gender                 0\n",
       "income_type            0\n",
       "debt                   0\n",
       "total_income        2174\n",
       "purpose                0\n",
       "dtype: int64"
      ]
     },
     "execution_count": 4,
     "metadata": {},
     "output_type": "execute_result"
    }
   ],
   "source": [
    "data.isna().sum()"
   ]
  },
  {
   "cell_type": "code",
   "execution_count": 5,
   "id": "42006a93",
   "metadata": {
    "deletable": false,
    "id": "42006a93"
   },
   "outputs": [],
   "source": [
    "for t in data['income_type'].unique():\n",
    "    data.loc[(data['income_type'] == t) & (data['total_income'].isna()), 'total_income'] = \\\n",
    "    data.loc[(data['income_type'] == t), 'total_income'].median()"
   ]
  },
  {
   "cell_type": "markdown",
   "id": "89da5ece",
   "metadata": {
    "deletable": false,
    "id": "89da5ece"
   },
   "source": [
    "### Обработка аномальных значений"
   ]
  },
  {
   "cell_type": "code",
   "execution_count": 6,
   "id": "f6f055bf",
   "metadata": {
    "deletable": false,
    "id": "f6f055bf"
   },
   "outputs": [],
   "source": [
    "data['days_employed'] = data['days_employed'].abs()"
   ]
  },
  {
   "cell_type": "code",
   "execution_count": 7,
   "id": "85a5faf6",
   "metadata": {
    "deletable": false,
    "id": "85a5faf6",
    "outputId": "801ef80e-522b-4668-f34e-565af7432bcf"
   },
   "outputs": [
    {
     "data": {
      "text/plain": [
       "income_type\n",
       "безработный        366413.652744\n",
       "в декрете            3296.759962\n",
       "госслужащий          2689.368353\n",
       "компаньон            1547.382223\n",
       "пенсионер          365213.306266\n",
       "предприниматель       520.848083\n",
       "сотрудник            1574.202821\n",
       "студент               578.751554\n",
       "Name: days_employed, dtype: float64"
      ]
     },
     "execution_count": 7,
     "metadata": {},
     "output_type": "execute_result"
    }
   ],
   "source": [
    "data.groupby('income_type')['days_employed'].agg('median')"
   ]
  },
  {
   "cell_type": "markdown",
   "id": "38d1a030",
   "metadata": {
    "deletable": false,
    "id": "38d1a030"
   },
   "source": [
    "У двух типов (безработные и пенсионеры) получатся аномально большие значения. Исправить такие значения сложно, поэтому оставляю их как есть. Тем более этот столбец не понадобится для исследования."
   ]
  },
  {
   "cell_type": "code",
   "execution_count": 8,
   "id": "ef5056eb",
   "metadata": {
    "deletable": false,
    "id": "ef5056eb",
    "outputId": "6975b15c-7f95-4697-d16d-a0c79b657b03"
   },
   "outputs": [
    {
     "data": {
      "text/plain": [
       "array([ 1,  0,  3,  2, -1,  4, 20,  5])"
      ]
     },
     "execution_count": 8,
     "metadata": {},
     "output_type": "execute_result"
    }
   ],
   "source": [
    "data['children'].unique()"
   ]
  },
  {
   "cell_type": "code",
   "execution_count": 9,
   "id": "3ff9801d",
   "metadata": {
    "deletable": false,
    "id": "3ff9801d"
   },
   "outputs": [],
   "source": [
    "data = data[(data['children'] != -1) & (data['children'] != 20)]"
   ]
  },
  {
   "cell_type": "code",
   "execution_count": 10,
   "id": "ad4fa8b7",
   "metadata": {
    "deletable": false,
    "id": "ad4fa8b7",
    "outputId": "b2097101-d49d-44d9-901b-32a65c9463d1"
   },
   "outputs": [
    {
     "data": {
      "text/plain": [
       "array([1, 0, 3, 2, 4, 5])"
      ]
     },
     "execution_count": 10,
     "metadata": {},
     "output_type": "execute_result"
    }
   ],
   "source": [
    "data['children'].unique()"
   ]
  },
  {
   "cell_type": "markdown",
   "id": "75440b63",
   "metadata": {
    "deletable": false,
    "id": "75440b63"
   },
   "source": [
    "### Выявление и обработка пропусков (продолжение)"
   ]
  },
  {
   "cell_type": "code",
   "execution_count": 11,
   "id": "af6b1a7e",
   "metadata": {
    "deletable": false,
    "id": "af6b1a7e"
   },
   "outputs": [],
   "source": [
    "for t in data['income_type'].unique():\n",
    "    data.loc[(data['income_type'] == t) & (data['days_employed'].isna()), 'days_employed'] = \\\n",
    "    data.loc[(data['income_type'] == t), 'days_employed'].median()"
   ]
  },
  {
   "cell_type": "code",
   "execution_count": 12,
   "id": "55f78bc2",
   "metadata": {
    "deletable": false,
    "id": "55f78bc2",
    "outputId": "8da1e4e1-358e-4e87-98c9-f261bce0a7b2"
   },
   "outputs": [
    {
     "data": {
      "text/plain": [
       "children            0\n",
       "days_employed       0\n",
       "dob_years           0\n",
       "education           0\n",
       "education_id        0\n",
       "family_status       0\n",
       "family_status_id    0\n",
       "gender              0\n",
       "income_type         0\n",
       "debt                0\n",
       "total_income        0\n",
       "purpose             0\n",
       "dtype: int64"
      ]
     },
     "execution_count": 12,
     "metadata": {},
     "output_type": "execute_result"
    }
   ],
   "source": [
    "data.isna().sum()"
   ]
  },
  {
   "cell_type": "markdown",
   "id": "ddc81e43",
   "metadata": {
    "deletable": false,
    "id": "ddc81e43"
   },
   "source": [
    "### Изменение типов данных"
   ]
  },
  {
   "cell_type": "code",
   "execution_count": 13,
   "id": "920b65ad",
   "metadata": {
    "deletable": false,
    "id": "920b65ad"
   },
   "outputs": [],
   "source": [
    "data['total_income'] = data['total_income'].astype(int)"
   ]
  },
  {
   "cell_type": "markdown",
   "id": "80c420ba",
   "metadata": {
    "deletable": false,
    "id": "80c420ba"
   },
   "source": [
    "### Обработка дубликатов"
   ]
  },
  {
   "cell_type": "code",
   "execution_count": 14,
   "id": "3ee445e4",
   "metadata": {
    "deletable": false,
    "id": "3ee445e4",
    "outputId": "9684deba-1934-42d1-99e1-cda61740f822"
   },
   "outputs": [
    {
     "data": {
      "text/plain": [
       "54"
      ]
     },
     "execution_count": 14,
     "metadata": {},
     "output_type": "execute_result"
    }
   ],
   "source": [
    "data.duplicated().sum()"
   ]
  },
  {
   "cell_type": "code",
   "execution_count": 15,
   "id": "8575fe05",
   "metadata": {
    "deletable": false,
    "id": "8575fe05"
   },
   "outputs": [],
   "source": [
    "data = data.drop_duplicates()"
   ]
  },
  {
   "cell_type": "code",
   "execution_count": 16,
   "id": "a9f8e2bf",
   "metadata": {
    "deletable": false,
    "id": "a9f8e2bf"
   },
   "outputs": [],
   "source": [
    "data['education'] = data['education'].str.lower()"
   ]
  },
  {
   "cell_type": "markdown",
   "id": "9904cf55",
   "metadata": {
    "deletable": false,
    "id": "9904cf55"
   },
   "source": [
    "### Категоризация данных"
   ]
  },
  {
   "cell_type": "code",
   "execution_count": 17,
   "id": "e1771346",
   "metadata": {
    "deletable": false,
    "id": "e1771346"
   },
   "outputs": [],
   "source": [
    "def categorize_income(income):\n",
    "    try:\n",
    "        if 0 <= income <= 30000:\n",
    "            return 'E'\n",
    "        elif 30001 <= income <= 50000:\n",
    "            return 'D'\n",
    "        elif 50001 <= income <= 200000:\n",
    "            return 'C'\n",
    "        elif 200001 <= income <= 1000000:\n",
    "            return 'B'\n",
    "        elif income >= 1000001:\n",
    "            return 'A'\n",
    "    except:\n",
    "        pass"
   ]
  },
  {
   "cell_type": "code",
   "execution_count": 18,
   "id": "d5f3586d",
   "metadata": {
    "deletable": false,
    "id": "d5f3586d"
   },
   "outputs": [],
   "source": [
    "data['total_income_category'] = data['total_income'].apply(categorize_income)"
   ]
  },
  {
   "cell_type": "code",
   "execution_count": 19,
   "id": "f67ce9b3",
   "metadata": {
    "deletable": false,
    "id": "f67ce9b3",
    "outputId": "673c12d9-7d7e-4ae0-9812-c622c89dd244"
   },
   "outputs": [
    {
     "data": {
      "text/plain": [
       "array(['покупка жилья', 'приобретение автомобиля',\n",
       "       'дополнительное образование', 'сыграть свадьбу',\n",
       "       'операции с жильем', 'образование', 'на проведение свадьбы',\n",
       "       'покупка жилья для семьи', 'покупка недвижимости',\n",
       "       'покупка коммерческой недвижимости', 'покупка жилой недвижимости',\n",
       "       'строительство собственной недвижимости', 'недвижимость',\n",
       "       'строительство недвижимости', 'на покупку подержанного автомобиля',\n",
       "       'на покупку своего автомобиля',\n",
       "       'операции с коммерческой недвижимостью',\n",
       "       'строительство жилой недвижимости', 'жилье',\n",
       "       'операции со своей недвижимостью', 'автомобили',\n",
       "       'заняться образованием', 'сделка с подержанным автомобилем',\n",
       "       'получение образования', 'автомобиль', 'свадьба',\n",
       "       'получение дополнительного образования', 'покупка своего жилья',\n",
       "       'операции с недвижимостью', 'получение высшего образования',\n",
       "       'свой автомобиль', 'сделка с автомобилем',\n",
       "       'профильное образование', 'высшее образование',\n",
       "       'покупка жилья для сдачи', 'на покупку автомобиля', 'ремонт жилью',\n",
       "       'заняться высшим образованием'], dtype=object)"
      ]
     },
     "execution_count": 19,
     "metadata": {},
     "output_type": "execute_result"
    }
   ],
   "source": [
    "data['purpose'].unique()"
   ]
  },
  {
   "cell_type": "code",
   "execution_count": 20,
   "id": "e149fab4",
   "metadata": {
    "deletable": false,
    "id": "e149fab4"
   },
   "outputs": [],
   "source": [
    "def categorize_purpose(row):\n",
    "    try:\n",
    "        if 'автом' in row:\n",
    "            return 'операции с автомобилем'\n",
    "        elif 'жил' in row or 'недвиж' in row:\n",
    "            return 'операции с недвижимостью'\n",
    "        elif 'свад' in row:\n",
    "            return 'проведение свадьбы'\n",
    "        elif 'образов' in row:\n",
    "            return 'получение образования'\n",
    "    except:\n",
    "        return 'нет категории'"
   ]
  },
  {
   "cell_type": "code",
   "execution_count": 21,
   "id": "bf36e69b",
   "metadata": {
    "deletable": false,
    "id": "bf36e69b"
   },
   "outputs": [],
   "source": [
    "data['purpose_category'] = data['purpose'].apply(categorize_purpose)"
   ]
  },
  {
   "cell_type": "markdown",
   "id": "09b242bf",
   "metadata": {
    "deletable": false,
    "editable": false,
    "id": "09b242bf"
   },
   "source": [
    "## Исследовательский анализ данных"
   ]
  },
  {
   "cell_type": "markdown",
   "id": "7179846a",
   "metadata": {},
   "source": [
    "### Исследование зависимости кол-ва детей заемщика и возвратом кредита в срок"
   ]
  },
  {
   "cell_type": "code",
   "execution_count": 30,
   "id": "2cacfc4a",
   "metadata": {
    "id": "2cacfc4a"
   },
   "outputs": [
    {
     "name": "stdout",
     "output_type": "stream",
     "text": [
      "Для заемщиков без детей, просрочка составила 7.54%\n",
      "Для заемщиков с одним ребенком, просрочка составила 9.23%\n",
      "Для заемщиков с двумя детьми, просрочка составила 9.45%\n",
      "Для заемщиков с тремя детьми, просрочка составила 8.18%\n",
      "Для заемщиков с четыремя детьми, просрочка составила 9.76%\n",
      "Для заемщиков пятью детьми, просрочка составила 0.00%\n"
     ]
    }
   ],
   "source": [
    "data_grouped1 = data.groupby(['children']).agg({'debt':'sum', 'children':'count'})\n",
    "data_grouped1['persent']=data_grouped1['debt']/data_grouped1['children']\n",
    "\n",
    "#print(data_grouped1)\n",
    "\n",
    "data_zero=100*data_grouped1.loc[0, 'persent']\n",
    "data_one=100*data_grouped1.loc[1, 'persent']\n",
    "data_two=100*data_grouped1.loc[2, 'persent']\n",
    "data_three=100*data_grouped1.loc[3, 'persent']\n",
    "data_four=100*data_grouped1.loc[4, 'persent']\n",
    "data_five=data_grouped1.loc[5, 'persent']\n",
    "\n",
    "print(f'Для заемщиков без детей, просрочка составила {data_zero:.2f}%')\n",
    "print(f'Для заемщиков с одним ребенком, просрочка составила {data_one:.2f}%')\n",
    "print(f'Для заемщиков с двумя детьми, просрочка составила {data_two:.2f}%')\n",
    "print(f'Для заемщиков с тремя детьми, просрочка составила {data_three:.2f}%')\n",
    "print(f'Для заемщиков с четыремя детьми, просрочка составила {data_four:.2f}%')\n",
    "print(f'Для заемщиков пятью детьми, просрочка составила {data_five:.2f}%')"
   ]
  },
  {
   "cell_type": "markdown",
   "id": "3a6b99ec",
   "metadata": {
    "deletable": false,
    "id": "3a6b99ec"
   },
   "source": [
    "**Вывод:** Зависимость между количеством детей у заемщика и возвратом кредита в срок - есть.\n",
    "У заемщиков без детей наименьший процент просрочек по кредиту. В целом логично, наличие детей налагает на семейный бюджет дополнительную нагрузку, что в перспективе может помешать своевременной оплате кредита."
   ]
  },
  {
   "cell_type": "markdown",
   "id": "554b4fd1",
   "metadata": {},
   "source": [
    "### Исследование зависимости статуса семейного положения и возвратом кредита в срок"
   ]
  },
  {
   "cell_type": "code",
   "execution_count": 41,
   "id": "dc3f7ee8",
   "metadata": {
    "id": "dc3f7ee8"
   },
   "outputs": [
    {
     "name": "stdout",
     "output_type": "stream",
     "text": [
      "                       debt  family_status   persent\n",
      "family_status                                       \n",
      "Не женат / не замужем   273           2796  0.097639\n",
      "в разводе                84           1189  0.070648\n",
      "вдовец / вдова           63            951  0.066246\n",
      "гражданский брак        385           4146  0.092861\n",
      "женат / замужем         927          12266  0.075575\n"
     ]
    }
   ],
   "source": [
    "data_grouped2 = data.groupby(['family_status']).agg({'debt':'sum', 'family_status':'count'})\n",
    "data_grouped2['persent']=data_grouped2['debt']/data_grouped2['family_status']\n",
    "\n",
    "print(data_grouped2)\n",
    "\n",
    "#data_2=100*data_grouped2.loc[0, 'persent']\n",
    "#print(f'Для не женатых заемщиков, просрочка составила {data_2:.2f}%')  - НЕ ПОНИМАЮ ПОЧЕМУ НЕ РАБОТАЕТ. Не работает такой код вывода и во всех дальнейших задачах"
   ]
  },
  {
   "cell_type": "markdown",
   "id": "1cef7837",
   "metadata": {
    "deletable": false,
    "id": "1cef7837"
   },
   "source": [
    "**Вывод:** У заемщиков находящихся в гражданском браке и незамужних наибольший процент просрочек по кредиту ~10%. Воможно, этим двум сегментам нужно ужесточить условия выдачи кредита."
   ]
  },
  {
   "cell_type": "markdown",
   "id": "ab2b3f09",
   "metadata": {},
   "source": [
    "### Исследование зависимости уровня дохода и возвратом кредита в срок"
   ]
  },
  {
   "cell_type": "code",
   "execution_count": 36,
   "id": "cd7e3720",
   "metadata": {
    "id": "cd7e3720"
   },
   "outputs": [
    {
     "name": "stdout",
     "output_type": "stream",
     "text": [
      "                       debt  total_income_category   persent\n",
      "total_income_category                                       \n",
      "A                         2                     25  0.080000\n",
      "B                       354                   5014  0.070602\n",
      "C                      1353                  15938  0.084891\n",
      "D                        21                    349  0.060172\n",
      "E                         2                     22  0.090909\n"
     ]
    }
   ],
   "source": [
    "#A > 1.000.000\n",
    "#B <200.000\n",
    "#C >50.000\n",
    "#D <50.000\n",
    "#E <30.000\n",
    "\n",
    "data_grouped3 = data.groupby(['total_income_category']).agg({'debt':'sum', 'total_income_category':'count'})\n",
    "data_grouped3['persent']=data_grouped3['debt']/data_grouped3['total_income_category']\n",
    "\n",
    "print(data_grouped3)"
   ]
  },
  {
   "cell_type": "markdown",
   "id": "e8593def",
   "metadata": {
    "deletable": false,
    "id": "e8593def"
   },
   "source": [
    "**Вывод:** Выборка заемщиков с низким и высоким уровнем дохода слишком мала, для объективного вывода. Самый массовый заемщик - имеет доход от 50.000 до 200.000, при этом имеет уровень задолженности 8,5%. Глобального вывода по уровню дохода не могу дать."
   ]
  },
  {
   "cell_type": "markdown",
   "id": "713887c0",
   "metadata": {},
   "source": [
    "### Исследование зависимости целей кредита и его возвратом в срок"
   ]
  },
  {
   "cell_type": "code",
   "execution_count": 34,
   "id": "2b687290",
   "metadata": {
    "id": "2b687290"
   },
   "outputs": [
    {
     "name": "stdout",
     "output_type": "stream",
     "text": [
      "                          debt  purpose_category   persent\n",
      "purpose_category                                          \n",
      "операции с автомобилем     400              4281  0.093436\n",
      "операции с недвижимостью   780             10754  0.072531\n",
      "получение образования      369              3989  0.092504\n",
      "проведение свадьбы         183              2324  0.078744\n"
     ]
    }
   ],
   "source": [
    "data_grouped4 = data.groupby(['purpose_category']).agg({'debt':'sum', 'purpose_category':'count'})\n",
    "data_grouped4['persent']=data_grouped4['debt']/data_grouped4['purpose_category']\n",
    "\n",
    "print(data_grouped4)"
   ]
  },
  {
   "cell_type": "markdown",
   "id": "b4bb2ce6",
   "metadata": {
    "deletable": false,
    "id": "b4bb2ce6"
   },
   "source": [
    "**Вывод:** У заемщиков с целью кредита \"операции с недвижимостью\" наименьший процент просрочки. Если цели кредита \"получение образования\" или \"операции с автомобилем\" шанс просрочки самый большой."
   ]
  },
  {
   "cell_type": "markdown",
   "id": "6db5255a",
   "metadata": {
    "deletable": false,
    "editable": false,
    "id": "6db5255a"
   },
   "source": [
    "## Общий вывод."
   ]
  },
  {
   "cell_type": "markdown",
   "id": "bad65432",
   "metadata": {
    "id": "bad65432"
   },
   "source": [
    "В  ходе исследования был выявлен идеальный портрет заемщика это: \n",
    "- женатая пара, \n",
    "- без детей, \n",
    "- уровень дохода от 200тыс и \n",
    "- цель кредита \"операции с недвижимостью\". \n",
    "\n",
    "У этих категорий заемщиков наименьший процент просрочек по кредитам. Возможно, стоит разработать специальное предложение под эту категорию заемщиков. \n",
    "И наоборот: заемщики не в браке или находящиеся в гражданском браке, с 4мя детьми, имеющие доход меньше 50тыс и целью кредита \"покупка автомоюиля\" - самые потенциально рискованные заемщики. Возможно стоит ужесточить правила выдачи кредита для заемщиков этой категории.\n",
    "\n",
    "Для ускорения дальнейших отчетов для отдела разработки необходимо убрать возможность потенциальному заемщику самостоятельно писать цель кредита (исключает ошибки и опечатки со стороны заемщика). Сделать выпадающий список, чтоб потенциальный заемщик выбрал нужную категорию. Необходимо сделать графы \"доход\" и \"стаж\" (total_income / days_employed) обязательными для заполнения.  Данные графы важные критерии как для анализа так и для принятия решения о возможности одобрения заявки на кредит."
   ]
  }
 ],
 "metadata": {
  "ExecuteTimeLog": [
   {
    "duration": 92,
    "start_time": "2022-06-10T10:07:24.622Z"
   },
   {
    "duration": 26,
    "start_time": "2022-06-10T10:07:25.039Z"
   },
   {
    "duration": 23,
    "start_time": "2022-06-10T10:07:25.372Z"
   },
   {
    "duration": 10,
    "start_time": "2022-06-10T10:07:28.057Z"
   },
   {
    "duration": 55,
    "start_time": "2022-06-10T10:07:29.602Z"
   },
   {
    "duration": 5,
    "start_time": "2022-06-10T10:07:30.240Z"
   },
   {
    "duration": 11,
    "start_time": "2022-06-10T10:07:30.932Z"
   },
   {
    "duration": 6,
    "start_time": "2022-06-10T10:07:32.105Z"
   },
   {
    "duration": 7,
    "start_time": "2022-06-10T10:07:32.809Z"
   },
   {
    "duration": 5,
    "start_time": "2022-06-10T10:07:33.547Z"
   },
   {
    "duration": 33,
    "start_time": "2022-06-10T10:07:34.681Z"
   },
   {
    "duration": 11,
    "start_time": "2022-06-10T10:07:35.102Z"
   },
   {
    "duration": 4,
    "start_time": "2022-06-10T10:07:36.107Z"
   },
   {
    "duration": 33,
    "start_time": "2022-06-10T10:07:38.326Z"
   },
   {
    "duration": 29,
    "start_time": "2022-06-10T10:07:39.435Z"
   },
   {
    "duration": 19,
    "start_time": "2022-06-10T10:07:40.689Z"
   },
   {
    "duration": 5,
    "start_time": "2022-06-10T10:07:45.459Z"
   },
   {
    "duration": 10,
    "start_time": "2022-06-10T10:07:45.736Z"
   },
   {
    "duration": 7,
    "start_time": "2022-06-10T10:07:46.451Z"
   },
   {
    "duration": 9,
    "start_time": "2022-06-10T10:07:49.923Z"
   },
   {
    "duration": 13,
    "start_time": "2022-06-10T10:07:50.529Z"
   },
   {
    "duration": 18,
    "start_time": "2022-06-10T10:08:09.743Z"
   },
   {
    "duration": 4,
    "start_time": "2022-06-10T10:11:57.952Z"
   },
   {
    "duration": 37,
    "start_time": "2022-06-10T10:25:07.073Z"
   },
   {
    "duration": 5,
    "start_time": "2022-06-10T10:25:11.592Z"
   },
   {
    "duration": 3,
    "start_time": "2022-06-10T10:27:10.644Z"
   },
   {
    "duration": 33,
    "start_time": "2022-06-10T10:36:23.626Z"
   },
   {
    "duration": 8,
    "start_time": "2022-06-10T10:37:06.981Z"
   },
   {
    "duration": 21,
    "start_time": "2022-06-10T10:41:53.892Z"
   },
   {
    "duration": 12,
    "start_time": "2022-06-10T10:42:29.385Z"
   },
   {
    "duration": 12,
    "start_time": "2022-06-10T10:43:48.263Z"
   },
   {
    "duration": 13,
    "start_time": "2022-06-10T10:43:55.483Z"
   },
   {
    "duration": 25,
    "start_time": "2022-06-10T10:50:13.662Z"
   },
   {
    "duration": 33,
    "start_time": "2022-06-10T10:55:13.047Z"
   },
   {
    "duration": 15,
    "start_time": "2022-06-10T10:55:21.541Z"
   },
   {
    "duration": 12,
    "start_time": "2022-06-10T10:56:23.007Z"
   },
   {
    "duration": 14,
    "start_time": "2022-06-10T10:57:48.736Z"
   },
   {
    "duration": 14,
    "start_time": "2022-06-10T11:01:11.281Z"
   },
   {
    "duration": 35,
    "start_time": "2022-06-10T11:04:33.313Z"
   },
   {
    "duration": 27,
    "start_time": "2022-06-10T11:06:23.129Z"
   },
   {
    "duration": 29,
    "start_time": "2022-06-10T11:07:26.968Z"
   },
   {
    "duration": 29,
    "start_time": "2022-06-10T11:07:33.410Z"
   },
   {
    "duration": 11,
    "start_time": "2022-06-10T11:07:54.796Z"
   },
   {
    "duration": 11,
    "start_time": "2022-06-10T11:08:24.980Z"
   },
   {
    "duration": 20,
    "start_time": "2022-06-10T11:09:00.519Z"
   },
   {
    "duration": 17,
    "start_time": "2022-06-10T11:12:57.670Z"
   },
   {
    "duration": 15,
    "start_time": "2022-06-10T11:13:37.944Z"
   },
   {
    "duration": 14,
    "start_time": "2022-06-10T11:13:57.537Z"
   },
   {
    "duration": 16,
    "start_time": "2022-06-10T11:14:03.850Z"
   },
   {
    "duration": 19,
    "start_time": "2022-06-10T11:16:04.367Z"
   },
   {
    "duration": 31,
    "start_time": "2022-06-10T11:16:54.553Z"
   },
   {
    "duration": 18,
    "start_time": "2022-06-10T11:17:09.535Z"
   },
   {
    "duration": 22,
    "start_time": "2022-06-10T11:17:19.944Z"
   },
   {
    "duration": 23,
    "start_time": "2022-06-10T11:17:33.323Z"
   },
   {
    "duration": 22,
    "start_time": "2022-06-10T11:17:58.852Z"
   },
   {
    "duration": 21,
    "start_time": "2022-06-10T11:18:15.836Z"
   },
   {
    "duration": 17,
    "start_time": "2022-06-10T11:18:45.557Z"
   },
   {
    "duration": 22,
    "start_time": "2022-06-10T11:18:49.704Z"
   },
   {
    "duration": 21,
    "start_time": "2022-06-10T11:18:54.744Z"
   },
   {
    "duration": 32,
    "start_time": "2022-06-10T11:19:01.280Z"
   },
   {
    "duration": 29,
    "start_time": "2022-06-10T11:19:24.593Z"
   },
   {
    "duration": 18,
    "start_time": "2022-06-10T11:19:55.674Z"
   },
   {
    "duration": 43,
    "start_time": "2022-06-10T11:20:24.497Z"
   },
   {
    "duration": 18,
    "start_time": "2022-06-10T11:20:34.494Z"
   },
   {
    "duration": 20,
    "start_time": "2022-06-10T11:20:40.486Z"
   },
   {
    "duration": 19,
    "start_time": "2022-06-10T11:21:54.073Z"
   },
   {
    "duration": 16,
    "start_time": "2022-06-10T11:22:32.242Z"
   },
   {
    "duration": 17,
    "start_time": "2022-06-10T11:23:54.694Z"
   },
   {
    "duration": 17,
    "start_time": "2022-06-10T11:24:05.566Z"
   },
   {
    "duration": 20,
    "start_time": "2022-06-10T11:24:15.734Z"
   },
   {
    "duration": 17,
    "start_time": "2022-06-10T11:25:24.972Z"
   },
   {
    "duration": 17,
    "start_time": "2022-06-10T11:25:37.253Z"
   },
   {
    "duration": 23,
    "start_time": "2022-06-10T11:26:24.804Z"
   },
   {
    "duration": 19,
    "start_time": "2022-06-10T11:26:33.271Z"
   },
   {
    "duration": 24,
    "start_time": "2022-06-10T11:27:39.877Z"
   },
   {
    "duration": 17,
    "start_time": "2022-06-10T11:27:54.760Z"
   },
   {
    "duration": 38,
    "start_time": "2022-06-10T11:29:51.859Z"
   },
   {
    "duration": 55,
    "start_time": "2022-06-10T11:30:14.662Z"
   },
   {
    "duration": 22,
    "start_time": "2022-06-10T11:30:22.079Z"
   },
   {
    "duration": 25,
    "start_time": "2022-06-10T11:30:47.068Z"
   },
   {
    "duration": 17,
    "start_time": "2022-06-10T11:30:53.388Z"
   },
   {
    "duration": 17,
    "start_time": "2022-06-10T11:33:04.294Z"
   },
   {
    "duration": 21,
    "start_time": "2022-06-10T11:33:13.296Z"
   },
   {
    "duration": 18,
    "start_time": "2022-06-10T11:33:49.509Z"
   },
   {
    "duration": 18,
    "start_time": "2022-06-10T11:33:55.179Z"
   },
   {
    "duration": 25,
    "start_time": "2022-06-10T11:34:02.667Z"
   },
   {
    "duration": 33,
    "start_time": "2022-06-10T11:34:18.049Z"
   },
   {
    "duration": 16,
    "start_time": "2022-06-10T11:34:27.911Z"
   },
   {
    "duration": 20,
    "start_time": "2022-06-10T11:37:50.039Z"
   },
   {
    "duration": 20,
    "start_time": "2022-06-10T11:37:59.161Z"
   },
   {
    "duration": 17,
    "start_time": "2022-06-10T11:38:14.131Z"
   },
   {
    "duration": 20,
    "start_time": "2022-06-10T11:38:28.285Z"
   },
   {
    "duration": 17,
    "start_time": "2022-06-10T11:38:41.088Z"
   },
   {
    "duration": 30,
    "start_time": "2022-06-10T11:39:24.773Z"
   },
   {
    "duration": 22,
    "start_time": "2022-06-10T11:39:30.840Z"
   },
   {
    "duration": 39,
    "start_time": "2022-06-10T11:39:41.309Z"
   },
   {
    "duration": 25,
    "start_time": "2022-06-10T11:39:56.818Z"
   },
   {
    "duration": 23,
    "start_time": "2022-06-10T11:55:28.493Z"
   },
   {
    "duration": 18,
    "start_time": "2022-06-10T11:55:56.578Z"
   },
   {
    "duration": 18,
    "start_time": "2022-06-10T11:59:33.395Z"
   },
   {
    "duration": 328,
    "start_time": "2022-06-10T12:00:10.712Z"
   },
   {
    "duration": 4,
    "start_time": "2022-06-10T12:00:16.806Z"
   },
   {
    "duration": 4,
    "start_time": "2022-06-10T12:07:09.268Z"
   },
   {
    "duration": 4,
    "start_time": "2022-06-10T12:07:27.288Z"
   },
   {
    "duration": 39,
    "start_time": "2022-06-10T12:08:16.889Z"
   },
   {
    "duration": 36,
    "start_time": "2022-06-10T12:08:59.217Z"
   },
   {
    "duration": 22,
    "start_time": "2022-06-10T12:09:16.287Z"
   },
   {
    "duration": 33,
    "start_time": "2022-06-10T12:09:57.680Z"
   },
   {
    "duration": 23,
    "start_time": "2022-06-10T12:11:17.234Z"
   },
   {
    "duration": 5,
    "start_time": "2022-06-10T12:11:29.708Z"
   },
   {
    "duration": 10,
    "start_time": "2022-06-10T12:12:08.322Z"
   },
   {
    "duration": 9,
    "start_time": "2022-06-10T12:12:22.708Z"
   },
   {
    "duration": 5,
    "start_time": "2022-06-10T12:12:56.737Z"
   },
   {
    "duration": 10,
    "start_time": "2022-06-10T12:13:10.360Z"
   },
   {
    "duration": 4,
    "start_time": "2022-06-10T12:13:29.480Z"
   },
   {
    "duration": 6,
    "start_time": "2022-06-10T12:16:09.691Z"
   },
   {
    "duration": 11,
    "start_time": "2022-06-10T12:22:01.296Z"
   },
   {
    "duration": 12,
    "start_time": "2022-06-10T12:55:13.702Z"
   },
   {
    "duration": 17,
    "start_time": "2022-06-10T12:55:49.674Z"
   },
   {
    "duration": 12,
    "start_time": "2022-06-10T12:56:06.603Z"
   },
   {
    "duration": 10,
    "start_time": "2022-06-10T12:58:00.505Z"
   },
   {
    "duration": 23,
    "start_time": "2022-06-10T12:59:31.343Z"
   },
   {
    "duration": 12,
    "start_time": "2022-06-10T13:02:09.054Z"
   },
   {
    "duration": 16,
    "start_time": "2022-06-10T13:06:24.100Z"
   },
   {
    "duration": 22,
    "start_time": "2022-06-10T13:15:31.505Z"
   },
   {
    "duration": 24,
    "start_time": "2022-06-10T13:16:12.701Z"
   },
   {
    "duration": 19,
    "start_time": "2022-06-10T13:16:53.670Z"
   },
   {
    "duration": 30,
    "start_time": "2022-06-10T13:17:55.106Z"
   },
   {
    "duration": 19,
    "start_time": "2022-06-10T13:19:16.981Z"
   },
   {
    "duration": 25,
    "start_time": "2022-06-10T13:23:39.102Z"
   },
   {
    "duration": 19,
    "start_time": "2022-06-10T13:24:39.094Z"
   },
   {
    "duration": 27,
    "start_time": "2022-06-10T13:25:18.706Z"
   },
   {
    "duration": 19,
    "start_time": "2022-06-10T13:27:43.440Z"
   },
   {
    "duration": 20,
    "start_time": "2022-06-10T13:27:49.156Z"
   },
   {
    "duration": 18,
    "start_time": "2022-06-10T13:28:17.679Z"
   },
   {
    "duration": 21,
    "start_time": "2022-06-10T13:32:08.309Z"
   },
   {
    "duration": 22,
    "start_time": "2022-06-10T13:32:23.730Z"
   },
   {
    "duration": 19,
    "start_time": "2022-06-10T13:34:39.580Z"
   },
   {
    "duration": 23,
    "start_time": "2022-06-10T13:35:03.205Z"
   },
   {
    "duration": 25,
    "start_time": "2022-06-10T13:35:41.419Z"
   },
   {
    "duration": 20,
    "start_time": "2022-06-10T13:37:00.103Z"
   },
   {
    "duration": 25,
    "start_time": "2022-06-10T13:37:22.859Z"
   },
   {
    "duration": 19,
    "start_time": "2022-06-10T13:38:19.641Z"
   },
   {
    "duration": 21,
    "start_time": "2022-06-10T13:38:37.876Z"
   },
   {
    "duration": 21,
    "start_time": "2022-06-10T13:38:48.434Z"
   },
   {
    "duration": 20,
    "start_time": "2022-06-10T13:46:51.017Z"
   },
   {
    "duration": 20,
    "start_time": "2022-06-10T13:47:02.323Z"
   },
   {
    "duration": 31,
    "start_time": "2022-06-10T13:48:08.200Z"
   },
   {
    "duration": 30,
    "start_time": "2022-06-10T13:48:58.566Z"
   },
   {
    "duration": 27,
    "start_time": "2022-06-10T13:49:07.837Z"
   },
   {
    "duration": 32,
    "start_time": "2022-06-10T13:49:50.655Z"
   },
   {
    "duration": 22,
    "start_time": "2022-06-10T13:50:17.296Z"
   },
   {
    "duration": 21,
    "start_time": "2022-06-10T13:50:22.208Z"
   },
   {
    "duration": 21,
    "start_time": "2022-06-10T13:52:51.990Z"
   },
   {
    "duration": 33,
    "start_time": "2022-06-10T14:05:31.204Z"
   },
   {
    "duration": 21,
    "start_time": "2022-06-10T14:06:12.546Z"
   },
   {
    "duration": 13,
    "start_time": "2022-06-10T14:08:45.837Z"
   },
   {
    "duration": 9,
    "start_time": "2022-06-10T14:09:07.592Z"
   },
   {
    "duration": 28,
    "start_time": "2022-06-10T14:09:18.412Z"
   },
   {
    "duration": 20,
    "start_time": "2022-06-10T14:09:54.704Z"
   },
   {
    "duration": 24,
    "start_time": "2022-06-10T14:10:21.788Z"
   },
   {
    "duration": 19,
    "start_time": "2022-06-10T14:10:35.074Z"
   },
   {
    "duration": 19,
    "start_time": "2022-06-10T14:10:53.695Z"
   },
   {
    "duration": 19,
    "start_time": "2022-06-10T14:11:03.852Z"
   },
   {
    "duration": 21,
    "start_time": "2022-06-10T14:11:10.608Z"
   },
   {
    "duration": 28,
    "start_time": "2022-06-10T14:13:26.887Z"
   },
   {
    "duration": 14,
    "start_time": "2022-06-10T14:14:26.433Z"
   },
   {
    "duration": 16,
    "start_time": "2022-06-10T14:16:27.385Z"
   },
   {
    "duration": 18,
    "start_time": "2022-06-10T14:17:37.086Z"
   },
   {
    "duration": 29,
    "start_time": "2022-06-10T14:46:22.527Z"
   },
   {
    "duration": 22,
    "start_time": "2022-06-10T14:49:09.498Z"
   },
   {
    "duration": 19,
    "start_time": "2022-06-10T14:49:13.573Z"
   },
   {
    "duration": 18,
    "start_time": "2022-06-10T14:52:47.119Z"
   },
   {
    "duration": 20,
    "start_time": "2022-06-10T14:55:00.056Z"
   },
   {
    "duration": 16,
    "start_time": "2022-06-10T14:59:23.819Z"
   },
   {
    "duration": 8,
    "start_time": "2022-06-10T15:00:35.101Z"
   },
   {
    "duration": 8,
    "start_time": "2022-06-10T15:00:39.972Z"
   },
   {
    "duration": 8,
    "start_time": "2022-06-10T15:01:56.978Z"
   },
   {
    "duration": 7,
    "start_time": "2022-06-10T15:02:05.816Z"
   },
   {
    "duration": 5,
    "start_time": "2022-06-10T15:02:25.272Z"
   },
   {
    "duration": 83,
    "start_time": "2022-06-10T15:09:31.891Z"
   },
   {
    "duration": 25,
    "start_time": "2022-06-10T15:10:15.774Z"
   },
   {
    "duration": 25,
    "start_time": "2022-06-10T15:12:35.379Z"
   },
   {
    "duration": 26,
    "start_time": "2022-06-10T15:14:49.866Z"
   },
   {
    "duration": 8,
    "start_time": "2022-06-10T15:19:04.321Z"
   },
   {
    "duration": 5,
    "start_time": "2022-06-10T15:24:17.014Z"
   },
   {
    "duration": 4,
    "start_time": "2022-06-10T15:24:41.692Z"
   },
   {
    "duration": 12,
    "start_time": "2022-06-10T15:25:11.118Z"
   },
   {
    "duration": 5,
    "start_time": "2022-06-10T15:25:44.891Z"
   },
   {
    "duration": 36,
    "start_time": "2022-06-10T15:28:22.387Z"
   },
   {
    "duration": 24,
    "start_time": "2022-06-10T15:29:10.498Z"
   },
   {
    "duration": 21,
    "start_time": "2022-06-10T15:29:25.878Z"
   },
   {
    "duration": 22,
    "start_time": "2022-06-10T15:30:21.834Z"
   },
   {
    "duration": 21,
    "start_time": "2022-06-10T15:32:34.228Z"
   },
   {
    "duration": 29,
    "start_time": "2022-06-10T15:42:39.979Z"
   },
   {
    "duration": 64,
    "start_time": "2022-06-10T17:01:52.522Z"
   },
   {
    "duration": 27,
    "start_time": "2022-06-10T17:02:33.511Z"
   },
   {
    "duration": 84,
    "start_time": "2022-06-11T13:18:37.798Z"
   },
   {
    "duration": 20,
    "start_time": "2022-06-11T13:18:38.626Z"
   },
   {
    "duration": 17,
    "start_time": "2022-06-11T13:18:39.014Z"
   },
   {
    "duration": 11,
    "start_time": "2022-06-11T13:18:39.739Z"
   },
   {
    "duration": 66,
    "start_time": "2022-06-11T13:18:40.114Z"
   },
   {
    "duration": 89,
    "start_time": "2022-06-11T13:18:45.430Z"
   },
   {
    "duration": 23,
    "start_time": "2022-06-11T13:18:46.065Z"
   },
   {
    "duration": 23,
    "start_time": "2022-06-11T13:18:46.405Z"
   },
   {
    "duration": 18,
    "start_time": "2022-06-11T13:18:47.064Z"
   },
   {
    "duration": 56,
    "start_time": "2022-06-11T13:18:47.399Z"
   },
   {
    "duration": 5,
    "start_time": "2022-06-11T13:18:47.908Z"
   },
   {
    "duration": 12,
    "start_time": "2022-06-11T13:18:48.220Z"
   },
   {
    "duration": 5,
    "start_time": "2022-06-11T13:18:48.755Z"
   },
   {
    "duration": 13,
    "start_time": "2022-06-11T13:18:49.103Z"
   },
   {
    "duration": 5,
    "start_time": "2022-06-11T13:18:49.455Z"
   },
   {
    "duration": 57,
    "start_time": "2022-06-11T13:18:50.003Z"
   },
   {
    "duration": 17,
    "start_time": "2022-06-11T13:18:50.386Z"
   },
   {
    "duration": 5,
    "start_time": "2022-06-11T13:18:50.889Z"
   },
   {
    "duration": 42,
    "start_time": "2022-06-11T13:18:51.458Z"
   },
   {
    "duration": 36,
    "start_time": "2022-06-11T13:18:51.652Z"
   },
   {
    "duration": 25,
    "start_time": "2022-06-11T13:18:52.041Z"
   },
   {
    "duration": 7,
    "start_time": "2022-06-11T13:18:52.583Z"
   },
   {
    "duration": 15,
    "start_time": "2022-06-11T13:18:52.998Z"
   },
   {
    "duration": 16,
    "start_time": "2022-06-11T13:18:53.601Z"
   },
   {
    "duration": 5,
    "start_time": "2022-06-11T13:18:54.506Z"
   },
   {
    "duration": 27,
    "start_time": "2022-06-11T13:18:55.534Z"
   },
   {
    "duration": 39,
    "start_time": "2022-06-11T13:20:11.243Z"
   },
   {
    "duration": 25,
    "start_time": "2022-06-11T13:20:20.138Z"
   },
   {
    "duration": 12,
    "start_time": "2022-06-11T13:22:29.279Z"
   },
   {
    "duration": 12,
    "start_time": "2022-06-11T13:23:09.603Z"
   },
   {
    "duration": 13,
    "start_time": "2022-06-11T13:23:38.259Z"
   },
   {
    "duration": 35,
    "start_time": "2022-06-11T13:24:48.212Z"
   },
   {
    "duration": 11,
    "start_time": "2022-06-11T13:25:08.388Z"
   },
   {
    "duration": 18,
    "start_time": "2022-06-11T13:29:01.155Z"
   },
   {
    "duration": 11,
    "start_time": "2022-06-11T13:29:11.231Z"
   },
   {
    "duration": 65,
    "start_time": "2022-06-11T13:35:58.492Z"
   },
   {
    "duration": 10,
    "start_time": "2022-06-11T13:36:03.739Z"
   },
   {
    "duration": 53,
    "start_time": "2022-06-11T13:39:16.838Z"
   },
   {
    "duration": 32,
    "start_time": "2022-06-11T13:39:49.483Z"
   },
   {
    "duration": 29,
    "start_time": "2022-06-11T13:40:39.895Z"
   },
   {
    "duration": 30,
    "start_time": "2022-06-11T13:41:06.155Z"
   },
   {
    "duration": 14,
    "start_time": "2022-06-11T13:41:35.628Z"
   },
   {
    "duration": 36,
    "start_time": "2022-06-11T13:41:43.907Z"
   },
   {
    "duration": 49,
    "start_time": "2022-06-11T13:42:07.851Z"
   },
   {
    "duration": 17,
    "start_time": "2022-06-11T13:42:39.578Z"
   },
   {
    "duration": 20,
    "start_time": "2022-06-11T13:42:44.853Z"
   },
   {
    "duration": 17,
    "start_time": "2022-06-11T13:43:40.932Z"
   },
   {
    "duration": 20,
    "start_time": "2022-06-11T13:44:13.866Z"
   },
   {
    "duration": 16,
    "start_time": "2022-06-11T13:44:32.699Z"
   },
   {
    "duration": 59,
    "start_time": "2022-06-11T13:44:40.833Z"
   },
   {
    "duration": 36,
    "start_time": "2022-06-11T13:45:24.835Z"
   },
   {
    "duration": 17,
    "start_time": "2022-06-11T13:45:38.017Z"
   },
   {
    "duration": 26,
    "start_time": "2022-06-11T13:45:49.675Z"
   },
   {
    "duration": 525,
    "start_time": "2022-06-11T13:46:09.079Z"
   },
   {
    "duration": 33,
    "start_time": "2022-06-11T13:46:18.246Z"
   },
   {
    "duration": 56,
    "start_time": "2022-06-11T13:50:32.493Z"
   },
   {
    "duration": 38,
    "start_time": "2022-06-11T13:50:43.392Z"
   },
   {
    "duration": 18,
    "start_time": "2022-06-11T13:50:49.779Z"
   },
   {
    "duration": 38,
    "start_time": "2022-06-11T13:50:58.975Z"
   },
   {
    "duration": 23,
    "start_time": "2022-06-11T13:51:29.404Z"
   },
   {
    "duration": 18,
    "start_time": "2022-06-11T13:51:57.549Z"
   },
   {
    "duration": 16,
    "start_time": "2022-06-11T13:53:10.808Z"
   },
   {
    "duration": 604,
    "start_time": "2022-06-11T13:55:24.592Z"
   },
   {
    "duration": 15,
    "start_time": "2022-06-11T13:55:43.406Z"
   },
   {
    "duration": 38,
    "start_time": "2022-06-11T13:55:57.554Z"
   },
   {
    "duration": 26,
    "start_time": "2022-06-11T13:56:04.006Z"
   },
   {
    "duration": 19,
    "start_time": "2022-06-11T13:58:53.611Z"
   },
   {
    "duration": 21,
    "start_time": "2022-06-11T13:59:00.371Z"
   },
   {
    "duration": 21,
    "start_time": "2022-06-11T13:59:04.286Z"
   },
   {
    "duration": 23,
    "start_time": "2022-06-11T13:59:25.408Z"
   },
   {
    "duration": 27,
    "start_time": "2022-06-11T13:59:42.276Z"
   },
   {
    "duration": 22,
    "start_time": "2022-06-11T14:00:00.514Z"
   },
   {
    "duration": 12,
    "start_time": "2022-06-11T14:00:48.027Z"
   },
   {
    "duration": 18,
    "start_time": "2022-06-11T14:02:00.624Z"
   },
   {
    "duration": 13,
    "start_time": "2022-06-11T14:03:05.194Z"
   },
   {
    "duration": 444,
    "start_time": "2022-06-11T14:04:04.287Z"
   },
   {
    "duration": 427,
    "start_time": "2022-06-11T14:04:16.765Z"
   },
   {
    "duration": 418,
    "start_time": "2022-06-11T14:04:26.964Z"
   },
   {
    "duration": 12,
    "start_time": "2022-06-11T14:04:52.183Z"
   },
   {
    "duration": 415,
    "start_time": "2022-06-11T14:09:36.109Z"
   },
   {
    "duration": 451,
    "start_time": "2022-06-11T14:10:33.722Z"
   },
   {
    "duration": 8,
    "start_time": "2022-06-11T14:12:01.618Z"
   },
   {
    "duration": 13,
    "start_time": "2022-06-11T14:12:12.745Z"
   },
   {
    "duration": 9,
    "start_time": "2022-06-11T14:12:58.321Z"
   },
   {
    "duration": 11,
    "start_time": "2022-06-11T14:13:30.250Z"
   },
   {
    "duration": 10,
    "start_time": "2022-06-11T14:13:59.876Z"
   },
   {
    "duration": 14,
    "start_time": "2022-06-11T14:14:18.068Z"
   },
   {
    "duration": 11,
    "start_time": "2022-06-11T14:14:36.833Z"
   },
   {
    "duration": 9,
    "start_time": "2022-06-11T14:15:19.301Z"
   },
   {
    "duration": 9,
    "start_time": "2022-06-11T14:15:54.495Z"
   },
   {
    "duration": 9,
    "start_time": "2022-06-11T14:16:02.635Z"
   },
   {
    "duration": 11,
    "start_time": "2022-06-11T14:16:56.698Z"
   },
   {
    "duration": 10,
    "start_time": "2022-06-11T14:17:06.669Z"
   },
   {
    "duration": 9,
    "start_time": "2022-06-11T14:18:23.921Z"
   },
   {
    "duration": 10,
    "start_time": "2022-06-11T14:19:25.396Z"
   },
   {
    "duration": 46,
    "start_time": "2022-06-11T14:19:42.484Z"
   },
   {
    "duration": 9,
    "start_time": "2022-06-11T14:19:45.649Z"
   },
   {
    "duration": 10,
    "start_time": "2022-06-11T14:21:08.971Z"
   },
   {
    "duration": 11,
    "start_time": "2022-06-11T14:22:48.083Z"
   },
   {
    "duration": 18,
    "start_time": "2022-06-11T14:22:59.656Z"
   },
   {
    "duration": 14,
    "start_time": "2022-06-11T14:24:01.448Z"
   },
   {
    "duration": 488,
    "start_time": "2022-06-11T14:24:29.000Z"
   },
   {
    "duration": 11,
    "start_time": "2022-06-11T14:24:42.173Z"
   },
   {
    "duration": 21,
    "start_time": "2022-06-11T14:27:10.996Z"
   },
   {
    "duration": 11,
    "start_time": "2022-06-11T14:36:06.046Z"
   },
   {
    "duration": 9,
    "start_time": "2022-06-11T14:36:39.405Z"
   },
   {
    "duration": 822,
    "start_time": "2022-06-11T14:36:46.717Z"
   },
   {
    "duration": 13,
    "start_time": "2022-06-11T14:37:03.391Z"
   },
   {
    "duration": 19,
    "start_time": "2022-06-11T14:37:09.657Z"
   },
   {
    "duration": 13,
    "start_time": "2022-06-11T14:37:15.178Z"
   },
   {
    "duration": 14,
    "start_time": "2022-06-11T14:37:35.485Z"
   },
   {
    "duration": 9,
    "start_time": "2022-06-11T14:37:41.293Z"
   },
   {
    "duration": 9,
    "start_time": "2022-06-11T14:37:47.503Z"
   },
   {
    "duration": 18,
    "start_time": "2022-06-11T14:37:52.091Z"
   },
   {
    "duration": 13,
    "start_time": "2022-06-11T14:37:58.181Z"
   },
   {
    "duration": 576,
    "start_time": "2022-06-11T14:41:12.551Z"
   },
   {
    "duration": 567,
    "start_time": "2022-06-11T14:41:26.720Z"
   },
   {
    "duration": 723,
    "start_time": "2022-06-11T14:41:30.741Z"
   },
   {
    "duration": 612,
    "start_time": "2022-06-11T14:41:38.944Z"
   },
   {
    "duration": 603,
    "start_time": "2022-06-11T14:41:54.234Z"
   },
   {
    "duration": 645,
    "start_time": "2022-06-11T14:41:58.770Z"
   },
   {
    "duration": 10,
    "start_time": "2022-06-11T14:42:07.493Z"
   },
   {
    "duration": 17,
    "start_time": "2022-06-11T14:42:11.289Z"
   },
   {
    "duration": 270,
    "start_time": "2022-06-11T14:42:18.458Z"
   },
   {
    "duration": 10,
    "start_time": "2022-06-11T14:42:24.929Z"
   },
   {
    "duration": 16,
    "start_time": "2022-06-11T14:42:43.388Z"
   },
   {
    "duration": 616,
    "start_time": "2022-06-11T14:43:10.298Z"
   },
   {
    "duration": 15,
    "start_time": "2022-06-11T14:43:39.269Z"
   },
   {
    "duration": 65,
    "start_time": "2022-06-11T14:43:55.458Z"
   },
   {
    "duration": 78,
    "start_time": "2022-06-11T14:44:29.644Z"
   },
   {
    "duration": 10,
    "start_time": "2022-06-11T14:46:33.827Z"
   },
   {
    "duration": 9,
    "start_time": "2022-06-11T14:46:50.894Z"
   },
   {
    "duration": 13,
    "start_time": "2022-06-11T14:47:01.897Z"
   },
   {
    "duration": 14,
    "start_time": "2022-06-11T14:47:25.779Z"
   },
   {
    "duration": 12,
    "start_time": "2022-06-11T14:48:09.479Z"
   },
   {
    "duration": 12,
    "start_time": "2022-06-11T14:48:35.111Z"
   },
   {
    "duration": 17,
    "start_time": "2022-06-11T14:49:08.451Z"
   },
   {
    "duration": 24,
    "start_time": "2022-06-11T14:50:00.956Z"
   },
   {
    "duration": 13,
    "start_time": "2022-06-11T14:50:12.521Z"
   },
   {
    "duration": 12,
    "start_time": "2022-06-11T14:50:26.217Z"
   },
   {
    "duration": 12,
    "start_time": "2022-06-11T14:50:52.745Z"
   },
   {
    "duration": 14,
    "start_time": "2022-06-11T14:51:59.123Z"
   },
   {
    "duration": 14,
    "start_time": "2022-06-11T14:52:08.299Z"
   },
   {
    "duration": 24,
    "start_time": "2022-06-11T14:52:26.176Z"
   },
   {
    "duration": 22,
    "start_time": "2022-06-11T14:52:41.590Z"
   },
   {
    "duration": 24,
    "start_time": "2022-06-11T14:53:18.379Z"
   },
   {
    "duration": 24,
    "start_time": "2022-06-11T15:47:00.692Z"
   },
   {
    "duration": 33,
    "start_time": "2022-06-11T15:47:06.886Z"
   },
   {
    "duration": 12,
    "start_time": "2022-06-11T15:47:45.126Z"
   },
   {
    "duration": 16,
    "start_time": "2022-06-11T15:47:53.155Z"
   },
   {
    "duration": 20,
    "start_time": "2022-06-11T15:48:12.449Z"
   },
   {
    "duration": 11,
    "start_time": "2022-06-11T15:48:24.716Z"
   },
   {
    "duration": 9,
    "start_time": "2022-06-11T15:48:51.115Z"
   },
   {
    "duration": 10,
    "start_time": "2022-06-11T15:49:06.996Z"
   },
   {
    "duration": 14,
    "start_time": "2022-06-11T15:49:25.275Z"
   },
   {
    "duration": 11,
    "start_time": "2022-06-11T15:49:39.110Z"
   },
   {
    "duration": 11,
    "start_time": "2022-06-11T16:28:55.372Z"
   },
   {
    "duration": 12,
    "start_time": "2022-06-11T16:30:03.408Z"
   },
   {
    "duration": 11,
    "start_time": "2022-06-11T16:30:11.036Z"
   },
   {
    "duration": 10,
    "start_time": "2022-06-11T16:39:00.515Z"
   },
   {
    "duration": 29,
    "start_time": "2022-06-11T16:39:49.042Z"
   },
   {
    "duration": 37,
    "start_time": "2022-06-11T16:40:00.825Z"
   },
   {
    "duration": 33,
    "start_time": "2022-06-11T16:41:04.048Z"
   },
   {
    "duration": 9,
    "start_time": "2022-06-11T16:41:15.929Z"
   },
   {
    "duration": 12,
    "start_time": "2022-06-11T16:41:59.219Z"
   },
   {
    "duration": 12,
    "start_time": "2022-06-11T16:42:10.406Z"
   },
   {
    "duration": 10,
    "start_time": "2022-06-11T16:42:25.472Z"
   },
   {
    "duration": 11,
    "start_time": "2022-06-11T16:42:31.404Z"
   },
   {
    "duration": 10,
    "start_time": "2022-06-11T16:42:37.135Z"
   },
   {
    "duration": 10,
    "start_time": "2022-06-11T16:42:53.315Z"
   },
   {
    "duration": 416,
    "start_time": "2022-06-11T16:45:13.712Z"
   },
   {
    "duration": 17,
    "start_time": "2022-06-11T16:45:19.418Z"
   },
   {
    "duration": 53,
    "start_time": "2022-06-11T16:53:59.313Z"
   },
   {
    "duration": 5,
    "start_time": "2022-06-11T16:54:19.989Z"
   },
   {
    "duration": 537,
    "start_time": "2022-06-11T16:54:29.357Z"
   },
   {
    "duration": 25,
    "start_time": "2022-06-11T16:54:30.110Z"
   },
   {
    "duration": 17,
    "start_time": "2022-06-11T16:54:30.466Z"
   },
   {
    "duration": 12,
    "start_time": "2022-06-11T16:54:31.067Z"
   },
   {
    "duration": 37,
    "start_time": "2022-06-11T16:54:31.374Z"
   },
   {
    "duration": 5,
    "start_time": "2022-06-11T16:54:31.821Z"
   },
   {
    "duration": 9,
    "start_time": "2022-06-11T16:54:32.155Z"
   },
   {
    "duration": 4,
    "start_time": "2022-06-11T16:54:32.793Z"
   },
   {
    "duration": 6,
    "start_time": "2022-06-11T16:54:33.148Z"
   },
   {
    "duration": 4,
    "start_time": "2022-06-11T16:54:33.469Z"
   },
   {
    "duration": 42,
    "start_time": "2022-06-11T16:54:33.991Z"
   },
   {
    "duration": 10,
    "start_time": "2022-06-11T16:54:34.352Z"
   },
   {
    "duration": 5,
    "start_time": "2022-06-11T16:54:34.849Z"
   },
   {
    "duration": 19,
    "start_time": "2022-06-11T16:54:35.522Z"
   },
   {
    "duration": 18,
    "start_time": "2022-06-11T16:54:35.713Z"
   },
   {
    "duration": 11,
    "start_time": "2022-06-11T16:54:36.044Z"
   },
   {
    "duration": 4,
    "start_time": "2022-06-11T16:54:36.931Z"
   },
   {
    "duration": 11,
    "start_time": "2022-06-11T16:54:37.125Z"
   },
   {
    "duration": 6,
    "start_time": "2022-06-11T16:54:40.939Z"
   },
   {
    "duration": 3,
    "start_time": "2022-06-11T16:54:42.131Z"
   },
   {
    "duration": 10,
    "start_time": "2022-06-11T16:54:44.016Z"
   },
   {
    "duration": 10,
    "start_time": "2022-06-11T16:54:45.611Z"
   },
   {
    "duration": 16,
    "start_time": "2022-06-11T16:54:51.909Z"
   },
   {
    "duration": 18,
    "start_time": "2022-06-11T16:54:56.350Z"
   },
   {
    "duration": 26,
    "start_time": "2022-06-11T16:55:28.466Z"
   },
   {
    "duration": 11,
    "start_time": "2022-06-11T16:56:20.140Z"
   },
   {
    "duration": 24,
    "start_time": "2022-06-11T16:56:55.232Z"
   },
   {
    "duration": 24,
    "start_time": "2022-06-11T16:57:32.385Z"
   },
   {
    "duration": 27,
    "start_time": "2022-06-11T16:57:51.326Z"
   },
   {
    "duration": 26,
    "start_time": "2022-06-11T16:58:21.147Z"
   },
   {
    "duration": 11,
    "start_time": "2022-06-11T17:00:45.027Z"
   },
   {
    "duration": 10,
    "start_time": "2022-06-11T17:01:20.312Z"
   },
   {
    "duration": 35,
    "start_time": "2022-06-11T17:01:36.086Z"
   },
   {
    "duration": 11,
    "start_time": "2022-06-11T17:01:40.722Z"
   },
   {
    "duration": 68,
    "start_time": "2022-06-12T14:29:27.883Z"
   },
   {
    "duration": 13,
    "start_time": "2022-06-12T14:29:28.395Z"
   },
   {
    "duration": 14,
    "start_time": "2022-06-12T14:29:28.703Z"
   },
   {
    "duration": 11,
    "start_time": "2022-06-12T14:29:29.402Z"
   },
   {
    "duration": 31,
    "start_time": "2022-06-12T14:29:29.803Z"
   },
   {
    "duration": 4,
    "start_time": "2022-06-12T14:29:30.575Z"
   },
   {
    "duration": 7,
    "start_time": "2022-06-12T14:29:30.899Z"
   },
   {
    "duration": 4,
    "start_time": "2022-06-12T14:29:31.392Z"
   },
   {
    "duration": 5,
    "start_time": "2022-06-12T14:29:31.746Z"
   },
   {
    "duration": 5,
    "start_time": "2022-06-12T14:29:32.040Z"
   },
   {
    "duration": 47,
    "start_time": "2022-06-12T14:29:32.551Z"
   },
   {
    "duration": 10,
    "start_time": "2022-06-12T14:29:32.884Z"
   },
   {
    "duration": 4,
    "start_time": "2022-06-12T14:29:33.382Z"
   },
   {
    "duration": 21,
    "start_time": "2022-06-12T14:29:33.861Z"
   },
   {
    "duration": 15,
    "start_time": "2022-06-12T14:29:34.034Z"
   },
   {
    "duration": 11,
    "start_time": "2022-06-12T14:29:34.394Z"
   },
   {
    "duration": 12,
    "start_time": "2022-06-12T14:29:45.422Z"
   },
   {
    "duration": 308,
    "start_time": "2022-06-12T14:31:20.787Z"
   },
   {
    "duration": 336,
    "start_time": "2022-06-12T14:31:53.893Z"
   },
   {
    "duration": 293,
    "start_time": "2022-06-12T14:32:07.493Z"
   },
   {
    "duration": 345,
    "start_time": "2022-06-12T14:32:49.520Z"
   },
   {
    "duration": 317,
    "start_time": "2022-06-12T14:33:06.572Z"
   },
   {
    "duration": 355,
    "start_time": "2022-06-12T14:33:18.659Z"
   },
   {
    "duration": 286,
    "start_time": "2022-06-12T14:33:24.046Z"
   },
   {
    "duration": 15,
    "start_time": "2022-06-12T14:33:44.194Z"
   },
   {
    "duration": 11,
    "start_time": "2022-06-12T14:34:00.319Z"
   },
   {
    "duration": 288,
    "start_time": "2022-06-12T14:34:09.858Z"
   },
   {
    "duration": 355,
    "start_time": "2022-06-12T14:34:20.007Z"
   },
   {
    "duration": 374,
    "start_time": "2022-06-12T14:34:29.406Z"
   },
   {
    "duration": 376,
    "start_time": "2022-06-12T14:34:34.631Z"
   },
   {
    "duration": 413,
    "start_time": "2022-06-12T14:34:54.848Z"
   },
   {
    "duration": 284,
    "start_time": "2022-06-12T14:35:29.266Z"
   },
   {
    "duration": 15,
    "start_time": "2022-06-12T14:35:56.271Z"
   },
   {
    "duration": 299,
    "start_time": "2022-06-12T14:36:51.302Z"
   },
   {
    "duration": 281,
    "start_time": "2022-06-12T14:36:59.012Z"
   },
   {
    "duration": 321,
    "start_time": "2022-06-12T14:37:17.068Z"
   },
   {
    "duration": 12,
    "start_time": "2022-06-12T14:37:25.180Z"
   },
   {
    "duration": 308,
    "start_time": "2022-06-12T14:37:29.691Z"
   },
   {
    "duration": 20,
    "start_time": "2022-06-12T14:37:35.223Z"
   },
   {
    "duration": 21,
    "start_time": "2022-06-12T14:37:44.642Z"
   },
   {
    "duration": 330,
    "start_time": "2022-06-12T14:37:48.905Z"
   },
   {
    "duration": 365,
    "start_time": "2022-06-12T14:38:10.281Z"
   },
   {
    "duration": 10,
    "start_time": "2022-06-12T14:39:13.475Z"
   },
   {
    "duration": 11,
    "start_time": "2022-06-12T14:39:47.521Z"
   },
   {
    "duration": 9,
    "start_time": "2022-06-12T14:40:00.148Z"
   },
   {
    "duration": 333,
    "start_time": "2022-06-12T14:40:28.723Z"
   },
   {
    "duration": 306,
    "start_time": "2022-06-12T14:41:04.056Z"
   },
   {
    "duration": 276,
    "start_time": "2022-06-12T14:41:26.709Z"
   },
   {
    "duration": 12,
    "start_time": "2022-06-12T14:41:38.070Z"
   },
   {
    "duration": 372,
    "start_time": "2022-06-12T14:41:49.176Z"
   },
   {
    "duration": 9,
    "start_time": "2022-06-12T14:42:11.228Z"
   },
   {
    "duration": 8,
    "start_time": "2022-06-12T14:42:37.175Z"
   },
   {
    "duration": 11,
    "start_time": "2022-06-12T14:43:02.870Z"
   },
   {
    "duration": 301,
    "start_time": "2022-06-12T14:44:23.595Z"
   },
   {
    "duration": 319,
    "start_time": "2022-06-12T14:44:46.581Z"
   },
   {
    "duration": 364,
    "start_time": "2022-06-12T14:45:37.070Z"
   },
   {
    "duration": 314,
    "start_time": "2022-06-12T14:46:13.515Z"
   },
   {
    "duration": 315,
    "start_time": "2022-06-12T14:46:37.413Z"
   },
   {
    "duration": 458,
    "start_time": "2022-06-12T14:47:06.791Z"
   },
   {
    "duration": 303,
    "start_time": "2022-06-12T14:47:43.322Z"
   },
   {
    "duration": 314,
    "start_time": "2022-06-12T14:47:46.539Z"
   },
   {
    "duration": 337,
    "start_time": "2022-06-12T14:48:15.426Z"
   },
   {
    "duration": 295,
    "start_time": "2022-06-12T14:48:41.446Z"
   },
   {
    "duration": 292,
    "start_time": "2022-06-12T14:51:25.265Z"
   },
   {
    "duration": 12,
    "start_time": "2022-06-12T14:51:32.416Z"
   },
   {
    "duration": 313,
    "start_time": "2022-06-12T14:51:52.379Z"
   },
   {
    "duration": 305,
    "start_time": "2022-06-12T14:51:58.391Z"
   },
   {
    "duration": 296,
    "start_time": "2022-06-12T14:52:10.906Z"
   },
   {
    "duration": 442,
    "start_time": "2022-06-12T14:52:30.079Z"
   },
   {
    "duration": 378,
    "start_time": "2022-06-12T14:53:08.898Z"
   },
   {
    "duration": 34,
    "start_time": "2022-06-12T14:53:40.535Z"
   },
   {
    "duration": 23,
    "start_time": "2022-06-12T14:53:49.588Z"
   },
   {
    "duration": 10,
    "start_time": "2022-06-12T14:54:20.672Z"
   },
   {
    "duration": 24,
    "start_time": "2022-06-12T14:54:44.641Z"
   },
   {
    "duration": 20,
    "start_time": "2022-06-12T14:54:59.547Z"
   },
   {
    "duration": 33,
    "start_time": "2022-06-12T14:55:38.049Z"
   },
   {
    "duration": 290,
    "start_time": "2022-06-12T14:55:48.302Z"
   },
   {
    "duration": 275,
    "start_time": "2022-06-12T14:55:57.958Z"
   },
   {
    "duration": 312,
    "start_time": "2022-06-12T14:56:09.300Z"
   },
   {
    "duration": 312,
    "start_time": "2022-06-12T14:56:15.114Z"
   },
   {
    "duration": 274,
    "start_time": "2022-06-12T14:56:20.603Z"
   },
   {
    "duration": 324,
    "start_time": "2022-06-12T14:56:27.142Z"
   },
   {
    "duration": 277,
    "start_time": "2022-06-12T14:56:40.802Z"
   },
   {
    "duration": 369,
    "start_time": "2022-06-12T14:57:04.704Z"
   },
   {
    "duration": 311,
    "start_time": "2022-06-12T14:57:45.856Z"
   },
   {
    "duration": 11,
    "start_time": "2022-06-12T14:58:10.819Z"
   },
   {
    "duration": 10,
    "start_time": "2022-06-12T14:58:21.620Z"
   },
   {
    "duration": 66,
    "start_time": "2022-06-12T14:58:37.907Z"
   },
   {
    "duration": 13,
    "start_time": "2022-06-12T14:58:37.975Z"
   },
   {
    "duration": 18,
    "start_time": "2022-06-12T14:58:37.990Z"
   },
   {
    "duration": 23,
    "start_time": "2022-06-12T14:58:38.010Z"
   },
   {
    "duration": 37,
    "start_time": "2022-06-12T14:58:38.035Z"
   },
   {
    "duration": 4,
    "start_time": "2022-06-12T14:58:38.073Z"
   },
   {
    "duration": 10,
    "start_time": "2022-06-12T14:58:38.078Z"
   },
   {
    "duration": 11,
    "start_time": "2022-06-12T14:58:38.089Z"
   },
   {
    "duration": 26,
    "start_time": "2022-06-12T14:58:38.101Z"
   },
   {
    "duration": 4,
    "start_time": "2022-06-12T14:58:38.129Z"
   },
   {
    "duration": 35,
    "start_time": "2022-06-12T14:58:38.134Z"
   },
   {
    "duration": 9,
    "start_time": "2022-06-12T14:58:38.171Z"
   },
   {
    "duration": 6,
    "start_time": "2022-06-12T14:58:38.181Z"
   },
   {
    "duration": 40,
    "start_time": "2022-06-12T14:58:38.188Z"
   },
   {
    "duration": 18,
    "start_time": "2022-06-12T14:58:38.229Z"
   },
   {
    "duration": 11,
    "start_time": "2022-06-12T14:58:38.249Z"
   },
   {
    "duration": 5,
    "start_time": "2022-06-12T14:58:38.262Z"
   },
   {
    "duration": 14,
    "start_time": "2022-06-12T14:58:38.268Z"
   },
   {
    "duration": 6,
    "start_time": "2022-06-12T14:58:38.283Z"
   },
   {
    "duration": 5,
    "start_time": "2022-06-12T14:58:38.291Z"
   },
   {
    "duration": 29,
    "start_time": "2022-06-12T14:58:38.298Z"
   },
   {
    "duration": 10,
    "start_time": "2022-06-12T14:58:38.329Z"
   },
   {
    "duration": 293,
    "start_time": "2022-06-12T14:58:38.341Z"
   },
   {
    "duration": 0,
    "start_time": "2022-06-12T14:58:38.636Z"
   },
   {
    "duration": 0,
    "start_time": "2022-06-12T14:58:38.637Z"
   },
   {
    "duration": 457,
    "start_time": "2022-06-12T14:59:15.129Z"
   },
   {
    "duration": 22,
    "start_time": "2022-06-12T14:59:16.051Z"
   },
   {
    "duration": 14,
    "start_time": "2022-06-12T14:59:16.604Z"
   },
   {
    "duration": 11,
    "start_time": "2022-06-12T14:59:17.265Z"
   },
   {
    "duration": 32,
    "start_time": "2022-06-12T14:59:17.596Z"
   },
   {
    "duration": 3,
    "start_time": "2022-06-12T14:59:18.086Z"
   },
   {
    "duration": 7,
    "start_time": "2022-06-12T14:59:18.399Z"
   },
   {
    "duration": 4,
    "start_time": "2022-06-12T14:59:18.906Z"
   },
   {
    "duration": 6,
    "start_time": "2022-06-12T14:59:19.251Z"
   },
   {
    "duration": 6,
    "start_time": "2022-06-12T14:59:19.579Z"
   },
   {
    "duration": 32,
    "start_time": "2022-06-12T14:59:20.104Z"
   },
   {
    "duration": 10,
    "start_time": "2022-06-12T14:59:20.442Z"
   },
   {
    "duration": 3,
    "start_time": "2022-06-12T14:59:21.114Z"
   },
   {
    "duration": 17,
    "start_time": "2022-06-12T14:59:21.614Z"
   },
   {
    "duration": 15,
    "start_time": "2022-06-12T14:59:21.779Z"
   },
   {
    "duration": 10,
    "start_time": "2022-06-12T14:59:22.130Z"
   },
   {
    "duration": 3,
    "start_time": "2022-06-12T14:59:22.816Z"
   },
   {
    "duration": 10,
    "start_time": "2022-06-12T14:59:22.997Z"
   },
   {
    "duration": 6,
    "start_time": "2022-06-12T14:59:23.343Z"
   },
   {
    "duration": 3,
    "start_time": "2022-06-12T14:59:23.688Z"
   },
   {
    "duration": 9,
    "start_time": "2022-06-12T14:59:23.875Z"
   },
   {
    "duration": 12,
    "start_time": "2022-06-12T14:59:24.403Z"
   },
   {
    "duration": 85,
    "start_time": "2022-06-12T14:59:25.329Z"
   },
   {
    "duration": 12,
    "start_time": "2022-06-12T14:59:25.858Z"
   },
   {
    "duration": 14,
    "start_time": "2022-06-12T14:59:26.398Z"
   },
   {
    "duration": 10,
    "start_time": "2022-06-12T14:59:44.134Z"
   },
   {
    "duration": 327,
    "start_time": "2022-06-12T14:59:53.732Z"
   },
   {
    "duration": 426,
    "start_time": "2022-06-12T15:00:45.944Z"
   },
   {
    "duration": 337,
    "start_time": "2022-06-12T15:01:24.562Z"
   },
   {
    "duration": 10,
    "start_time": "2022-06-12T15:01:48.997Z"
   },
   {
    "duration": 12,
    "start_time": "2022-06-12T15:02:23.101Z"
   },
   {
    "duration": 11,
    "start_time": "2022-06-12T15:02:31.060Z"
   },
   {
    "duration": 10,
    "start_time": "2022-06-12T15:02:45.558Z"
   },
   {
    "duration": 12,
    "start_time": "2022-06-12T15:03:00.860Z"
   },
   {
    "duration": 17,
    "start_time": "2022-06-12T15:12:37.246Z"
   },
   {
    "duration": 16,
    "start_time": "2022-06-12T15:19:26.287Z"
   },
   {
    "duration": 276,
    "start_time": "2022-06-12T15:21:20.667Z"
   },
   {
    "duration": 10,
    "start_time": "2022-06-12T15:21:37.824Z"
   },
   {
    "duration": 334,
    "start_time": "2022-06-12T15:22:00.264Z"
   },
   {
    "duration": 291,
    "start_time": "2022-06-12T15:22:08.948Z"
   },
   {
    "duration": 16,
    "start_time": "2022-06-12T15:22:16.253Z"
   }
  ],
  "colab": {
   "name": "dpp_template_part2.ipynb",
   "provenance": []
  },
  "kernelspec": {
   "display_name": "Python 3 (ipykernel)",
   "language": "python",
   "name": "python3"
  },
  "language_info": {
   "codemirror_mode": {
    "name": "ipython",
    "version": 3
   },
   "file_extension": ".py",
   "mimetype": "text/x-python",
   "name": "python",
   "nbconvert_exporter": "python",
   "pygments_lexer": "ipython3",
   "version": "3.9.5"
  },
  "toc": {
   "base_numbering": 1,
   "nav_menu": {},
   "number_sections": true,
   "sideBar": true,
   "skip_h1_title": true,
   "title_cell": "Table of Contents",
   "title_sidebar": "Contents",
   "toc_cell": false,
   "toc_position": {},
   "toc_section_display": true,
   "toc_window_display": false
  }
 },
 "nbformat": 4,
 "nbformat_minor": 5
}
